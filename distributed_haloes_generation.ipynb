{
 "cells": [
  {
   "cell_type": "markdown",
   "metadata": {
    "tags": []
   },
   "source": [
<<<<<<< HEAD
    "# Distributed haloes generation simplified\n",
    "<b>Authors</b>: Natalie B. Hogg and Pierre Fleury"
=======
    "# Distributed haloes generation\n",
    "<b>Author</b>: Natalie B. Hogg"
>>>>>>> 084caaa26d6c5b10bb6237f13ba94a81bb64ccd7
   ]
  },
  {
   "cell_type": "markdown",
   "metadata": {},
   "source": [
    "## Contents <a name=\"contents\"></a>\n",
    "1. [Set up](#setup)\n",
    "2. [Create haloes](#create_haloes)\n",
    " 1. [Mass](#mass)\n",
    " 2. [Plectrum region](#plectrum)\n",
    " 2. [Distances](#distance)\n",
    " 3. [Remaining parameters](#lenstronomy)\n",
    "3. [Plot the populated region](#plot)\n",
    "4. [Compute the shears](#predict_shears)"
   ]
  },
  {
   "cell_type": "markdown",
   "metadata": {},
   "source": [
    "## Set up <a name=\"setup\"></a>"
   ]
  },
  {
   "cell_type": "markdown",
   "metadata": {},
   "source": [
    "### Import packages"
   ]
  },
  {
   "cell_type": "code",
   "execution_count": 1,
   "metadata": {},
   "outputs": [],
   "source": [
    "# computation\n",
    "import numpy as np\n",
    "import pandas as pd\n",
    "import random as r\n",
    "from scipy.interpolate import interp1d\n",
    "from scipy.integrate import trapezoid\n",
    "\n",
    "# plotting\n",
    "import seaborn as sns\n",
    "from matplotlib import pyplot as plt\n",
    "from matplotlib import rc, rcParams, rcParamsDefault\n",
    "from mpl_toolkits import mplot3d\n",
    "\n",
    "# cosmology\n",
    "from colossus.cosmology import cosmology as colcos\n",
    "from colossus.lss import mass_function\n",
    "from colossus.halo import concentration\n",
    "from astropy.table import Table\n",
    "from astropy.cosmology import FlatLambdaCDM, z_at_value\n",
    "from astropy import constants as const\n",
    "from astropy import units as u\n",
    "\n",
    "# monitoring\n",
    "from tqdm.notebook import tqdm\n",
    "import warnings\n",
    "warnings.filterwarnings('ignore')\n",
    "\n",
    "%matplotlib inline\n",
    "\n",
    "# this is where the figures will be saved\n",
    "# outpath  = r'/home/natalie/Documents/Projects/los_effects/figures/distributed_haloes/' \n",
    "outpath  = '/Users/pierrefleury/Documents/data/haloes/'\n",
    "\n",
    "job_name = 'test_4_Pierre'"
   ]
  },
  {
   "cell_type": "markdown",
   "metadata": {},
   "source": [
    "### Import `lenstronomy` packages"
   ]
  },
  {
   "cell_type": "code",
   "execution_count": 2,
   "metadata": {},
   "outputs": [],
   "source": [
    "from lenstronomy.LensModel.lens_model import LensModel\n",
    "from lenstronomy.Cosmo.lens_cosmo import LensCosmo"
   ]
  },
  {
   "cell_type": "markdown",
   "metadata": {},
   "source": [
    "### Useful functions"
   ]
  },
  {
   "cell_type": "code",
   "execution_count": 3,
   "metadata": {},
   "outputs": [],
   "source": [
    "def show_palette(colour):\n",
    "    # function for displaying colour palettes\n",
    "    sns.set_style('whitegrid')\n",
    "    hex2rgb = []\n",
    "    for k in colour:\n",
    "        h = k.lstrip('#')\n",
    "        hex2rgb.append(tuple(int(h[i:i + 2], 16) / 255.0 for i in (0, 2, 4)))\n",
    "    return sns.palplot(hex2rgb)\n",
    "\n",
    "def ellipticity(phi, q):\n",
    "    # transforms orientation angle phi and aspect ratio q into complex ellipticity modulii e1, e2\n",
    "    # phi and q must be passed as lists\n",
    "    phi = np.array(phi)\n",
    "    q = np.array(q)\n",
    "    e1 = (1 - q)/(1 + q)*np.cos(2*phi)\n",
    "    e2 = (1 - q)/(1 + q)*np.sin(2*phi)\n",
    "    return list(e1), list(e2)\n",
    "\n",
    "def distance_conversion(distance, conversion_type):\n",
    "    # converts a distance *in Mpc* to Gpc, kpc, pc or m\n",
    "    # careful! it doesn't sanity check your input\n",
    "    if conversion_type == 'to Gpc':\n",
    "        new_distance = distance/(10**3)\n",
    "    elif conversion_type == 'to kpc':\n",
    "        new_distance = distance*(10**3)\n",
    "    elif conversion_type == 'to pc':\n",
    "        new_distance = distance*(10**6)\n",
    "    elif conversion_type == 'to m':\n",
    "        new_distance = distance*(3.086*10**22)\n",
    "    else:\n",
    "        print('Unknown conversion type')\n",
    "    return new_distance\n",
    "\n",
    "def angle_conversion(angle, conversion_type):\n",
    "    # converts an angle in arcsec to rad or rad to arcsec\n",
    "    # careful! it doesn't sanity check your input\n",
    "    conversion_factor = np.pi/(180*3600)\n",
    "    if conversion_type == 'to arcsecs':\n",
    "        new_angle = angle/conversion_factor\n",
    "    elif conversion_type == 'to radians':\n",
    "        new_angle = angle*conversion_factor\n",
    "    else:\n",
    "        print('Unknown conversion type')\n",
    "    return new_angle"
   ]
  },
  {
   "cell_type": "markdown",
   "metadata": {},
   "source": [
    "### Global plotting and display settings"
   ]
  },
  {
   "cell_type": "code",
   "execution_count": 4,
   "metadata": {},
   "outputs": [
    {
     "data": {
      "image/png": "iVBORw0KGgoAAAANSUhEUgAAALUAAABECAYAAADHnXQVAAAAOXRFWHRTb2Z0d2FyZQBNYXRwbG90bGliIHZlcnNpb24zLjUuMiwgaHR0cHM6Ly9tYXRwbG90bGliLm9yZy8qNh9FAAAACXBIWXMAAAsTAAALEwEAmpwYAAABYElEQVR4nO3YMWpVQQCG0YmRPLsI7kBIK3cNLsctCIKVfZbgDlyDTYoUr3ARFkGxkieacQHRRwqvl3ycU840f/EVw5zMOeeAkEdbD4B/TdTkiJocUZMjanIeH7u8ur4en392P0ee3o5x8/3X1jNW8+x0jJsvh61nrObi+flYluXO+dGo5xzj8uuPtTZt7tXZ6Xj78dvWM1bz5sWT8frdp61nrObD+5d/PPf8IEfU5IiaHFGTI2pyRE2OqMkRNTmiJkfU5IiaHFGTI2pyRE2OqMkRNTmiJkfU5IiaHFGTI2pyRE2OqMkRNTmiJkfU5IiaHFGTI2pyRE2OqMkRNTmiJkfU5IiaHFGTI2pyRE2OqMkRNTmiJkfU5IiaHFGTI2pyRE2OqMkRNTmiJkfU5IiaHFGTI2pyTuac82+X+/1+7Ha7/7kH7u1wOIxlWe6cH40aHiLPD3JETY6oyRE1OaIm5zfe8iq+TetWvgAAAABJRU5ErkJggg==\n",
      "text/plain": [
       "<Figure size 216x72 with 1 Axes>"
      ]
     },
     "metadata": {},
     "output_type": "display_data"
    }
   ],
   "source": [
    "# contour plot colours\n",
    "# thanks to colorbrewer for these palettes! https://colorbrewer2.org\n",
    "green        = ['#a6dba0','#5aae61','#1b7837']\n",
    "purple       = ['#c2a5cf', '#9970ab', '#762a83']\n",
    "analogous    = ['#a0c3db', '#dbb7a0']\n",
    "warm         = ['#fdcc8a', '#fc8d59', '#d7301f']\n",
    "cool         = ['#41b6c4', '#2c7fb8', '#253494']\n",
    "\n",
    "# have a look at a palette for example\n",
    "show_palette(cool)\n",
    "\n",
    "# set the seaborn style\n",
    "sns.set_style('ticks')\n",
    "\n",
    "# use TeX for plot labels\n",
    "rc('text', usetex=True)\n",
    "rc('font', family='serif')\n",
    "rcParams.update({'font.size': 18})"
   ]
  },
  {
   "cell_type": "markdown",
   "metadata": {},
   "source": [
    "### Start the Universe"
   ]
  },
  {
   "cell_type": "code",
   "execution_count": 5,
   "metadata": {},
   "outputs": [
    {
     "name": "stdout",
     "output_type": "stream",
     "text": [
      "\n",
      "The Hubble parameter being used is 67.4 km/s/Mpc.\n",
      "The redshifts of the observer, lens and the source are z = 0.0, z = 0.5 and z = 1.5 respectively.\n",
      "The angular distances between observer and lens, observer and source and lens and source are 1300.92 Mpc, 1792.84 Mpc and 1012.28 Mpc respectively.\n"
     ]
    }
   ],
   "source": [
    "cosmology = {'id': 'planck18', 'H0': 67.4, 'Om': 0.315}\n",
    "\n",
    "colcos.setCosmology(cosmology['id'])\n",
    "\n",
    "cosmo = FlatLambdaCDM(H0 = cosmology['H0'], Om0 = cosmology['Om']) \n",
    "\n",
    "G_Newton   = const.G.value # 6.67*10**-11 [m^3 / kg s^2]\n",
    "clight     = const.c.value # 299792458 [m / s]\n",
    "clight_kms = clight/1000   # 299792.458 [km / s]\n",
    "solar_mass = const.M_sun.value # 1.988*10**30 [kg]\n",
    "parsec     = const.pc.value # 3.08567758*10**16 [m]\n",
    "Mpc        = 1e6 * parsec\n",
    "\n",
    "def dC(redshift):\n",
    "    \"\"\"\n",
    "    Returns the comoving distance at a given redshift in Mpc.\n",
    "    \"\"\"\n",
    "    distance = cosmo.comoving_distance(redshift).value\n",
    "    return distance\n",
    "\n",
    "def Hubble(redshift):\n",
    "    \"\"\"\n",
    "    Returns H(z) for a given redshift in km/s/Mpc.\n",
    "    \"\"\"\n",
    "    Hofz = cosmo.H(redshift).value\n",
    "    return Hofz\n",
    "\n",
    "def dA(z1, z2):\n",
    "    \"\"\"\n",
    "    Returns angular diameter distance between two redshifts in Mpc.\n",
    "    \"\"\"\n",
    "    distance = cosmo.angular_diameter_distance_z1z2(z1, z2).value\n",
    "    return distance\n",
    "\n",
    "def redshift_converter(object_distance, units):\n",
    "    object_redshift = z_at_value(cosmo.comoving_distance, object_distance*units, zmin = -0.0001, zmax=5.)\n",
    "    return object_redshift\n",
    "\n",
    "z_observer = 0.0\n",
    "z_lens     = 0.5\n",
    "z_source   = 1.5\n",
    "\n",
    "z_hmf = z_lens\n",
    "\n",
    "d_observer = 0.0\n",
    "d_od       = dA(z_observer, z_lens)\n",
    "d_os       = dA(z_observer, z_source)\n",
    "d_ds       = dA(z_lens, z_source)\n",
    "\n",
    "dc_source = dC(z_source)\n",
    "\n",
    "print('\\nThe Hubble parameter being used is {} km/s/Mpc.'.format(cosmo.h*100))\n",
    "print('The redshifts of the observer, lens and the source are z = {}, z = {:.2} and z = {} respectively.'.format(z_observer, z_lens, z_source))\n",
    "print('The angular distances between observer and lens, observer and source and lens and source are {:.2f} Mpc, {:.2f} Mpc and {:.2f} Mpc respectively.'.format(d_od, d_os, d_ds))"
   ]
  },
  {
   "cell_type": "markdown",
   "metadata": {},
   "source": [
    "### Create main lens: `EPL` \n",
    "At this stage we only need to set an Einstein radius; the rest of the main lens parameters are set in the `distributed_haloes_analysis` notebook."
   ]
  },
  {
   "cell_type": "code",
   "execution_count": 6,
   "metadata": {},
   "outputs": [],
   "source": [
    "theta_E = 1 # 1.0 # arcsec"
   ]
  },
  {
   "cell_type": "markdown",
   "metadata": {},
   "source": [
    "## Create haloes <a name=\"create_haloes\"></a>\n",
    "\n",
    "[Back to contents](#contents)"
   ]
  },
  {
   "cell_type": "markdown",
   "metadata": {},
   "source": [
    "### Get the halo mass function using `colossus` <a name=\"mass\"></a>"
   ]
  },
  {
   "cell_type": "code",
   "execution_count": 7,
   "metadata": {},
   "outputs": [],
   "source": [
    "# mass limits in log space\n",
    "lower_mass_limit = 8\n",
    "upper_mass_limit = 13\n",
    "\n",
    "# define the mass range\n",
    "mass_range = np.logspace(lower_mass_limit, upper_mass_limit, num=1000) # [MSun/h]\n",
    "\n",
    "# define the mass, 200 times the critical density of the Universe \n",
    "# this choice is consistent with lenstronomy internal definitions -- see lens_cosmo.py)\n",
    "mdef = '200c' \n",
    "\n",
    "hmf_model = 'tinker08' # model for the HMF\n",
    "\n",
    "# get the HMF\n",
    "dndlnM = mass_function.massFunction(mass_range, z_hmf, q_in='M', q_out='dndlnM', mdef=mdef, model=hmf_model)"
   ]
  },
  {
   "cell_type": "code",
   "execution_count": 8,
   "metadata": {},
   "outputs": [
    {
     "data": {
<<<<<<< HEAD
      "image/png": "iVBORw0KGgoAAAANSUhEUgAAAhQAAAGcCAYAAACBcTnNAAAAOXRFWHRTb2Z0d2FyZQBNYXRwbG90bGliIHZlcnNpb24zLjUuMiwgaHR0cHM6Ly9tYXRwbG90bGliLm9yZy8qNh9FAAAACXBIWXMAAAsTAAALEwEAmpwYAABXQElEQVR4nO3deVxTZ74/8E9QcSXRbrbVo121ElDrWkJrKy6AtYtpFWsXV4TeucXeOzAzv5lCp9i5M7fQe0dn7pQQ124SrNQuSlCL2paDS60LRFtHbcvBdtqOSoKtO/n9weRISIBscJLweb9evlqec3LONw8h+eZ5vuc5KrvdbgcRERGRHyKUDoCIiIhCHxMKIiIi8hsTCiIiIvIbEwoiIiLyGxMKIiIi8hsTCiIiIvIbEwqiECGKIoxGI/Ly8iBJktLhhBRRFGGxWJQOg0KQ0WhUOoSQwYSCPJKXl4f58+dj6NChmD9/PvLy8ly26/V6DB06FBkZGTCZTF4dX5IkzJ8/H2PHjoUoioEMPSxIkgSj0YjU1FTU19cH/ZucJEnIyMiAzWZTOhRIkgSLxQKtVuvULoqiV4mZP8/JYrHIr++OSmxsNhvy8vJgMplgMplafM1IkoS8vDw5Wc3Ly3N5jjabDWPHjvX671oJRqMRkydPhl6v9+pxLb0HpaamIicnJ9Bhhic7kYeqq6vtQ4YMsVdXV7vdXlRUZB8yZIhf5xgzZoy9oqLCr2OEo+zsbHtRUZHdbm/8PbT0O+hIrcVRXV1tHzNmjL2mpqaDo3L13HPPuW139GdT7f2cxowZ02G/u3nz5tmtVqv8c3V1tUtfWK1W+yuvvOLS1vyxdntjP2ZnZ7dfwAFUWlpqnzRpkk+PdfceVFFRYS8sLAxEaGGNIxTkMbVa3ep2jUbj9zkEQfD7GOGourpa7hutVuvybVsJrX2712q12Lt3r+K/T6PRiNmzZ7u0i6IInU7n0t7ezykQfyOeMJvNEATB6W9Wq9WitrbWaYTEYDAgLS3N6bFqtRopKSkoLS11al++fLnbPgtGbb1Xtcbd71en06GqqiooRtyCGRMKohDRUR9Gntq8ebPSIbSppcTBZrO5/eAIhefkic2bN7tNOmNiYpymLQ4fPuw2iRIEATU1NS7tVqs1sIGGkNmzZ4fElI+SmFAQkdfMZjPKysqUDqNVoigiOjq6xe0ZGRlO39ZD4Tl5qqyszG3CJAgCqqur5Z+jo6ORnZ3t8s178+bNmDZtmlObyWRCcnJy+wQcAnQ6ncuoDTnrqnQA1Dk0LYCrqalBfHy8x8OnNpsNJpNJHsa02WxITU1t83GSJCEnJwfV1dVYs2YNrFYrbDYbJElCVVUVXn75ZajVaphMJmg0GlRVVaFv375uj+1J/KIoym/MVqtVPmZWVpZH290RRREVFRWQJAkGgwGCIGDQoEHQ6XTyc1u2bJkci6P4zmq1Yu/eva32g9VqRUVFhdwPzfvcYDBg0KBBcltKSgqAxg/eqqoqAJBjAhq/wQmCAJvNhiVLlrjE5jhua79LX2JtSUVFBeLj491u02q1yM7OxrRp06DVan16ToGIVZIk+XWl0WjkUQWLxQJRFCEIgrzd0U8WiwXZ2dmQJAklJSVyAWFFRQWWL18uv8bcjWip1WqnEYm0tDQUFxdj0qRJ8vMSRRGDBg1yGeHQ6XQePZ9A/c15+nfv7rXa0rRUa/3qCY1GA5vN5teUSlhTuoiDQkdNTU2rRZmlpaVuizKrq6tdipwmTZrktvhyxowZTu01NTX2efPmOe3TUtFYS8aMGWMvKipyKqYrLCy0P/fcc27jav78PIm/urrapWiraRFcW9vb0rxfmj43dwVkY8aMcbtvS/3QlNVqtU+aNMmlf5sXMbZVYNg8Nm9+l57G2poZM2Z4XUDp7XPyNtbmr6+Kigr7kCFD7NnZ2fJxKyoqXPrplVdecSmeHDJkiL2oqMhutVrtNTU18u+8tb9Td3+jNTU19hkzZtiHDBlinzdvXkCKRv39m/P0tWK1Wu0zZsxwW0DavCjT035t6W/NsX9paanbbcSiTPKBwWCQLy9r+q+l+UVRFJGfn+/UlpiYiKKiojbPlZOTI38zdlCr1YiOjnY5Zks0Gg1qamqcvrVotVqUlZW5fIsTBMHlslVP4q+urnb51qLVauVztrXdV+6+hbZUa9FSP1RWVjrt98ILLyAxMdEpXrPZ7HF/txSHN79LT2NtTUt1Ev5oqb99jdUxypCbmyuP5OTk5Lh8a05LS8OKFSuc2tRqNWpqaqBWqyEIgjwi5S2NRoPk5GSkpKRAFEW3UyC+HNOfvzlPXysvvPACkpOTXf62mk/XOI7pSb+2ZtCgQVwDphVMKMhraWlpyMrKcvnX/A3AISkpyWXboEGDUF9f3+p5JEmCKIpISkpy2TZt2jSvCqRiY2Odfna8qTUf1hUEAXV1dU5tnsQfExOD/Px8mEwmpzdjRwV9W9s7Skv90FRZWZnLVIFWq8XSpUu9OlfTN3lffpeexNqa9iggbGmo25dYTSYTdDqd02vQYrFAkiTExMS4PW/Tmg+NRuNy3rY07xObzYb8/HykpqYiNzcXJSUlkCQJkyZN8vuD09e/OW9eK2VlZW6nTpv/nrzp19ZoNBomFK1gDQW1O0EQ5A9kx3yqJ3/Are3jeCOQJMmjb6HuPgg8nQf1JH7HB252djZycnIgCAJSU1Plx7W1vaO09Zwdz6t5nwqC4Ne3fV9+l6E0T+1trHl5eTh8+LDL79/xYeVucbdly5a5/b0011Yy0zTWJUuWYNmyZfLPjktj58+fjyVLlqCkpKTtJ+PBeVpra87T14ojMffkdeltv7am+RcOuooJBXUIk8kkr1bo+FYWiEy/o64L9yT+pKQkJCUlyYVfRqMRFosFubm5Hm0Pdf4WqwXjNf7tUYBnMpmQmZkJvV4Pk8nklFQ4zuXu27mn1Go11Gq12xGaptNANpsNUVFRbp/f6tWrMXbsWJ9jaG/evlYC0a8Offv29fsY4YpTHtTucnJyYDabkZubi5SUFI+/DTiGRt29eTg+zDtigSdP4m+6rLFWq0VqaipKSkrky8za2h5I/gz1O/rTl2SvtecSLL9Lb7XH7yclJQVqtRrLli1DTk6OU187huT9TbZjYmLcHkOSJMTFxcn/39rfYvPpgY7i6WvFm9dqoPrVarUqvlhbMGNCQe3OZDK5FEM1XTSnpVoIQRCg1WrdDlNWVFQgMTExsIG2wNP4m8epVqsRFxcnvzG2td0XarXa5fH+3isiMTERZrPZpb35vS80Go3HyYsSv0tfFgLz5jn5S6vVYtGiRViyZIncplarodPpWux/T18rSUlJqKiocHsMR8FiW4WjUVFRHp0r0Lx5rSQmJjqtq+HQPHEIVL/yktHWMaEgjwVySLpv375O1983PUfT8yxduhSFhYVObZIkobKyEi+//LJH53L3AdHSh4an86Pu4m/pKgjHG1Bb21vTUt/HxcXJ6yc41NXVud3f0354+eWX3d44q/k3Wp1OJycv7q6oaB6DN79Lb35nLYmOjvY6ufL2ObUUV0uxNm/PysqSb/zmkJubC5PJ5Lb/m75WWuuPlJQU1NbWOsXrWOir6UhQSkqKy43+gMYaj9bWR2mLv39znr5WsrKy3H4hMZvNLufztF+bvwc1VVVVpdjITShQ2e12u9JBUPAzGo0QRRGiKEKr1SIuLs7pDScvLw+VlZWwWCxITExEfHy8PDdssVjkxYIcVw/odDpkZGQgNjZWXjDHaDTCZDJBq9UiJSVFfrwkSSgqKpIXrqmpqUFaWppHi+y4O6bj7osWi0Vu02q1yMnJQWlpKTQaDRITE+Xn50n81dXV8qJAjgRDkiR5eNtR0d/Sdk+fQ/N+d1Tpa7Va+biCIECv10On0yEzM7PFvm2pH5of17GwU/P556b7AHD6fTU93+LFi+XHtvW79PZ31hrHB403ha/ePCetVutxrI54HK+DlJQUuZ5m3rx5sNlsSExMlBd+cizW1LdvX2i1Wqf+t1gs8rHcvSaaPpemCz61tDCUKIowm82IiopC3759UVdXJy/o5a1A/c05juXJ373jeTa/qmTJkiXQ6XTIzc11qhtpqV9bir0pvV7vV6FquGNCQURhyWaz4YUXXsDy5cuVDoXCgOM273w9tYxTHkQUlpou2Uzkr6KiIrd3rqWrmFAQUdjKysqCwWBQOgwKcY71Z0Ll9u1KYUJBRGFLEASnAloiXxgMBr+KVDsLJhREFNZSU1M9um8MkTuiKCI+Pp7rT3iARZlE1Cl4ukw7UVN83XiOS2/7Yfz48RgwYIDSYRAREXWIkydPYvfu3W63MaHww4ABA3hNMhERdRp6vb7FbayhICIiIr8xoSAiIiK/MaEgIiIivzGhICIiIr8xoSAiIiK/MaEgIiIivzGhICIiIr8xoSAiIiK/cWErH5SXl2P79u2or69XOhQiIqKgwBEKHyQkJGDp0qWIiopSOhQiIqKgwISCiIiI/MaEIgj8UP0DVoxfAdMME04fO610OERERF5jDUUQ2L96P07uOQkAOLHtBKb9bRpGPD1C4aiIiIg8xxGKIKCdqUVEt8ZfxcWzF7HxmY149+l3ccF2QeHIiIiIPMOEIggMvGcgFlYuxDV3XiO3HXrzEAyjDDi596SCkREREXmGCUWQuHn0zUj7PA0j542U284cP4NVulWoeKUC9ga7csERERG1gQlFEInsE4lHVj8C/Vt6REZFAgAaLjdg26+34c3EN1H/Hde9ICKi4MSEAoAoitDr9UqHIYudE4v0A+kYMH6A3HZi2wkUDC/A0U1HFYyMiIjIvU6fUIiiCI1GA4vFonQoTvrd1g/zP5mPe397L6BqbPv5nz9j3fR1MD9vxuULl5UNkIiIqIlOn1DodDpotVqlw3CrS7cumPSHSXhm2zOIuvnqqpy7l+3GivEr8OORHxWMjoiI6KpOn1CEglsTbkX6wXQMeWiI3Pb9we9ROLoQn6/4HHY7CzaJiEhZYZFQ5OXltThlYbFYYDQaYTabYTKZIIpiB0cXGL2u64XZ781G8l+T0aV7FwDA5XOX8UHqB3gn5R2crzuvcIRERNSZhexKmZIkwWg0IioqCsXFxYiPj3e7j8FgwPLly+W2jIwMaDSaoJ3maI1KpcK4X4zD4PsGY8MTG/Dj4cYpj8PrD+Pk7pPQv63HoPhBCkdJRESdUciOUAiCgNzcXGRlZUGj0bjdx2g0Yvbs2U5taWlpyM/P74gQ203/4f2RujcVo9NGy23WGivWTFiDnbk70XClQcHoiIioMwrZhMITpaWlEATBqU0QhJCd9miqW69umF4wHbM2zEKPfj0AAPYGO3a8uAOvJ7wOq2RVOEIiIupMwjahkCQJNpvNJaFQq9UAEHSXifpqmH4Y0g+mY9B9V6c6vvn4GxSMKMCRkiMKRkZERJ1J2CYUNput1e1Wa+M3eFEUkZeXB6CxuDMURy80ggZzt8/FAy89AFVE46IV58+cR/Fjxfgw/UNc+vmSsgESEVHYC9mizEDR6XTQ6XTIysryaH+TyQSTyQQAOHPmTHuG5pWILhG4P+d+3DrpVpTMKYG1pjFh2mfYh5pPavDYusfQf3h/haMkIqJwFbYjFA5tjVR4KyUlBSUlJSgpKUG/fv0CeuxAGBQ/CGkH0hA9M1pu+/HwjzCOM2LPX/dwzQoiImoXYZtQOGolHFMbDo4Eo6UrQ8JBz3498bjpcTxkfAjdenUDAFy5cAWlz5Wi6JEi/PzPnxWOkIiIwk3YJhSCIECtVruMUDgSDH/WoSgvL0d2djbq64P37p8qlQqjFo3C4n2L0X/E1amOox8cRcGIAnxV/pWC0RERUbgJ24QCAOLi4iBJklObJEnQ6XR+HTchIQFLly5FVFRU2zsr7Lq7rsOiXYswfsl4ua3+23q8Pvl1fPTbj3Dl0hUFoyMionAR1glFVlYWCgsLndqKioqQmZmpUETK6NqjK5L+nIQnPnwCva7r1dhoBz7946dYfd9qnDkRPMWlREQUmlT2EK3Ss9lsMBgMkCQJZWVl0Gq1iIuLQ3x8vNMIhCiKkCQJgiDI//V3hKK8vBzbt2/Hrl27sHXrVn+fSoeq/64eG5/ZiBPbTshtkVGRmG6YjtgnYhWMjIiIgp1er0dJSYnbbSGbUASD1jo2mNkb7BDzRZT/rhwNl68u0z1y3kgk/yUZkX0iFYyOiIiCVWufe2E95UHuqSJUiP9VPBZULEC/269e+npgzQEYRhnw7b5vFYyOiIhCEROKTmzAuAFI25+G4U8Pl9tO//00VsathPiqCHsDB6+IiMgzTCh8EAqXjXqqe1R3zHh9Bma8MUOe6mi41ICtmVvxVvJbOPuPswpHSEREoYAJhQ9C6bJRTw1/ajjS9qfh5rE3y23HtxxHwYgCHDMfUzAyIiIKBUwoSHbNHddgwacLEP/reLntpx9+wlvJb6Hsl2W4fOGygtEREVEwY0JBTrpEdsHkP03G01ufRp8b+8jtu/5nF1bGrcSpo6cUjI6IiIIVEwofhFMNRUtum3wb0g+l484H75Tb/rH/HzCMMmD/6v28yRgRETlhQuGDcKyhcKf39b3xxAdPIGlZErpEdgEAXPrpEt5f8D5K5pTgvPW8whESEVGwYEJBrVKpVBifMR6Ldi/CdXddJ7dXF1XDMNIAqVJq5dFERNRZMKEgj9w48kakfpaKuxfdLbfVfV2H1fetxsd/+BgNVxpaeTQREYU7JhTkscjekXjY+DBmrp+JHn17AADsV+zY/sJ2vDH5DdhqbW0cgYiIwhUTCh90hqLM1kQ/Ho20A2kQ4gW57esdX6NgRAG+eO8LBSMjIiKlMKHwQWcpymxN38F9MW/HPEzImQBVhAoAcO70OZgeNWHTLzbh0rlLCkdIREQdiQkF+SyiawQmvjQRc3fMhVpQy+2f/e0zrBi3Aj9U/6BgdERE1JGYUJDfBt83GOkH0jFMP0xu+6H6BxjHGrH3tb1cs4KIqBNgQkEB0fOanpj5zkw8WPAguvbsCgC4fP4yNv/bZhTri/HzqZ8VjpCIiNoTEwoKGJVKhTFpY7D4s8W4IfYGuf2LjV+gYHgBvir/SsHoiIioPTGh8EFnv8qjLddHX4/UPakY++9j5bb6b+vx+uTXse3/bcOVS1cUjI6IiNoDEwof8CqPtnXt0RXT/jINT3zwBHpd16ux0Q5U/KkCq+JX4fSx08oGSEREAcWEgtrVkOlDkH4oHbdNuU1u+3bvtzDcbcDB1w+yYJOIKEwwoaB2F3VTFJ4yP4Up+VMQ0a3xJXfx7EVsnLsRJU/yJmNEROGACQV1CFWECrpf6rBo1yJcO+Raub16HW8yRkQUDphQUIe6adRNWLxvMe5e6HqTsZ1Ld/ImY0REIYoJBXW4yD6ReHjFw3i8+HGnm4ztyNmBtRPXwlpjVThCIiLyFhMKUox2phbpB9Mx6L5BclvNJzUoGFGAw+8cVjAyIiLyFhMKH3AdisDRDNJg7va5eCD3Aai6NN5k7HzdeayfuR7vL3ofF3+6qHCERETkCSYUPuA6FIEV0SUC92ffj/kfz0ffW/rK7ftX7kfhqEJ89/l3ygVHREQeYUJBQUPQCUg7kIaY2TFy26mjp7DinhUQXxVhb+CaFUREwYoJBQWVHpoe0L+tx6NrH0Vkn0gAQMOlBmzN3Io3k95E/XecZiIiCkZMKCjoqFQqjHhmBNL2p+HmMTfL7Se2nkDB8AIc/fCogtEREZE7TCgoaF1zxzVYULEA8b+JBxrrNfHzP3/GuofWYfNzm3H5/GVlAyQiIhkTCgpqXSK7YPIfJ+OZbc8g6uarRbB7/7oXxrFG/GD5QcHoiIjIgQkFhYRbE25F+sF0DH1kqNz2Q/UPMI4xYu/f9vImY0RECmNCQSGj13W9kPJuCh587UF07dEVAHD5/GVs/sVmmB414ed//qxwhEREnRcTCgopKpUKY9LHYPG+xeg/vL/c/uX7X+K14a/hxEcnFIyOiKjzYkJBIen66OuxaPcijMsYJ7ed/e4s3pjyBrb9ZhuuXLyiYHRERJ0PEwoKWV17dEXysmQ88eET6HV9r8ZGO1Dx3xVYFb8Kp/5+StkAiYg6ESYUPuC9PILLkAeH4NlDz+L2qbfLbd9+9i0MdxtwYM0BFmwSEXUAJhQ+4L08gk+fG/vgydInMfXVqYjo1viyvvTTJbw3/z2UzCnB+brzCkdIRBTemFBQ2FBFqBD3n3FYtHsRrh16rdxeXVSNgpEFqKmoUTA6IqLwxoSCws5Nd9+ExfsWY1TqKLnN+o0VayaswY6XdqDhcoOC0RERhScmFBSWIntH4qHChzBz/Uz06NsDAGBvsGPn73di7cS1qPumTtkAiYjCDBMKCmvRj0cj/VA6Bk8YLLfVfFqDghEFsBRbFIyMiCi8MKGgsKcRNHim/BlMfHkiVF0a7zJ2wXoB76S8g/cWvIeLZy8qHCERUehjQkGdQkSXCEz43QTM/2Q++t7SV24/sPoADKMM+Pazb5ULjogoDDChoE5FiBOQdiANsXNi5bbTfz+NlbqVqMirgL2Ba1YQEfmi0ycUkiTBaDRCFEUYjUbYbDalQ6J21kPTA/q39JjxxgxE9okEADRcasC2X23DG1PfQP23XLCMiMhbnT6hyMnJQWpqKnQ6HZKSkpCfn690SNRBhj81HGkH0jBg3AC57auPvsJrw1/Dlx98qWBkREShp1MnFJIkwWq1yj8LgoDS0lIFI6KOds3t12D+p/Nx72/vBRrrNXHu1DkUPVyEzf++GZfOXVI2QCKiENGpEwqLxQKNRuPSLkmSAtGQUrp064JJf5iEueVzETXg6nLqe/9vL4xjjfi+6nsFoyMiCg1hkVDk5eXBYnG/poDFYoHRaITZbIbJZIIoivI2q9Xqcj8OjUbDOopO6pYHbkH6wXTc9ehdctuPlh9hHGvEnr/u4U3GiIha0VXpAHzlKKaMiopCcXEx4uPj3e5jMBiwfPlyuS0jIwMajQZarbYjw6UQ0evaXphVMgufGz+H+XkzLp+7jCsXrqD0uVIcLzuOh1c9jN7X91Y6TCKioBOyIxSCICA3NxdZWVlupy0AwGg0Yvbs2U5taWlpcuGlRqNxuQW51WqFWq1un6ApJKhUKoxePBqL9y1G/xH95fajHx5FwfACHN96XMHoiIiCU8gmFJ4oLS2FIAhObYIgyNMeWq3WqSiz6T5E1w+7Hot2LcL458fLbWf/cRZvTn0TW7K24MrFKwpGR0QUXMI2oZAkCTabzSU5cIw+WCwWl22SJCE5ObnDYqTg17VHVyT9bxLmbJ6D3jdcneqozK/ESt1KnDp6SsHoiIiCR9gmFG0VVjpGJpYtWyYXbRYVFSE3N7cjwqMQc2fynUg/lI47ku6Q277b9x0Mdxuwf9V+FmwSUacXskWZgSIIAlJTUwEASUlJbe5vMplgMpkAAGfOnGnX2Ci49OnfB3M2zcHu5bux7dfbcOXiFVz6+RLeX/g+jpmPYbphOnr266l0mEREigjbEQqHQF8CmpKSgpKSEpSUlKBfv34BPTYFP1WECvc8fw8W7V6E6+66Tm4/vP4wCkYU4JuPv1EwOiIi5YRtQuGolWhedOlIMFq6MoTIEzeOvBGpn6Vi1OJRcptNsmHtxLUof6EcVy6xYJOIOpewTSgEQYBarXYZoXAkGP6sQ1FeXo7s7GyXS06pc4nsHYmHDA9hVsks9LymcarD3mDHJ3/4BKvvW43Tx08rHCERUccJ24QCAOLi4lyW0ZYkCTqdzq/jJiQkYOnSpS6rbFLnNGzGMKQfSsetCbfKbSd3n4RhpAEH1h5gwSYRdQoeF2W++OKLbtds8JbdbkdtbS02bNjg97HakpWVhSVLljgVWxYVFSEzM7Pdz02di3qAGk9vfRpivojy35Wj4XIDLp69iPfmvYdjpccwvWA6evTtoXSYRETtxuOEoq6uDsuWLQvISZcsWeL3MWw2GwwGAyRJgiRJyM/PR1xcHOLj4+URCEEQkJmZCZPJBEEQIEkSZs+e7fey2+Xl5di+fTunPMiJKkKF+F/F49ZJt6JkTom8RoXFZEFtZS1mvDkDg+8brHCURETtw+OEIpCrRwbiWGq1GllZWW3u5+/0hjsJCQlISEiAXq8P+LEp9N08+mYs/nwxzM+bsX/FfgCAtcaKtQ+sxX2/uw/359yPiK5hPdtIRJ2Qx+9qzacJzp49i9raWp9OyikHCneRvSPxsPFhzHxnJnr0a5zqsDfY8fHSj7H6vtU4c4JrmBBReGkzoTh8+DD0ej0WLlyIXbt2AQDKysowZswYTJkyBVOnTvU5sSAKd9GPRePZQ8/ilom3yG21u2pRMLIAB984yIJNIgobbU55bN68GWlpabBarSgsLIQkSaiqqsLq1asRExODqqoqGI1GvPTSSx0Rb1BgDQV5Qz3wasHm9he2NxZs1l/Exmc24ljpMTz42oPooWHBJhGFNpW9ja9IZWVlSExMlH9esWIFUlJSnC6ZLC4uxqxZs9ovyiCl1+tRUlKidBgUQk7uPYmSOSU4fezqGhWawRro39JjUPwgBSMjImpba597bU55qNVqnD17Vv45MTHRZf0FlUrlZ4hEncOAsQOQtj8NIxeMlNus31ixZsIabH+xcfSCiCgUeVSUOWnSJLlOoukVGnq9HitXrpSXuSaitkX2icQjKx/B48WPy2tT2Bvs+Dj3Y6yesBpnvmLBJhGFnjanPFpTWVkJjUaD6OjoQMYU9Bw1FLt27cLWrVuVDodCmFWy4t2n38U3O6/eVCwyKhIP/u1BDH9quIKRERG5am3Kw6+EorNjDQUFQsOVBlT8dwV2vLjDacojdk4spv1tGgs2iSho+FVD0ZLKykqfAyKiqyK6ROC+396HBRUL0O/2fnJ71dtVMIw0QBKlVh5NRBQcfE4oRFEMZBxEnd6Acf8q2Jw3Um6r+7oOq+9bjR2/38GCTSIKaj4nFJwpIQq87lHd8cjqR/C46XF013QH0FiwufOlnVhz/xrUfV2nbIBERC3wOaHozJeKlpeXIzs7mwtbUbvRztLi2UPPYtB9V9emkEQJBSMKUPV2lYKRERG5xzsU+SAhIQFLly51WY+DKJA0gzSYu30uJr48EaoujQn8BdsFlDxZgneffhcXbBcUjpCI6ComFERBLKJLBCb8bkJjweZtVws2D715CAUjCyBVsmCTiIIDEwqiEDBw/ECkHUjDiLkj5La6rxoLNnfm7mTBJhEpjkWZRCGie1R3PLrmUTxW9NjVgs0rdux4cQfWPMCCTSJSls8JxaBBvJERkRJiUmKQfjAdg+5tUrBZ8a+CzXUs2CQiZficUHTGu4s68CoPUlrfwX0xd8dcTFzarGBzTgnefYYFm0TU8QJSQ1FfX48tW7Y4tR0+fBhHjhwJxOGDDq/yoGAQ0SUCE16YgAWfLkDfW/vK7YfeOATD3QbU7qpVLjgi6nT8TiiOHDkCURSRl5fntBx3dHQ07HZ72CYVRMFi4D0DkX4gHcOfvnozsTMnzmDVvauwc+lONFxhwSYRtT+/E4rq6mokJiZi69atiIuLc9oWHR0NSeJlbUTtrbu6O2a8PgP6t/Xorm5SsJmzA2sfWIu6b+qUDZCIwp7fCYVGowlEHEQUALFPxCL9YDqEeEFuq/m0BgUjClBdVK1gZEQU7vxOKGpqalrdXlXFqnOijtT3lr6Yt2MeHnjpgasFm9YL2PDEBmyctxEX6lmwSUSB53dCodPpsHDhQuzatcup/ciRI1i4cCF0Op2/pyAiL0V0jcD9Ofdj/ifznQo2D649CMPdBpzcc1K54IgoLPmdUERHR2PhwoXIzs7GsGHD5H/z5s3DrFmzXOoqiKjjCHFCY8HmU00KNo+fwUrdSnz8h49ZsElEAaOyB3DJS0mScPjwYQiCgOjo6EAdNuiUl5dj+/bt2LVrF7Zu3ap0OEQeqXq7Cpue3eS0RsXgCYMx480Z0AishSKitun1epSUlLjdFtCEorNprWOJgtGZr87g3afehSRevfqqR98emF44HdqZWgUjI6JQ0NrnXsBuDnb27FlUVlZi/fr1LvUURBQc+t3aD/N2zsP9v78fqojGgs3zdefxzqx38N6C93Dx7EWFIySiUBWQhKK4uBhjxozB/PnzUVhYiHnz5mH8+PGcDiAKQhFdI/DAiw80Fmze0lduP7D6QGPB5l4WbBKR9/xOKMrKymA2m1FSUoIvvvgCW7duxRdffIFVq1Zh3bp1TqtnElHwEHQC0g6kIfbJWLnt9LHTWKVbhU/++AkLNonIK34nFFVVVVi1apVLEaZWq8WqVasgiqK/pyCidtJD0wP6N/WY8cYMREZFAgAaLjeg/LfleH3S67BKVoUjJKJQ4XdCERsb2+r2mJgYf09BRO1s+FPDkX4gHQPjBspt3+z8BgUjCnD4ncMKRkZEoSJgRZktUavVTj/X1vIOiETBqN9t/TD/4/mYkDPhasHmmfNYP3M93lvIgk0iap3fCUV8fLzLrcsdtmzZAkEQnNqMRqO/pySidhLRNQITX5qIeTvnQTP46toUB1axYJOIWtfV3wMkJCTAZrNBpVK5bHMsceHYZrfboVKp8NJLL/l7WiJqR4PuHYT0g+nY9OwmVK9rvKmYo2DzgdwHEP+reER0afcBTiIKIX4nFDExMVi2bBmioqLa3NdmsyE7O9vfUxJRB+ih6YHH3n4Md067E5v+bRMu1l+UCzaPlx3HjDe4wiYRXeX3V4zMzEyPkgmgsZ4iLS3N31Mqrry8HNnZ2aivr1c6FKJ2N/yp4Ug/6KZgc3gBLMUWBSMjomDCpbf9wKW3qTNpuNyAj//wMT7O/Rj2hqtvGyPnjUTS8iR0j+quYHRE1BECtvT2+vXrvT65L48houDT4gqbaxoLNmt38wouos7MqxoKs9mM2NhY9OnTx6P96+vrUVFRgZkzZ/oUHBEFH8cKm5t/sRlVb1UBaLwl+qr4VXjgpQdw72/uZcEmUSfkVUJRUVEhr3zp6UyJu6s/iCi0OVbYvCP5Dmz+t824YLsA+xU7tr+wXS7Y7Du4r9JhElEH8iqhWL16NWw2G9RqNeLi4jx6TE5Ojk+BEVHwG/7kcAg6wemW6DWf1KBgRAGmF0xHzGyulEvUWXiVUDiSiPr6evmmX4IgYODAgS0+Jjk52Y/wiCjYOW6J/sl/fYKduTthv2LHBesFbHhiA46VHkPyX5NZsEnUCfg00RkVFYW4uDjExcXBbrejsrISlZWVOHv2rMu+no5kEFHoiugagftz7m8s2Ly1r9x+8PWDMIw0oHYXCzaJwp3flVOCIMjJRU1NjZxcEFHnI8QJSD+QjuFPD5fbzpw4g1X3rsLOpTt5S3SiMBbQUuzo6Gg5udiyZQuef/55JhdEnUx3dXfMeH0G9G/r0V3TONVhv2LHjpwdWPvAWtR9XadsgETULgKaUJw9exbr16/HY489hoyMDNhstpBZTVIURej1eqXDIAobsU/EIv1gOgbdO0huq/m0sWCzal2VgpERUXvw+14eQONdRU0mE0RRRHR0NFJSUpCcnOzxktxKE0URGo0GFguXESYKpL6D+2Lujrn49I+fYsfvdzQWbNouoGROCY5tPoZp/zcN3dUs2CQKBz4nFJWVlTCbzSguLoYgCJg6dSp+//vfu9yuPBTodDqlQyAKWxFdIjDhhQm4bcptKJlTgjMnzgAADr15CDUVNdC/qYegC733DSJy5tWUx5EjR/Dqq69i3LhxWLJkCex2OzZs2IAtW7YgMzPTbTKxZcuWgAVLRKFr4PiBSDuQhhFzR8htdV/VYfWE1djx0g40XGbBJlEo8yqhmDFjBiRJwtKlS7Fnzx7k5uYiOjq6xf0lSYLBYPA5uLy8vBanISwWC4xGI8xmszzdQkTBrXtUdzy65lE8VvSYU8Hmzt/vxJr71+DMV2cUjpCIfOXVlEd0dLQ8PdB05MGxDHfzZbZrampQW+vd9eeSJMFoNCIqKgrFxcWIj493u4/BYMDy5cvltoyMDGg0Gmi1Wq/OR0QdLyYlBkKcgJKnSlDzSQ0AQBIlGEYaMO1v0zD8yeFtHIGIgo1XCYVOp8OsWbO8OkFdXZ1X+wuCgNzcXABAWVmZ232MRiNmz57t1JaWlob8/HysXr0aAGAymVBTU9PieeLj41k7QaQgzSAN5m6fi4r/rsD2nO1ywea7T73bWLD5t2nooemhdJhE5CGvEorMzEyvT+DLY9pSWlqK1NRUpzZBEJymPVJSUgJ+XiIKrIguEbjvt/fhtsm3YcOcDThzvHHKo+rtqsaCzbf0GBQ/qI2jEFEwCLl7DEuSBJvN5lIAqlarAYCXfhKFoAHjBiBtfxpGzh8pt1m/sWLNhDXY/uJ2FmwShYCQSyhsNlur261Wq9fHFEUReXl5ABoLQVngSdTxukd1xyOrHsHjxY+jR9/GqQ57gx0f536M1RNWy5ebElFwCsjCVqFOp9NBp9MhKyurzX1NJhNMJhMA4MwZvsERBZp2phYD7xmId59+F9/s/AYAUFtZi4KRBZj2f9Mw/KnhLgXgRKS8kBuhcGhrpKK9pKSkoKSkBCUlJejXr58iMRCFO42gwTMfPYNJf5yEiK6Nb1MX6y9i4zMbUfJkCc7XnVc4QiJqLuQSCketRPOpDUeCodFo2j2G8vJyZGdnh8x9SohCUUSXCNz7m3uxQFyAa+68Rm6vXleNgpEFqPm05au4iKjjhVxCIQgC1Gq1ywiFI8HoiHUoEhISsHTp0pC5VwlRKBswdgDSPk/D3Qvvltus31ix5v41KM8ux5VLVxSMjogcfE4ozp496/WiVYESFxcHSZKc2iRJ4roSRGEqsk8kHl7xMGa+MxM9+l0t2Pzk5U+w+r7VOH38tMIRElGbCcXhw4eh1+uxcOFC7Nq1C0DjglNjxozBlClTMHXq1A5PLLKyslBYWOjUVlRU1C5rXhBR8Ih+LBrPHnoWt0y8RW47ufskDCMNOLD2gLxqLxF1PJW9jb/A/Px8xMbGwmq1wmw2Izk5GVVVVUhOTkZMTAyqqqpQVlaGl156KSAB2Ww2GAwGSJKEsrIyaLVaxMXFuaxsKYoiJEmCIAjyfztqhKK8vBzbt2/Hrl27sHXr1g45JxFd1XClAWK+iO0vOK9RoU3R4sHXHkTPfj0VjI4ofOn1epSUlLjd1mZCUVZWhsTERPnnFStWICUlxal+oLi42OslucNBax1LRO3v233fomROCU4dPSW3qQU19G/qMXjCYAUjIwpPrX3utTnloVarcfbsWfnnxMREl2JEXhNOREq4efTNWPz5Yty96GrBpk2yYc0Da/DR7z5iwSZRB/KoKHPSpElynUTTJa/1ej1WrlwpX8rZWfCyUaLgEdk7Eg8bH8asDbPQ85p/TXXYgU//61Osil+F08dYsEnUEdqc8mhNZWUlNBoNoqOjAxlTyOCUB1FwsZ20YeMzG/FV+VdyW7fe3ZD8l2SMnDeSo6lEfvJryqM1cXFxbpOJ+vp6rF+/3mmqhIiovakHqPH01qcx+ZXJiOjW+PZ26adLeH/B+3gn5R2cO3NO4QiJwldAFrZqviZFVFQUZs6ciYqKClRWVgbiFEREHlFFqBCfFY9Fuxbh2qHXyu2H1x9GwfACfL3za+WCIwpjficUK1askNekGDZsGBYuXChfSpmYmMg6AyJSxE2jbsLifYsxOm203GartWHtxLX46Lcs2CQKNL8TipqaGuzduxd79uzBypUrMWDAAPzud7+Tk4uKiopAxBlUWJRJFBoie0diesF0pLybgp7XNinY/OOnWKVbhVN/P9X6AYjIY34VZQKu61Q4WCwWWCwWJCcnh+09L1iUSRQ66r+tx8a5G3Fi2wm5rVvvbkhenoyR81mwSeSJgBVlvvrqq9i6datTsWXzu346aLVazJo1K2yTCSIKLVE3R+GpsqcwJX+Kc8HmwvexfuZ6nDvNgk0if3iVUJhMJjz33HMYO3Yspk6dihdffBF9+/bFiy++2F7xEREFjCpCBd0vdUjdk4rr7rpObj+y4QheG/4avtr+VSuPJqLWeJVQxMXF4YsvvsCWLVuwaNEi1NXV4YUXXoDJZML48ePx4osvYsuWLbxclIiC2o0jb2ws2Ey/WrBZf7Ier096Hdt+sw1XLrJgk8hbXtVQ1NfXu53COHz4sHyJaHV1Nerr6yEIAuLi4jB79mwMGzYsoEErjTcHIwofX7z3Bd5f+D7Onbo65XHT6Jugf0uP64Ze18ojiTofv24O5guLxYLKykqIogir1YoNGzYE+hRBgUWZROGh/rt/FWxubVKw2asbEv+ciFGLRrFgk+hfOjyh6CyYUBCFD3uDHbuW7cJHv/nIacrjrhl34SHjQ+h1bS8FoyMKDgG5ymPlypUBCyiQxyIiCgRVhApx/xGHRbsX4bphV6c6vnj3CxQML8CJj0608mgi8jihqKqqCthJA3ksIqJAunHkjVj82WKM+bcxclv9t/V4Y8ob2PqrrSzYJGpBV093VKvVeP755/0+od1ux5EjR/w+DhFRe+nWqxse/L8HcWfynXhv/nv4+Z8/A3ZAzBPx1UdfNRZs3sWCTaKmWEPhA17lQdR5nP3HWWyctxHHy47LbV17dkXSn5MwKpUFm9S5tNvtyzurhIQELF26lKuAEnUCfW7sgyc3P4nEPyeiS2QXAMDlc5fxYdqHKNYXN45eEBETCiKitqgiVLhnyT1I3ZuK67XXy+1fbPwCrw1/zen+IESdFRMKIiIP9R/eH6l7UzH238fKbWe/O4s3pryBLZlbcPnCZQWjI1IWEwoiIi9069kN0/4yDXM2zUHvG3rL7ZWvVmLlPSvx45EfFYyOSDlMKIiIfHDntDuRfigddyTfIbf948A/UDi6EJ8VfAbWu1Nnw4SCiMhHffr3wZxNc5C0LAldul8t2Nz07CaYHjXhpx9/UjhCoo7DhIKIyA8qlQrjM8YjdW8qboi5QW7/8v0vUTC8AMe3HG/l0UThgwmFD8rLy5GdnY36+nqlQyGiINE/tj8W7VmEcRnj5Laz/ziLNxPfRNl/lrFgk8JewBOKcLtVuTtch4KI3OnWsxuSlyVjzmbngs1d/7sLK8atwI+HWbBJ4SvgCYWjEGn9+vWBPjQRUUi4M/lOPFv1LO6cdqfc9v2h71E4uhB7/7aXBZsUlgKeUDiWoc3Ly8Orr76KLVu24OzZs4E+DRFRUOt9Q2888eETSP5rMrr2aLxt0uXzl7H5F5tR9EgRCzYp7LRbDcUvf/lLWK1WbNq0CQkJCZg6dSpefPFFbNmyBbW1tQCAysrK9jo9EZHiVCoVxv1iHFI/S8UNsVcLNo9+cBSvxb6GY2XHFIyOKLACfnOwYcOGyXcTlSQJtbW1iIuLgyRJqKysREVFBQ4fPgyr1Yq+fftiy5YtgTx9h2rtJilERE1dPn8Z2/7fNuz+826n9vHPj8fkP06WRzGIgllrn3vt+goWBAGCIMgJxqxZszBr1iwAgM1mQ3Z2dnuenogoaHTt0RVJ/5uEOxLvwMZ5G/HT941THrv/vBtfl38N/dt63KC9oY2jEAWvDrlsdNiwYRg2bBgqKyvl6Q61Wo20tLSOOD0RUdC4I+kOPFv1LIZMHyK3fX/oexjHGLHnr3tYsEkhq0PXoYiLi4PdbpdrJ6Kjozvy9EREQaH39b0x+/3ZmPa3aU4Fm6XPlWLd9HX46QcWbFLo6dCEora2FrW1tZAkCQsXLgzp+gkiIn+oVCqMfXYsFu9bjP4j+svtf9/8d7wW+xr+Xvp3BaMj8l671VC8+uqrkCRJ/qdSqTBw4EAMHDgQgiAgMTGRC0MRUad3ffT1WLR7ET76fx9h1//uAgD89MNPeHva2xj33DhMeWUKCzYpJLTbq9RkMiEpKQmZmZmIi4trr9Moory8HNu3b+fS20QUEF27d0Xi/yTijqQ7sHHuRpz9R+PaPXv+sgdfb28s2Owf27+NoxApq92mPDIzM5GbmwsA2LJlC7Zs2YLKykqnRa4cV3+EGi69TUTt4faptyP9UDqGPjxUbvuh+gcYxxqxe/luFmxSUPN7hKKsrAzx8fHo06ePU7vj8tDmoxOHDx9GbW0t7Ha7vJImERE16n19b6RsTME+w77Gm4qdu4wrF67AvMSMY6XH8MiaR9Cnf5+2D0TUwbweoaisrMSSJUuwcuVK1NbWIjExEaIoevz46OhoTJ06FYmJibjnnnu8PT0RUdhTqVQYkz4Gi/ctxo0jb5Tbj5mP4bXY13B001EFoyNyz+uEQpIkZGZmIioqCjk5OZg6dSoqKip8OnlWVpZPjyMi6gyuH3Y9Fu5aiLhfXh3p/fnHn7Fu+jpsfm4zLp27pGB0RM68nvKIiYmRV8B0TGv4ijUIRESt69q9K6bmT8UdSXfg3WfexdnvGuvQ9v51L77e/jUee/sx9B/Ogk1SntcjFCqVSl7tkoiIOsZtk2/Ds4eexdBHrhZs/mj5EcZxRuxatgv2BhZskrK8Tig2bdoEvV6PhQsXYuXKlX5dqcHbmhMRea7Xdb2Q8m4Kphumo2vPxgHmKxeuoOz5Mrw17S35clMiJXidUAwaNAh79uzB73//e0RFRaGgoAALFy706LG1tbU4cuSI/C8vL8/rgImIOjOVSoXRi0cj7fM03DTqJrn9eNnxxoLND1mwScrw+vbl9fX1qKysxNSpU91ub3r78qZycnJQXV2Nvn37ym0WiwW7d+922TdU8PblRKSkKxevoDy7HGKeCDR5Jx/zb2MwNW8quvXqplxwFJYCevvyqKgol2Ti7NmzLutQNBcTEyMvdOVQVlbm7enbhcVikS99raqqwssvvwy1Wq1wVEREresS2QVT/nsK7ki8A+8+/S7qv21cvfezv33WWLC57jHcOOLGNo5CFBhtTnmcPXu2zX+eTF0IguDSNmjQIN+iDiCbzYbq6mqkpqYiNTUV06ZNw7x585QOi4jIY7cm3Ir0Q+m4a8Zdcts/j/wTK8atQOX/VrJgkzpEmyMUCQkJEARBXvLVUUgZFRUFu92O+vp6qFSqNk9UW1uLF198ETExMQAAu92OsrIyrFy50p/4/VZdXQ2j0YiUlBQAgE6nw5IlS2Cz2ThKQUQho9e1vTBrwyzsX7kf5iVmXPr5Eq5cvIIt/7kFx83H8ciaRxB1Ey/Vp/bTZkKRmZnptN5EWVkZEhMTnfaprKxs80Tr1q2DTqeD1WqV286cOeNNrO1Cp9Nh2bJl8s+SJAEAkwkiCjkqlQqjFo3CoPsGoeTJEny37zsAwPEtjQWbj6x6xOk+IUSB1GZC0XzxKncftE0LLVvy8ssvIzo62qlNp9O1+pi8vDxMmzYNWq3WZZuj7kEQBFitVgiC0ObxWtL0+Js3b8aiRYt8Og4RUTC4buh1WCguxPac7ah4pQKwA+dOnUPRI0UYnT4aia8msmCTAs7rokyLxeJyw6/q6moMGzas1cc1TyYA98mJJEkwGo2IiopCcXEx4uPj3e5jMBiwfPlyuS0jIwMajcZt8uEpm82Gw4cPY/Xq1T4fg4goGHSJ7ILJf5qM2xNvbyzYPNlYsLmvYB++2fEN9G/rcdPdN7VxFCLPeZ1Q6HQ66PV6xMbGAmhMJjIzM132W79+favHaamGQhAE+WqQlq4CMRqNmD17tlNbWloa8vPz5WTAZDKhpqamxfPHx8e7jGg0fTwRUTi4deKtePbQs/hg8Qc4sqHxkv5/fvFPrBi/ApP+OAlx/xEHVUTbdXBEbfE6oYiOjsbatWtRWloKAPKNwppbt24d4uPjodFoWjyWrzUUpaWlSE1NdWoTBMHprqeOIktPGY1GOTFiQSYRhZOe1/TEzPUzcWD1AZRmlOLST5fQcKkBWzO34rj5OB5d+yiibmbBJvnH64QCaLzCo60bg7mrmWjOl5oHSZJgs9lcLkN1JAAWi8XraQ+z2YykpCT5GKWlpV4nJEREwUylUuHuBXc3FmzOKcG3n30LADix7QReG/4aHl7xMO569K42jkLUMp8SCk+0lUx4uk9zNput1e1NryLxhCRJWLJkiVObIAgtJhQmkwkmkwlAcFylQkTkjWvvvBYLxAXY8eIOfPqnT+WCTdMME0YtHoXE/0lEZO9IpcOkENRuCUWoEAQBX375pcf7p6SkyMmGXq9vr7CIiNpNl25dMOm/JjUWbD71Lmy1jV/UPi/8HN/s/AaPvf2Y031CiDzh9c3BAsmfu422NVJBREStu+X+W5B+KB3RM6+OFp/68hRW3LMCFXkVXGGTvNJuCUWgluxuzlHn0Hxqw5FgtFYEGijl5eXIzs5GfX19u5+LiKg99ezXE4+bHsfDqx5Gt96Na1M0XGrAtl9twxtT3oDtJL+8kWfabcojUEt2NycIAtRqtcsIhSPB8GcdCk8lJCQgISGBUx5EFBZUKhXunn83Bt83GBvmbMC3exsLNr8q/woFwwvw0IqHMGxG62sNEbVbQhGoJbvdiYuLgyRJTsmDJEk+r5RJRETANXdcgwUVC7DzpZ345L8+aSzYPH0Oxfpi3L3obiT9OYkFm9SidpvyCNSS3e5kZWWhsLDQqa2oqMjtAltEROS5Lt26IOHlBMzbMQ9q4er79v4V+1E4qlC+3JSouQ4ryrRYLC5t1dXVLm02mw15eXnIyMiAJEnIz89HXl6e06JVgiAgMzMTJpMJoijCZDJh9uzZHTLdAbCGgojC3+AJg5F+MB3aWVffV08dPYWVcSvx6X9/ioYrDQpGR8FIZXcUOQTIsGHDcOTIEZf2w4cP44UXXnBZsrv5fUFCiV6vR0lJidJhEBG1G7vdjoOvH0Tpv5fi4tmLcvstE2/BjDdmQD2Aqwp3Jq197gV8hKKl/MSxZLdWq4VWq8WaNWtCOpkgIuoMVCoVRs4dibQDaRgwfoDc/vX2r1EwogBHPzyqYHQUTAI+QtEZlJeXY/v27di1axe2bt2qdDhERB3iyqUr2Jm7E5/8obFg02H8kvGY/N+T0bV7p18rMex16AhFZ5CQkIClS5e6vSkaEVG46tKtCxKWJmBu+VxEDbj6/rd72W6sjFuJU0dPKRgdKY0JBREReeWWB25B+oF0DHloiNz2j/3/gGGUAQfWHGhx6pvCGxMKIiLyWq/remH2e7ORtDwJXSK7AAAu/XQJ781/D+8+9S4u2C4oHCF1NCYURETkE5VKhfHPjceiPYtw7dBr5faqt6tguNuAk3tPKhgddTQmFD7gOhRERFfdOOJGLN63GCMXjJTbzpw4g1W6VbzJWCfChMIHLMokInIW2TsSj6x8BI+tewzd1d0BAA2XG28y9ta0t3D2e9/vLk2hgQkFEREFTMzsGKTtd16z4njZcRQML8DxLccVjIzaGxMKIiIKqH639cP8T+Yj/tfxcttPP/yENxPfxNZfbcWVi1cUjI7aCxMKIiIKuC7dumDynybjqS1PoXf/3nK7mCdi1b2rcPr4aQWjo/bAhMIHLMokIvLM7VNuR/rBdNyeeLvc9u3eb2G424Cqt6sUjIwCjQmFD1iUSUTkuT79++DJzU9iSv4URHRr/Ni5WH8RJU+W4L357znddIxCFxMKIiJqd6oIFXS/1GGhuBD9bu8ntx9YcwCFowvx3f7vFIyOAoEJBRERdZibx9yMtM/TEPtkrNx26ugprLxnJXYt28Vlu0MYEwoiIupQ3dXdoX9Tj0fXPopuvbsBAK5cvIKy58tQ9HARfv7nzwpHSL5gQkFERIoY8cwIpH2ehhvvvlFuO/rhURSMKMBX279SMDLyBRMKH/AqDyKiwLh2yLVYWLkQ9/zHPXJb/bf1eH3S6yh/oRwNlxsUjI68wYTCB7zKg4gocLp274rE/0nEnE1z0Ou6Xo2NduCTP3yCtQlrYau1KRsgeYQJBRERBYU7p92J9IPpuDXhVrmt5pMaFIwswNFNRxWMjDzBhIKIiIJG1M1ReGrLU5j48kSoIlQAgHOnzmHd9HXYkrUFVy5x2e5gxYSCiIiCSkSXCEz43QTM3T4XUQOuTi1X5ldi9X2rUfd1nXLBUYuYUBARUVAaPGEw0g+k447kO+S2k7tPwnC3AUfePaJgZOQOEwoiIgpava7rhTkfzsGUvCmI6Nr4kXW+7jyK9cUozSjF5QuXFY6QHJhQEBFRUFNFqKDL1GH+J/OhGayR2/f8ZQ9W6Vbh9DHeuTQYMKHwAdehICLqeAPvGYi0/Wm469G75LbvPv8OhlEGVBdVKxgZAUwofMJ1KIiIlNGzX0/MKpmFpOVJ6BLZBUDjnUs3PLEBH6R9gEvnLikcYefFhIKIiEKKSqXC+OfGY4G4wOnOpZ8Xfo4V41fgxyM/Khhd58WEgoiIQtLNoxvvXKpN0cptP1T9AOMYIw6sPaBcYJ0UEwoiIgpZ3dXd8di6xzDdMB1de3QFAFz6+RLem/ceNs7biItnLyocYefBhIKIiEKaSqXC6MWjsWj3Ilw79Fq5/eDagzCONeL7qu8VjK7zYEJBRERhof/w/lj82WKMeGaE3PbPL/6JFeNWYJ9xH+x2u4LRhT8mFEREFDYi+0Ti0bWP4pE1j6Bbr24AgMvnL+PDxR+i5MkSXKi/oHCE4YsJBRERhZ2Rc0cidW8qboi5QW6rXlcN41gjfqj+QcHIwhcTCiIiCkvXR1+PRbsX4e5Fd8ttp748BeM4XgXSHphQEBFR2OrWqxseNj6MR19/9OoUyLnLeG/ee3h/0ftcCCuAmFD4gEtvExGFlhFPj8CiPYtw3bDr5Lb9K/dj5T0rceroKQUjCx9MKHzApbeJiELPDdobkLonFbFPxspt3x/6HoVjCmFZb1EwsvDAhIKIiDqNyD6RmPHGDEw3TEeX7lfvBfLOrHew+bnNvB26H5hQEBFRp+JYCGuhuBD9brt6L5C9f92L1fetRt3XdcoFF8KYUBARUad006ibsPjzxbhrxtXboX+791sYRhlw9MOjCkYWmphQEBFRp9VD0wOzNsxC4v8mIqJr40fi+TPnse6hddj6661ouNygcIShgwkFERF1aiqVCvc8fw/mfTwP6oFquV18RcTahLWwnbQpGF3oYEJBREQEQIgTkLY/DXck3yG31XxSA8PdBpzYdkLByEIDEwoiIqJ/6XVdL8z5cA4S/pAAVYQKAPDzjz/jjalvYMdLO2Bv4A3GWsKEgoiIqAlVhAr3/fY+PPPRM+hzY5/GRjuw8/c78fb0t3Hu9DllAwxSTCgAiKIIURRhNpuRl5cHi4ULnBARdXa3PHAL0van4ZaJt8htx0qPoXB0Ib77/DvlAgtSTCgALFmyBDExMUhKSkJsbCyys7OVDomIiIJAnxv74OktTyP+N/FyW93XdVipW4n9q/crGFnwYUIBoKSkBGp1Y2Wv1WqFRqNROCIiIgoWEV0jMPmPk5Hybgq6q7sDAK5cuIL3F7yPDxZ/gMvnubomwIQCACAIgvz/ZrMZqampCkZDRETB6K5H70Lq3lTcEHOD3Pa58XOsuncV6r6pUy6wIBHUCUVGRkaL9QwWiwUmk0mufRBF0a9zSZIEo9GIpKQk6HQ6v45FRETh6doh12LhroWInXP1BmPf7fsOhaMKcazsmIKRKS/oEgpJkpCTk4O8vDxUVlbCarW63cdgMCAlJQU6nQ5JSUkoKiryq5hSEASkpKTAYrHAbDb78xSIiCiMRfaOxIw3ZyD5L8ny6prnTp/DW8lvYefSnZ320tKuSgfQnCAIyM3NBQCUlZW53cdoNGL27NlObWlpacjPz8fq1asBACaTCTU1NS2eJz4+3mUkQq1WIykpCfPnz8fevXvlugoiIqKmVCoVxv37ONw06iasn7ke9d/WA3ZgR84OnNx9EjPemIGe/XoqHWaHCrqEwhOlpaUudQ6CIDhNe6SkpHh0LFEUkZ+fj5KSEgBATEwMgMbiTCYURETUGkEnYPHni7Fh9gZ8veNrAMDfN/0dxjFGzNowCzeOvFHZADtQ0E15tEWSJNhsNqdCSgDyh7+30x4ajQbJycnyz9XV1RAEweX4RERE7vTp3wdPb30auqyro95nTpzByriVOLD2gHKBdbCQG6Gw2Vq/SYu7movWaLVaSJIEk8kEoDEhcUybuGMymeR9z5w549W5iIgoPEV0jcCUV6Zg4D0DsXHeRlysv4jL5y/jvXnvobayFknLktC1e8h95HolvJ+dh5KSkjzeNyUlRZ5O0ev17RUSERGFoGH6Ybheez2KHyvGj5YfAQD7DPvw/aHvMWvDLETdFKVwhO0n5KY8iIiIgtl1Q6/Dol2LEPNEjNxWW1mLwtGFkColBSNrXyGXUDhqJVqa+uiIVS7Ly8uRnZ2N+vr6dj8XERGFnsg+kdC/pcfUV6fKdy09+91ZrLl/DfYV7lM4uvYRcgmFIAhQq9UutRKOBEOr1bZ7DAkJCVi6dCmiosJ36IqIiPyjUqkQ959xeGrLU+h5beMlpA2XGvBh2of4IO0DXL4QXkt2h1xCAQBxcXEuV3NUV1dzhUsiIgo6t026DYs/W+x0CennhZ9j7cS1qP8ufEa6QzKhyMrKQmFhoVNbUVERMjMzO+T8nPIgIiJv9L2lLxZULAjrugqV3W4PqjVCbTYbDAYD6uvrYTKZoNVqERcX57KypSiKsFgsEAQBkiRBq9V2+AiFXq+XF8QiIiJqi91uR+X/VGLbr7bJS3RHdIvAtP+bhtGpoxWOrm2tfe4FXUIRSphQEBGRL05sO4F3Ut7BudPn5LbRaaORvDwZXSK7KBhZ61r73AvJKQ8iIqJQdtvk25D6WSr6j+gvt+0z7AvpugomFD5gDQUREfmr3639GusqZl+tq5BECcYxRtTuqlUwMt8wofABLxslIqJAiOwdCf3bekzJmyKvV1H/bT3WPLAGB984qHB03mFCQUREpCCVSgVdpg5Pmp9Ez2sa16u4cuEKNj6zEVt/vRUNVxoUjtAzTCiIiIiCwO1Tbkfq3lRcr71ebhNfEVH0SBEu2C4oGJlnmFD4gDUURETUHvrd1g8LxYUYMn2I3Pb3TX/HyriVOH38tIKRtY0JhQ9YQ0FERO2lu7o7UjamIP7X8XLbj4d/xIpxK/DV9q8UjKx1TCiIiIiCTESXCEz+02TMeGMGunRvXJfi3OlzeHPqm9j72l6Fo3OPCQUREVGQGv7UcMzbOQ99buwDAGi43IDN/7YZm36xCVcuXVE4OmdMKIiIiILYwPEDkbo3FTeNvklu++xvn+HNxDfx86mfFYzMGRMKH7Aok4iIOpJ6oBrzP54PbYpWbvt6+9dYMX4Ffjz8o4KRXcWEwgcsyiQioo7WrVc3PLbuMUx8eaLcdub4Gay4ZwWOmY8pGFkjJhREREQhQqVSYcLvJmBWySx0690NAHCx/iLefvBt7Pm/PYrGxoSCiIgoxAybMQwLxYVQC2oAgL3BjtJ/L0VpRikaLiuzsiYTCiIiohDUf3h/pO5JxYBxA+S2PX/Zg3UPr1NkZU0mFERERCGqz419MHfHXETPjJbbjpUew6r4Vaj7pq5DY2FCQUREFMK69eyGx4sex32/u09u+6H6B6wYvwK1uzvuNuhMKHzAy0aJiCiYqCJUSHg5AY+ufRQR3Ro/2n/6/icU64tx6dylDomBCYUPeNkoEREFoxHPjMAzHz2Dntc23gb9vPV8h527a4ediYiIiNrd4PsGI21/GqrersKtE29Ft57dOuS8TCiIiIjCjEbQ4N5f39uh5+SUBxEREfmNCQURERH5jQkFERER+Y01FD4oLy/H9u3bedkoERHRv3CEwge8bJSIiMgZEwoiIiLyGxMKIiIi8hsTCiIiIvIbEwoiIiLyGxMKIiIi8hsTCiIiIvIbEwoiIiLyGxe28sPJkyeh1+tRX1/vsiaFJ23Nfz5z5gz69evXbvG6iynQj21rv5a2sw8938+bPnTXrnQfthZroB7X0X3YvI196NvfeKj8Pbd3H7a0LRj68OTJky1vtJPfXnjhBZ/amv88Y8aMwAbmQUyBfmxb+7W0nX3o+X7e9KG7dqX70N05A/24ju7D5m3sQ8/alX4tBmsftrQtGPuwKU55BMDEiRN9anO3T3vy53yePrat/Vrazj70fD9v+tBdu9J96M85g7UPvYktUEK9D921sQ9b3xaMfdiUym632xU7OznR6/UoKSlROoyQxj70H/vQf+zDwGA/+q8j+5AjFEEkJSXFpU2SJJhMJpjNZhiNRthsNgUiCx0t9aHRaITJZEJeXp4CUYWWpn1osVig1+td9nH0qSiKfF264UkftrWNPOtHi8UCo9EIo9GIjIwMvhab8aQPRVGEKIowm83Iy8uDxWLx7WQdNrlCPiksLHT6+ZVXXlEoktA1adIk+f+rq6vZhx6qqKiwV1dX24cMGeKybd68efL/19TU2LOzszsytJDRWh+2to2ctdRXVqvVXlRUJP9cWlraoTUDoaS119uYMWPsVqvVbrf714ccoQhyoig6/cxbpnvHbDZDEAT5Z61Wi+LiYgUjCh06nQ5ardalXZIkp58FQUBpaWlHhRVSWurDtraRs5b6qrq6Gkaj0Wk/i8XCUQo3Wnu9lZSUQK1WAwCsVis0Go1P52BCEQLmz58Pm80GURSRlJSkdDghz2azuXwokucsFovbS93Yp9TRdDodli1bJv/seA06PhzJM02/dJnNZqSmpvp0HCYUHSAjI6PFOSmLxQKTySTPXzUfkVi2bBmsVismTZoEi8UCnU7XESEHHV/7UKvVOn3QOY7RWb7B+PPaa4nVanVp02g0Ydun7dGHnVF79WPTb92bN2/GokWL/I41WLXna9FRF5WUlOTz5wwXtmonjl9OVFQUKisrMXv2bLf7GAwGLF++XG7LyMiARqOR/0iqq6uRmZkJSZKQk5MDAD5nj6EmEH0oCAJSUlJgMpmQnJwMq9UKtVod1t9gAvXa68zYh4HRkf1os9lw+PBhrF69OiCxB4uO6kPHe2V+fj7MZrNvo+F+VXmQRyZNmmSvqKhwac/OznZpr66ulgveampqnIoya2pqnIpnOhNf+9DBarXaa2pq7Ha7vVMVwfnbb3a7a3+Vlpa67DdmzBi5f8NNe/Shp9vCSXv3Y3Z2dti/N7Z3H9rtjcWbQ4YM8akvOeWhoNLSUqe5K6AxS3QMVYmi6DT0JAgCZs2a5XbIubNqqw8d1Go1BEHo1NNGTXnab+5otVq3r8Hmxwt3/vQhXRWIfjQajcjMzIRarQ7bqbfW+NOHoig6XUoaExMDwP3UZluYUChEkiTYbDaXF4FjKN7xwefuBdHZ3rhb4kkfAsDYsWPlbSaTCZmZmR0XZBDytN9a0vxxkiQhOTk5sEEGOX/7kBoFoh8dw/OOx3S2hM7fPtRoNE5/v9XV1RAEwafPGdZQKKStLNpqtco1AEajEYIgwGq1up0/66w86UMAWLp0KcxmM6xWK5KSkjr9/Lan/SaKovxmlJeXh/j4eHl0Z9myZTAajdBqtbBYLMjNzW3foINMIPqwtW2dhb/9KEkSlixZ4vQYQRA61dVw/vaho3DdZDIBaExAfK1DYUIR5DrTH0Z7YR/6RqfTQafTuS0CFgRBbu9sH4LeaK0PW9tGzlrqK0EQ8OWXXyoUVWhp7fUWqPdITnkQERGR35hQKMQxv9XScJWvK5V1JuxD37Df/Mc+DAz2o/+CqQ+ZUChEEASo1WqXSlrHi6Kzz/N7gn3oG/ab/9iHgcF+9F8w9SETCgXFxcW5VOBWV1dzTtoL7EPfsN/8xz4MDPaj/4KlD5lQKCgrKwuFhYVObUVFRZ3+skZvsA99w37zH/swMNiP/guWPlTZ7XZ7h56xk7DZbDAYDKivr4fJZIJWq0VcXJzLpWGOS3kEQYAkSdBqtczM/4V96Bv2m//Yh4HBfvRfKPUhEwoiIiLyG6c8iIiIyG9MKIiIiMhvTCiIiIjIb0woiIiIyG9MKIiIiMhvTCiIiIjIb0woiKjTsVgs0Ov1SodBFFaYUBBRpyKKIgC4LFVMRP7pqnQAREQAkJOTg7q6OsTGxiI1NbXdzhOMKzDm5eVBkiT07dsXubm5SodD5BOOUBCFkby8POj1egwdOrTNb+CiKGLo0KGYP38+TCZTB0XYsrq6OixfvtwpmbDZbMjIyMDYsWORl5fX4TGZzWZkZGRg6NChmDx5cpv7m0wmDB06FHq9Hjk5OS3eUrq5rKwsLF++HHV1dX5GTKQcjlAQhZGsrCyYTCZUVFRg8+bNrd662PFhl5mZGbS3iVar1Vi+fDmGDh2K2NjYDj9/UlKS3DdlZWWt7muz2eQkbs2aNVCr1e0eH1Ew4QgFUZjRaDSYNm0aiouLW9zHZrPJH3jB/sEnSRIA5aYqRFHEtGnTAKDVEYfS0lIAgCAIQd+nRO2BIxREYSgpKQnZ2dkQRdHtB3F1dXVQ1hK4I4pimx/SJpMJNTU1LW5vfmdGb9hsNiQnJwOAfBdHdzHqdDoYjcaQ6VeiQGNCQRSmkpOTYTabQ/4DrqKios3nkJKS0q4xOJKZlhIKm80GjUYDSZJCvr+JfMWEgihMpaSkQK/Xu1w1IEkSBEFo9bFmsxkAYLVaUVNTg6ysLJftjg9Zm80GURSRmZkJtVrd6jZfVFZWYunSpTCZTNBoNPKIRXteCeLQtK8EQUBVVRWSkpKc9jGZTEhJSZEvR2VCQZ0VEwqiMKXVaiEIAsxms9OHYFvfokVRlB8LNCYP8+fPx+rVq+XtarXa6RiOD9PWtvnCYrHISYkjMdLpdBg7dixSUlJ8SlJEUZSLJ/Py8lqdDhFFUZ7uEARBrudwkCQJMTExABpHUlg/QZ0ZizKJwlhiYqLXl4SazWYYjUb556SkJKekwGKxuFyS6khYWtvmC0eC4m5tBqvV6tMxdTodUlNT8eWXXyIrK6vV5Kpp8aogCKitrXWJzzEFUllZiejoaJ9iIgoHHKEgCmOzZ8/G5MmT5Q9Gi8Uif6NuSWpqqsvVDGq1Wj5GUlIS9Ho9RFFEUlISdDqd/KHc2jZfNB0hcKiurgaANqdtAk0QBPlKDnexWSyWdq/lIApmHKEgCmOCIECr1cofhFartc0heccHtdFohMlkgiiKTgmGIAj46KOPEB0dDZPJhMmTJyMnJ6fNbb5wdzVKRxWaNh2dABqfm6MfbDab0/a26ifMZrPTP3+mgYiCFUcoiMJcSkqKXDjoCaPRCFEU5ZoJwHmtCsclko5CTZvNhiVLlsjFmC1t83bqw1E/0fxDurS0FEuXLpWP3141C80vuXUkWpIkQRRFp/6sqKiAWq12O2riru8lSfLqd0IUCjhCQRTmkpOTYbFYPP5mn5+f71KzYLPZYLVaYbFYUF5e7lScqFarkZmZiaqqKlRUVLS4zVvu1p9wJBmO5KTpFESgNb8apmmRavNpo8rKSsTFxbkco6WkQRAE6HQ63qCMwgoTCqIwI0mSy4e6TqfD5s2b3e7fdDrD8f8ajUZus1gs8nC/1WpF9+7dnYo2HeeMj48HgFa3ecPdolxNp0DMZrNLfUWgOK4sacqR2NTV1bmsRWGxWNw+x6b92Jy7q0aIQhmnPIjCSF5eHoqLi1FaWorFixfL3+SbX2IpiqK81oTBYEB8fLy8z7Jly5Cfnw+dTiePEOTm5mLz5s2IjY3FoEGDEBMTI09xOJIQnU4nX0bpbpu3rFYrMjMzndqajrao1ep2me7Iy8tDWVkZJElCRkYGXn75Zfk8iYmJTmty5OXl4fDhwwAaExybzSavj9F8ESyz2Yzs7GyUlJR0eEEpUUdQ2e12u9JBEBFlZGRg+fLlSocRMJIkwWazyUmFKIrIz893unFY89qScOsD6lw45UFE1A6aT2nodDqUlJRw4SsKW0woiIjaiVarbfESUZPJ5NeiX0TBhjUURETtRBAEaDQauV6lKV4ySuGGNRREFBQmT56M6OhoxMbGdsiNv4JJXl4eJElCbW0tSkpKlA6HyCdMKIiIiMhvrKEgIiIivzGhICIiIr8xoSAiIiK/MaEgIiIivzGhICIiIr8xoSAiIiK//X8II1/ksjvgZwAAAABJRU5ErkJggg==\n",
=======
      "image/png": "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\n",
>>>>>>> 084caaa26d6c5b10bb6237f13ba94a81bb64ccd7
      "text/plain": [
       "<Figure size 576x432 with 1 Axes>"
      ]
     },
     "metadata": {},
     "output_type": "display_data"
    }
   ],
   "source": [
    "# plot the HMF\n",
    "plt.figure(figsize = (8,6))\n",
    "plt.title(r\"Halo mass function (`{}' model)\".format(hmf_model))\n",
    "plt.plot(mass_range, dndlnM, lw = 3, color = 'purple')\n",
    "plt.xscale('log')\n",
    "plt.yscale('log')\n",
    "plt.xticks(fontsize = 20)\n",
    "plt.yticks(fontsize = 20)\n",
    "plt.xlabel('Mass [$h^{-1} M_{\\odot}$]', fontsize = 20)\n",
    "plt.ylabel(r'$\\frac{\\mathrm{d}n}{\\mathrm{d}\\ln M}$ [$h^3$ Mpc$^{-3}$]', fontsize = 20)\n",
    "plt.show()"
   ]
  },
  {
   "cell_type": "code",
   "execution_count": 9,
<<<<<<< HEAD
   "id": "closed-prompt",
=======
>>>>>>> 084caaa26d6c5b10bb6237f13ba94a81bb64ccd7
   "metadata": {},
   "outputs": [
    {
     "name": "stdout",
     "output_type": "stream",
     "text": [
      "The comoving density predicted from the HMF is 1.001187e-30 g/cm3\n",
      "The cosmic comoving density is 2.687849e-30 g / cm3\n"
     ]
    }
   ],
   "source": [
    "# check: does the mass function match the cosmic mean density?\n",
    "rho_hmf = trapezoid(dndlnM*cosmo.h**3, mass_range/cosmo.h) # [M_sun/Mpc^3]\n",
    "rho_hmf *= (solar_mass * 1e3) / (1e2 * Mpc)**3 # [g/cm3]\n",
    "rho_m = cosmo.Om0 * cosmo.critical_density(0) # [g/cm3]\n",
    "print(\"The comoving density predicted from the HMF is {:e} g/cm3\".format(rho_hmf))\n",
    "print(\"The cosmic comoving density is {:e}\".format(rho_m))"
   ]
  },
  {
   "cell_type": "markdown",
   "metadata": {},
   "source": [
    "### Relevant region of space to be considered\n",
    "\n",
    "We start with a region of space that is a comoving cylinder with length $\\chi_{\\rm s}$ (comoving distance between the observer and the source) and radius $R_0$, which we fix in such a way that a point lens with mass $M$ at a comoving distance $R_0$ from the optical axis would produce a shear of magnitude $\\varepsilon$ if it lay half-way ($\\chi_{1/2}=\\chi_{\\rm s}/2$) between the observer and the source. This implies\n",
    "$$\n",
    "R_0\n",
    "= \\frac{r_{\\rm E}}{\\sqrt{\\varepsilon}}\n",
    "= \\sqrt{\\frac{GM\\chi_{\\rm s}}{c^2(1+z_{1/2})\\varepsilon}}\n",
    "$$"
   ]
  },
  {
   "cell_type": "code",
   "execution_count": 10,
   "metadata": {},
   "outputs": [
    {
     "name": "stdout",
     "output_type": "stream",
     "text": [
      "The comoving radius R0 of the region is 3.675 Mpc\n"
     ]
    }
   ],
   "source": [
    "# compute R_0\n",
    "M = 1e12 * solar_mass # [kg] \n",
    "eps = 1e-6\n",
    "chis = dC(z_source) * 1e6 * parsec # [m]\n",
    "z12 = z_at_value(cosmo.comoving_distance, cosmo.comoving_distance(z_source)/2)\n",
    "R_0_m = np.sqrt(G_Newton * M * chis / clight**2 / (1 + z12) / eps) # [m]\n",
    "R_0 = R_0_m / (1e6 * parsec) # [Mpc]\n",
    "\n",
    "print('The comoving radius R0 of the region is {:.3f} Mpc'.format(R_0))"
   ]
  },
  {
   "cell_type": "code",
   "execution_count": 11,
   "metadata": {},
   "outputs": [
    {
     "name": "stdout",
     "output_type": "stream",
     "text": [
      "Number density of haloes: 5.60 Mpc^-3\n",
      "Comoving volume of the cylinder: 1.90e+05 Mpc^3\n",
      "Number of haloes in cylinder: 1.06e+06.\n"
     ]
    }
   ],
   "source": [
    "n_c = trapezoid(dndlnM/mass_range, x=mass_range) # [h^3/Mpc^3]\n",
    "n_c *= (cosmo.h)**3 # [Mpc^-3]\n",
    "V = np.pi * (R_0**2.) * dc_source\n",
    "cylinder_halo_number = int(n_c * V)\n",
    "\n",
    "print('Number density of haloes: {:.2f} Mpc^-3'.format(n_c))\n",
    "print('Comoving volume of the cylinder: {:.2e} Mpc^3'.format(V))\n",
    "print('Number of haloes in cylinder: {:.2e}.'.format(cylinder_halo_number))"
   ]
  },
  {
   "cell_type": "markdown",
   "metadata": {},
   "source": [
    "### Create halo dataframe <a name=\"distance\"></a>"
   ]
  },
  {
   "cell_type": "code",
   "execution_count": 12,
   "metadata": {},
   "outputs": [],
   "source": [
    "# create dataframe for halo parameters\n",
    "# d is the comoving distance along the LOS to the halo [Mpc]\n",
    "# z is the redshift to that distance\n",
    "# r is the physical distance from the LOS [Mpc]\n",
    "# x_phys and y_phys are the physical coordinates of the halo on the plane orthogonal to the LOS [Mpc]\n",
    "# center_x and center_y are the coordinates of the halo in arcsec, passed to lenstronomy in kwargs_nfw [arcsec]\n",
    "# mass is the mass of the halo [MSun]\n",
    "\n",
    "haloes_dataframe = pd.DataFrame(columns = ['d', 'z', 'r', 'x_com', 'y_com','center_x', 'center_y', 'mass'])"
   ]
  },
  {
   "cell_type": "markdown",
   "metadata": {},
   "source": [
    "### Create distances"
   ]
  },
  {
   "cell_type": "code",
   "execution_count": 13,
   "metadata": {},
   "outputs": [],
   "source": [
    "halo_distance_list = np.random.uniform(d_observer, dc_source, cylinder_halo_number)\n",
    "haloes_dataframe['d'] = halo_distance_list"
   ]
  },
  {
   "cell_type": "markdown",
   "metadata": {},
   "source": [
    "### Convert to redshifts"
   ]
  },
  {
   "cell_type": "code",
   "execution_count": 14,
   "metadata": {},
   "outputs": [],
   "source": [
    "z_grid   = np.linspace(z_observer, z_source, 101)\n",
    "chi_grid = dC(z_grid)\n",
    "z_of_chi   = interp1d(chi_grid, z_grid)\n",
    "\n",
    "halo_redshift_list = z_of_chi(halo_distance_list)\n",
    "haloes_dataframe['z'] = halo_redshift_list"
   ]
  },
  {
   "cell_type": "markdown",
   "metadata": {},
   "source": [
    "### Halo transverse distances\n",
    "Draw physical distance of each halo from LOS randomly on a disk."
   ]
  },
  {
   "cell_type": "code",
   "execution_count": 15,
   "metadata": {},
   "outputs": [
    {
     "data": {
      "application/vnd.jupyter.widget-view+json": {
<<<<<<< HEAD
       "model_id": "4bffff34f75c4dd3aa9286915c9da8aa",
=======
       "model_id": "da5ad58c816e46ae98036df0f71d07d9",
>>>>>>> 084caaa26d6c5b10bb6237f13ba94a81bb64ccd7
       "version_major": 2,
       "version_minor": 0
      },
      "text/plain": [
<<<<<<< HEAD
       "  0%|          | 0/10642242 [00:00<?, ?it/s]"
=======
       "  0%|          | 0/1064305 [00:00<?, ?it/s]"
>>>>>>> 084caaa26d6c5b10bb6237f13ba94a81bb64ccd7
      ]
     },
     "metadata": {},
     "output_type": "display_data"
    },
    {
     "data": {
      "application/vnd.jupyter.widget-view+json": {
<<<<<<< HEAD
       "model_id": "ab5953a85f85403dbb9f8699b208f751",
=======
       "model_id": "fc820c8a4f8741cda28848aeccb6ed98",
>>>>>>> 084caaa26d6c5b10bb6237f13ba94a81bb64ccd7
       "version_major": 2,
       "version_minor": 0
      },
      "text/plain": [
<<<<<<< HEAD
       "  0%|          | 0/10642242 [00:00<?, ?it/s]"
=======
       "  0%|          | 0/1064305 [00:00<?, ?it/s]"
>>>>>>> 084caaa26d6c5b10bb6237f13ba94a81bb64ccd7
      ]
     },
     "metadata": {},
     "output_type": "display_data"
    }
   ],
   "source": [
    "r_sq = np.random.uniform(0.0, R_0**2., cylinder_halo_number)\n",
    "r_com = np.sqrt(r_sq)\n",
    "\n",
    "theta = np.random.uniform(0.0, 2.0*np.pi, cylinder_halo_number)\n",
    "\n",
    "x_com = r_com*np.cos(theta)\n",
    "y_com = r_com*np.sin(theta)\n",
    "\n",
    "haloes_dataframe['r'] = r_com\n",
    "\n",
    "haloes_dataframe['x_com'] = x_com\n",
    "haloes_dataframe['y_com'] = y_com\n",
    "\n",
    "haloes_dataframe['center_x'] = tqdm(angle_conversion(haloes_dataframe['x_com']/haloes_dataframe['d'], 'to arcsecs'))\n",
    "haloes_dataframe['center_y'] = tqdm(angle_conversion(haloes_dataframe['y_com']/haloes_dataframe['d'], 'to arcsecs'))"
   ]
  },
  {
   "cell_type": "markdown",
   "metadata": {},
   "source": [
    "### Get the lenstronomy `NFW` parameters <a name=\"lenstronomy\"></a>"
   ]
  },
  {
   "cell_type": "markdown",
   "metadata": {},
   "source": [
    "#### Mass"
   ]
  },
  {
   "cell_type": "code",
   "execution_count": 16,
   "metadata": {},
   "outputs": [
    {
     "name": "stdout",
     "output_type": "stream",
     "text": [
      "The most massive halo we have has M = 1.484e+13 M_sun\n"
     ]
    }
   ],
   "source": [
    "# draw halo masses from the original mass range, weighted by the HMF\n",
    "halo_mass_inverse_h = r.choices(mass_range, dndlnM, k=cylinder_halo_number) # [MSun/h]\n",
    "halo_mass = np.array(halo_mass_inverse_h)\n",
    "\n",
    "# convert to units of MSun\n",
    "halo_mass /= cosmo.h # [MSun]\n",
    "print(\"The most massive halo we have has M = {:.3e} M_sun\".format(max(halo_mass)))\n",
    "\n",
    "# save to dataframe\n",
    "haloes_dataframe['mass'] = halo_mass # [MSun]"
   ]
  },
  {
   "cell_type": "code",
   "execution_count": 17,
<<<<<<< HEAD
   "id": "acoustic-beverage",
=======
>>>>>>> 084caaa26d6c5b10bb6237f13ba94a81bb64ccd7
   "metadata": {},
   "outputs": [
    {
     "name": "stdout",
     "output_type": "stream",
     "text": [
<<<<<<< HEAD
      "The mean comoving density in the cylinder is 9.917512e-31 g/cm3\n",
      "The comoving density predicted from the HMF is 1.001187e-30 g/cm3\n",
=======
      "The mean comoving density in the cylinder is 1.232911e-30 g/cm3\n",
      "The comoving density predicted from the HMF is 1.255416e-30 g/cm3\n",
>>>>>>> 084caaa26d6c5b10bb6237f13ba94a81bb64ccd7
      "The cosmic comoving density is 2.687849e-30 g / cm3\n"
     ]
    }
   ],
   "source": [
    "# check that the comoving density matches the cosmic comoving density\n",
    "M_tot = halo_mass.sum()\n",
    "rho_sample = M_tot / V # [solar masses per Mpc^3]\n",
    "rho_sample *= (solar_mass * 1e3) / (1e2 * Mpc)**3 # [g/cm3]\n",
    "rho_m = cosmo.Om0 * cosmo.critical_density(0) # [g/cm3]\n",
    "print(\"The mean comoving density in the cylinder is {:e} g/cm3\".format(rho_sample))\n",
    "print(\"The comoving density predicted from the HMF is {:e} g/cm3\".format(rho_hmf))\n",
    "print(\"The cosmic comoving density is {:e}\".format(rho_m))"
   ]
  },
  {
   "cell_type": "markdown",
   "metadata": {},
   "source": [
    "#### Concentration"
   ]
  },
  {
   "cell_type": "code",
   "execution_count": 18,
   "metadata": {},
   "outputs": [],
   "source": [
    "# use colossus to get the halo concentration\n",
    "# concentration parameter is the ratio of the virial radius to the scale radius\n",
    "# we use the same redshift as for the HMF so that the masses and concentrations are consistent\n",
    "\n",
    "concentration_model = 'diemer15'\n",
    "\n",
    "halo_concentration_inverse_h = concentration.concentration(M = np.array(halo_mass_inverse_h), \n",
    "                                                            mdef = mdef, \n",
    "                                                            z = z_hmf,  \n",
    "                                                            model = concentration_model)\n",
    "\n",
    "# convert to units of MSun\n",
    "halo_concentration = list(np.array(halo_concentration_inverse_h) * cosmo.h) # [MSun]\n",
    "\n",
    "# add to dataframe\n",
    "haloes_dataframe['concentration'] = halo_concentration # [MSun]"
   ]
  },
  {
   "cell_type": "markdown",
   "metadata": {},
   "source": [
    "#### Remove all haloes whose shear is below a certain threshold\n",
    "For the sake of speed, we use the point lens approximation to compute the shear for this step, as it is faster than calling the `lenstronomy` function on each individual halo in a population this size."
   ]
  },
  {
   "cell_type": "code",
   "execution_count": 19,
   "metadata": {},
   "outputs": [],
   "source": [
    "def comoving_rE2(M, z, chi, chi_s):\n",
    "    \"\"\"\n",
    "    Computes the comoving squared Einstein radius of a point lens in Mpc^2,\n",
    "    M: mass of the lens in solar masses\n",
    "    z: redshift of the lens\n",
    "    chi: comoving distance to the observer in Mpc\n",
    "    chis: comoving distance to the source in Mpc\n",
    "    \"\"\"\n",
    "    \n",
    "    mass_array = np.array(M)\n",
    "    chi_array = np.array(chi)\n",
    "    \n",
    "    # convert in SI\n",
    "    mass_array *= solar_mass # [kg]\n",
    "    chi_array *= 1e6 * parsec\n",
    "    chi_s *= 1e6 * parsec\n",
    "    \n",
    "    # compute the squared Einstein radius\n",
    "    rE2 = 4*G_Newton*mass_array/clight**2.*(1 + np.array(z))*chi_array*(chi_s - chi_array)/chi_s # [m^2]\n",
    "    rE2 /= (1e6 * parsec)**2 # [Mpc^2]\n",
    "    \n",
    "    return rE2\n",
    "\n",
    "rE2 = comoving_rE2(halo_mass, halo_redshift_list, halo_distance_list, dc_source) #[Mpc^2]\n",
    "\n",
    "point_lens_gamma_list = rE2/r_sq\n",
    "\n",
    "haloes_dataframe['plg'] = point_lens_gamma_list"
   ]
  },
  {
   "cell_type": "code",
   "execution_count": 20,
   "metadata": {},
   "outputs": [
    {
     "name": "stdout",
     "output_type": "stream",
     "text": [
<<<<<<< HEAD
      "There are 10607729 haloes out of 10642242 with a shear less than 1e-06 (99.676%).\n",
      "You're left with 34513 haloes!\n"
=======
      "There are 1060855 haloes out of 1064305 with a shear less than 1e-05 (99.676%).\n",
      "You're left with 3450 haloes!\n"
>>>>>>> 084caaa26d6c5b10bb6237f13ba94a81bb64ccd7
     ]
    }
   ],
   "source": [
    "minimum_shear = eps\n",
    "\n",
    "small_gammas = [i for i in point_lens_gamma_list if i < minimum_shear]\n",
    "\n",
    "gamma_percent = (len(small_gammas)/cylinder_halo_number)*100\n",
    "\n",
    "print('There are {} haloes out of {} with a shear less than {} ({:.3f}%).'.format(len(small_gammas), cylinder_halo_number, minimum_shear, gamma_percent))\n",
    "print('You\\'re left with {} haloes!'.format(cylinder_halo_number-len(small_gammas)))"
   ]
  },
  {
   "cell_type": "code",
   "execution_count": 21,
   "metadata": {},
   "outputs": [],
   "source": [
    "shaped_haloes_dataframe = haloes_dataframe.loc[(haloes_dataframe['plg'] > minimum_shear)]\n",
    "shaped_halo_number = len(shaped_haloes_dataframe)"
   ]
  },
  {
   "cell_type": "code",
   "execution_count": 22,
   "metadata": {},
   "outputs": [],
   "source": [
    "# new quantities for iterating over\n",
    "shaped_halo_redshift_list = shaped_haloes_dataframe['z'].to_list()\n",
    "shaped_halo_mass          = shaped_haloes_dataframe['mass'].to_list()\n",
    "shaped_halo_concentration = shaped_haloes_dataframe['concentration'].to_list()"
   ]
  },
  {
   "cell_type": "markdown",
   "metadata": {},
   "source": [
    "# OS"
   ]
  },
  {
   "cell_type": "markdown",
   "metadata": {},
   "source": [
    "### Scale radius and deflection angle at scale radius\n",
    "These should be in units without little h."
   ]
  },
  {
   "cell_type": "code",
   "execution_count": 23,
   "metadata": {},
   "outputs": [
    {
     "data": {
      "application/vnd.jupyter.widget-view+json": {
<<<<<<< HEAD
       "model_id": "e13607f171e145b280a190967936214b",
=======
       "model_id": "d2c47495be2248ab99f552631403e0d7",
>>>>>>> 084caaa26d6c5b10bb6237f13ba94a81bb64ccd7
       "version_major": 2,
       "version_minor": 0
      },
      "text/plain": [
<<<<<<< HEAD
       "  0%|          | 0/34513 [00:00<?, ?it/s]"
=======
       "  0%|          | 0/3450 [00:00<?, ?it/s]"
>>>>>>> 084caaa26d6c5b10bb6237f13ba94a81bb64ccd7
      ]
     },
     "metadata": {},
     "output_type": "display_data"
    }
   ],
   "source": [
    "Rs_angle = []\n",
    "alpha_Rs_os = []\n",
    "\n",
    "for i in tqdm(range(shaped_halo_number)):\n",
    "    # get the quantities for each halo's redshift\n",
    "    lens_cosmo = LensCosmo(z_lens=shaped_halo_redshift_list[i],\n",
    "                           z_source=z_source,\n",
    "                           cosmo=cosmo)\n",
    "    \n",
    "    angles = lens_cosmo.nfw_physical2angle(M=shaped_halo_mass[i],\n",
    "                                           c=shaped_halo_concentration[i])\n",
    "    Rs_angle.append(float(angles[0]))\n",
    "    alpha_Rs_os.append(float(angles[1]))\n",
    "\n",
    "# add to the dataframe\n",
    "shaped_haloes_dataframe['Rs'] = Rs_angle # [arcsec]\n",
    "shaped_haloes_dataframe['alpha_Rs'] = alpha_Rs_os # [arcsec]"
   ]
  },
  {
   "cell_type": "markdown",
<<<<<<< HEAD
   "id": "patient-observation",
=======
>>>>>>> 084caaa26d6c5b10bb6237f13ba94a81bb64ccd7
   "metadata": {},
   "source": [
    "### Compute the convergence and shear of individual haloes at $x = y = 0$"
   ]
  },
  {
   "cell_type": "code",
   "execution_count": 24,
<<<<<<< HEAD
   "id": "confident-guitar",
=======
>>>>>>> 084caaa26d6c5b10bb6237f13ba94a81bb64ccd7
   "metadata": {},
   "outputs": [
    {
     "data": {
      "application/vnd.jupyter.widget-view+json": {
<<<<<<< HEAD
       "model_id": "ff59be471a2f44348f09f881af552b8e",
=======
       "model_id": "bf8e941f82d142aab40c3a89798c31e8",
>>>>>>> 084caaa26d6c5b10bb6237f13ba94a81bb64ccd7
       "version_major": 2,
       "version_minor": 0
      },
      "text/plain": [
<<<<<<< HEAD
       "  0%|          | 0/34513 [00:00<?, ?it/s]"
=======
       "  0%|          | 0/3450 [00:00<?, ?it/s]"
>>>>>>> 084caaa26d6c5b10bb6237f13ba94a81bb64ccd7
      ]
     },
     "metadata": {},
     "output_type": "display_data"
    }
   ],
   "source": [
    "# get the parameters needed for the lenstronomy kwargs and convert to a list of dictionaries\n",
    "kwargs_nfw = shaped_haloes_dataframe[['Rs', 'alpha_Rs', 'center_x', 'center_y']].to_dict('records')\n",
    "\n",
    "single_halo_lens_model = LensModel(lens_model_list=['NFW'], z_source=z_source)\n",
    "\n",
    "gamma1_ohs = []\n",
    "gamma2_ohs = []\n",
    "kappa_ohs  = []\n",
    "\n",
    "for i in tqdm(range(shaped_halo_number)):\n",
    "    single_gamma = single_halo_lens_model.gamma(x=0.0, y=0.0, kwargs=[kwargs_nfw[i]])\n",
    "    gamma1_ohs.append(float(single_gamma[0]))\n",
    "    gamma2_ohs.append(float(single_gamma[1]))\n",
    "    \n",
    "    single_kappa = single_halo_lens_model.kappa(x=0.0, y=0.0, kwargs=[kwargs_nfw[i]])\n",
    "    kappa_ohs.append(float(single_kappa))\n",
    "    \n",
    "shaped_haloes_dataframe['gamma1_ohs'] = gamma1_ohs\n",
    "shaped_haloes_dataframe['gamma2_ohs'] = gamma2_ohs \n",
    "shaped_haloes_dataframe['kappa_ohs']  = kappa_ohs"
   ]
  },
  {
   "cell_type": "markdown",
<<<<<<< HEAD
   "id": "russian-values",
=======
>>>>>>> 084caaa26d6c5b10bb6237f13ba94a81bb64ccd7
   "metadata": {},
   "source": [
    "### Compute the convergence and shear of individual haloes at $x=\\theta_{\\rm E}$ or $y=\\theta_{\\rm E}$"
   ]
  },
  {
   "cell_type": "code",
   "execution_count": 25,
<<<<<<< HEAD
   "id": "miniature-works",
=======
>>>>>>> 084caaa26d6c5b10bb6237f13ba94a81bb64ccd7
   "metadata": {},
   "outputs": [
    {
     "data": {
      "application/vnd.jupyter.widget-view+json": {
<<<<<<< HEAD
       "model_id": "c551b974ed6045b4b45df27132d613b9",
=======
       "model_id": "df4c5a093613480f8343c5bc2a27c23e",
>>>>>>> 084caaa26d6c5b10bb6237f13ba94a81bb64ccd7
       "version_major": 2,
       "version_minor": 0
      },
      "text/plain": [
<<<<<<< HEAD
       "  0%|          | 0/34513 [00:00<?, ?it/s]"
=======
       "  0%|          | 0/3450 [00:00<?, ?it/s]"
>>>>>>> 084caaa26d6c5b10bb6237f13ba94a81bb64ccd7
      ]
     },
     "metadata": {},
     "output_type": "display_data"
    }
   ],
   "source": [
    "gamma1_thetaE_x = []\n",
    "gamma2_thetaE_x = []\n",
    "\n",
    "gamma1_thetaE_y = []\n",
    "gamma2_thetaE_y = []\n",
    "\n",
    "for i in tqdm(range(shaped_halo_number)):\n",
    "    gamma_thetaE_x = single_halo_lens_model.gamma(x = theta_E, y = 0.0, kwargs = [kwargs_nfw[i]])\n",
    "    gamma1_thetaE_x.append(float(gamma_thetaE_x[0]))\n",
    "    gamma2_thetaE_x.append(float(gamma_thetaE_x[1]))\n",
    "    gamma_thetaE_y = single_halo_lens_model.gamma(x = 0.0, y = theta_E, kwargs = [kwargs_nfw[i]])\n",
    "    gamma1_thetaE_y.append(float(gamma_thetaE_y[0]))\n",
    "    gamma2_thetaE_y.append(float(gamma_thetaE_y[1]))"
   ]
  },
  {
   "cell_type": "markdown",
<<<<<<< HEAD
   "id": "boring-pride",
=======
>>>>>>> 084caaa26d6c5b10bb6237f13ba94a81bb64ccd7
   "metadata": {},
   "source": [
    "### Negative convergence for compensation\n",
    "Since we are adding mass to the Universe by adding haloes, we must compensate it by adding negative mass in order to compensate. In principle we should respect the mean density of the Universe, but here since the haloes are not uniformly distributed due to the shear cut, we decide instead to add a mass sheet with convergence corresponding to the convergence of each halo on the LOS. This is not physically very consistent, but it should work."
   ]
  },
  {
   "cell_type": "code",
   "execution_count": 26,
<<<<<<< HEAD
   "id": "sophisticated-administrator",
=======
>>>>>>> 084caaa26d6c5b10bb6237f13ba94a81bb64ccd7
   "metadata": {},
   "outputs": [],
   "source": [
    "kappa_neg = [-k for k in kappa_ohs]\n",
    "shaped_haloes_dataframe['kappa_neg'] = kappa_neg"
   ]
  },
  {
   "cell_type": "markdown",
<<<<<<< HEAD
   "id": "quarterly-housing",
=======
>>>>>>> 084caaa26d6c5b10bb6237f13ba94a81bb64ccd7
   "metadata": {},
   "source": [
    "### Compute the total (os) displacement, convergence and shear"
   ]
  },
  {
   "cell_type": "code",
   "execution_count": 27,
<<<<<<< HEAD
   "id": "flexible-cholesterol",
=======
>>>>>>> 084caaa26d6c5b10bb6237f13ba94a81bb64ccd7
   "metadata": {},
   "outputs": [],
   "source": [
    "# Define the (os) setup without the main lens\n",
    "\n",
    "lens_model_list = ['NFW'] * shaped_halo_number + ['CONVERGENCE'] * shaped_halo_number\n",
    "lens_redshift_list = 2 * shaped_haloes_dataframe['z'].to_list()\n",
    "kwargs_neg = [{'kappa': k} for k in shaped_haloes_dataframe['kappa_neg']]\n",
    "kwargs_lens = kwargs_nfw + kwargs_neg\n",
    "\n",
    "mp_os_lens_model = LensModel(lens_model_list = lens_model_list, \n",
    "                             z_source=z_source,\n",
    "                             lens_redshift_list=lens_redshift_list,\n",
    "                             multi_plane=True)"
   ]
  },
  {
   "cell_type": "code",
   "execution_count": 28,
<<<<<<< HEAD
   "id": "static-motel",
=======
>>>>>>> 084caaa26d6c5b10bb6237f13ba94a81bb64ccd7
   "metadata": {},
   "outputs": [
    {
     "name": "stdout",
     "output_type": "stream",
     "text": [
      "The total expected (os) displacement is\n",
<<<<<<< HEAD
      "alpha1_os = 2.64 arcsec\n",
      "alpha2_os = 2.71 arcsec\n",
      "\n",
      "The total expected (os) convergence and shear are\n",
      "kappa_os = 0.023\n",
      "gamma1_os = -0.000\n",
      "gamma2_os = -0.002\n"
=======
      "alpha1_os = 7.65 arcsec\n",
      "alpha2_os = -4.46 arcsec\n",
      "\n",
      "The total expected (os) convergence and shear are\n",
      "kappa_os = 0.019\n",
      "gamma1_os = -0.003\n",
      "gamma2_os = 0.068\n"
>>>>>>> 084caaa26d6c5b10bb6237f13ba94a81bb64ccd7
     ]
    }
   ],
   "source": [
    "# Compute the (os) displacement\n",
    "alpha1_os, alpha2_os = mp_os_lens_model.alpha(x=0.0, y=0.0, kwargs=kwargs_lens)\n",
    "print(\n",
    "\"The total expected (os) displacement is\\n\\\n",
    "alpha1_os = {:.2f} arcsec\\n\\\n",
    "alpha2_os = {:.2f} arcsec\\n\".format(alpha1_os, alpha2_os))\n",
    "\n",
    "# Compute the total (os) convergence and shear\n",
    "kappa_os = mp_os_lens_model.kappa(x=0.0, y=0.0, kwargs=kwargs_lens)\n",
    "gamma1_os, gamma2_os = mp_os_lens_model.gamma(x=0.0, y=0.0, kwargs=kwargs_lens)\n",
    "print(\n",
    "\"The total expected (os) convergence and shear are\\n\\\n",
    "kappa_os = {:.3f}\\n\\\n",
    "gamma1_os = {:.3f}\\n\\\n",
    "gamma2_os = {:.3f}\".format(kappa_os, gamma1_os, gamma2_os))"
   ]
  },
  {
   "cell_type": "code",
   "execution_count": 29,
<<<<<<< HEAD
   "id": "executed-scene",
=======
>>>>>>> 084caaa26d6c5b10bb6237f13ba94a81bb64ccd7
   "metadata": {},
   "outputs": [
    {
     "name": "stdout",
     "output_type": "stream",
     "text": [
      "The (os) shear obtained by summing the individual halo (os) shears is:\n",
<<<<<<< HEAD
      "gamma1_os_sum = 0.013\n",
      "gamma2_os_sum = 0.016\n"
=======
      "gamma1_os_sum = -0.021\n",
      "gamma2_os_sum = 0.042\n"
>>>>>>> 084caaa26d6c5b10bb6237f13ba94a81bb64ccd7
     ]
    }
   ],
   "source": [
    "# Compare with the shear obtained from the sum of individual shears\n",
    "\n",
    "gamma1_os_sum = sum(gamma1_ohs)\n",
    "gamma2_os_sum = sum(gamma2_ohs)\n",
    "print(\"The (os) shear obtained by summing the individual halo (os) shears is:\\n\\\n",
    "gamma1_os_sum = {:.3f}\\n\\\n",
    "gamma2_os_sum = {:.3f}\".format(gamma1_os_sum, gamma2_os_sum))"
   ]
  },
  {
   "cell_type": "markdown",
   "metadata": {},
   "source": [
    "### Histogram of the shear components"
   ]
  },
  {
   "cell_type": "code",
   "execution_count": 30,
   "metadata": {},
   "outputs": [
    {
     "data": {
<<<<<<< HEAD
      "image/png": "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\n",
=======
      "image/png": "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\n",
>>>>>>> 084caaa26d6c5b10bb6237f13ba94a81bb64ccd7
      "text/plain": [
       "<Figure size 864x432 with 2 Axes>"
      ]
     },
     "metadata": {},
     "output_type": "display_data"
    }
   ],
   "source": [
    "fig, ax = plt.subplots(1, 2, figsize=(12, 6), sharex=False, sharey=False)\n",
    "fig.tight_layout()\n",
    "\n",
    "for a, g, c in zip(ax, [gamma1_ohs, gamma2_ohs], [green[0], purple[0]]):\n",
    "    a.hist(g, bins = 20, color = c)\n",
    "    a.set_yscale('log')\n",
    "    a.set_xlabel('$\\gamma_{}$'.format([gamma1_ohs, gamma2_ohs].index(g)+1), fontsize=20)\n",
    "    a.set_ylabel('Count', fontsize=20)\n",
    "plt.savefig(outpath + job_name + '_gamma_os_histogram.pdf', dpi=300, bbox_inches='tight', transparent=True)\n",
    "plt.show()"
   ]
  },
  {
   "cell_type": "markdown",
   "metadata": {},
   "source": [
    "### Histogram of the convergence"
   ]
  },
  {
   "cell_type": "code",
   "execution_count": 31,
   "metadata": {},
   "outputs": [
    {
     "data": {
<<<<<<< HEAD
      "image/png": "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\n",
=======
      "image/png": "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\n",
>>>>>>> 084caaa26d6c5b10bb6237f13ba94a81bb64ccd7
      "text/plain": [
       "<Figure size 576x432 with 1 Axes>"
      ]
     },
     "metadata": {},
     "output_type": "display_data"
    }
   ],
   "source": [
    "bins = [1e-9, 1e-8, 1e-7, 1e-6, 1e-5, 1e-4, 1e-3, 1e-2, 1e-1, 1e0, 1e1]\n",
    "\n",
    "fig, ax = plt.subplots(1, 1, figsize=(8, 6))\n",
    "\n",
    "plt.hist(kappa_ohs, bins = bins, color = analogous[0])\n",
    "plt.xscale('log')\n",
    "plt.yscale('log')\n",
    "plt.xticks(fontsize = 20)\n",
    "plt.yticks(fontsize = 20)\n",
    "plt.xlabel('$\\kappa$', fontsize = 20)\n",
    "plt.ylabel('Count', fontsize = 20)\n",
    "plt.savefig(outpath + job_name + '_kappa_os_histogram.pdf', dpi=300, bbox_inches='tight', transparent=True)\n",
    "plt.show()"
   ]
  },
  {
   "cell_type": "markdown",
   "metadata": {},
   "source": [
    "### Safety net: remove haloes based on convergence\n",
    "We check the convergence of each halo; if $\\kappa > 1$, the halo is acting as a strong lens rather than a perturber and should be removed from the population. To be doubly sure we are getting rid of all the problematic haloes, we remove all with $\\kappa > 0.5$."
   ]
  },
  {
   "cell_type": "code",
   "execution_count": 32,
   "metadata": {},
   "outputs": [
    {
     "name": "stdout",
     "output_type": "stream",
     "text": [
<<<<<<< HEAD
      "There are 0 haloes out of 34513 with a convergence greater than 0.5 (0.0%).\n"
=======
      "There are 0 haloes out of 3450 with a convergence greater than 0.5 (0.0%).\n"
>>>>>>> 084caaa26d6c5b10bb6237f13ba94a81bb64ccd7
     ]
    }
   ],
   "source": [
    "maximum_convergence = 0.5\n",
    "\n",
    "bad_kappas = [i for i in kappa_ohs if i > maximum_convergence]\n",
    "\n",
    "kappa_percent = (len(bad_kappas)/shaped_halo_number)*100\n",
    "\n",
    "print('There are {} haloes out of {} with a convergence greater than {} ({:.1f}%).'.format(len(bad_kappas), shaped_halo_number, maximum_convergence, kappa_percent))"
   ]
  },
  {
   "cell_type": "markdown",
   "metadata": {},
   "source": [
    "### Safety net II: remove haloes based on shear gradient"
   ]
  },
  {
   "cell_type": "code",
   "execution_count": 33,
   "metadata": {},
   "outputs": [],
   "source": [
    "def shear_gradient(g1_Ex, g2_Ex, g1_Ey, g2_Ey, g1, g2):\n",
    "    Del_x_1  = g1_Ex - g1\n",
    "    Del_x_2  = g2_Ex - g2\n",
    "    Del_x_sq = (Del_x_1)**2. + (Del_x_2)**2.\n",
    "    Del_y_1  = g1_Ey - g1\n",
    "    Del_y_2  = g2_Ey - g2\n",
    "    Del_y_sq = (Del_y_1)**2. + (Del_y_2)**2.\n",
    "    Del      = np.sqrt((Del_x_sq + Del_y_sq)/(g1**2. + g2**2.))\n",
    "    return Del"
   ]
  },
  {
   "cell_type": "code",
   "execution_count": 34,
   "metadata": {},
   "outputs": [
    {
     "data": {
      "application/vnd.jupyter.widget-view+json": {
<<<<<<< HEAD
       "model_id": "29f8d81d12284baa9aead0e848c202bd",
=======
       "model_id": "7d69f0a3356f42e888b64ebdd36e6ac1",
>>>>>>> 084caaa26d6c5b10bb6237f13ba94a81bb64ccd7
       "version_major": 2,
       "version_minor": 0
      },
      "text/plain": [
<<<<<<< HEAD
       "  0%|          | 0/34513 [00:00<?, ?it/s]"
=======
       "  0%|          | 0/3450 [00:00<?, ?it/s]"
>>>>>>> 084caaa26d6c5b10bb6237f13ba94a81bb64ccd7
      ]
     },
     "metadata": {},
     "output_type": "display_data"
    }
   ],
   "source": [
    "Del = []\n",
    "\n",
    "for i in tqdm(range(shaped_halo_number)):\n",
    "    Del.append(shear_gradient(gamma1_thetaE_x[i],\n",
    "                              gamma2_thetaE_x[i],\n",
    "                              gamma1_thetaE_y[i],\n",
    "                              gamma2_thetaE_y[i],\n",
    "                              gamma1_ohs[i],\n",
    "                              gamma2_ohs[i]))\n",
    "    \n",
    "shaped_haloes_dataframe['Del'] = Del"
   ]
  },
  {
   "cell_type": "code",
   "execution_count": 35,
   "metadata": {},
   "outputs": [
    {
     "data": {
<<<<<<< HEAD
      "image/png": "iVBORw0KGgoAAAANSUhEUgAAAgIAAAGCCAYAAACSHauJAAAAOXRFWHRTb2Z0d2FyZQBNYXRwbG90bGliIHZlcnNpb24zLjUuMiwgaHR0cHM6Ly9tYXRwbG90bGliLm9yZy8qNh9FAAAACXBIWXMAAAsTAAALEwEAmpwYAAAWPElEQVR4nO3dwXMc130n8K9EXZFFmM1FqkIsWqV3TUFU+R5TKV144ZJybrpE4B+wW4K5f8AylPMHhHQuOnrJ+MKLUoL8D6xM++LDq1Kg+JyYQeIzhT1MQ5wZAhhgMDPdg/f5VKkAdPc0fuJjc77z3uvXrx0eHgYAaNPrfRcAAPRHEACAhgkCANAwQQAAGiYIAEDD3ui7gD786Ec/Onzrrbf6LgMAVuJ3v/vdv9da//y4fU0Ggbfeeiu//OUv+y4DAFailPL7k/YZGgCAhgkCANAwQQAAGiYIAEDDmposWEq5meTm1tZW36UAwCA01SNQa31aa93Z2NjouxQAGISmggAAMEkQAICGCQIA0DBBAAAaJggAQMMEAQBomCAAAA0TBLi0vnvxou8SmKJNYHiaWlmQtrx+5Uq++eLzvstgzDsfftx3CcAUPQIA0DBBAAAaJggAQMMEAQBomCAAAA0TBACgYYIAADRMEFgAi6QAsK4sKLQAFq4ZJovXAMymRwAAGiYIAEDDLk0QKKU87LsGAFg3lyIIlFK2k+z0XQcArJtLEQSSXEty0HcRALBu1j4IlFJu11qf9F0HAKyj3m8fLKU8TnK/1vrsmH3bSa4n2U+ymeSg1ro3tv9atw8AmEMvQaB7A9/NqDv/RpJXJvp1x9yrtd4Z2/a4lPJ8LDRs6w0AgPn1EgRqrftJ7iajrv0TDtvNqwHhfpIHST4opdxIsvfKqwCAM+t9aOAUH2X0pj9uP6MehO+PKaUcfb9ZStlJstcFDQBghkEGgW5YYHP6Db3WelBKSSlle3yuQPeah7XWRystFADW3CCDQEYTA09z9eibUspmujUESikPkjw8rkeg6y3YSZI333xzUXUCwFobahA4s1rrQZLPuv9OO+5RkkdJcuvWrcPlVwYAw7f26wgAAPMbahA4SL7v9j/O85VVAgCX2CCDQDfGf5CxuQDJy2Bw3OJDAMD5DXmOwF6S7UyuHHg9F1g7oJRyM8nNra2tC5YGAJfDIHsEOrtJ7k1tu9ttn0ut9WmtdWdjY+NChQHAZdHXEsObGb3Jb2b05MAHpZS9JF8erQ9Qa90vpeyWUj7NqFfgWka3BhoWAIAF6WuJ4YO8/GR/95Tj9mIZYQBYmiEPDQAASzbkyYILZ7IgAExqqkfAZEEAmNRUEAAAJgkCANAwQQAAGiYIAEDD3DUAAA1rqkfAXQMAMKmpIAAATBIEAKBhggAANEwQAICGCQIA0DC3DwJAw5rqEXD7IABMaioIAACTBAEAaJggAAANEwQAoGGCAAA0TBAAgIZZRwAAGtZUj4B1BABgUlNBAACYJAgAQMMEAQBomCAAAA0TBACgYYIAADRMEACAhgkCANAwKwsCQMOa6hGwsiAATGoqCAAAkwQBAGiYIAAADRMEAKBhggAANEwQAICGCQIA0DBBAAAaJggAQMMEAQBomCAAAA3z0CFgZb578SKvX7nS3O+GIWsqCNRanyZ5euvWrU/6rgVa9PqVK/nmi897+d3vfPhxL78Xhs7QAAA0TBAAgIYJAgDQMEEAABomCABAwwQBAGiYIAAADRMEAKBhggAANEwQAICGCQIA0DBBAAAaJggAQMMEAQBomCAAAA0TBACgYYIAADTsjb4LWKVSys0kN7e2tvouBQAGoakegVrr01rrzsbGRt+lAMAgNBUEAIBJggAANEwQAICGCQIA0DBBAAAaJggAQMMEAQBomCAAAA0TBACgYYIAADRMEACAhgkCANAwQQAAGiYIAEDDBAEAaJggAAANEwQAoGGCAAA0TBAAgIYJAgDQsDf6LuAiSik3um83k7yf5Be11mf9VQQA62XdewQeJ/m61vokyf9L8vOe6wGAtbLuQeC9WutB9/3VJM97rAUA1s5aB4Fa6/7Yj3eSPOirFgBYR73PESilPE5y/7ix/VLKdpLrSfYzmgdwUGvdmzrmWpLbSR5P7wMATtdLEOjevHeTHCS5keThCcfcq7XeGdv2uJTyfDw01Fr3SymPkjwopdzu5gsAAGfQy9BArXW/1nq31rqbk8f1d/NqQLifY7r/u3kCj5M8LqVsLrBUALjUhjxH4KOMhgTG7WfUg5BSyo1Syq/H9n3dfb26gtoA4FJYSBAopfzJIs4zdr5rSTanJgMeffI/mjvwPMkvxnZfT7I//RoA4GTnniNQSvnbWus/Tm3+YffmfZjRm/FvL1jX5oz9V2ute6WUa6WUnW7be0k+OOkF3XE7SfLmm29esDwAuBzmmSz4zvSGWutvkvwmSUopt5L89mJlnc15JgbWWh8leZQkt27dOlxaUQCwRuYZGjjxTbSU8oOMlvoFGJTvXrwY1HlgKGb2CJRS3s7oPv0Pkvy42/bpMYe+luRfMlrY56IOut+zObZy4DgrCALn8vqVK/nmi88vfJ53Pvx4AdXAcMwMArXWb5P8LMnPSim3k1yvtf50mUV1awMcZHQHwMHR9qNbAz1YCAAW41xDA2MP91mFvSTbU9uud9vnUkq5WUp59Mc//vFChQHAZXHuOQK11n86bX8p5a/mL2fCbpJ7U9vudtvnUmt9Wmvd2djYuFBhAHBZzL3EcCnlL0/YtZvkVzNeu5nRm/xmkmsZLQ+8l+TLo+cFdMMDu918hP3uuIeGBQBgceZZR+B/ZLSc779kNEFw2tuzztFNADz6ZH/3lOP2coGhAADgdPP0CLxfaz1xSKGU8ncXqAcAWKF5gsCsyYL35ylkFUopN5Pc3Nra6rsUABiEZTx0aObQQF9MFgSASfP0CHzZLSO8n9FzBf7raEf38KF7SX6yoPoAgCWaJwgcjP9QShlfcvi1nLIEMQAwLPMEgb1a61+ftLOU8g8XqAcAWKF55gjMWtDnwTyFAACrd+4ege6Rw6d5O8m385WzXO4aAIBJ8ywo9JczDnmQgT6KuNb6NMnTW7dufdJ3LQAwBPPMEfhVkj/k1VUFr2W02uDBBWsCAFZk3smCHx23o5Ty4yTPL1YSALAq80wWPLFbvdb6VQa8oBAAMGmexxD/5zIKAQBWb6FLDHcTCT9Y5DkBgOWZ566B73Ly6oHPcsrQQd/cPggAkxa+suCQuX0QACYtY2VBAGBNzL2yYPekwRsZrR+wn1FPwX+d9loAYFjmmixYSvkkyb8m+d9J/qb7+h+llP+5uNIAgGWbZ7Lgj5Ns1lqvTm3fTPLTUsqtWusvF1QfALBE8/QIvF1r/dn0xlrrQa31p0n+7OJlAQCrME8QmLWE8B/mKQQAWL15bh+8OmP/tXkKWQXrCADApHl6BL4tpdwvpWyMbyyl/Ekp5X5GiwoNUq31aa11Z2NjY/bBANCAeW4f/KqU8qdJfl9K+UNGjx3ezKinYLfW+quFVggALM08QwOptT5J8qS7g+BoHYGvPZAIANbLqUGge6Offq7A10cLB3W9A8+PFhkCANbLrDkCz5P8NMmXSe5ktH7A9OqBB6WUT0opf7uMAgGA5Tm1R6DW+ptSyuMkd2ut355wzLdJfp4kpZT/VWv9+8WXCQAsw6k9AqWUW0m+PCkEHOPnegYAYH3MGhp4v9b6r2c9mcmCALBe5nro0Aw/XMI5AYAlmHX74DyrBG7O8ZqVsLIgAEya1SPwWinlB2c9WSnl7Qz4oUNWFgSASbOCwN8leXiO8/1Dkv8zfzkAwCqdGgRqrc+SfFVK+edSyl+cdFwp5QellH9Osldr/e2CawQAlmTmEsO11s9KKcnoYUO/TrKXl48a/rMkN5JsZ/ScAWsIAMAaOdOzBrow8CTJgyR383JC4EFGweCjc6w1AAAMxJkfOlRr3c9omWEA4JJYxjoCAMCaEAQAoGGCAMA5fPfixVKPh1U78xwBAJLXr1zJN198fubj3/nw4yVWAxenRwAAGiYIAEDDmhoa8NAhAJjUVI+Ahw4BwKSmggAAMEkQAICGCQIA0DBBAAAaJggAQMMEAQBomCAAAA0TBACgYYIAADRMEACAhgkCANAwQQAAGiYIAEDDBAEAaJggAAANEwQAoGGCAAA07I2+C1ilUsrNJDe3trb6LgUABqGpHoFa69Na687GxkbfpQDAIDQVBACASYIAADRMEACAhgkCANAwQQBgib578WKhx8GiNXX7IMCqvX7lSr754vOZx73z4ccrqAZepUcAABomCABAwwQBAGiYIAAADRMEAKBhggAANEwQAICGCQIA0DBBAAAaJggAQMMEAQBomCAAAA0TBACgYYIAADRsrR9DXErZTnKj+/H9JJ/UWg/6qwgA1svaBoFSymaS67XWz7qfbyf5Ksl7fdYFAOtknYcGrifZHft5L8l2FxAAgDNY2yBQa91Lcmds07Vu+0EvBQHAGup9aKCU8jjJ/Vrrs2P2bWf0yX8/yWaSgy4AJEmmXvOTJJ8tt1oAuFx6CQKllGsZdesfZDTZ7+EJx9yrtd4Z2/a4lPJ8OjR0wwHbtdYPllk3AFw2vQSBWut+krvJ95P8jrObVwPC/SQPkky/4T/I5DABAHAGQ54j8FFGQwLj9vPydsEkSSnl0yS7tdYDEwUB4HwGGQS6YYHNrufge0cTAbu5A0e9CU/GJghOhAQA4HS9TxY8weaM/Ve7sPA4SUopR9v3kzw57gWllJ0kO0ny5ptvLqRIAFh3Qw0CM3W9Ba+d4/hHSR4lya1btw6XVRcArJNBDg0AAKsx1CBwkHx/W+Bxnq+sEgC4xAYZBLpu/4MkV8e3HwWD4xYfAgDOb8hzBPaSbGfyFsLr3fa5lFJuJrm5tbV1wdIA4HIYZI9AZzfJvaltdzP5oKFzqbU+rbXubGxsXKgwALgs+lpieDOjN/nNjB4W9KCUspfky6NnCdRa90spu92CQfvdcQ8NCwDA4vS1xPBBXn6yv3vKcXu5wFAAAHC6IQ8NAABLNuTJggtnsiAATGqqR8BkQWCovnvx4kL7l/m7Wb1VtklTPQIAQ/X6lSv55ovPT9z/zocf9/a7Wb1ltve0pnoEAIBJggAANEwQAICGNTVHwF0DADCpqR4Bdw0AwKSmggAAMEkQAICGCQIA0DBBAAAaJggAQMPcPggADWuqR8DtgwAwqakgAABMEgQA1sBpj6X1GGEuoqk5AgDr6rRHBa/ykbVcPnoEAKBhggAANEwQAICGNTVHwDoCADCpqR4B6wgAwKSmggAAMEkQAICGCQIA0DBBAAAaJggAQMMEAQBomCAAAA0TBACgYYIAADTMEsMA0LCmegQsMQwAk5oKAgDAJEEAABomCABAwwQBAGiYIAAADRMEAKBhggAANEwQAICGCQIA0DBBAAAaJggAQMM8dAgAGtZUj4CHDgHApKaCAAAwSRAAgIYJAgDQMEEAABomCAA05LsXL/ougYFp6vZBgNa9fuVKvvni84lt73z4cU/VMAR6BADW3Emf8n365yz0CACsueM+5Sc+6XM2egQAoGGCAAA0TBAAuKTMEeAszBEAuKTcIcBZ6BEAgIYJAgDQMEEAABomCABAw5qaLFhKuZnk5tbWVt+lAMAgNNUjUGt9Wmvd2djY6LsUABiEpoIAADBJEACAhgkCANAwQQAAGiYIAEDDBAEAaNhrh4eHfdewcqWUf0vy+6nN/y3Jf55h23Hb/3uSf19YgedzUo3LPs9Zj5913Gn7z/rnf9K2vtqlrzY5z2sW3S6ulYsf71pZ7XmW3S5Da5O/qLX++bF7Dg8P/Xd4mHfffffRWbYdt/3dd9/9ekh1r+I8Zz1+1nGn7T/rn/8p23ppl77apM92ca0Mr03O01aulcW3yzq1iaGBl56ecdtp2/uwqFrOe56zHj/ruNP2n+fPX5uc7zWLbhfXysWPd62s9jzLbpe1aZMmhwYWrZTyda31et91MEm7DI82GSbtMjyrbBM9AovxqO8COJZ2GR5tMkzaZXhW1iZ6BFaslHKj+3YzyftJflFrfdZfRSRJKWU7yVHbvJ/kk1rrQX8VkXx/vTyotb7Xdy2tKaVcS3I7ybMk20keuSaGYdHXRVNPHxyIx0nerrUelFKS5OdJ/CPXo1LKZpLrtdbPup9vJ/kq2qVX3T92zzN6E2L1HtZaP0iSUsp+kgdJ7vZbEsu4LgwNrN57Y6n6akYNSr+uJ9kd+3kvyXYXEOhJrXVPb1k/ut6Aq0c/11r3k3zUX0UcWcZ1IQisWHdBHbmTUcqmR7XWvYza4si1bvtBLwVB/7ZzzIeULiBwyRga6JRSHie5f1zS6saPryfZz2hs/6B785j3dx2NvT2+yHlaUEp5kBPmUYyN6+9n9Ollf94/z6nz/yTJZ/OcpwWrahMu7gJtdTXJwdRLnmf07x8XNLRrqOkg0L0h72b0F/5GkocnHHOv1npnbNvjUsrzebtnaq37pZRHSR6UUm7XWp/M9T9wSU21y06SL084ZqHt0p1jM8n20dgoI322CeejrYZpyO3SdBDouunvJt9PEDvObl4NCPcz6tI/mkizk+SHp/yqL6cTXTdZ8HGSL0spf6ob+qU+2yWjmbhCwJSe24RzWFBbHffp/7heAs5oUdfQMjQdBM7oo7w6jr+fl7eapdZ6pvs9j7nl4+vuqwvs/BbWLkdKKZ+mmzRYStkUzs5t4W3C0sxqq2cZmyx4ZGqOE4s38xpaBpMFT9F102xO/+U/eoPoxnLO43mSX4z9fD2j8R8X1zksoV2OEvqTsTd/M6TPYRltwnKcpa2m93Wv+b8rK7JBfV5DegROtzlj/yuJ+TS11mellGtd92gyuk9dN/T5bc7Yf6526S7Ax933R5v3Y7W189icsf9cbZJ834N2NKTwIIYNFmVzxv6jtrrT9ZLtJ3m/1moNgeXanLH/arKc60IQWDETA4enS+Cv9V0Hk7p/3PYyucYDK9JdF0d3z/h3ayCWcV0YGmBtWfBneLTJ+tBWw9RHuwgCpztITm0YqwL246D7OtHdPNZO2mX1Drqv2mT4Drqv2mpYDrqvK28XQeAUXdfYQU5oGPfb9mOsXTandl3t9muXFdMm60NbDVOf7SIIzLaXVx/ucL3bTn/20i0FPOZatEuftMn60FbD1Eu7CAKz7Sa5N7Xtbkxg6pt2GR5tsj601TD10i6vHR4eLvP8g9Z18d/LqCtmJ6NFNPYydTtGd7vGdka30VxL8sxtTMsz1i7jz0M/qV2u5WW7WNd+SbTJ+tBWwzTkdmk6CABA6wwNAEDDBAEAaJggAAANEwQAoGGCAAA0TBAAgIYJAgDQMEEAWJlSyq9LKdNLqAI9EgSAlRhbMc0ytjAgggCwKtsZhYCdPp65DhxPEACWrusNeFJrfZTRo1anH6wC9EQQAFZhu3veejLqFfhUrwAMgyAALFUpZTtjz1PXKwDDIggAy3aj1vpsatv9JJ/2UQwwSRAAlma6N+BIrfWzJAelFGEAeiYIAMt0XG/AkfsxPAC9EwSApegWDjopBBz1CmyWUnZWVxUwTRAAluV2rfWVYYEpnyV5sIpigOMJAsDCzeoNGHM/egWgV2/0XQBwKd1O8uiMawU8ymhtgUdLrQg41muHh4d91wBcIt2b/3/M8dI7tdYnCy4HmEEQAICGmSMAAA0TBACgYYIAADRMEACAhgkCANAwQQAAGiYIAEDDBAEAaJggAAAN+/8Bb2U1kmZE8gAAAABJRU5ErkJggg==\n",
=======
      "image/png": "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\n",
>>>>>>> 084caaa26d6c5b10bb6237f13ba94a81bb64ccd7
      "text/plain": [
       "<Figure size 576x432 with 1 Axes>"
      ]
     },
     "metadata": {
      "needs_background": "light"
     },
     "output_type": "display_data"
    }
   ],
   "source": [
    "%matplotlib inline\n",
    "bins = [1e-3, 1e-2, 1e-1, 0.1e0, 0.2e0, 0.3e0, 0.4e0, 0.5e0, 0.6e0, 0.7e0, 0.8e0, 0.9e0, 1e0, 1e1]\n",
    "\n",
    "fig, ax = plt.subplots(1, 1, figsize=(8, 6))\n",
    "\n",
    "plt.hist(Del, bins = bins, color = analogous[1])\n",
    "plt.xscale('log')\n",
    "plt.yscale('log')\n",
    "plt.xticks(fontsize = 20)\n",
    "plt.yticks(fontsize = 20)\n",
    "plt.xlabel('$\\Delta$', fontsize = 20)\n",
    "plt.ylabel('Count', fontsize = 20)\n",
    "plt.savefig(outpath + job_name + '_Del_histogram.pdf', dpi=300, bbox_inches='tight', transparent=True)\n",
    "plt.show()"
   ]
  },
  {
   "cell_type": "code",
   "execution_count": 36,
   "metadata": {},
   "outputs": [
    {
     "name": "stdout",
     "output_type": "stream",
     "text": [
<<<<<<< HEAD
      "There are 4740 haloes out of 34513 with a Del greater than 0.1 (13.73%).\n"
=======
      "There are 1219 haloes out of 3450 with a Del greater than 0.1 (35.33%).\n"
>>>>>>> 084caaa26d6c5b10bb6237f13ba94a81bb64ccd7
     ]
    }
   ],
   "source": [
    "maximum_Del = 0.1\n",
    "\n",
    "bad_Dels = [i for i in Del if i > maximum_Del]\n",
    "\n",
    "Del_percent = (len(bad_Dels)/shaped_halo_number)*100\n",
    "\n",
    "print('There are {} haloes out of {} with a Del greater than {} ({:.2f}%).'.format(len(bad_Dels), shaped_halo_number, maximum_Del, Del_percent))"
   ]
  },
  {
   "cell_type": "markdown",
   "metadata": {},
   "source": [
    "### Update the halo population"
   ]
  },
  {
   "cell_type": "code",
   "execution_count": 37,
   "metadata": {},
   "outputs": [],
   "source": [
    "# split the halo dataframe into good and bad\n",
    "discarded_haloes_dataframe = shaped_haloes_dataframe.loc[(shaped_haloes_dataframe['kappa_ohs'] > maximum_convergence) | (shaped_haloes_dataframe['Del'] > maximum_Del)]\n",
    "surviving_haloes_dataframe = shaped_haloes_dataframe.loc[(shaped_haloes_dataframe['kappa_ohs'] <= maximum_convergence) & (shaped_haloes_dataframe['Del'] <= maximum_Del)]\n",
    "\n",
    "discarded_halo_number = len(discarded_haloes_dataframe)\n",
    "surviving_halo_number = len(surviving_haloes_dataframe)\n",
    "\n",
    "# check the split is correct\n",
    "assert discarded_halo_number + surviving_halo_number == shaped_halo_number"
   ]
  },
  {
   "cell_type": "markdown",
   "metadata": {},
   "source": [
    "## Plot the populated region<a name=\"plot\"></a>\n",
    "We can plot it in projection or in 3D.\n",
    "\n",
    "[Back to contents](#contents)"
   ]
  },
  {
   "cell_type": "code",
   "execution_count": 38,
   "metadata": {},
   "outputs": [],
   "source": [
    "# for large numbers of haloes the plot below fills up\n",
    "# so we can choose a percentage of the haloes to plot as an example\n",
    "# and change the marker style depending on the number of points that will be plotted\n",
    "\n",
    "plot_percent = 10\n",
    "cut_percent = 10\n",
    "    \n",
    "cut = int((surviving_halo_number/100)*plot_percent)\n",
    "cut_discarded = int((discarded_halo_number/100)*cut_percent)\n",
    "\n",
    "if cut > 2000:\n",
    "    marker = '.'\n",
    "    alpha = 0.2\n",
    "    size = (5,5)\n",
    "else:\n",
    "    marker = 'o'\n",
    "    alpha = 1.0\n",
    "    size=(10,10)"
   ]
  },
  {
   "cell_type": "code",
   "execution_count": 39,
   "metadata": {},
   "outputs": [
    {
     "data": {
<<<<<<< HEAD
      "image/png": "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\n",
=======
      "image/png": "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\n",
>>>>>>> 084caaa26d6c5b10bb6237f13ba94a81bb64ccd7
      "text/plain": [
       "<Figure size 720x576 with 1 Axes>"
      ]
     },
     "metadata": {
      "needs_background": "light"
     },
     "output_type": "display_data"
    }
   ],
   "source": [
    "%matplotlib inline\n",
    "\n",
    "plt.figure(figsize = (10, 8))\n",
    "\n",
    "plt.plot(surviving_haloes_dataframe['d'][:cut], surviving_haloes_dataframe['y_com'][:cut], \n",
    "         color = cool[2], ls = ' ', marker = marker, alpha = alpha,\n",
    "         label = 'Surviving haloes', rasterized=True)\n",
    "\n",
    "plt.plot(discarded_haloes_dataframe['d'][:cut_discarded], discarded_haloes_dataframe['y_com'][:cut_discarded], \n",
    "         color = warm[2], ls = ' ', marker = marker, alpha = alpha, \n",
    "         label = 'Discarded haloes', rasterized=True)\n",
    "\n",
    "# plt.xlim(z_observer, z_source)\n",
    "# plt.ylim(-0.5, 0.5)\n",
    "plt.xticks(fontsize=20)\n",
    "plt.yticks(fontsize=20)\n",
    "plt.xlabel('Comoving distance from the observer $\\chi$ [Mpc]', fontsize=20)\n",
    "plt.ylabel('Comoving transverse position $y$ [Mpc]', fontsize=20)\n",
    "plt.legend(loc = 'upper right', fontsize=20)\n",
    "\n",
    "plt.savefig(outpath + job_name + '_region_rasterised_comoving.pdf', dpi=300, bbox_inches='tight', transparent=True)\n",
    "\n",
    "plt.show()"
   ]
  },
  {
   "cell_type": "code",
   "execution_count": 40,
   "metadata": {},
   "outputs": [],
   "source": [
    "# %matplotlib notebook\n",
    "# fig = plt.figure(figsize=(12,12))\n",
    "# ax = plt.axes(projection='3d')\n",
    "# # plt.title('Plot shows {}\\% of each population'.format(plot_percent))\n",
    "# # ax.plot3D(d, np.zeros(len(d)), np.zeros(len(d)), ls = '--', color = 'k', alpha = 0.3)\n",
    "# ax.scatter3D(surviving_haloes_dataframe['d'][:cut], \n",
    "#              surviving_haloes_dataframe['x_com'][:cut], \n",
    "#              surviving_haloes_dataframe['y_com'][:cut], color = cool[2],  marker = marker, alpha = 0.2);\n",
    "# ax.scatter3D(discarded_haloes_dataframe['d'][:cut_discarded], \n",
    "#              discarded_haloes_dataframe['x_com'][:cut_discarded], \n",
    "#              discarded_haloes_dataframe['y_com'][:cut_discarded], color = warm[2],  marker = marker, alpha = 0.2);\n",
    "# ax.set_xlabel('Comoving distance from the observer $\\chi$ [Mpc]')\n",
    "# ax.set_ylabel('Physical $x$ [Mpc]')\n",
    "# ax.set_zlabel('Physical $y$ [Mpc]')\n",
    "\n",
    "# plt.savefig(outpath + job_name + '_volume.pdf', dpi=300, bbox_inches='tight', transparent=True)\n",
    "\n",
    "# plt.show()"
   ]
  },
  {
   "cell_type": "code",
   "execution_count": 41,
   "metadata": {},
   "outputs": [
    {
     "data": {
<<<<<<< HEAD
      "image/png": "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\n",
=======
      "image/png": "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\n",
>>>>>>> 084caaa26d6c5b10bb6237f13ba94a81bb64ccd7
      "text/plain": [
       "<Figure size 720x576 with 4 Axes>"
      ]
     },
     "metadata": {
      "needs_background": "light"
     },
     "output_type": "display_data"
    }
   ],
   "source": [
    "%matplotlib inline\n",
    "fig, ax = plt.subplots(2, 2, figsize=(10,8), sharey=False)\n",
    "\n",
    "ax[0,0].hist(surviving_haloes_dataframe['r'], color = cool[2])\n",
    "ax[0,0].set_xlabel('Distance of haloes from LOS [Mpc]')\n",
    "\n",
    "ax[0,1].hist(surviving_haloes_dataframe['d'], color = cool[2])\n",
    "ax[0,1].set_xlabel('Distance of haloes along LOS [Mpc]')\n",
    "\n",
    "ax[1,0].hist(surviving_haloes_dataframe['x_com'], color = cool[2])\n",
    "ax[1,0].set_xlabel('Physical $x$-coordinate of haloes')\n",
    "\n",
    "ax[1,1].hist(surviving_haloes_dataframe['y_com'], color = cool[2])\n",
    "ax[1,1].set_xlabel('Physical $y$-coordinate of haloes')\n",
    "\n",
    "for a in ax.flat:\n",
    "    a.set_ylabel('Count')\n",
    "    \n",
    "fig.tight_layout()\n",
    "\n",
    "plt.show()"
   ]
  },
  {
   "cell_type": "code",
   "execution_count": 42,
   "metadata": {},
   "outputs": [],
   "source": [
    "# fig, ax = plt.subplots(1, 1, figsize=(8, 6))\n",
    "# plt.hist(discarded_haloes_dataframe['d'], color = warm[2])\n",
    "# plt.axvline(dC(z_lens), color = 'k', ls = '--', alpha = 0.3, label = 'Position of main lens')\n",
    "# plt.xlim(0, dC(z_source))\n",
    "# plt.xlabel('$\\chi$ [Mpc]')\n",
    "# plt.ylabel('Count')\n",
    "# plt.legend()\n",
    "# plt.show()"
   ]
  },
  {
   "cell_type": "code",
   "execution_count": 43,
   "metadata": {},
   "outputs": [],
   "source": [
    "# print('The masses and concentrations of the problematic haloes are, in descending mass order:\\n')\n",
    "# print(discarded_haloes_dataframe.sort_values('mass', ascending = False)[['mass', 'concentration']])\n",
    "# print('\\nThe shear parameters of the problematic haloes are:\\n'.format(len(discarded_haloes_dataframe)))\n",
    "# print(discarded_haloes_dataframe.sort_values('Del', ascending = False)[['gamma1', 'gamma2', 'Del']])\n",
    "# print('\\nThe shear parameters of the first {} surviving haloes are:\\n'.format(len(discarded_haloes_dataframe)))\n",
    "# print(surviving_haloes_dataframe.sort_values('Del', ascending = False)[['gamma1', 'gamma2', 'Del']][:len(discarded_haloes_dataframe)])"
   ]
  },
  {
   "cell_type": "markdown",
   "metadata": {},
   "source": [
    "### Sanity check I: compare the Einstein radius of the halo with largest shear with its distance from the LOS "
   ]
  },
  {
   "cell_type": "code",
   "execution_count": 44,
   "metadata": {},
   "outputs": [
    {
     "name": "stdout",
     "output_type": "stream",
     "text": [
<<<<<<< HEAD
      "The Einstein radius of the halo with the largest gamma=0.009 is 3.33 arcsec.\n",
      "The distance between the LOS and this halo is 24.73 arcsec.\n",
=======
      "The Einstein radius of the halo with the largest gamma=0.025 is 18.34 arcsec.\n",
      "The distance between the LOS and this halo is 83.71 arcsec.\n",
>>>>>>> 084caaa26d6c5b10bb6237f13ba94a81bb64ccd7
      "If these two numbers are roughly the same order of magnitude we are good to go.\n"
     ]
    }
   ],
   "source": [
    "# get the index of the halo with largest gamma1\n",
    "shear_magnitude = np.sqrt(shaped_haloes_dataframe['gamma1_ohs']**2\n",
    "                        + shaped_haloes_dataframe['gamma2_ohs']**2)\n",
    "max_shear = shear_magnitude.max()\n",
    "max_shear_halo_index = shear_magnitude.idxmax()\n",
    "max_shear_halo = shaped_haloes_dataframe.loc[[max_shear_halo_index]]\n",
    "\n",
    "# compute the Einstein radius for this halo assuming it's a point mass\n",
    "max_shear_halo_redshift = float(max_shear_halo['z'])\n",
    "max_shear_halo_mass = float(max_shear_halo['mass'])\n",
    "max_shear_halo_mass_kg = max_shear_halo_mass*solar_mass\n",
    "\n",
    "prefactor = (4*G_Newton*max_shear_halo_mass_kg)/(clight**2.)\n",
    "\n",
    "d_ds_m = distance_conversion(dA(max_shear_halo_redshift, z_source), 'to m')\n",
    "d_os_m = distance_conversion(dA(z_observer, z_source), 'to m')\n",
    "d_od_m = distance_conversion(dA(z_observer, max_shear_halo_redshift), 'to m')\n",
    "\n",
    "distance_combination = d_ds_m/(d_os_m*d_od_m)\n",
    "\n",
    "einstein_radius = np.sqrt(prefactor*distance_combination)\n",
    "\n",
    "print('The Einstein radius of the halo with the largest gamma={:.3f} is {:.2f} arcsec.'.format(max_shear, angle_conversion(einstein_radius, 'to arcsecs')))\n",
    "\n",
    "max_shear_halo_x = float(max_shear_halo['center_x'])\n",
    "max_shear_halo_y = float(max_shear_halo['center_y'])\n",
    "\n",
    "euclid = np.sqrt(max_shear_halo_x**2. + max_shear_halo_y**2.)\n",
    "\n",
    "print('The distance between the LOS and this halo is {:.2f} arcsec.'.format(euclid))\n",
    "\n",
    "print('If these two numbers are roughly the same order of magnitude we are good to go.')"
   ]
  },
  {
   "cell_type": "markdown",
   "metadata": {},
   "source": [
    "### Sanity check II: matter density from the remaining haloes"
   ]
  },
  {
   "cell_type": "code",
   "execution_count": 45,
   "metadata": {},
   "outputs": [
    {
     "name": "stdout",
     "output_type": "stream",
     "text": [
<<<<<<< HEAD
      "The matter density in the comoving cylinder volume is 4.407e-31 g/cm^3.\n",
=======
      "The matter density in the comoving cylinder volume is 6.491e-31 g/cm^3.\n",
>>>>>>> 084caaa26d6c5b10bb6237f13ba94a81bb64ccd7
      "The matter density of the Universe at z = 0.0 is 2.688e-30 g/cm^3.\n",
      "If the former is quite smaller than the latter then we are good to go.\n"
     ]
    }
   ],
   "source": [
    "total_mass = shaped_haloes_dataframe['mass'].sum()\n",
    "\n",
    "volume = np.pi * R_0**2 * dC(z_source)\n",
    "density = total_mass/volume\n",
    "cgs_conversion = (1000*solar_mass)/(100*Mpc)**3\n",
    "density_cgs = density * cgs_conversion\n",
    "\n",
    "rho_m = cosmo.Om0 * cosmo.critical_density(z_observer).value\n",
    "\n",
    "print('The matter density in the comoving cylinder volume is {:.3e} g/cm^3.'.format(density_cgs))\n",
    "print('The matter density of the Universe at z = {:.2} is {:.3e} g/cm^3.'.format(z_observer, rho_m))\n",
    "print('If the former is quite smaller than the latter then we are good to go.')"
   ]
  },
  {
   "cell_type": "markdown",
   "metadata": {},
   "source": [
    "## Predict the LOS terms: all the haloes <a name=\"predict_shears\"></a>\n",
    "\n",
    "This is done for the complete haloes dataframe, problematic haloes included. The problematic haloes are removed and the shear terms recomputed in the `distributed_haloes_cutter` notebook.\n",
    "\n",
    "[Back to contents](#contents)"
   ]
  },
  {
   "cell_type": "code",
   "execution_count": 46,
   "metadata": {},
   "outputs": [],
   "source": [
    "# make a dataframe to save them\n",
    "shears_dataframe = pd.DataFrame(columns = ['gamma1_os', 'gamma2_os', 'kappa_os', 'alpha1_os', 'alpha2_os',\n",
    "                                           'gamma1_od', 'gamma2_od', 'kappa_od', 'alpha1_od', 'alpha2_od',\n",
    "                                           'gamma1_ds', 'gamma2_ds', 'kappa_ds',\n",
    "                                           'gamma1_los', 'gamma2_los', 'kappa_los'])\n",
    "\n",
    "# dummy row so we can write scalars directly to the df\n",
    "shears_dataframe = shears_dataframe.append(pd.Series('dummy'), ignore_index=True)"
   ]
  },
  {
   "cell_type": "code",
   "execution_count": 47,
   "metadata": {},
   "outputs": [],
   "source": [
    "# We already computed the expected (os) shear\n",
    "\n",
    "#expected_gamma1_os = sum(gamma1)\n",
    "#expected_gamma2_os = sum(gamma2)\n",
    "#expected_kappa_os  = sum(kappa)\n",
    "\n",
    "shears_dataframe['gamma1_os'] = gamma1_os\n",
    "shears_dataframe['gamma2_os'] = gamma2_os\n",
    "shears_dataframe['kappa_os']  = kappa_os\n",
    "shears_dataframe['alpha1_os'] = alpha1_os\n",
    "shears_dataframe['alpha2_os'] = alpha2_os"
   ]
  },
  {
   "cell_type": "markdown",
   "metadata": {},
   "source": [
    "# OD\n",
    "We proceed similarly with the (od) quantities, without forgetting to update the NFW parameters."
   ]
  },
  {
   "cell_type": "code",
   "execution_count": 48,
   "metadata": {},
   "outputs": [
    {
     "name": "stdout",
     "output_type": "stream",
     "text": [
<<<<<<< HEAD
      "There are in total 1.16e+04 foreground haloes (33.7% of the relevant sample)\n"
=======
      "There are in total 1.18e+03 foreground haloes (34.3% of the relevant sample)\n"
>>>>>>> 084caaa26d6c5b10bb6237f13ba94a81bb64ccd7
     ]
    }
   ],
   "source": [
    "# Extract the foreground haloes\n",
    "foreground_haloes_dataframe = shaped_haloes_dataframe[shaped_haloes_dataframe['z'].between(z_observer, z_lens)]\n",
    "\n",
    "foreground_halo_number = len(foreground_haloes_dataframe)\n",
    "foreground_halo_redshift_list = foreground_haloes_dataframe['z'].to_list()\n",
    "foreground_halo_mass          = foreground_haloes_dataframe['mass'].to_list()\n",
    "foreground_halo_concentration = foreground_haloes_dataframe['concentration'].to_list()\n",
    "\n",
    "print(\"There are in total {:.2e} foreground haloes ({:.1f}% of the relevant sample)\".format(\n",
    "    foreground_halo_number, 100*foreground_halo_number/shaped_halo_number))"
   ]
  },
  {
   "cell_type": "code",
   "execution_count": 49,
   "metadata": {},
   "outputs": [
    {
     "data": {
      "application/vnd.jupyter.widget-view+json": {
<<<<<<< HEAD
       "model_id": "7dfa8f06f2d64b078bffc08ba6533508",
=======
       "model_id": "68da257a23e54f2f8a15181a959244cd",
>>>>>>> 084caaa26d6c5b10bb6237f13ba94a81bb64ccd7
       "version_major": 2,
       "version_minor": 0
      },
      "text/plain": [
<<<<<<< HEAD
       "  0%|          | 0/11631 [00:00<?, ?it/s]"
=======
       "  0%|          | 0/1184 [00:00<?, ?it/s]"
>>>>>>> 084caaa26d6c5b10bb6237f13ba94a81bb64ccd7
      ]
     },
     "metadata": {},
     "output_type": "display_data"
    }
   ],
   "source": [
    "# Define the new NFW parameters\n",
    "\n",
    "Rs_angle = []\n",
    "alpha_Rs_od = []\n",
    "\n",
    "for i in tqdm(range(foreground_halo_number)):\n",
    "    # get the quantities for each halo's redshift\n",
    "    lens_cosmo = LensCosmo(z_lens=foreground_halo_redshift_list[i],\n",
    "                           z_source=z_lens,\n",
    "                           cosmo=cosmo)\n",
    "    \n",
    "    angles = lens_cosmo.nfw_physical2angle(M=foreground_halo_mass[i],\n",
    "                                           c=foreground_halo_concentration[i])\n",
    "    Rs_angle.append(float(angles[0]))\n",
    "    alpha_Rs_od.append(float(angles[1]))\n",
    "\n",
    "# add to the dataframe\n",
    "foreground_haloes_dataframe['Rs'] = Rs_angle # [arcsec]\n",
    "foreground_haloes_dataframe['alpha_Rs'] = alpha_Rs_od # [arcsec]"
   ]
  },
  {
   "cell_type": "code",
   "execution_count": 50,
<<<<<<< HEAD
   "id": "biblical-atlantic",
=======
>>>>>>> 084caaa26d6c5b10bb6237f13ba94a81bb64ccd7
   "metadata": {},
   "outputs": [
    {
     "data": {
      "application/vnd.jupyter.widget-view+json": {
<<<<<<< HEAD
       "model_id": "fd623c905eb44153855f7bed44ab078c",
=======
       "model_id": "0710fb1fafc54645a5b36b37e085b705",
>>>>>>> 084caaa26d6c5b10bb6237f13ba94a81bb64ccd7
       "version_major": 2,
       "version_minor": 0
      },
      "text/plain": [
<<<<<<< HEAD
       "  0%|          | 0/11631 [00:00<?, ?it/s]"
=======
       "  0%|          | 0/1184 [00:00<?, ?it/s]"
>>>>>>> 084caaa26d6c5b10bb6237f13ba94a81bb64ccd7
      ]
     },
     "metadata": {},
     "output_type": "display_data"
    }
   ],
   "source": [
    "# Compute the individual convergences and shears\n",
    "\n",
    "kwargs_nfw = foreground_haloes_dataframe[['Rs','alpha_Rs','center_x','center_y']].to_dict('records')\n",
    "single_halo_lens_model = LensModel(lens_model_list=['NFW'], z_source=z_lens)\n",
    "\n",
    "gamma1_ohd = []\n",
    "gamma2_ohd = []\n",
    "kappa_ohd  = []\n",
    "\n",
    "for i in tqdm(range(foreground_halo_number)):\n",
    "    single_gamma = single_halo_lens_model.gamma(x=0.0, y=0.0, kwargs=[kwargs_nfw[i]])\n",
    "    gamma1_ohd.append(float(single_gamma[0]))\n",
    "    gamma2_ohd.append(float(single_gamma[1]))\n",
    "    \n",
    "    single_kappa = single_halo_lens_model.kappa(x=0.0, y=0.0, kwargs=[kwargs_nfw[i]])\n",
    "    kappa_ohd.append(float(single_kappa))"
   ]
  },
  {
   "cell_type": "code",
   "execution_count": 51,
<<<<<<< HEAD
   "id": "relevant-outside",
=======
>>>>>>> 084caaa26d6c5b10bb6237f13ba94a81bb64ccd7
   "metadata": {},
   "outputs": [],
   "source": [
    "# Define the (od) negative kappas from the (os) ones\n",
    "\n",
    "kappa_neg_os_foreground = foreground_haloes_dataframe['kappa_neg']\n",
    "kappa_neg_od_foreground = []\n",
    "\n",
    "for h, kappa in enumerate(kappa_neg_os_foreground):\n",
    "    z_h = foreground_halo_redshift_list[h]\n",
    "    d_hd = dA(z_h, z_lens)\n",
    "    d_hs = dA(z_h, z_source)\n",
    "    kappa_ohd = d_hd * d_os / d_od / d_os * kappa \n",
    "    kappa_neg_od_foreground.append(kappa_ohd)\n",
    "    \n",
    "foreground_haloes_dataframe['kappa_neg_od'] = kappa_neg_od_foreground"
   ]
  },
  {
   "cell_type": "code",
   "execution_count": 52,
<<<<<<< HEAD
   "id": "automated-albuquerque",
=======
>>>>>>> 084caaa26d6c5b10bb6237f13ba94a81bb64ccd7
   "metadata": {},
   "outputs": [
    {
     "name": "stdout",
     "output_type": "stream",
     "text": [
<<<<<<< HEAD
      "-0.0019237523726504044 -1.0630716833757585e-10\n"
=======
      "-0.004273790843810215 -3.783106102504685e-10\n"
>>>>>>> 084caaa26d6c5b10bb6237f13ba94a81bb64ccd7
     ]
    }
   ],
   "source": [
    "print(min(kappa_neg_od_foreground), max(kappa_neg_od_foreground))"
   ]
  },
  {
   "cell_type": "code",
   "execution_count": 53,
<<<<<<< HEAD
   "id": "broad-volunteer",
=======
>>>>>>> 084caaa26d6c5b10bb6237f13ba94a81bb64ccd7
   "metadata": {},
   "outputs": [],
   "source": [
    "# Define the (od) setup without the main lens\n",
    "\n",
    "lens_model_list = ['NFW'] * foreground_halo_number + ['CONVERGENCE'] * foreground_halo_number\n",
    "lens_redshift_list = 2 * foreground_haloes_dataframe['z'].to_list()\n",
    "kwargs_neg = [{'kappa': k} for k in foreground_haloes_dataframe['kappa_neg']]\n",
    "kwargs_lens = kwargs_nfw + kwargs_neg\n",
    "\n",
    "mp_od_lens_model = LensModel(lens_model_list = lens_model_list, \n",
    "                             z_source=z_lens,  # notice we use the main lens redshift as the 'source'\n",
    "                             lens_redshift_list=lens_redshift_list,\n",
    "                             multi_plane=True)"
   ]
  },
  {
   "cell_type": "code",
   "execution_count": 54,
<<<<<<< HEAD
   "id": "associate-crystal",
=======
>>>>>>> 084caaa26d6c5b10bb6237f13ba94a81bb64ccd7
   "metadata": {},
   "outputs": [
    {
     "name": "stdout",
     "output_type": "stream",
     "text": [
      "The total expected (od) displacement is\n",
<<<<<<< HEAD
      "alpha1_od = 0.98 arcsec\n",
      "alpha2_od = 2.26 arcsec\n",
      "\n",
      "The total expected (od) convergence and shear are\n",
      "kappa_od = -0.038\n",
      "gamma1_od = -0.006\n",
      "gamma2_od = -0.003\n"
=======
      "alpha1_od = 2.76 arcsec\n",
      "alpha2_od = -0.94 arcsec\n",
      "\n",
      "The total expected (od) convergence and shear are\n",
      "kappa_od = -0.039\n",
      "gamma1_od = -0.002\n",
      "gamma2_od = 0.000\n"
>>>>>>> 084caaa26d6c5b10bb6237f13ba94a81bb64ccd7
     ]
    }
   ],
   "source": [
    "# Compute the (od) displacement\n",
    "alpha1_od, alpha2_od = mp_od_lens_model.alpha(x=0.0, y=0.0, kwargs=kwargs_lens)\n",
    "print(\n",
    "\"The total expected (od) displacement is\\n\\\n",
    "alpha1_od = {:.2f} arcsec\\n\\\n",
    "alpha2_od = {:.2f} arcsec\\n\".format(alpha1_od, alpha2_od))\n",
    "\n",
    "# Compute the total (od) convergence and shear\n",
    "kappa_od = mp_od_lens_model.kappa(x=0.0, y=0.0, kwargs=kwargs_lens)\n",
    "gamma1_od, gamma2_od = mp_od_lens_model.gamma(x=0.0, y=0.0, kwargs=kwargs_lens)\n",
    "print(\n",
    "\"The total expected (od) convergence and shear are\\n\\\n",
    "kappa_od = {:.3f}\\n\\\n",
    "gamma1_od = {:.3f}\\n\\\n",
    "gamma2_od = {:.3f}\".format(kappa_od, gamma1_od, gamma2_od))"
   ]
  },
  {
   "cell_type": "code",
   "execution_count": 55,
<<<<<<< HEAD
   "id": "unexpected-solution",
=======
>>>>>>> 084caaa26d6c5b10bb6237f13ba94a81bb64ccd7
   "metadata": {},
   "outputs": [
    {
     "name": "stdout",
     "output_type": "stream",
     "text": [
      "The (od) shear obtained by summing the individual halo (od) shears is:\n",
<<<<<<< HEAD
      "gamma1_od_sum = -0.005\n",
      "gamma2_od_sum = -0.003\n"
=======
      "gamma1_od_sum = -0.002\n",
      "gamma2_od_sum = 0.002\n"
>>>>>>> 084caaa26d6c5b10bb6237f13ba94a81bb64ccd7
     ]
    }
   ],
   "source": [
    "# Compare with the (od) shear obtained from the sum of individual (od) shears\n",
    "\n",
    "gamma1_od_sum = sum(gamma1_ohd)\n",
    "gamma2_od_sum = sum(gamma2_ohd)\n",
    "print(\"The (od) shear obtained by summing the individual halo (od) shears is:\\n\\\n",
    "gamma1_od_sum = {:.3f}\\n\\\n",
    "gamma2_od_sum = {:.3f}\".format(gamma1_od_sum, gamma2_od_sum))"
   ]
  },
  {
   "cell_type": "code",
   "execution_count": 56,
   "metadata": {},
   "outputs": [],
   "source": [
    "# save in dataframe\n",
    "shears_dataframe['alpha1_od'] = alpha1_od\n",
    "shears_dataframe['alpha2_od'] = alpha2_od\n",
    "shears_dataframe['gamma1_od'] = gamma1_od\n",
    "shears_dataframe['gamma2_od'] = gamma2_od\n",
    "shears_dataframe['kappa_od']  = kappa_od"
   ]
  },
  {
   "cell_type": "markdown",
   "metadata": {},
   "source": [
    "# DS\n",
    "Only the (od) and (os) components play a role in the source position correction, so we don't need to compute `alpha_ds`.\n",
    "\n",
    "Since it's complicated to change the observer's position, we rely on the approximate rescaling method to get the (ds) quantities."
   ]
  },
  {
   "cell_type": "code",
   "execution_count": 57,
   "metadata": {},
   "outputs": [
    {
     "name": "stdout",
     "output_type": "stream",
     "text": [
<<<<<<< HEAD
      "There are in total 2.29e+04 background haloes (66.3% of the relevant sample)\n"
=======
      "There are in total 2.27e+03 background haloes (65.7% of the relevant sample)\n"
>>>>>>> 084caaa26d6c5b10bb6237f13ba94a81bb64ccd7
     ]
    }
   ],
   "source": [
    "# Extract the background haloes\n",
    "background_haloes_dataframe = shaped_haloes_dataframe[shaped_haloes_dataframe['z'].between(z_lens, z_source)]\n",
    "\n",
    "background_halo_number = len(background_haloes_dataframe)\n",
    "background_halo_redshift_list = background_haloes_dataframe['z'].to_list()\n",
    "background_halo_mass          = background_haloes_dataframe['mass'].to_list()\n",
    "background_halo_concentration = background_haloes_dataframe['concentration'].to_list()\n",
    "\n",
    "print(\"There are in total {:.2e} background haloes ({:.1f}% of the relevant sample)\".format(\n",
    "    background_halo_number, 100*background_halo_number/shaped_halo_number))"
   ]
  },
  {
   "cell_type": "code",
   "execution_count": 58,
<<<<<<< HEAD
   "id": "eligible-tongue",
=======
>>>>>>> 084caaa26d6c5b10bb6237f13ba94a81bb64ccd7
   "metadata": {},
   "outputs": [
    {
     "data": {
      "application/vnd.jupyter.widget-view+json": {
<<<<<<< HEAD
       "model_id": "3adc441840f342c9a62481929c1c6711",
=======
       "model_id": "21cef2458ff746f6b3421fb2086cd175",
>>>>>>> 084caaa26d6c5b10bb6237f13ba94a81bb64ccd7
       "version_major": 2,
       "version_minor": 0
      },
      "text/plain": [
<<<<<<< HEAD
       "  0%|          | 0/22882 [00:00<?, ?it/s]"
=======
       "  0%|          | 0/2266 [00:00<?, ?it/s]"
>>>>>>> 084caaa26d6c5b10bb6237f13ba94a81bb64ccd7
      ]
     },
     "metadata": {},
     "output_type": "display_data"
    }
   ],
   "source": [
    "kappa_dhs  = []\n",
    "gamma1_dhs = []\n",
    "gamma2_dhs = []\n",
    "\n",
    "for h in tqdm(range(background_halo_number)):\n",
    "    \n",
    "    z_h  = background_halo_redshift_list[h]\n",
    "    d_dh = dA(z_lens, z_h)\n",
    "    d_oh = dA(z_observer, z_h)\n",
    "    \n",
    "    kap_ohs  = kappa_ohs[h]\n",
    "    gam1_ohs = gamma1_ohs[h]\n",
    "    gam2_ohs = gamma2_ohs[h]\n",
    "    \n",
    "    kappa_dhs.append(d_dh * d_os / d_ds / d_oh * kap_ohs)\n",
    "    gamma1_dhs.append(d_dh * d_os / d_ds / d_oh * gam1_ohs)\n",
    "    gamma2_dhs.append(d_dh * d_os / d_ds / d_oh * gam2_ohs)\n",
    "    \n",
    "background_haloes_dataframe['kappa_dhs'] = kappa_dhs\n",
    "background_haloes_dataframe['gamma1_dhs'] = gamma1_dhs\n",
    "background_haloes_dataframe['gamma2_dhs'] = gamma2_dhs"
   ]
  },
  {
   "cell_type": "code",
   "execution_count": 59,
<<<<<<< HEAD
   "id": "fuzzy-basketball",
=======
>>>>>>> 084caaa26d6c5b10bb6237f13ba94a81bb64ccd7
   "metadata": {},
   "outputs": [
    {
     "name": "stdout",
     "output_type": "stream",
     "text": [
      "The (ds) shear obtained by summing the individual halo (ds) shears is:\n",
<<<<<<< HEAD
      "gamma1_ds = -0.002\n",
      "gamma2_ds = 0.003\n"
=======
      "gamma1_ds = -0.014\n",
      "gamma2_ds = 0.016\n"
>>>>>>> 084caaa26d6c5b10bb6237f13ba94a81bb64ccd7
     ]
    }
   ],
   "source": [
    "# Compute the total (ds) terms\n",
    "\n",
    "kappa_ds  = 0 # because if we really use the negative mass sheets its should compensate\n",
    "gamma1_ds = sum(gamma1_dhs)\n",
    "gamma2_ds = sum(gamma2_dhs)\n",
    "\n",
    "print(\"The (ds) shear obtained by summing the individual halo (ds) shears is:\\n\\\n",
    "gamma1_ds = {:.3f}\\n\\\n",
    "gamma2_ds = {:.3f}\".format(gamma1_ds, gamma2_ds))\n",
    "\n",
    "# save in dataframe\n",
    "shears_dataframe['gamma1_ds'] = gamma1_ds\n",
    "shears_dataframe['gamma2_ds'] = gamma2_ds\n",
    "shears_dataframe['kappa_ds']  = kappa_ds"
   ]
  },
  {
   "cell_type": "markdown",
   "metadata": {},
   "source": [
    "### Get the LOS component"
   ]
  },
  {
   "cell_type": "code",
   "execution_count": 60,
   "metadata": {},
   "outputs": [],
   "source": [
    "gamma1_LOS = gamma1_os + gamma1_od - gamma1_ds\n",
    "gamma2_LOS = gamma2_os + gamma2_od - gamma2_ds\n",
    "kappa_LOS  = kappa_os  + kappa_od  - kappa_ds\n",
    "\n",
    "shears_dataframe['gamma1_los'] = gamma1_LOS\n",
    "shears_dataframe['gamma2_los'] = gamma2_LOS\n",
    "shears_dataframe['kappa_los']  = kappa_LOS"
   ]
  },
  {
   "cell_type": "code",
   "execution_count": 61,
   "metadata": {},
   "outputs": [
    {
     "name": "stdout",
     "output_type": "stream",
     "text": [
      "\n",
      "The predicted shear components for all haloes are:\n",
<<<<<<< HEAD
      "gamma_os  = (-3.285e-04, -1.992e-03)\n",
      "gamma_od  = (-6.459e-03, -3.482e-03)\n",
      "gamma_ds  = (-2.035e-03, 3.036e-03)\n",
      "gamma_LOS = (-4.753e-03, -8.510e-03)\n"
=======
      "gamma_os  = (-2.564e-03, 6.755e-02)\n",
      "gamma_od  = (-1.504e-03, 4.435e-04)\n",
      "gamma_ds  = (-1.430e-02, 1.650e-02)\n",
      "gamma_LOS = (1.023e-02, 5.149e-02)\n"
>>>>>>> 084caaa26d6c5b10bb6237f13ba94a81bb64ccd7
     ]
    }
   ],
   "source": [
    "print('\\nThe predicted shear components for all haloes are:')\n",
    "print('gamma_os  = ({:.3e}, {:.3e})'.format(gamma1_os, gamma2_os))\n",
    "print('gamma_od  = ({:.3e}, {:.3e})'.format(gamma1_od, gamma2_od))\n",
    "print('gamma_ds  = ({:.3e}, {:.3e})'.format(gamma1_ds, gamma2_ds))\n",
    "print('gamma_LOS = ({:.3e}, {:.3e})'.format(gamma1_LOS, gamma2_LOS))"
   ]
  },
  {
   "cell_type": "code",
   "execution_count": 62,
   "metadata": {},
   "outputs": [
    {
     "name": "stdout",
     "output_type": "stream",
     "text": [
      "\n",
      "The predicted convergence components are:\n",
<<<<<<< HEAD
      "kappa_os  = 2.256e-02.\n",
      "kappa_od  = -3.769e-02.\n",
      "kappa_ds  = 0.000e+00.\n",
      "kappa_LOS = -1.513e-02.\n"
=======
      "kappa_os  = 1.860e-02.\n",
      "kappa_od  = -3.901e-02.\n",
      "kappa_ds  = 0.000e+00.\n",
      "kappa_LOS = -2.041e-02.\n"
>>>>>>> 084caaa26d6c5b10bb6237f13ba94a81bb64ccd7
     ]
    }
   ],
   "source": [
    "print('\\nThe predicted convergence components are:')\n",
    "print('kappa_os  = {:.3e}.'.format(kappa_os))\n",
    "print('kappa_od  = {:.3e}.'.format(kappa_od))\n",
    "print('kappa_ds  = {:.3e}.'.format(kappa_ds))\n",
    "print('kappa_LOS = {:.3e}.'.format(kappa_LOS))"
   ]
  },
  {
   "cell_type": "markdown",
   "metadata": {},
   "source": [
    "## Save the final dataframes to file"
   ]
  },
  {
   "cell_type": "code",
   "execution_count": 63,
   "metadata": {},
   "outputs": [],
   "source": [
    "# write haloes to fits\n",
    "haloes_fits = Table.from_pandas(shaped_haloes_dataframe)\n",
    "haloes_fits.write(outpath + 'total_haloes_dataframe_' + job_name + '.fits', overwrite = True)\n",
    "\n",
    "# write haloes to csv for quick looking at\n",
    "# haloes_dataframe.to_csv(outpath + 'total_haloes_dataframe_' + job_name + '.csv', index = False)\n",
    "\n",
    "# write shears to csv\n",
    "shears_dataframe.to_csv(outpath + 'total_shears_dataframe_' + job_name + '.csv', index = False)"
   ]
  },
  {
   "cell_type": "markdown",
   "metadata": {},
   "source": [
    "[Back to contents](#contents)"
   ]
  }
 ],
 "metadata": {
  "kernelspec": {
   "display_name": "Python 3",
   "language": "python",
   "name": "python3"
  },
  "language_info": {
   "codemirror_mode": {
    "name": "ipython",
    "version": 3
   },
   "file_extension": ".py",
   "mimetype": "text/x-python",
   "name": "python",
   "nbconvert_exporter": "python",
   "pygments_lexer": "ipython3",
   "version": "3.8.5"
  }
 },
 "nbformat": 4,
 "nbformat_minor": 5
}
