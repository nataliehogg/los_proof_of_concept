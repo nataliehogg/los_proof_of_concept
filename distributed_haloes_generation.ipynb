{
 "cells": [
  {
   "cell_type": "markdown",
   "metadata": {
    "tags": []
   },
   "source": [
    "# Distributed haloes generation simplified\n",
    "<b>Authors</b>: Natalie B. Hogg and Pierre Fleury"
   ]
  },
  {
   "cell_type": "markdown",
   "metadata": {},
   "source": [
    "## Contents <a name=\"contents\"></a>\n",
    "1. [Set up](#setup)\n",
    "2. [Create haloes](#create_haloes)\n",
    " 1. [Mass](#mass)\n",
    " 2. [Plectrum region](#plectrum)\n",
    " 2. [Distances](#distance)\n",
    " 3. [Remaining parameters](#lenstronomy)\n",
    "3. [Plot the populated region](#plot)\n",
    "4. [Compute the shears](#predict_shears)"
   ]
  },
  {
   "cell_type": "markdown",
   "metadata": {},
   "source": [
    "## Set up <a name=\"setup\"></a>"
   ]
  },
  {
   "cell_type": "markdown",
   "metadata": {},
   "source": [
    "### Import packages"
   ]
  },
  {
   "cell_type": "code",
   "execution_count": 1,
   "metadata": {},
   "outputs": [],
   "source": [
    "# computation\n",
    "import numpy as np\n",
    "import pandas as pd\n",
    "import random as r\n",
    "from scipy.interpolate import interp1d\n",
    "from scipy.integrate import trapezoid\n",
    "\n",
    "# plotting\n",
    "import seaborn as sns\n",
    "from matplotlib import pyplot as plt\n",
    "from matplotlib import rc, rcParams, rcParamsDefault, colors, offsetbox\n",
    "from mpl_toolkits.axes_grid1 import make_axes_locatable\n",
    "from mpl_toolkits import mplot3d\n",
    "import cmasher as cmr\n",
    "\n",
    "# cosmology\n",
    "from colossus.cosmology import cosmology as colcos\n",
    "from colossus.lss import mass_function\n",
    "from colossus.halo import concentration\n",
    "from astropy.table import Table\n",
    "from astropy.cosmology import FlatLambdaCDM, z_at_value\n",
    "from astropy import constants as const\n",
    "from astropy import units as u\n",
    "\n",
    "# monitoring\n",
    "from tqdm.notebook import tqdm\n",
    "import warnings\n",
    "warnings.filterwarnings('ignore')\n",
    "\n",
    "%matplotlib inline\n",
    "\n",
    "# this is where the figures will be saved\n",
    "outpath  = r'/home/natalie/Documents/Projects/los_effects/shear_map/' \n",
    "# outpath  = '/Users/pierrefleury/Documents/data/haloes/'\n",
    "\n",
    "job_name = 'test'"
   ]
  },
  {
   "cell_type": "markdown",
   "metadata": {},
   "source": [
    "### Import `lenstronomy` packages"
   ]
  },
  {
   "cell_type": "code",
   "execution_count": 2,
   "metadata": {},
   "outputs": [],
   "source": [
    "from lenstronomy.LensModel.lens_model import LensModel\n",
    "from lenstronomy.Cosmo.lens_cosmo import LensCosmo"
   ]
  },
  {
   "cell_type": "markdown",
   "metadata": {},
   "source": [
    "### Useful functions"
   ]
  },
  {
   "cell_type": "code",
   "execution_count": 3,
   "metadata": {},
   "outputs": [],
   "source": [
    "def show_palette(colour):\n",
    "    # function for displaying colour palettes\n",
    "    sns.set_style('whitegrid')\n",
    "    hex2rgb = []\n",
    "    for k in colour:\n",
    "        h = k.lstrip('#')\n",
    "        hex2rgb.append(tuple(int(h[i:i + 2], 16) / 255.0 for i in (0, 2, 4)))\n",
    "    return sns.palplot(hex2rgb)\n",
    "\n",
    "def ellipticity(phi, q):\n",
    "    # transforms orientation angle phi and aspect ratio q into complex ellipticity modulii e1, e2\n",
    "    # phi and q must be passed as lists\n",
    "    phi = np.array(phi)\n",
    "    q = np.array(q)\n",
    "    e1 = (1 - q)/(1 + q)*np.cos(2*phi)\n",
    "    e2 = (1 - q)/(1 + q)*np.sin(2*phi)\n",
    "    return list(e1), list(e2)\n",
    "\n",
    "def distance_conversion(distance, conversion_type):\n",
    "    # converts a distance *in Mpc* to Gpc, kpc, pc or m\n",
    "    # careful! it doesn't sanity check your input\n",
    "    if conversion_type == 'to Gpc':\n",
    "        new_distance = distance/(10**3)\n",
    "    elif conversion_type == 'to kpc':\n",
    "        new_distance = distance*(10**3)\n",
    "    elif conversion_type == 'to pc':\n",
    "        new_distance = distance*(10**6)\n",
    "    elif conversion_type == 'to m':\n",
    "        new_distance = distance*(3.086*10**22)\n",
    "    else:\n",
    "        print('Unknown conversion type')\n",
    "    return new_distance\n",
    "\n",
    "def angle_conversion(angle, conversion_type):\n",
    "    # converts an angle in arcsec to rad or rad to arcsec\n",
    "    # careful! it doesn't sanity check your input\n",
    "    conversion_factor = np.pi/(180*3600)\n",
    "    if conversion_type == 'to arcsecs':\n",
    "        new_angle = angle/conversion_factor\n",
    "    elif conversion_type == 'to radians':\n",
    "        new_angle = angle*conversion_factor\n",
    "    else:\n",
    "        print('Unknown conversion type')\n",
    "    return new_angle\n",
    "\n",
    "def colorbar(mappable, lab, ori):\n",
    "    # thanks to Joseph Long! https://joseph-long.com/writing/colorbars/\n",
    "    last_axes = plt.gca()\n",
    "    ax = mappable.axes\n",
    "    fig = ax.figure\n",
    "    divider = make_axes_locatable(ax)\n",
    "    cax = divider.append_axes('right', size = '5%', pad = 0.15)\n",
    "    cbar = fig.colorbar(mappable, cax = cax, label=lab, orientation = ori)\n",
    "    plt.sca(last_axes)\n",
    "    return cbar"
   ]
  },
  {
   "cell_type": "markdown",
   "metadata": {},
   "source": [
    "### Global plotting and display settings"
   ]
  },
  {
   "cell_type": "code",
   "execution_count": 4,
   "metadata": {},
   "outputs": [
    {
     "data": {
      "image/png": "[encoded data removed]",
      "text/plain": [
       "<Figure size 216x72 with 1 Axes>"
      ]
     },
     "metadata": {},
     "output_type": "display_data"
    }
   ],
   "source": [
    "# contour plot colours\n",
    "# thanks to colorbrewer for these palettes! https://colorbrewer2.org\n",
    "green        = ['#a6dba0','#5aae61','#1b7837']\n",
    "purple       = ['#c2a5cf', '#9970ab', '#762a83']\n",
    "analogous    = ['#a0c3db', '#dbb7a0']\n",
    "warm         = ['#fdcc8a', '#fc8d59', '#d7301f']\n",
    "cool         = ['#41b6c4', '#2c7fb8', '#253494']\n",
    "\n",
    "# have a look at a palette for example\n",
    "show_palette(cool)\n",
    "\n",
    "# set the seaborn style\n",
    "sns.set_style('ticks')\n",
    "\n",
    "# use TeX for plot labels\n",
    "rc('text', usetex=True)\n",
    "rc('font', family='serif')\n",
    "rcParams.update({'font.size': 18})"
   ]
  },
  {
   "cell_type": "markdown",
   "metadata": {},
   "source": [
    "### Start the Universe"
   ]
  },
  {
   "cell_type": "code",
   "execution_count": 5,
   "metadata": {},
   "outputs": [
    {
     "name": "stdout",
     "output_type": "stream",
     "text": [
      "\n",
      "The Hubble parameter being used is 67.4 km/s/Mpc.\n",
      "The redshifts of the observer, lens and the source are z = 0.0, z = 0.5 and z = 1.5 respectively.\n",
      "The angular distances between observer and lens, observer and source and lens and source are 1300.92 Mpc, 1792.84 Mpc and 1012.28 Mpc respectively.\n"
     ]
    }
   ],
   "source": [
    "cosmology = {'id': 'planck18', 'H0': 67.4, 'Om': 0.315}\n",
    "\n",
    "colcos.setCosmology(cosmology['id'])\n",
    "\n",
    "cosmo = FlatLambdaCDM(H0 = cosmology['H0'], Om0 = cosmology['Om']) \n",
    "\n",
    "G_Newton   = const.G.value # 6.67*10**-11 [m^3 / kg s^2]\n",
    "clight     = const.c.value # 299792458 [m / s]\n",
    "clight_kms = clight/1000   # 299792.458 [km / s]\n",
    "solar_mass = const.M_sun.value # 1.988*10**30 [kg]\n",
    "parsec     = const.pc.value # 3.08567758*10**16 [m]\n",
    "Mpc        = 1e6 * parsec\n",
    "\n",
    "def dC(redshift):\n",
    "    \"\"\"\n",
    "    Returns the comoving distance at a given redshift in Mpc.\n",
    "    \"\"\"\n",
    "    distance = cosmo.comoving_distance(redshift).value\n",
    "    return distance\n",
    "\n",
    "def Hubble(redshift):\n",
    "    \"\"\"\n",
    "    Returns H(z) for a given redshift in km/s/Mpc.\n",
    "    \"\"\"\n",
    "    Hofz = cosmo.H(redshift).value\n",
    "    return Hofz\n",
    "\n",
    "def dA(z1, z2):\n",
    "    \"\"\"\n",
    "    Returns angular diameter distance between two redshifts in Mpc.\n",
    "    \"\"\"\n",
    "    distance = cosmo.angular_diameter_distance_z1z2(z1, z2).value\n",
    "    return distance\n",
    "\n",
    "def redshift_converter(object_distance, units):\n",
    "    object_redshift = z_at_value(cosmo.comoving_distance, object_distance*units, zmin = -0.0001, zmax=5.)\n",
    "    return object_redshift\n",
    "\n",
    "z_observer = 0.0\n",
    "z_lens     = 0.5\n",
    "z_source   = 1.5\n",
    "\n",
    "z_hmf = z_lens\n",
    "\n",
    "d_observer = 0.0\n",
    "d_od       = dA(z_observer, z_lens)\n",
    "d_os       = dA(z_observer, z_source)\n",
    "d_ds       = dA(z_lens, z_source)\n",
    "\n",
    "dc_source = dC(z_source)\n",
    "\n",
    "print('\\nThe Hubble parameter being used is {} km/s/Mpc.'.format(cosmo.h*100))\n",
    "print('The redshifts of the observer, lens and the source are z = {}, z = {:.2} and z = {} respectively.'.format(z_observer, z_lens, z_source))\n",
    "print('The angular distances between observer and lens, observer and source and lens and source are {:.2f} Mpc, {:.2f} Mpc and {:.2f} Mpc respectively.'.format(d_od, d_os, d_ds))"
   ]
  },
  {
   "cell_type": "markdown",
   "metadata": {},
   "source": [
    "### Create main lens: `EPL` \n",
    "At this stage we only need to set an Einstein radius; the rest of the main lens parameters are set in the `distributed_haloes_analysis` notebook."
   ]
  },
  {
   "cell_type": "code",
   "execution_count": 6,
   "metadata": {},
   "outputs": [],
   "source": [
    "theta_E = 1 # 1.0 # arcsec"
   ]
  },
  {
   "cell_type": "markdown",
   "metadata": {},
   "source": [
    "## Create haloes <a name=\"create_haloes\"></a>\n",
    "\n",
    "[Back to contents](#contents)"
   ]
  },
  {
   "cell_type": "markdown",
   "metadata": {},
   "source": [
    "### Get the halo mass function using `colossus` <a name=\"mass\"></a>"
   ]
  },
  {
   "cell_type": "code",
   "execution_count": 7,
   "metadata": {},
   "outputs": [],
   "source": [
    "# mass limits in log space\n",
    "lower_mass_limit = 8\n",
    "upper_mass_limit = 13\n",
    "\n",
    "# define the mass range\n",
    "mass_range = np.logspace(lower_mass_limit, upper_mass_limit, num=1000) # [MSun/h]\n",
    "\n",
    "# define the mass, 200 times the critical density of the Universe \n",
    "# this choice is consistent with lenstronomy internal definitions -- see lens_cosmo.py)\n",
    "mdef = '200c' \n",
    "\n",
    "hmf_model = 'tinker08' # model for the HMF\n",
    "\n",
    "# get the HMF\n",
    "dndlnM = mass_function.massFunction(mass_range, z_hmf, q_in='M', q_out='dndlnM', mdef=mdef, model=hmf_model)"
   ]
  },
  {
   "cell_type": "code",
   "execution_count": 8,
   "metadata": {},
   "outputs": [
    {
     "data": {
      "image/png": "[encoded data removed]",
      "text/plain": [
       "<Figure size 576x432 with 1 Axes>"
      ]
     },
     "metadata": {},
     "output_type": "display_data"
    }
   ],
   "source": [
    "# plot the HMF\n",
    "plt.figure(figsize = (8,6))\n",
    "plt.title(r\"Halo mass function (`{}' model)\".format(hmf_model))\n",
    "plt.plot(mass_range, dndlnM, lw = 3, color = 'purple')\n",
    "plt.xscale('log')\n",
    "plt.yscale('log')\n",
    "plt.xticks(fontsize = 20)\n",
    "plt.yticks(fontsize = 20)\n",
    "plt.xlabel('Mass [$h^{-1} M_{\\odot}$]', fontsize = 20)\n",
    "plt.ylabel(r'$\\frac{\\mathrm{d}n}{\\mathrm{d}\\ln M}$ [$h^3$ Mpc$^{-3}$]', fontsize = 20)\n",
    "plt.show()"
   ]
  },
  {
   "cell_type": "code",
   "execution_count": 9,
   "metadata": {},
   "outputs": [
    {
     "name": "stdout",
     "output_type": "stream",
     "text": [
      "The comoving density predicted from the HMF is 1.001187e-30 g/cm3\n",
      "The cosmic comoving density is 2.687849e-30 g / cm3\n"
     ]
    }
   ],
   "source": [
    "# check: does the mass function match the cosmic mean density?\n",
    "rho_hmf = trapezoid(dndlnM*cosmo.h**3, mass_range/cosmo.h) # [M_sun/Mpc^3]\n",
    "rho_hmf *= (solar_mass * 1e3) / (1e2 * Mpc)**3 # [g/cm3]\n",
    "rho_m = cosmo.Om0 * cosmo.critical_density(0) # [g/cm3]\n",
    "print(\"The comoving density predicted from the HMF is {:e} g/cm3\".format(rho_hmf))\n",
    "print(\"The cosmic comoving density is {:e}\".format(rho_m))"
   ]
  },
  {
   "cell_type": "markdown",
   "metadata": {},
   "source": [
    "### Relevant region of space to be considered\n",
    "\n",
    "We start with a region of space that is a comoving cylinder with length $\\chi_{\\rm s}$ (comoving distance between the observer and the source) and radius $R_0$, which we fix in such a way that a point lens with mass $M$ at a comoving distance $R_0$ from the optical axis would produce a shear of magnitude $\\varepsilon$ if it lay half-way ($\\chi_{1/2}=\\chi_{\\rm s}/2$) between the observer and the source. This implies\n",
    "$$\n",
    "R_0\n",
    "= \\frac{r_{\\rm E}}{\\sqrt{\\varepsilon}}\n",
    "= \\sqrt{\\frac{GM\\chi_{\\rm s}}{c^2(1+z_{1/2})\\varepsilon}}\n",
    "$$"
   ]
  },
  {
   "cell_type": "code",
   "execution_count": 10,
   "metadata": {},
   "outputs": [
    {
     "name": "stdout",
     "output_type": "stream",
     "text": [
      "The comoving radius R0 of the region is 11.620 Mpc\n"
     ]
    }
   ],
   "source": [
    "# compute R_0\n",
    "M = 1e12 * solar_mass # [kg] \n",
    "eps = 1e-6\n",
    "chis = dC(z_source) * 1e6 * parsec # [m]\n",
    "z12 = z_at_value(cosmo.comoving_distance, cosmo.comoving_distance(z_source)/2)\n",
    "R_0_m = np.sqrt(G_Newton * M * chis / clight**2 / (1 + z12) / eps) # [m]\n",
    "R_0 = R_0_m / (1e6 * parsec) # [Mpc]\n",
    "\n",
    "print('The comoving radius R0 of the region is {:.3f} Mpc'.format(R_0))"
   ]
  },
  {
   "cell_type": "code",
   "execution_count": 11,
   "metadata": {},
   "outputs": [
    {
     "name": "stdout",
     "output_type": "stream",
     "text": [
      "Number density of haloes: 5.60 Mpc^-3\n",
      "Comoving volume of the cylinder: 1.90e+06 Mpc^3\n",
      "Number of haloes in cylinder: 1.06e+07.\n"
     ]
    }
   ],
   "source": [
    "n_c = trapezoid(dndlnM/mass_range, x=mass_range) # [h^3/Mpc^3]\n",
    "n_c *= (cosmo.h)**3 # [Mpc^-3]\n",
    "V = np.pi * (R_0**2.) * dc_source\n",
    "cylinder_halo_number = int(n_c * V)\n",
    "\n",
    "print('Number density of haloes: {:.2f} Mpc^-3'.format(n_c))\n",
    "print('Comoving volume of the cylinder: {:.2e} Mpc^3'.format(V))\n",
    "print('Number of haloes in cylinder: {:.2e}.'.format(cylinder_halo_number))"
   ]
  },
  {
   "cell_type": "markdown",
   "metadata": {},
   "source": [
    "### Create halo dataframe <a name=\"distance\"></a>"
   ]
  },
  {
   "cell_type": "code",
   "execution_count": 12,
   "metadata": {},
   "outputs": [],
   "source": [
    "# create dataframe for halo parameters\n",
    "# d is the comoving distance along the LOS to the halo [Mpc]\n",
    "# z is the redshift to that distance\n",
    "# r is the physical distance from the LOS [Mpc]\n",
    "# x_phys and y_phys are the physical coordinates of the halo on the plane orthogonal to the LOS [Mpc]\n",
    "# center_x and center_y are the coordinates of the halo in arcsec, passed to lenstronomy in kwargs_nfw [arcsec]\n",
    "# mass is the mass of the halo [MSun]\n",
    "\n",
    "haloes_dataframe = pd.DataFrame(columns = ['d', 'z', 'r', 'x_com', 'y_com','center_x', 'center_y', 'mass'])"
   ]
  },
  {
   "cell_type": "markdown",
   "metadata": {},
   "source": [
    "### Create distances"
   ]
  },
  {
   "cell_type": "code",
   "execution_count": 13,
   "metadata": {},
   "outputs": [],
   "source": [
    "halo_distance_list = np.random.uniform(d_observer, dc_source, cylinder_halo_number)\n",
    "haloes_dataframe['d'] = halo_distance_list"
   ]
  },
  {
   "cell_type": "markdown",
   "metadata": {},
   "source": [
    "### Convert to redshifts"
   ]
  },
  {
   "cell_type": "code",
   "execution_count": 14,
   "metadata": {},
   "outputs": [],
   "source": [
    "z_grid   = np.linspace(z_observer, z_source, 101)\n",
    "chi_grid = dC(z_grid)\n",
    "z_of_chi   = interp1d(chi_grid, z_grid)\n",
    "\n",
    "halo_redshift_list = z_of_chi(halo_distance_list)\n",
    "haloes_dataframe['z'] = halo_redshift_list"
   ]
  },
  {
   "cell_type": "markdown",
   "metadata": {},
   "source": [
    "### Halo transverse distances\n",
    "Draw physical distance of each halo from LOS randomly on a disk."
   ]
  },
  {
   "cell_type": "code",
   "execution_count": 15,
   "metadata": {},
   "outputs": [
    {
     "data": {
      "application/vnd.jupyter.widget-view+json": {
       "model_id": "a4e810e285d14b32ae428b4f75bd0e0e",
       "version_major": 2,
       "version_minor": 0
      },
      "text/plain": [
       "  0%|          | 0/10642242 [00:00<?, ?it/s]"
      ]
     },
     "metadata": {},
     "output_type": "display_data"
    },
    {
     "data": {
      "application/vnd.jupyter.widget-view+json": {
       "model_id": "6fdd732a3cb740ee919b97e02856ff99",
       "version_major": 2,
       "version_minor": 0
      },
      "text/plain": [
       "  0%|          | 0/10642242 [00:00<?, ?it/s]"
      ]
     },
     "metadata": {},
     "output_type": "display_data"
    }
   ],
   "source": [
    "r_sq = np.random.uniform(0.0, R_0**2., cylinder_halo_number)\n",
    "r_com = np.sqrt(r_sq)\n",
    "\n",
    "theta = np.random.uniform(0.0, 2.0*np.pi, cylinder_halo_number)\n",
    "\n",
    "x_com = r_com*np.cos(theta)\n",
    "y_com = r_com*np.sin(theta)\n",
    "\n",
    "haloes_dataframe['r'] = r_com\n",
    "\n",
    "haloes_dataframe['x_com'] = x_com\n",
    "haloes_dataframe['y_com'] = y_com\n",
    "\n",
    "haloes_dataframe['center_x'] = tqdm(angle_conversion(haloes_dataframe['x_com']/haloes_dataframe['d'], 'to arcsecs'))\n",
    "haloes_dataframe['center_y'] = tqdm(angle_conversion(haloes_dataframe['y_com']/haloes_dataframe['d'], 'to arcsecs'))"
   ]
  },
  {
   "cell_type": "markdown",
   "metadata": {},
   "source": [
    "### Get the lenstronomy `NFW` parameters <a name=\"lenstronomy\"></a>"
   ]
  },
  {
   "cell_type": "markdown",
   "metadata": {},
   "source": [
    "#### Mass"
   ]
  },
  {
   "cell_type": "code",
   "execution_count": 16,
   "metadata": {},
   "outputs": [
    {
     "name": "stdout",
     "output_type": "stream",
     "text": [
      "The most massive halo we have has M = 1.484e+13 M_sun\n"
     ]
    }
   ],
   "source": [
    "# draw halo masses from the original mass range, weighted by the HMF\n",
    "halo_mass_inverse_h = r.choices(mass_range, dndlnM, k=cylinder_halo_number) # [MSun/h]\n",
    "halo_mass = np.array(halo_mass_inverse_h)\n",
    "\n",
    "# convert to units of MSun\n",
    "halo_mass /= cosmo.h # [MSun]\n",
    "print(\"The most massive halo we have has M = {:.3e} M_sun\".format(max(halo_mass)))\n",
    "\n",
    "# save to dataframe\n",
    "haloes_dataframe['mass'] = halo_mass # [MSun]"
   ]
  },
  {
   "cell_type": "code",
   "execution_count": 17,
   "metadata": {},
   "outputs": [
    {
     "name": "stdout",
     "output_type": "stream",
     "text": [
      "The mean comoving density in the cylinder is 1.011428e-30 g/cm3\n",
      "The comoving density predicted from the HMF is 1.001187e-30 g/cm3\n",
      "The cosmic comoving density is 2.687849e-30 g / cm3\n"
     ]
    }
   ],
   "source": [
    "# check that the comoving density matches the cosmic comoving density\n",
    "M_tot = halo_mass.sum()\n",
    "rho_sample = M_tot / V # [solar masses per Mpc^3]\n",
    "rho_sample *= (solar_mass * 1e3) / (1e2 * Mpc)**3 # [g/cm3]\n",
    "rho_m = cosmo.Om0 * cosmo.critical_density(0) # [g/cm3]\n",
    "print(\"The mean comoving density in the cylinder is {:e} g/cm3\".format(rho_sample))\n",
    "print(\"The comoving density predicted from the HMF is {:e} g/cm3\".format(rho_hmf))\n",
    "print(\"The cosmic comoving density is {:e}\".format(rho_m))"
   ]
  },
  {
   "cell_type": "markdown",
   "metadata": {},
   "source": [
    "#### Concentration"
   ]
  },
  {
   "cell_type": "code",
   "execution_count": 18,
   "metadata": {},
   "outputs": [],
   "source": [
    "# use colossus to get the halo concentration\n",
    "# concentration parameter is the ratio of the virial radius to the scale radius\n",
    "# we use the same redshift as for the HMF so that the masses and concentrations are consistent\n",
    "\n",
    "concentration_model = 'diemer15'\n",
    "\n",
    "halo_concentration_inverse_h = concentration.concentration(M = np.array(halo_mass_inverse_h), \n",
    "                                                            mdef = mdef, \n",
    "                                                            z = z_hmf,  \n",
    "                                                            model = concentration_model)\n",
    "\n",
    "# convert to units of MSun\n",
    "halo_concentration = list(np.array(halo_concentration_inverse_h) * cosmo.h) # [MSun]\n",
    "\n",
    "# add to dataframe\n",
    "haloes_dataframe['concentration'] = halo_concentration # [MSun]"
   ]
  },
  {
   "cell_type": "markdown",
   "metadata": {},
   "source": [
    "#### Remove all haloes whose shear is below a certain threshold\n",
    "For the sake of speed, we use the point lens approximation to compute the shear for this step, as it is faster than calling the `lenstronomy` function on each individual halo in a population this size."
   ]
  },
  {
   "cell_type": "code",
   "execution_count": 19,
   "metadata": {},
   "outputs": [],
   "source": [
    "def comoving_rE2(M, z, chi, chi_s):\n",
    "    \"\"\"\n",
    "    Computes the comoving squared Einstein radius of a point lens in Mpc^2,\n",
    "    M: mass of the lens in solar masses\n",
    "    z: redshift of the lens\n",
    "    chi: comoving distance to the observer in Mpc\n",
    "    chis: comoving distance to the source in Mpc\n",
    "    \"\"\"\n",
    "    \n",
    "    mass_array = np.array(M)\n",
    "    chi_array = np.array(chi)\n",
    "    \n",
    "    # convert in SI\n",
    "    mass_array *= solar_mass # [kg]\n",
    "    chi_array *= 1e6 * parsec\n",
    "    chi_s *= 1e6 * parsec\n",
    "    \n",
    "    # compute the squared Einstein radius\n",
    "    rE2 = 4*G_Newton*mass_array/clight**2.*(1 + np.array(z))*chi_array*(chi_s - chi_array)/chi_s # [m^2]\n",
    "    rE2 /= (1e6 * parsec)**2 # [Mpc^2]\n",
    "    \n",
    "    return rE2\n",
    "\n",
    "rE2 = comoving_rE2(halo_mass, halo_redshift_list, halo_distance_list, dc_source) #[Mpc^2]\n",
    "\n",
    "point_lens_gamma_list = rE2/r_sq\n",
    "\n",
    "haloes_dataframe['plg'] = point_lens_gamma_list"
   ]
  },
  {
   "cell_type": "code",
   "execution_count": 20,
   "metadata": {},
   "outputs": [
    {
     "name": "stdout",
     "output_type": "stream",
     "text": [
      "There are 10607826 haloes out of 10642242 with a shear less than 1e-06 (99.677%).\n",
      "You're left with 34416 haloes!\n"
     ]
    }
   ],
   "source": [
    "minimum_shear = eps\n",
    "\n",
    "small_gammas = [i for i in point_lens_gamma_list if i < minimum_shear]\n",
    "\n",
    "gamma_percent = (len(small_gammas)/cylinder_halo_number)*100\n",
    "\n",
    "print('There are {} haloes out of {} with a shear less than {} ({:.3f}%).'.format(len(small_gammas), cylinder_halo_number, minimum_shear, gamma_percent))\n",
    "print('You\\'re left with {} haloes!'.format(cylinder_halo_number-len(small_gammas)))"
   ]
  },
  {
   "cell_type": "code",
   "execution_count": 21,
   "metadata": {},
   "outputs": [],
   "source": [
    "shaped_haloes_dataframe = haloes_dataframe.loc[(haloes_dataframe['plg'] > minimum_shear)]\n",
    "shaped_halo_number = len(shaped_haloes_dataframe)"
   ]
  },
  {
   "cell_type": "code",
   "execution_count": 22,
   "metadata": {},
   "outputs": [],
   "source": [
    "# new quantities for iterating over\n",
    "shaped_halo_redshift_list = shaped_haloes_dataframe['z'].to_list()\n",
    "shaped_halo_mass          = shaped_haloes_dataframe['mass'].to_list()\n",
    "shaped_halo_concentration = shaped_haloes_dataframe['concentration'].to_list()"
   ]
  },
  {
   "cell_type": "markdown",
   "metadata": {},
   "source": [
    "# OS"
   ]
  },
  {
   "cell_type": "markdown",
   "metadata": {},
   "source": [
    "### Scale radius and deflection angle at scale radius\n",
    "These should be in units without little h."
   ]
  },
  {
   "cell_type": "code",
   "execution_count": 23,
   "metadata": {},
   "outputs": [
    {
     "data": {
      "application/vnd.jupyter.widget-view+json": {
       "model_id": "151db1c1146946c5a14d62d0adbca660",
       "version_major": 2,
       "version_minor": 0
      },
      "text/plain": [
       "  0%|          | 0/34416 [00:00<?, ?it/s]"
      ]
     },
     "metadata": {},
     "output_type": "display_data"
    }
   ],
   "source": [
    "Rs_angle = []\n",
    "alpha_Rs_os = []\n",
    "\n",
    "for i in tqdm(range(shaped_halo_number)):\n",
    "    # get the quantities for each halo's redshift\n",
    "    lens_cosmo = LensCosmo(z_lens=shaped_halo_redshift_list[i],\n",
    "                           z_source=z_source,\n",
    "                           cosmo=cosmo)\n",
    "    \n",
    "    angles = lens_cosmo.nfw_physical2angle(M=shaped_halo_mass[i],\n",
    "                                           c=shaped_halo_concentration[i])\n",
    "    Rs_angle.append(float(angles[0]))\n",
    "    alpha_Rs_os.append(float(angles[1]))\n",
    "\n",
    "# add to the dataframe\n",
    "shaped_haloes_dataframe['Rs'] = Rs_angle # [arcsec]\n",
    "shaped_haloes_dataframe['alpha_Rs'] = alpha_Rs_os # [arcsec]"
   ]
  },
  {
   "cell_type": "markdown",
   "metadata": {},
   "source": [
    "### Compute the convergence and shear of individual haloes at $x = y = 0$"
   ]
  },
  {
   "cell_type": "code",
   "execution_count": 24,
   "metadata": {},
   "outputs": [
    {
     "data": {
      "application/vnd.jupyter.widget-view+json": {
       "model_id": "9f752db238d04dc2bca9ff47f40c7c58",
       "version_major": 2,
       "version_minor": 0
      },
      "text/plain": [
       "  0%|          | 0/34416 [00:00<?, ?it/s]"
      ]
     },
     "metadata": {},
     "output_type": "display_data"
    }
   ],
   "source": [
    "# get the parameters needed for the lenstronomy kwargs and convert to a list of dictionaries\n",
    "kwargs_nfw = shaped_haloes_dataframe[['Rs', 'alpha_Rs', 'center_x', 'center_y']].to_dict('records')\n",
    "\n",
    "single_halo_lens_model = LensModel(lens_model_list=['NFW'], z_source=z_source)\n",
    "\n",
    "gamma1_ohs = []\n",
    "gamma2_ohs = []\n",
    "kappa_ohs  = []\n",
    "\n",
    "for i in tqdm(range(shaped_halo_number)):\n",
    "    single_gamma = single_halo_lens_model.gamma(x=0.0, y=0.0, kwargs=[kwargs_nfw[i]])\n",
    "    gamma1_ohs.append(float(single_gamma[0]))\n",
    "    gamma2_ohs.append(float(single_gamma[1]))\n",
    "    \n",
    "    single_kappa = single_halo_lens_model.kappa(x=0.0, y=0.0, kwargs=[kwargs_nfw[i]])\n",
    "    kappa_ohs.append(float(single_kappa))\n",
    "    \n",
    "shaped_haloes_dataframe['gamma1_ohs'] = gamma1_ohs\n",
    "shaped_haloes_dataframe['gamma2_ohs'] = gamma2_ohs \n",
    "shaped_haloes_dataframe['kappa_ohs']  = kappa_ohs"
   ]
  },
  {
   "cell_type": "markdown",
   "metadata": {},
   "source": [
    "### Compute the convergence and shear of individual haloes at $x=\\theta_{\\rm E}$ or $y=\\theta_{\\rm E}$"
   ]
  },
  {
   "cell_type": "code",
   "execution_count": 25,
   "metadata": {},
   "outputs": [
    {
     "data": {
      "application/vnd.jupyter.widget-view+json": {
       "model_id": "a10c5efac3b4407c918bd5707e7eeb38",
       "version_major": 2,
       "version_minor": 0
      },
      "text/plain": [
       "  0%|          | 0/34416 [00:00<?, ?it/s]"
      ]
     },
     "metadata": {},
     "output_type": "display_data"
    }
   ],
   "source": [
    "gamma1_thetaE_x = []\n",
    "gamma2_thetaE_x = []\n",
    "\n",
    "gamma1_thetaE_y = []\n",
    "gamma2_thetaE_y = []\n",
    "\n",
    "for i in tqdm(range(shaped_halo_number)):\n",
    "    gamma_thetaE_x = single_halo_lens_model.gamma(x = theta_E, y = 0.0, kwargs = [kwargs_nfw[i]])\n",
    "    gamma1_thetaE_x.append(float(gamma_thetaE_x[0]))\n",
    "    gamma2_thetaE_x.append(float(gamma_thetaE_x[1]))\n",
    "    gamma_thetaE_y = single_halo_lens_model.gamma(x = 0.0, y = theta_E, kwargs = [kwargs_nfw[i]])\n",
    "    gamma1_thetaE_y.append(float(gamma_thetaE_y[0]))\n",
    "    gamma2_thetaE_y.append(float(gamma_thetaE_y[1]))"
   ]
  },
  {
   "cell_type": "markdown",
   "metadata": {},
   "source": [
    "### Negative convergence for compensation\n",
    "Since we are adding mass to the Universe by adding haloes, we must compensate it by adding negative mass in order to compensate. In principle we should respect the mean density of the Universe, but here since the haloes are not uniformly distributed due to the shear cut, we decide instead to add a mass sheet with convergence corresponding to the convergence of each halo on the LOS. This is not physically very consistent, but it should work."
   ]
  },
  {
   "cell_type": "code",
   "execution_count": 26,
   "metadata": {},
   "outputs": [],
   "source": [
    "kappa_neg = [-k for k in kappa_ohs]\n",
    "shaped_haloes_dataframe['kappa_neg'] = kappa_neg"
   ]
  },
  {
   "cell_type": "markdown",
   "metadata": {},
   "source": [
    "### Compute the total (os) displacement, convergence and shear"
   ]
  },
  {
   "cell_type": "code",
   "execution_count": 27,
   "metadata": {},
   "outputs": [],
   "source": [
    "# Define the (os) setup without the main lens\n",
    "\n",
    "lens_model_list = ['NFW'] * shaped_halo_number + ['CONVERGENCE'] * shaped_halo_number\n",
    "lens_redshift_list = 2 * shaped_haloes_dataframe['z'].to_list()\n",
    "kwargs_neg = [{'kappa': k} for k in shaped_haloes_dataframe['kappa_neg']]\n",
    "kwargs_lens = kwargs_nfw + kwargs_neg\n",
    "\n",
    "mp_os_lens_model = LensModel(lens_model_list = lens_model_list, \n",
    "                             z_source=z_source,\n",
    "                             lens_redshift_list=lens_redshift_list,\n",
    "                             multi_plane=True)"
   ]
  },
  {
   "cell_type": "code",
   "execution_count": 28,
   "metadata": {},
   "outputs": [
    {
     "name": "stdout",
     "output_type": "stream",
     "text": [
      "The total expected (os) displacement is\n",
      "alpha1_os = 1.07 arcsec\n",
      "alpha2_os = -2.89 arcsec\n",
      "\n",
      "The total expected (os) convergence and shear are\n",
      "kappa_os = -0.006\n",
      "gamma1_os = -0.007\n",
      "gamma2_os = 0.001\n"
     ]
    }
   ],
   "source": [
    "# Compute the (os) displacement\n",
    "alpha1_os, alpha2_os = mp_os_lens_model.alpha(x=0.0, y=0.0, kwargs=kwargs_lens)\n",
    "print(\n",
    "\"The total expected (os) displacement is\\n\\\n",
    "alpha1_os = {:.2f} arcsec\\n\\\n",
    "alpha2_os = {:.2f} arcsec\\n\".format(alpha1_os, alpha2_os))\n",
    "\n",
    "# Compute the total (os) convergence and shear\n",
    "kappa_os = mp_os_lens_model.kappa(x=0.0, y=0.0, kwargs=kwargs_lens)\n",
    "gamma1_os, gamma2_os = mp_os_lens_model.gamma(x=0.0, y=0.0, kwargs=kwargs_lens)\n",
    "print(\n",
    "\"The total expected (os) convergence and shear are\\n\\\n",
    "kappa_os = {:.3f}\\n\\\n",
    "gamma1_os = {:.3f}\\n\\\n",
    "gamma2_os = {:.3f}\".format(kappa_os, gamma1_os, gamma2_os))"
   ]
  },
  {
   "cell_type": "code",
   "execution_count": 29,
   "metadata": {},
   "outputs": [
    {
     "name": "stdout",
     "output_type": "stream",
     "text": [
      "The (os) shear obtained by summing the individual halo (os) shears is:\n",
      "gamma1_os_sum = 0.001\n",
      "gamma2_os_sum = 0.003\n"
     ]
    }
   ],
   "source": [
    "# Compare with the shear obtained from the sum of individual shears\n",
    "\n",
    "gamma1_os_sum = sum(gamma1_ohs)\n",
    "gamma2_os_sum = sum(gamma2_ohs)\n",
    "print(\"The (os) shear obtained by summing the individual halo (os) shears is:\\n\\\n",
    "gamma1_os_sum = {:.3f}\\n\\\n",
    "gamma2_os_sum = {:.3f}\".format(gamma1_os_sum, gamma2_os_sum))"
   ]
  },
  {
   "cell_type": "markdown",
   "metadata": {},
   "source": [
    "### Histogram of the shear components"
   ]
  },
  {
   "cell_type": "code",
   "execution_count": 30,
   "metadata": {},
   "outputs": [
    {
     "data": {
      "image/png": "[encoded data removed]",
      "text/plain": [
       "<Figure size 864x432 with 2 Axes>"
      ]
     },
     "metadata": {},
     "output_type": "display_data"
    }
   ],
   "source": [
    "fig, ax = plt.subplots(1, 2, figsize=(12, 6), sharex=False, sharey=False)\n",
    "fig.tight_layout()\n",
    "\n",
    "for a, g, c in zip(ax, [gamma1_ohs, gamma2_ohs], [green[0], purple[0]]):\n",
    "    a.hist(g, bins = 20, color = c)\n",
    "    a.set_yscale('log')\n",
    "    a.set_xlabel('$\\gamma_{}$'.format([gamma1_ohs, gamma2_ohs].index(g)+1), fontsize=20)\n",
    "    a.set_ylabel('Count', fontsize=20)\n",
    "plt.savefig(outpath + job_name + '_gamma_os_histogram.pdf', dpi=300, bbox_inches='tight', transparent=True)\n",
    "plt.show()"
   ]
  },
  {
   "cell_type": "markdown",
   "metadata": {},
   "source": [
    "### Map of the shear across the image"
   ]
  },
  {
   "cell_type": "code",
   "execution_count": 31,
   "metadata": {},
   "outputs": [],
   "source": [
    "theta1 = np.linspace(-2.0, 2.0, 10) # takes about 7 mins to do this size array\n",
    "theta2 = np.linspace(2.0, -2.0, 10)"
   ]
  },
  {
   "cell_type": "code",
   "execution_count": 32,
   "metadata": {},
   "outputs": [
    {
     "data": {
      "application/vnd.jupyter.widget-view+json": {
       "model_id": "36eb993e7bf74597b97901b7bf3f5949",
       "version_major": 2,
       "version_minor": 0
      },
      "text/plain": [
       "  0%|          | 0/10 [00:00<?, ?it/s]"
      ]
     },
     "metadata": {},
     "output_type": "display_data"
    },
    {
     "data": {
      "application/vnd.jupyter.widget-view+json": {
       "model_id": "7004b49e95f34aeb950f4d1ef7b9ac96",
       "version_major": 2,
       "version_minor": 0
      },
      "text/plain": [
       "  0%|          | 0/10 [00:00<?, ?it/s]"
      ]
     },
     "metadata": {},
     "output_type": "display_data"
    },
    {
     "data": {
      "application/vnd.jupyter.widget-view+json": {
       "model_id": "df78cfb6967b47c3b1cea625245be8df",
       "version_major": 2,
       "version_minor": 0
      },
      "text/plain": [
       "  0%|          | 0/10 [00:00<?, ?it/s]"
      ]
     },
     "metadata": {},
     "output_type": "display_data"
    },
    {
     "data": {
      "application/vnd.jupyter.widget-view+json": {
       "model_id": "e0e0e0eb75ae41c294a092517e63b00a",
       "version_major": 2,
       "version_minor": 0
      },
      "text/plain": [
       "  0%|          | 0/10 [00:00<?, ?it/s]"
      ]
     },
     "metadata": {},
     "output_type": "display_data"
    },
    {
     "data": {
      "application/vnd.jupyter.widget-view+json": {
       "model_id": "63a824bc6ab1453b9f68ab35cd3c9a28",
       "version_major": 2,
       "version_minor": 0
      },
      "text/plain": [
       "  0%|          | 0/10 [00:00<?, ?it/s]"
      ]
     },
     "metadata": {},
     "output_type": "display_data"
    },
    {
     "data": {
      "application/vnd.jupyter.widget-view+json": {
       "model_id": "a02f9ee81cee4052a07bcf0f2a38e205",
       "version_major": 2,
       "version_minor": 0
      },
      "text/plain": [
       "  0%|          | 0/10 [00:00<?, ?it/s]"
      ]
     },
     "metadata": {},
     "output_type": "display_data"
    },
    {
     "data": {
      "application/vnd.jupyter.widget-view+json": {
       "model_id": "29f312d919b4401f95eaa40b2e7954be",
       "version_major": 2,
       "version_minor": 0
      },
      "text/plain": [
       "  0%|          | 0/10 [00:00<?, ?it/s]"
      ]
     },
     "metadata": {},
     "output_type": "display_data"
    },
    {
     "data": {
      "application/vnd.jupyter.widget-view+json": {
       "model_id": "d95c4ec11f8e4a4a983be3f9c1fde641",
       "version_major": 2,
       "version_minor": 0
      },
      "text/plain": [
       "  0%|          | 0/10 [00:00<?, ?it/s]"
      ]
     },
     "metadata": {},
     "output_type": "display_data"
    },
    {
     "data": {
      "application/vnd.jupyter.widget-view+json": {
       "model_id": "bd3d4d53df624a0ca6d5bcb1cbca193c",
       "version_major": 2,
       "version_minor": 0
      },
      "text/plain": [
       "  0%|          | 0/10 [00:00<?, ?it/s]"
      ]
     },
     "metadata": {},
     "output_type": "display_data"
    },
    {
     "data": {
      "application/vnd.jupyter.widget-view+json": {
       "model_id": "561808937729443681fc551d266d57ed",
       "version_major": 2,
       "version_minor": 0
      },
      "text/plain": [
       "  0%|          | 0/10 [00:00<?, ?it/s]"
      ]
     },
     "metadata": {},
     "output_type": "display_data"
    },
    {
     "data": {
      "application/vnd.jupyter.widget-view+json": {
       "model_id": "b33720e140b74c35983c9ca6bcd254c4",
       "version_major": 2,
       "version_minor": 0
      },
      "text/plain": [
       "  0%|          | 0/10 [00:00<?, ?it/s]"
      ]
     },
     "metadata": {},
     "output_type": "display_data"
    }
   ],
   "source": [
    "map_array_g1 = np.empty((theta1.size, theta2.size))\n",
    "map_array_g2 = np.empty((theta1.size, theta2.size))\n",
    "\n",
    "for i in tqdm(range(theta1.size)):\n",
    "    for j in tqdm(range(theta2.size)):\n",
    "        g = mp_os_lens_model.gamma(x=theta1[i], y=theta2[j], kwargs=kwargs_lens)\n",
    "        map_array_g1[i,j] = float(g[0])\n",
    "        map_array_g2[i,j] = float(g[1])"
   ]
  },
  {
   "cell_type": "code",
   "execution_count": 50,
   "metadata": {},
   "outputs": [
    {
     "data": {
      "image/png": "[encoded data removed]",
      "text/plain": [
       "<Figure size 720x288 with 3 Axes>"
      ]
     },
     "metadata": {},
     "output_type": "display_data"
    }
   ],
   "source": [
    "einstein_ring1 = plt.Circle((0, 0), theta_E, color='k', ls='--', fill=False, alpha=0.3)\n",
    "einstein_ring2 = plt.Circle((0, 0), theta_E, color='k', ls='--', fill=False, alpha=0.3)\n",
    "\n",
    "fig, ax = plt.subplots(1, 2, figsize=(10, 4), sharex=False, sharey=False)\n",
    "\n",
    "cmap = cmr.prinsenvlag\n",
    "vmin = -0.02\n",
    "vmax = 0.02\n",
    "\n",
    "bar1 = ax[0].imshow(map_array_g1, extent=(theta1[0], theta1[-1], theta2[0], theta2[-1]), \n",
    "             origin='lower', \n",
    "             cmap = cmap, \n",
    "             vmin=vmin, vmax=vmax)\n",
    "\n",
    "ax[0].add_patch(einstein_ring1)\n",
    "\n",
    "g1_text = offsetbox.AnchoredText('$\\gamma_1$', loc=2, frameon=False)\n",
    "ax[0].add_artist(g1_text)\n",
    "\n",
    "ax[0].set_xlabel(r'$\\theta_x$ [arcsec]')\n",
    "ax[0].set_ylabel(r'$\\theta_y$ [arcsec]')\n",
    "\n",
    "bar2 = ax[1].imshow(map_array_g2, extent=(theta1[0], theta1[-1], theta2[0], theta2[-1]), \n",
    "             origin='lower', \n",
    "             cmap = cmap, \n",
    "             vmin=vmin, vmax=vmax)\n",
    "\n",
    "ax[1].add_patch(einstein_ring2)\n",
    "\n",
    "g2_text = offsetbox.AnchoredText('$\\gamma_2$', loc=2, frameon=False)\n",
    "ax[1].add_artist(g2_text)\n",
    "\n",
    "ax[1].set_xlabel(r'$\\theta_x$ [arcsec]')\n",
    "ax[1].set_ylabel(r'$\\theta_y$ [arcsec]')\n",
    "\n",
    "colorbar(bar2, r'$\\gamma_{\\rm os}$', 'vertical')\n",
    "\n",
    "plt.savefig(outpath + job_name + '_gamma_os_map.pdf', dpi=300, bbox_inches='tight', transparent=True)\n",
    "\n",
    "plt.show()"
   ]
  },
  {
   "cell_type": "markdown",
   "metadata": {},
   "source": [
    "### Histogram of the convergence"
   ]
  },
  {
   "cell_type": "code",
   "execution_count": null,
   "metadata": {},
   "outputs": [],
   "source": [
    "bins = [1e-9, 1e-8, 1e-7, 1e-6, 1e-5, 1e-4, 1e-3, 1e-2, 1e-1, 1e0, 1e1]\n",
    "\n",
    "fig, ax = plt.subplots(1, 1, figsize=(8, 6))\n",
    "\n",
    "plt.hist(kappa_ohs, bins = bins, color = analogous[0])\n",
    "plt.xscale('log')\n",
    "plt.yscale('log')\n",
    "plt.xticks(fontsize = 20)\n",
    "plt.yticks(fontsize = 20)\n",
    "plt.xlabel('$\\kappa$', fontsize = 20)\n",
    "plt.ylabel('Count', fontsize = 20)\n",
    "plt.savefig(outpath + job_name + '_kappa_os_histogram.pdf', dpi=300, bbox_inches='tight', transparent=True)\n",
    "plt.show()"
   ]
  },
  {
   "cell_type": "markdown",
   "metadata": {},
   "source": [
    "### Safety net: remove haloes based on convergence\n",
    "We check the convergence of each halo; if $\\kappa > 1$, the halo is acting as a strong lens rather than a perturber and should be removed from the population. To be doubly sure we are getting rid of all the problematic haloes, we remove all with $\\kappa > 0.5$."
   ]
  },
  {
   "cell_type": "code",
   "execution_count": null,
   "metadata": {},
   "outputs": [],
   "source": [
    "maximum_convergence = 0.5\n",
    "\n",
    "bad_kappas = [i for i in kappa_ohs if i > maximum_convergence]\n",
    "\n",
    "kappa_percent = (len(bad_kappas)/shaped_halo_number)*100\n",
    "\n",
    "print('There are {} haloes out of {} with a convergence greater than {} ({:.1f}%).'.format(len(bad_kappas), shaped_halo_number, maximum_convergence, kappa_percent))"
   ]
  },
  {
   "cell_type": "markdown",
   "metadata": {},
   "source": [
    "### Safety net II: remove haloes based on shear gradient"
   ]
  },
  {
   "cell_type": "code",
   "execution_count": null,
   "metadata": {},
   "outputs": [],
   "source": [
    "def shear_gradient(g1_Ex, g2_Ex, g1_Ey, g2_Ey, g1, g2):\n",
    "    Del_x_1  = g1_Ex - g1\n",
    "    Del_x_2  = g2_Ex - g2\n",
    "    Del_x_sq = (Del_x_1)**2. + (Del_x_2)**2.\n",
    "    Del_y_1  = g1_Ey - g1\n",
    "    Del_y_2  = g2_Ey - g2\n",
    "    Del_y_sq = (Del_y_1)**2. + (Del_y_2)**2.\n",
    "    Del      = np.sqrt((Del_x_sq + Del_y_sq)/(g1**2. + g2**2.))\n",
    "    return Del"
   ]
  },
  {
   "cell_type": "code",
   "execution_count": null,
   "metadata": {},
   "outputs": [],
   "source": [
    "Del = []\n",
    "\n",
    "for i in tqdm(range(shaped_halo_number)):\n",
    "    Del.append(shear_gradient(gamma1_thetaE_x[i],\n",
    "                              gamma2_thetaE_x[i],\n",
    "                              gamma1_thetaE_y[i],\n",
    "                              gamma2_thetaE_y[i],\n",
    "                              gamma1_ohs[i],\n",
    "                              gamma2_ohs[i]))\n",
    "    \n",
    "shaped_haloes_dataframe['Del'] = Del"
   ]
  },
  {
   "cell_type": "code",
   "execution_count": null,
   "metadata": {},
   "outputs": [],
   "source": [
    "%matplotlib inline\n",
    "bins = [1e-3, 1e-2, 1e-1, 0.1e0, 0.2e0, 0.3e0, 0.4e0, 0.5e0, 0.6e0, 0.7e0, 0.8e0, 0.9e0, 1e0, 1e1]\n",
    "\n",
    "fig, ax = plt.subplots(1, 1, figsize=(8, 6))\n",
    "\n",
    "plt.hist(Del, bins = bins, color = analogous[1])\n",
    "plt.xscale('log')\n",
    "plt.yscale('log')\n",
    "plt.xticks(fontsize = 20)\n",
    "plt.yticks(fontsize = 20)\n",
    "plt.xlabel('$\\Delta$', fontsize = 20)\n",
    "plt.ylabel('Count', fontsize = 20)\n",
    "plt.savefig(outpath + job_name + '_Del_histogram.pdf', dpi=300, bbox_inches='tight', transparent=True)\n",
    "plt.show()"
   ]
  },
  {
   "cell_type": "code",
   "execution_count": null,
   "metadata": {},
   "outputs": [],
   "source": [
    "maximum_Del = 0.1\n",
    "\n",
    "bad_Dels = [i for i in Del if i > maximum_Del]\n",
    "\n",
    "Del_percent = (len(bad_Dels)/shaped_halo_number)*100\n",
    "\n",
    "print('There are {} haloes out of {} with a Del greater than {} ({:.2f}%).'.format(len(bad_Dels), shaped_halo_number, maximum_Del, Del_percent))"
   ]
  },
  {
   "cell_type": "markdown",
   "metadata": {},
   "source": [
    "### Update the halo population"
   ]
  },
  {
   "cell_type": "code",
   "execution_count": null,
   "metadata": {},
   "outputs": [],
   "source": [
    "# split the halo dataframe into good and bad\n",
    "discarded_haloes_dataframe = shaped_haloes_dataframe.loc[(shaped_haloes_dataframe['kappa_ohs'] > maximum_convergence) | (shaped_haloes_dataframe['Del'] > maximum_Del)]\n",
    "surviving_haloes_dataframe = shaped_haloes_dataframe.loc[(shaped_haloes_dataframe['kappa_ohs'] <= maximum_convergence) & (shaped_haloes_dataframe['Del'] <= maximum_Del)]\n",
    "\n",
    "discarded_halo_number = len(discarded_haloes_dataframe)\n",
    "surviving_halo_number = len(surviving_haloes_dataframe)\n",
    "\n",
    "# check the split is correct\n",
    "assert discarded_halo_number + surviving_halo_number == shaped_halo_number"
   ]
  },
  {
   "cell_type": "markdown",
   "metadata": {},
   "source": [
    "## Plot the populated region<a name=\"plot\"></a>\n",
    "We can plot it in projection or in 3D.\n",
    "\n",
    "[Back to contents](#contents)"
   ]
  },
  {
   "cell_type": "code",
   "execution_count": null,
   "metadata": {},
   "outputs": [],
   "source": [
    "# for large numbers of haloes the plot below fills up\n",
    "# so we can choose a percentage of the haloes to plot as an example\n",
    "# and change the marker style depending on the number of points that will be plotted\n",
    "\n",
    "plot_percent = 10\n",
    "cut_percent = 10\n",
    "    \n",
    "cut = int((surviving_halo_number/100)*plot_percent)\n",
    "cut_discarded = int((discarded_halo_number/100)*cut_percent)\n",
    "\n",
    "if cut > 2000:\n",
    "    marker = '.'\n",
    "    alpha = 0.2\n",
    "    size = (5,5)\n",
    "else:\n",
    "    marker = 'o'\n",
    "    alpha = 1.0\n",
    "    size=(10,10)"
   ]
  },
  {
   "cell_type": "code",
   "execution_count": null,
   "metadata": {},
   "outputs": [],
   "source": [
    "%matplotlib inline\n",
    "\n",
    "plt.figure(figsize = (10, 8))\n",
    "\n",
    "plt.plot(surviving_haloes_dataframe['d'][:cut], surviving_haloes_dataframe['y_com'][:cut], \n",
    "         color = cool[2], ls = ' ', marker = marker, alpha = alpha,\n",
    "         label = 'Surviving haloes', rasterized=True)\n",
    "\n",
    "plt.plot(discarded_haloes_dataframe['d'][:cut_discarded], discarded_haloes_dataframe['y_com'][:cut_discarded], \n",
    "         color = warm[2], ls = ' ', marker = marker, alpha = alpha, \n",
    "         label = 'Discarded haloes', rasterized=True)\n",
    "\n",
    "# plt.xlim(z_observer, z_source)\n",
    "# plt.ylim(-0.5, 0.5)\n",
    "plt.xticks(fontsize=20)\n",
    "plt.yticks(fontsize=20)\n",
    "plt.xlabel('Comoving distance from the observer $\\chi$ [Mpc]', fontsize=20)\n",
    "plt.ylabel('Comoving transverse position $y$ [Mpc]', fontsize=20)\n",
    "plt.legend(loc = 'upper right', fontsize=20)\n",
    "\n",
    "plt.savefig(outpath + job_name + '_region_rasterised_comoving.pdf', dpi=300, bbox_inches='tight', transparent=True)\n",
    "\n",
    "plt.show()"
   ]
  },
  {
   "cell_type": "code",
   "execution_count": null,
   "metadata": {},
   "outputs": [],
   "source": [
    "# %matplotlib notebook\n",
    "# fig = plt.figure(figsize=(12,12))\n",
    "# ax = plt.axes(projection='3d')\n",
    "# # plt.title('Plot shows {}\\% of each population'.format(plot_percent))\n",
    "# # ax.plot3D(d, np.zeros(len(d)), np.zeros(len(d)), ls = '--', color = 'k', alpha = 0.3)\n",
    "# ax.scatter3D(surviving_haloes_dataframe['d'][:cut], \n",
    "#              surviving_haloes_dataframe['x_com'][:cut], \n",
    "#              surviving_haloes_dataframe['y_com'][:cut], color = cool[2],  marker = marker, alpha = 0.2);\n",
    "# ax.scatter3D(discarded_haloes_dataframe['d'][:cut_discarded], \n",
    "#              discarded_haloes_dataframe['x_com'][:cut_discarded], \n",
    "#              discarded_haloes_dataframe['y_com'][:cut_discarded], color = warm[2],  marker = marker, alpha = 0.2);\n",
    "# ax.set_xlabel('Comoving distance from the observer $\\chi$ [Mpc]')\n",
    "# ax.set_ylabel('Physical $x$ [Mpc]')\n",
    "# ax.set_zlabel('Physical $y$ [Mpc]')\n",
    "\n",
    "# plt.savefig(outpath + job_name + '_volume.pdf', dpi=300, bbox_inches='tight', transparent=True)\n",
    "\n",
    "# plt.show()"
   ]
  },
  {
   "cell_type": "code",
   "execution_count": null,
   "metadata": {},
   "outputs": [],
   "source": [
    "%matplotlib inline\n",
    "fig, ax = plt.subplots(2, 2, figsize=(10,8), sharey=False)\n",
    "\n",
    "ax[0,0].hist(surviving_haloes_dataframe['r'], color = cool[2])\n",
    "ax[0,0].set_xlabel('Distance of haloes from LOS [Mpc]')\n",
    "\n",
    "ax[0,1].hist(surviving_haloes_dataframe['d'], color = cool[2])\n",
    "ax[0,1].set_xlabel('Distance of haloes along LOS [Mpc]')\n",
    "\n",
    "ax[1,0].hist(surviving_haloes_dataframe['x_com'], color = cool[2])\n",
    "ax[1,0].set_xlabel('Physical $x$-coordinate of haloes')\n",
    "\n",
    "ax[1,1].hist(surviving_haloes_dataframe['y_com'], color = cool[2])\n",
    "ax[1,1].set_xlabel('Physical $y$-coordinate of haloes')\n",
    "\n",
    "for a in ax.flat:\n",
    "    a.set_ylabel('Count')\n",
    "    \n",
    "fig.tight_layout()\n",
    "\n",
    "plt.show()"
   ]
  },
  {
   "cell_type": "code",
   "execution_count": null,
   "metadata": {},
   "outputs": [],
   "source": [
    "# fig, ax = plt.subplots(1, 1, figsize=(8, 6))\n",
    "# plt.hist(discarded_haloes_dataframe['d'], color = warm[2])\n",
    "# plt.axvline(dC(z_lens), color = 'k', ls = '--', alpha = 0.3, label = 'Position of main lens')\n",
    "# plt.xlim(0, dC(z_source))\n",
    "# plt.xlabel('$\\chi$ [Mpc]')\n",
    "# plt.ylabel('Count')\n",
    "# plt.legend()\n",
    "# plt.show()"
   ]
  },
  {
   "cell_type": "code",
   "execution_count": null,
   "metadata": {},
   "outputs": [],
   "source": [
    "# print('The masses and concentrations of the problematic haloes are, in descending mass order:\\n')\n",
    "# print(discarded_haloes_dataframe.sort_values('mass', ascending = False)[['mass', 'concentration']])\n",
    "# print('\\nThe shear parameters of the problematic haloes are:\\n'.format(len(discarded_haloes_dataframe)))\n",
    "# print(discarded_haloes_dataframe.sort_values('Del', ascending = False)[['gamma1', 'gamma2', 'Del']])\n",
    "# print('\\nThe shear parameters of the first {} surviving haloes are:\\n'.format(len(discarded_haloes_dataframe)))\n",
    "# print(surviving_haloes_dataframe.sort_values('Del', ascending = False)[['gamma1', 'gamma2', 'Del']][:len(discarded_haloes_dataframe)])"
   ]
  },
  {
   "cell_type": "markdown",
   "metadata": {},
   "source": [
    "### Sanity check I: compare the Einstein radius of the halo with largest shear with its distance from the LOS "
   ]
  },
  {
   "cell_type": "code",
   "execution_count": null,
   "metadata": {},
   "outputs": [],
   "source": [
    "# get the index of the halo with largest gamma1\n",
    "shear_magnitude = np.sqrt(shaped_haloes_dataframe['gamma1_ohs']**2\n",
    "                        + shaped_haloes_dataframe['gamma2_ohs']**2)\n",
    "max_shear = shear_magnitude.max()\n",
    "max_shear_halo_index = shear_magnitude.idxmax()\n",
    "max_shear_halo = shaped_haloes_dataframe.loc[[max_shear_halo_index]]\n",
    "\n",
    "# compute the Einstein radius for this halo assuming it's a point mass\n",
    "max_shear_halo_redshift = float(max_shear_halo['z'])\n",
    "max_shear_halo_mass = float(max_shear_halo['mass'])\n",
    "max_shear_halo_mass_kg = max_shear_halo_mass*solar_mass\n",
    "\n",
    "prefactor = (4*G_Newton*max_shear_halo_mass_kg)/(clight**2.)\n",
    "\n",
    "d_ds_m = distance_conversion(dA(max_shear_halo_redshift, z_source), 'to m')\n",
    "d_os_m = distance_conversion(dA(z_observer, z_source), 'to m')\n",
    "d_od_m = distance_conversion(dA(z_observer, max_shear_halo_redshift), 'to m')\n",
    "\n",
    "distance_combination = d_ds_m/(d_os_m*d_od_m)\n",
    "\n",
    "einstein_radius = np.sqrt(prefactor*distance_combination)\n",
    "\n",
    "print('The Einstein radius of the halo with the largest gamma={:.3f} is {:.2f} arcsec.'.format(max_shear, angle_conversion(einstein_radius, 'to arcsecs')))\n",
    "\n",
    "max_shear_halo_x = float(max_shear_halo['center_x'])\n",
    "max_shear_halo_y = float(max_shear_halo['center_y'])\n",
    "\n",
    "euclid = np.sqrt(max_shear_halo_x**2. + max_shear_halo_y**2.)\n",
    "\n",
    "print('The distance between the LOS and this halo is {:.2f} arcsec.'.format(euclid))\n",
    "\n",
    "print('If these two numbers are roughly the same order of magnitude we are good to go.')"
   ]
  },
  {
   "cell_type": "markdown",
   "metadata": {},
   "source": [
    "### Sanity check II: matter density from the remaining haloes"
   ]
  },
  {
   "cell_type": "code",
   "execution_count": null,
   "metadata": {},
   "outputs": [],
   "source": [
    "total_mass = shaped_haloes_dataframe['mass'].sum()\n",
    "\n",
    "volume = np.pi * R_0**2 * dC(z_source)\n",
    "density = total_mass/volume\n",
    "cgs_conversion = (1000*solar_mass)/(100*Mpc)**3\n",
    "density_cgs = density * cgs_conversion\n",
    "\n",
    "rho_m = cosmo.Om0 * cosmo.critical_density(z_observer).value\n",
    "\n",
    "print('The matter density in the comoving cylinder volume is {:.3e} g/cm^3.'.format(density_cgs))\n",
    "print('The matter density of the Universe at z = {:.2} is {:.3e} g/cm^3.'.format(z_observer, rho_m))\n",
    "print('If the former is quite smaller than the latter then we are good to go.')"
   ]
  },
  {
   "cell_type": "markdown",
   "metadata": {},
   "source": [
    "## Predict the LOS terms: all the haloes <a name=\"predict_shears\"></a>\n",
    "\n",
    "This is done for the complete haloes dataframe, problematic haloes included. The problematic haloes are removed and the shear terms recomputed in the `distributed_haloes_cutter` notebook.\n",
    "\n",
    "[Back to contents](#contents)"
   ]
  },
  {
   "cell_type": "code",
   "execution_count": null,
   "metadata": {},
   "outputs": [],
   "source": [
    "# make a dataframe to save them\n",
    "shears_dataframe = pd.DataFrame(columns = ['gamma1_os', 'gamma2_os', 'kappa_os', 'alpha1_os', 'alpha2_os',\n",
    "                                           'gamma1_od', 'gamma2_od', 'kappa_od', 'alpha1_od', 'alpha2_od',\n",
    "                                           'gamma1_ds', 'gamma2_ds', 'kappa_ds',\n",
    "                                           'gamma1_los', 'gamma2_los', 'kappa_los'])\n",
    "\n",
    "# dummy row so we can write scalars directly to the df\n",
    "shears_dataframe = shears_dataframe.append(pd.Series('dummy'), ignore_index=True)"
   ]
  },
  {
   "cell_type": "code",
   "execution_count": null,
   "metadata": {},
   "outputs": [],
   "source": [
    "# We already computed the expected (os) shear\n",
    "\n",
    "#expected_gamma1_os = sum(gamma1)\n",
    "#expected_gamma2_os = sum(gamma2)\n",
    "#expected_kappa_os  = sum(kappa)\n",
    "\n",
    "shears_dataframe['gamma1_os'] = gamma1_os\n",
    "shears_dataframe['gamma2_os'] = gamma2_os\n",
    "shears_dataframe['kappa_os']  = kappa_os\n",
    "shears_dataframe['alpha1_os'] = alpha1_os\n",
    "shears_dataframe['alpha2_os'] = alpha2_os"
   ]
  },
  {
   "cell_type": "markdown",
   "metadata": {},
   "source": [
    "# OD\n",
    "We proceed similarly with the (od) quantities, without forgetting to update the NFW parameters."
   ]
  },
  {
   "cell_type": "code",
   "execution_count": null,
   "metadata": {},
   "outputs": [],
   "source": [
    "# Extract the foreground haloes\n",
    "foreground_haloes_dataframe = shaped_haloes_dataframe[shaped_haloes_dataframe['z'].between(z_observer, z_lens)]\n",
    "\n",
    "foreground_halo_number = len(foreground_haloes_dataframe)\n",
    "foreground_halo_redshift_list = foreground_haloes_dataframe['z'].to_list()\n",
    "foreground_halo_mass          = foreground_haloes_dataframe['mass'].to_list()\n",
    "foreground_halo_concentration = foreground_haloes_dataframe['concentration'].to_list()\n",
    "\n",
    "print(\"There are in total {:.2e} foreground haloes ({:.1f}% of the relevant sample)\".format(\n",
    "    foreground_halo_number, 100*foreground_halo_number/shaped_halo_number))"
   ]
  },
  {
   "cell_type": "code",
   "execution_count": null,
   "metadata": {},
   "outputs": [],
   "source": [
    "# Define the new NFW parameters\n",
    "\n",
    "Rs_angle = []\n",
    "alpha_Rs_od = []\n",
    "\n",
    "for i in tqdm(range(foreground_halo_number)):\n",
    "    # get the quantities for each halo's redshift\n",
    "    lens_cosmo = LensCosmo(z_lens=foreground_halo_redshift_list[i],\n",
    "                           z_source=z_lens,\n",
    "                           cosmo=cosmo)\n",
    "    \n",
    "    angles = lens_cosmo.nfw_physical2angle(M=foreground_halo_mass[i],\n",
    "                                           c=foreground_halo_concentration[i])\n",
    "    Rs_angle.append(float(angles[0]))\n",
    "    alpha_Rs_od.append(float(angles[1]))\n",
    "\n",
    "# add to the dataframe\n",
    "foreground_haloes_dataframe['Rs'] = Rs_angle # [arcsec]\n",
    "foreground_haloes_dataframe['alpha_Rs'] = alpha_Rs_od # [arcsec]"
   ]
  },
  {
   "cell_type": "code",
   "execution_count": null,
   "metadata": {},
   "outputs": [],
   "source": [
    "# Compute the individual convergences and shears\n",
    "\n",
    "kwargs_nfw = foreground_haloes_dataframe[['Rs','alpha_Rs','center_x','center_y']].to_dict('records')\n",
    "single_halo_lens_model = LensModel(lens_model_list=['NFW'], z_source=z_lens)\n",
    "\n",
    "gamma1_ohd = []\n",
    "gamma2_ohd = []\n",
    "kappa_ohd  = []\n",
    "\n",
    "for i in tqdm(range(foreground_halo_number)):\n",
    "    single_gamma = single_halo_lens_model.gamma(x=0.0, y=0.0, kwargs=[kwargs_nfw[i]])\n",
    "    gamma1_ohd.append(float(single_gamma[0]))\n",
    "    gamma2_ohd.append(float(single_gamma[1]))\n",
    "    \n",
    "    single_kappa = single_halo_lens_model.kappa(x=0.0, y=0.0, kwargs=[kwargs_nfw[i]])\n",
    "    kappa_ohd.append(float(single_kappa))"
   ]
  },
  {
   "cell_type": "code",
   "execution_count": null,
   "metadata": {},
   "outputs": [],
   "source": [
    "# Define the (od) negative kappas from the (os) ones\n",
    "\n",
    "kappa_neg_os_foreground = foreground_haloes_dataframe['kappa_neg']\n",
    "kappa_neg_od_foreground = []\n",
    "\n",
    "for h, kappa in enumerate(kappa_neg_os_foreground):\n",
    "    z_h = foreground_halo_redshift_list[h]\n",
    "    d_hd = dA(z_h, z_lens)\n",
    "    d_hs = dA(z_h, z_source)\n",
    "    kappa_ohd = d_hd * d_os / d_od / d_os * kappa \n",
    "    kappa_neg_od_foreground.append(kappa_ohd)\n",
    "    \n",
    "foreground_haloes_dataframe['kappa_neg_od'] = kappa_neg_od_foreground"
   ]
  },
  {
   "cell_type": "code",
   "execution_count": null,
   "metadata": {},
   "outputs": [],
   "source": [
    "print(min(kappa_neg_od_foreground), max(kappa_neg_od_foreground))"
   ]
  },
  {
   "cell_type": "code",
   "execution_count": null,
   "metadata": {},
   "outputs": [],
   "source": [
    "# Define the (od) setup without the main lens\n",
    "\n",
    "lens_model_list = ['NFW'] * foreground_halo_number + ['CONVERGENCE'] * foreground_halo_number\n",
    "lens_redshift_list = 2 * foreground_haloes_dataframe['z'].to_list()\n",
    "kwargs_neg = [{'kappa': k} for k in foreground_haloes_dataframe['kappa_neg']]\n",
    "kwargs_lens = kwargs_nfw + kwargs_neg\n",
    "\n",
    "mp_od_lens_model = LensModel(lens_model_list = lens_model_list, \n",
    "                             z_source=z_lens,  # notice we use the main lens redshift as the 'source'\n",
    "                             lens_redshift_list=lens_redshift_list,\n",
    "                             multi_plane=True)"
   ]
  },
  {
   "cell_type": "code",
   "execution_count": null,
   "metadata": {},
   "outputs": [],
   "source": [
    "# Compute the (od) displacement\n",
    "alpha1_od, alpha2_od = mp_od_lens_model.alpha(x=0.0, y=0.0, kwargs=kwargs_lens)\n",
    "print(\n",
    "\"The total expected (od) displacement is\\n\\\n",
    "alpha1_od = {:.2f} arcsec\\n\\\n",
    "alpha2_od = {:.2f} arcsec\\n\".format(alpha1_od, alpha2_od))\n",
    "\n",
    "# Compute the total (od) convergence and shear\n",
    "kappa_od = mp_od_lens_model.kappa(x=0.0, y=0.0, kwargs=kwargs_lens)\n",
    "gamma1_od, gamma2_od = mp_od_lens_model.gamma(x=0.0, y=0.0, kwargs=kwargs_lens)\n",
    "print(\n",
    "\"The total expected (od) convergence and shear are\\n\\\n",
    "kappa_od = {:.3f}\\n\\\n",
    "gamma1_od = {:.3f}\\n\\\n",
    "gamma2_od = {:.3f}\".format(kappa_od, gamma1_od, gamma2_od))"
   ]
  },
  {
   "cell_type": "code",
   "execution_count": null,
   "metadata": {},
   "outputs": [],
   "source": [
    "# Compare with the (od) shear obtained from the sum of individual (od) shears\n",
    "\n",
    "gamma1_od_sum = sum(gamma1_ohd)\n",
    "gamma2_od_sum = sum(gamma2_ohd)\n",
    "print(\"The (od) shear obtained by summing the individual halo (od) shears is:\\n\\\n",
    "gamma1_od_sum = {:.3f}\\n\\\n",
    "gamma2_od_sum = {:.3f}\".format(gamma1_od_sum, gamma2_od_sum))"
   ]
  },
  {
   "cell_type": "code",
   "execution_count": null,
   "metadata": {},
   "outputs": [],
   "source": [
    "# save in dataframe\n",
    "shears_dataframe['alpha1_od'] = alpha1_od\n",
    "shears_dataframe['alpha2_od'] = alpha2_od\n",
    "shears_dataframe['gamma1_od'] = gamma1_od\n",
    "shears_dataframe['gamma2_od'] = gamma2_od\n",
    "shears_dataframe['kappa_od']  = kappa_od"
   ]
  },
  {
   "cell_type": "markdown",
   "metadata": {},
   "source": [
    "# DS\n",
    "Only the (od) and (os) components play a role in the source position correction, so we don't need to compute `alpha_ds`.\n",
    "\n",
    "Since it's complicated to change the observer's position, we rely on the approximate rescaling method to get the (ds) quantities."
   ]
  },
  {
   "cell_type": "code",
   "execution_count": null,
   "metadata": {},
   "outputs": [],
   "source": [
    "# Extract the background haloes\n",
    "background_haloes_dataframe = shaped_haloes_dataframe[shaped_haloes_dataframe['z'].between(z_lens, z_source)]\n",
    "\n",
    "background_halo_number = len(background_haloes_dataframe)\n",
    "background_halo_redshift_list = background_haloes_dataframe['z'].to_list()\n",
    "background_halo_mass          = background_haloes_dataframe['mass'].to_list()\n",
    "background_halo_concentration = background_haloes_dataframe['concentration'].to_list()\n",
    "\n",
    "print(\"There are in total {:.2e} background haloes ({:.1f}% of the relevant sample)\".format(\n",
    "    background_halo_number, 100*background_halo_number/shaped_halo_number))"
   ]
  },
  {
   "cell_type": "code",
   "execution_count": null,
   "metadata": {},
   "outputs": [],
   "source": [
    "kappa_dhs  = []\n",
    "gamma1_dhs = []\n",
    "gamma2_dhs = []\n",
    "\n",
    "for h in tqdm(range(background_halo_number)):\n",
    "    \n",
    "    z_h  = background_halo_redshift_list[h]\n",
    "    d_dh = dA(z_lens, z_h)\n",
    "    d_oh = dA(z_observer, z_h)\n",
    "    \n",
    "    kap_ohs  = kappa_ohs[h]\n",
    "    gam1_ohs = gamma1_ohs[h]\n",
    "    gam2_ohs = gamma2_ohs[h]\n",
    "    \n",
    "    kappa_dhs.append(d_dh * d_os / d_ds / d_oh * kap_ohs)\n",
    "    gamma1_dhs.append(d_dh * d_os / d_ds / d_oh * gam1_ohs)\n",
    "    gamma2_dhs.append(d_dh * d_os / d_ds / d_oh * gam2_ohs)\n",
    "    \n",
    "background_haloes_dataframe['kappa_dhs'] = kappa_dhs\n",
    "background_haloes_dataframe['gamma1_dhs'] = gamma1_dhs\n",
    "background_haloes_dataframe['gamma2_dhs'] = gamma2_dhs"
   ]
  },
  {
   "cell_type": "code",
   "execution_count": null,
   "metadata": {},
   "outputs": [],
   "source": [
    "# Compute the total (ds) terms\n",
    "\n",
    "kappa_ds  = 0 # because if we really use the negative mass sheets its should compensate\n",
    "gamma1_ds = sum(gamma1_dhs)\n",
    "gamma2_ds = sum(gamma2_dhs)\n",
    "\n",
    "print(\"The (ds) shear obtained by summing the individual halo (ds) shears is:\\n\\\n",
    "gamma1_ds = {:.3f}\\n\\\n",
    "gamma2_ds = {:.3f}\".format(gamma1_ds, gamma2_ds))\n",
    "\n",
    "# save in dataframe\n",
    "shears_dataframe['gamma1_ds'] = gamma1_ds\n",
    "shears_dataframe['gamma2_ds'] = gamma2_ds\n",
    "shears_dataframe['kappa_ds']  = kappa_ds"
   ]
  },
  {
   "cell_type": "markdown",
   "metadata": {},
   "source": [
    "### Get the LOS component"
   ]
  },
  {
   "cell_type": "code",
   "execution_count": null,
   "metadata": {},
   "outputs": [],
   "source": [
    "gamma1_LOS = gamma1_os + gamma1_od - gamma1_ds\n",
    "gamma2_LOS = gamma2_os + gamma2_od - gamma2_ds\n",
    "kappa_LOS  = kappa_os  + kappa_od  - kappa_ds\n",
    "\n",
    "shears_dataframe['gamma1_los'] = gamma1_LOS\n",
    "shears_dataframe['gamma2_los'] = gamma2_LOS\n",
    "shears_dataframe['kappa_los']  = kappa_LOS"
   ]
  },
  {
   "cell_type": "code",
   "execution_count": null,
   "metadata": {},
   "outputs": [],
   "source": [
    "print('\\nThe predicted shear components for all haloes are:')\n",
    "print('gamma_os  = ({:.3e}, {:.3e})'.format(gamma1_os, gamma2_os))\n",
    "print('gamma_od  = ({:.3e}, {:.3e})'.format(gamma1_od, gamma2_od))\n",
    "print('gamma_ds  = ({:.3e}, {:.3e})'.format(gamma1_ds, gamma2_ds))\n",
    "print('gamma_LOS = ({:.3e}, {:.3e})'.format(gamma1_LOS, gamma2_LOS))"
   ]
  },
  {
   "cell_type": "code",
   "execution_count": null,
   "metadata": {},
   "outputs": [],
   "source": [
    "print('\\nThe predicted convergence components are:')\n",
    "print('kappa_os  = {:.3e}.'.format(kappa_os))\n",
    "print('kappa_od  = {:.3e}.'.format(kappa_od))\n",
    "print('kappa_ds  = {:.3e}.'.format(kappa_ds))\n",
    "print('kappa_LOS = {:.3e}.'.format(kappa_LOS))"
   ]
  },
  {
   "cell_type": "markdown",
   "metadata": {},
   "source": [
    "## Save the final dataframes to file"
   ]
  },
  {
   "cell_type": "code",
   "execution_count": null,
   "metadata": {},
   "outputs": [],
   "source": [
    "# write haloes to fits\n",
    "haloes_fits = Table.from_pandas(shaped_haloes_dataframe)\n",
    "haloes_fits.write(outpath + 'total_haloes_dataframe_' + job_name + '.fits', overwrite = True)\n",
    "\n",
    "# write haloes to csv for quick looking at\n",
    "# haloes_dataframe.to_csv(outpath + 'total_haloes_dataframe_' + job_name + '.csv', index = False)\n",
    "\n",
    "# write shears to csv\n",
    "shears_dataframe.to_csv(outpath + 'total_shears_dataframe_' + job_name + '.csv', index = False)"
   ]
  },
  {
   "cell_type": "markdown",
   "metadata": {},
   "source": [
    "[Back to contents](#contents)"
   ]
  }
 ],
 "metadata": {
  "kernelspec": {
   "display_name": "Python 3",
   "language": "python",
   "name": "python3"
  },
  "language_info": {
   "codemirror_mode": {
    "name": "ipython",
    "version": 3
   },
   "file_extension": ".py",
   "mimetype": "text/x-python",
   "name": "python",
   "nbconvert_exporter": "python",
   "pygments_lexer": "ipython3",
   "version": "3.8.5"
  }
 },
 "nbformat": 4,
 "nbformat_minor": 5
}
