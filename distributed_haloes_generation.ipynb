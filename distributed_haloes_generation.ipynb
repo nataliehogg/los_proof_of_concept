{
 "cells": [
  {
   "cell_type": "markdown",
   "metadata": {
    "tags": []
   },
   "source": [
    "# Distributed haloes generation simplified\n",
    "<b>Author</b>: Natalie B. Hogg"
   ]
  },
  {
   "cell_type": "markdown",
   "metadata": {},
   "source": [
    "We use `lenstronomy` to create an image produced by the so-called \"distributed haloes\" model, where we have a main lens modelled by an EPL profile, with a large number of NFW haloes along the line-of-sight, both in front of and behind the main lens. We draw the positions of the haloes from a plectrum-shaped volume whose radius is dependent on the number density of haloes and the comoving distances from observer to halo and observer to source. We obtain the number density of the haloes and their masses from a halo mass function computed using `colossus`. We use the multi-plane lensing functionality of `lenstronomy` to place the haloes along the line-of-sight.\n",
    "\n",
    "We create a mock image that would be observed in this situation, and attempt to fit it with a model which includes an EPL main lens plus line-of-sight shear. We aim to show that the MCMC can correctly recover the predicted LOS shears. We find that a number of haloes break the tidal approximation and induce a flexion-like residual in the reconstructed image. With these beyond-tidal haloes removed from the population, the LOS shears are recovered perfectly.\n",
    "\n",
    "**This notebook generates and saves the haloes**."
   ]
  },
  {
   "cell_type": "markdown",
   "metadata": {},
   "source": [
    "## Contents <a name=\"contents\"></a>\n",
    "1. [Set up](#setup)\n",
    "2. [Create haloes](#create_haloes)\n",
    " 1. [Mass](#mass)\n",
    " 2. [Plectrum region](#plectrum)\n",
    " 2. [Distances](#distance)\n",
    " 3. [Remaining parameters](#lenstronomy)\n",
    "3. [Plot the populated region](#plot)\n",
    "4. [Compute the shears](#predict_shears)"
   ]
  },
  {
   "cell_type": "markdown",
   "metadata": {},
   "source": [
    "## Set up <a name=\"setup\"></a>"
   ]
  },
  {
   "cell_type": "markdown",
   "metadata": {},
   "source": [
    "### Import packages"
   ]
  },
  {
   "cell_type": "code",
   "execution_count": 1,
   "metadata": {},
   "outputs": [],
   "source": [
    "# computation\n",
    "import numpy as np\n",
    "import pandas as pd\n",
    "import random as r\n",
    "from scipy.interpolate import interp1d\n",
    "from scipy.integrate import trapezoid\n",
    "\n",
    "# plotting\n",
    "import seaborn as sns\n",
    "from matplotlib import pyplot as plt\n",
    "from matplotlib import rc, rcParams, rcParamsDefault\n",
    "from mpl_toolkits import mplot3d\n",
    "\n",
    "# cosmology\n",
    "from colossus.cosmology import cosmology as colcos\n",
    "from colossus.lss import mass_function\n",
    "from colossus.halo import concentration\n",
    "from astropy.table import Table\n",
    "from astropy.cosmology import FlatLambdaCDM, z_at_value\n",
    "from astropy import constants as const\n",
    "from astropy import units as u\n",
    "\n",
    "# monitoring\n",
    "from tqdm.notebook import tqdm\n",
    "import warnings\n",
    "warnings.filterwarnings('ignore')\n",
    "\n",
    "%matplotlib inline\n",
    "\n",
    "# this is where the figures will be saved\n",
    "outpath  = r'/home/natalie/Documents/Projects/los_effects/figures/distributed_haloes/simple/' \n",
    "# outpath  = '/Users/pierrefleury/Documents/data/haloes/'"
   ]
  },
  {
   "cell_type": "markdown",
   "metadata": {},
   "source": [
    "### Import `lenstronomy` packages"
   ]
  },
  {
   "cell_type": "code",
   "execution_count": 2,
   "metadata": {},
   "outputs": [],
   "source": [
    "from lenstronomy.LensModel.lens_model import LensModel\n",
    "from lenstronomy.Cosmo.lens_cosmo import LensCosmo"
   ]
  },
  {
   "cell_type": "markdown",
   "metadata": {},
   "source": [
    "### Useful functions"
   ]
  },
  {
   "cell_type": "code",
   "execution_count": 3,
   "metadata": {},
   "outputs": [],
   "source": [
    "def show_palette(colour):\n",
    "    # function for displaying colour palettes\n",
    "    sns.set_style('whitegrid')\n",
    "    hex2rgb = []\n",
    "    for k in colour:\n",
    "        h = k.lstrip('#')\n",
    "        hex2rgb.append(tuple(int(h[i:i + 2], 16) / 255.0 for i in (0, 2, 4)))\n",
    "    return sns.palplot(hex2rgb)\n",
    "\n",
    "def ellipticity(phi, q):\n",
    "    # transforms orientation angle phi and aspect ratio q into complex ellipticity modulii e1, e2\n",
    "    # phi and q must be passed as lists\n",
    "    phi = np.array(phi)\n",
    "    q = np.array(q)\n",
    "    e1 = (1 - q)/(1 + q)*np.cos(2*phi)\n",
    "    e2 = (1 - q)/(1 + q)*np.sin(2*phi)\n",
    "    return list(e1), list(e2)\n",
    "\n",
    "def distance_conversion(distance, conversion_type):\n",
    "    # converts a distance *in Mpc* to Gpc, kpc, pc or m\n",
    "    # careful! it doesn't sanity check your input\n",
    "    if conversion_type == 'to Gpc':\n",
    "        new_distance = distance/(10**3)\n",
    "    elif conversion_type == 'to kpc':\n",
    "        new_distance = distance*(10**3)\n",
    "    elif conversion_type == 'to pc':\n",
    "        new_distance = distance*(10**6)\n",
    "    elif conversion_type == 'to m':\n",
    "        new_distance = distance*(3.086*10**22)\n",
    "    else:\n",
    "        print('Unknown conversion type')\n",
    "    return new_distance\n",
    "\n",
    "def angle_conversion(angle, conversion_type):\n",
    "    # converts an angle in arcsec to rad or rad to arcsec\n",
    "    # careful! it doesn't sanity check your input\n",
    "    conversion_factor = np.pi/(180*3600)\n",
    "    if conversion_type == 'to arcsecs':\n",
    "        new_angle = angle/conversion_factor\n",
    "    elif conversion_type == 'to radians':\n",
    "        new_angle = angle*conversion_factor\n",
    "    else:\n",
    "        print('Unknown conversion type')\n",
    "    return new_angle"
   ]
  },
  {
   "cell_type": "markdown",
   "metadata": {},
   "source": [
    "### Global plotting and display settings"
   ]
  },
  {
   "cell_type": "code",
   "execution_count": 4,
   "metadata": {},
   "outputs": [
    {
     "data": {
      "image/png": "[encoded data removed]",
      "text/plain": [
       "<Figure size 216x72 with 1 Axes>"
      ]
     },
     "metadata": {},
     "output_type": "display_data"
    }
   ],
   "source": [
    "# contour plot colours\n",
    "# thanks to colorbrewer for these palettes! https://colorbrewer2.org\n",
    "green        = ['#a6dba0','#5aae61','#1b7837']\n",
    "purple       = ['#c2a5cf', '#9970ab', '#762a83']\n",
    "analogous    = ['#a0c3db', '#dbb7a0']\n",
    "warm         = ['#fdcc8a', '#fc8d59', '#d7301f']\n",
    "cool         = ['#41b6c4', '#2c7fb8', '#253494']\n",
    "\n",
    "# have a look at a palette for example\n",
    "show_palette(cool)\n",
    "\n",
    "# set the seaborn style\n",
    "sns.set_style('ticks')\n",
    "\n",
    "# use TeX for plot labels\n",
    "rc('text', usetex=True)\n",
    "rc('font', family='serif')\n",
    "rcParams.update({'font.size': 18})"
   ]
  },
  {
   "cell_type": "markdown",
   "metadata": {},
   "source": [
    "### Start the Universe"
   ]
  },
  {
   "cell_type": "code",
   "execution_count": 5,
   "metadata": {},
   "outputs": [
    {
     "name": "stdout",
     "output_type": "stream",
     "text": [
      "\n",
      "The Hubble parameter being used is 67.4 km/s/Mpc.\n",
      "The redshifts of the observer, lens and the source are z = 0.0, z = 0.5 and z = 1.5 respectively.\n",
      "The angular distances between observer and lens, observer and source and lens and source are 1300.92 Mpc, 1792.84 Mpc and 1012.28 Mpc respectively.\n"
     ]
    }
   ],
   "source": [
    "cosmology = {'id': 'planck18', 'H0': 67.4, 'Om': 0.315}\n",
    "\n",
    "colcos.setCosmology(cosmology['id'])\n",
    "\n",
    "cosmo = FlatLambdaCDM(H0 = cosmology['H0'], Om0 = cosmology['Om']) \n",
    "\n",
    "G_Newton   = const.G.value # 6.67*10**-11 [m^3 / kg s^2]\n",
    "clight     = const.c.value # 299792458 [m / s]\n",
    "clight_kms = clight/1000   # 299792.458 [km / s]\n",
    "solar_mass = const.M_sun.value # 1.988*10**30 [kg]\n",
    "parsec     = const.pc.value # 3.08567758*10**16 [m]\n",
    "\n",
    "def dC(redshift):\n",
    "    \"\"\"\n",
    "    Returns the comoving distance at a given redshift in Mpc.\n",
    "    \"\"\"\n",
    "    distance = cosmo.comoving_distance(redshift).value\n",
    "    return distance\n",
    "\n",
    "def Hubble(redshift):\n",
    "    \"\"\"\n",
    "    Returns H(z) for a given redshift in km/s/Mpc.\n",
    "    \"\"\"\n",
    "    Hofz = cosmo.H(redshift).value\n",
    "    return Hofz\n",
    "\n",
    "def dA(z1, z2):\n",
    "    \"\"\"\n",
    "    Returns angular diameter distance between two redshifts in Mpc.\n",
    "    \"\"\"\n",
    "    distance = cosmo.angular_diameter_distance_z1z2(z1, z2).value\n",
    "    return distance\n",
    "\n",
    "def redshift_converter(object_distance, units):\n",
    "    object_redshift = z_at_value(cosmo.comoving_distance, object_distance*units, zmin = -0.0001, zmax=5.)\n",
    "    return object_redshift\n",
    "\n",
    "z_observer = 0.0\n",
    "z_lens     = 0.5\n",
    "z_source   = 1.5\n",
    "\n",
    "z_hmf = z_lens\n",
    "\n",
    "d_observer = 0.0\n",
    "d_od       = dA(z_observer, z_lens)\n",
    "d_os       = dA(z_observer, z_source)\n",
    "d_ds       = dA(z_lens, z_source)\n",
    "\n",
    "dc_source = dC(z_source)\n",
    "\n",
    "print('\\nThe Hubble parameter being used is {} km/s/Mpc.'.format(cosmo.h*100))\n",
    "print('The redshifts of the observer, lens and the source are z = {}, z = {:.2} and z = {} respectively.'.format(z_observer, z_lens, z_source))\n",
    "print('The angular distances between observer and lens, observer and source and lens and source are {:.2f} Mpc, {:.2f} Mpc and {:.2f} Mpc respectively.'.format(d_od, d_os, d_ds))"
   ]
  },
  {
   "cell_type": "markdown",
   "metadata": {},
   "source": [
    "### Choose the number of haloes"
   ]
  },
  {
   "cell_type": "markdown",
   "metadata": {},
   "source": [
    "**How many haloes should I have?** It depends on the minimum mass you want to use, or vice-versa."
   ]
  },
  {
   "cell_type": "markdown",
   "metadata": {},
   "source": [
    "<img src=\"number_of_haloes_vs_minimum_mass.png\" alt=\"drawing\" width=\"500\" class = \"center\"/> "
   ]
  },
  {
   "cell_type": "code",
   "execution_count": 6,
   "metadata": {},
   "outputs": [
    {
     "name": "stdout",
     "output_type": "stream",
     "text": [
      "The minimum mass a halo can have is 10^8 MSun/h.\n"
     ]
    }
   ],
   "source": [
    "# set the number of haloes along the line-of-sight and the minimum mass a halo can have\n",
    "# these two numbers are related; see plot above\n",
    "\n",
    "job_name = 'million'\n",
    "lower_mass_limit = 8\n",
    " \n",
    "# print('There are {} haloes along the line-of-sight between the observer and the source.'.format(halo_number))\n",
    "print('The minimum mass a halo can have is 10^{} MSun/h.'.format(lower_mass_limit))"
   ]
  },
  {
   "cell_type": "markdown",
   "metadata": {},
   "source": [
    "### Create main lens: `EPL` \n",
    "At this stage we only need to set an Einstein radius; the rest of the main lens parameters are set in the `distributed_haloes_analysis` notebook."
   ]
  },
  {
   "cell_type": "code",
   "execution_count": 7,
   "metadata": {},
   "outputs": [],
   "source": [
    "theta_E = 1.0 # arcsec"
   ]
  },
  {
   "cell_type": "markdown",
   "metadata": {},
   "source": [
    "## Create haloes <a name=\"create_haloes\"></a>\n",
    "\n",
    "[Back to contents](#contents)"
   ]
  },
  {
   "cell_type": "markdown",
   "metadata": {},
   "source": [
    "### Get the halo mass function using `colossus` <a name=\"mass\"></a>"
   ]
  },
  {
   "cell_type": "code",
   "execution_count": 8,
   "metadata": {},
   "outputs": [],
   "source": [
    "# define a mass range\n",
    "mass_range = np.logspace(lower_mass_limit, 15, num=500) # [MSun/h]\n",
    "\n",
    "# define the mass, 200 times the critical density of the Universe \n",
    "# this choice is consistent with lenstronomy internal definitions -- see lens_cosmo.py)\n",
    "mdef = '200c' \n",
    "\n",
    "hmf_model = 'tinker08' # model for the HMF\n",
    "\n",
    "# get the HMF\n",
    "dNdlogM = mass_function.massFunction(mass_range, z_hmf, q_in='M', q_out='dndlnM', mdef=mdef, model=hmf_model)"
   ]
  },
  {
   "cell_type": "code",
   "execution_count": 9,
   "metadata": {},
   "outputs": [
    {
     "data": {
      "image/png": "[encoded data removed]",
      "text/plain": [
       "<Figure size 576x432 with 1 Axes>"
      ]
     },
     "metadata": {},
     "output_type": "display_data"
    }
   ],
   "source": [
    "# plot the HMF\n",
    "plt.figure(figsize = (8,6))\n",
    "plt.title(r\"Halo mass function (`{}' model)\".format(hmf_model))\n",
    "plt.plot(mass_range, dNdlogM, lw = 3, color = 'purple')\n",
    "plt.xscale('log')\n",
    "plt.yscale('log')\n",
    "plt.xticks(fontsize = 20)\n",
    "plt.yticks(fontsize = 20)\n",
    "plt.xlabel('Mass [$h^{-1} M_{\\odot}$]', fontsize = 20)\n",
    "plt.ylabel(r'$\\frac{dN}{d\\log M}$ [$h^3$ Mpc$^{-3}$]', fontsize = 20)\n",
    "plt.show()"
   ]
  },
  {
   "cell_type": "markdown",
   "metadata": {},
   "source": [
    "### Relevant region of space to be considered\n",
    "\n",
    "We start with a region of space that is a comoving cylinder with length $\\chi_{\\rm s}$ (comoving distance between the observer and the source) and radius $R_0$, which we fix in such a way that a point lens with mass $M$ at a comoving distance $R_0$ from the optical axis would produce a shear of magnitude $\\varepsilon$ if it lied half-way ($\\chi_{1/2}=\\chi_{\\rm s}/2$) between the observer and the source. This implies\n",
    "$$\n",
    "R_0\n",
    "= \\frac{r_{\\rm E}}{\\sqrt{\\varepsilon}}\n",
    "= \\sqrt{\\frac{GM\\chi_{\\rm s}}{c^2(1+z_{1/2})\\varepsilon}}\n",
    "$$"
   ]
  },
  {
   "cell_type": "code",
   "execution_count": 10,
   "metadata": {},
   "outputs": [
    {
     "name": "stdout",
     "output_type": "stream",
     "text": [
      "The maximum comoving radius R0 of the region is 3.675 Mpc\n"
     ]
    }
   ],
   "source": [
    "# compute R_0\n",
    "M = 1e12 * solar_mass # [kg] \n",
    "eps = 1e-5\n",
    "chis = dC(z_source) * 1e6 * parsec # [m]\n",
    "z12 = z_at_value(cosmo.comoving_distance, cosmo.comoving_distance(z_source)/2)\n",
    "R_0_m = np.sqrt(G_Newton * M * chis / clight**2 / (1 + z12) / eps) # [m]\n",
    "R_0 = R_0_m / (1e6 * parsec) # [Mpc]\n",
    "\n",
    "print('The maximum comoving radius R0 of the region is {:.3f} Mpc'.format(R_0))"
   ]
  },
  {
   "cell_type": "code",
   "execution_count": 11,
   "metadata": {},
   "outputs": [
    {
     "name": "stdout",
     "output_type": "stream",
     "text": [
      "Number of haloes in cylinder: 1.135706e+07.\n"
     ]
    }
   ],
   "source": [
    "n_c_little_h = trapezoid(dNdlogM/mass_range, x=mass_range) # [h^3/Mpc^3]\n",
    "\n",
    "n_c = n_c_little_h/cosmo.h**3. # [Mpc^-3]\n",
    "\n",
    "cylinder_halo_number = int(np.pi*n_c*(R_0**2.)*dc_source)\n",
    "\n",
    "print('Number of haloes in cylinder: {:e}.'.format(cylinder_halo_number))"
   ]
  },
  {
   "cell_type": "markdown",
   "metadata": {},
   "source": [
    "### Create halo dataframe <a name=\"distance\"></a>"
   ]
  },
  {
   "cell_type": "code",
   "execution_count": 12,
   "metadata": {},
   "outputs": [],
   "source": [
    "# create dataframe for halo parameters\n",
    "# d is the comoving distance along the LOS to the halo [Mpc]\n",
    "# z is the redshift to that distance\n",
    "# r is the physical distance from the LOS [Mpc]\n",
    "# x_phys and y_phys are the physical coordinates of the halo on the plane orthogonal to the LOS [Mpc]\n",
    "# center_x and center_y are the coordinates of the halo in arcsec, passed to lenstronomy in kwargs_nfw [arcsec]\n",
    "# mass is the mass of the halo [MSun]\n",
    "\n",
    "haloes_dataframe = pd.DataFrame(columns = ['d', 'z', 'r', 'x_phys', 'y_phys','center_x', 'center_y', 'mass'])"
   ]
  },
  {
   "cell_type": "markdown",
   "metadata": {},
   "source": [
    "### Create distances"
   ]
  },
  {
   "cell_type": "code",
   "execution_count": 13,
   "metadata": {},
   "outputs": [],
   "source": [
    "halo_distance_list = np.random.uniform(d_observer, dc_source, cylinder_halo_number)\n",
    "\n",
    "haloes_dataframe['d'] = halo_distance_list"
   ]
  },
  {
   "cell_type": "markdown",
   "metadata": {},
   "source": [
    "### Convert to redshifts"
   ]
  },
  {
   "cell_type": "code",
   "execution_count": 14,
   "metadata": {},
   "outputs": [],
   "source": [
    "z_grid   = np.linspace(z_observer, z_source, 101)\n",
    "\n",
    "chi_grid = dC(z_grid)\n",
    "\n",
    "z_of_chi   = interp1d(chi_grid, z_grid)\n",
    "\n",
    "halo_redshift_list = z_of_chi(halo_distance_list)\n",
    "\n",
    "haloes_dataframe['z'] = halo_redshift_list"
   ]
  },
  {
   "cell_type": "markdown",
   "metadata": {},
   "source": [
    "### Halo transverse distances\n",
    "Draw physical distance of each halo from LOS randomly on a disk."
   ]
  },
  {
   "cell_type": "code",
   "execution_count": 15,
   "metadata": {},
   "outputs": [
    {
     "data": {
      "application/vnd.jupyter.widget-view+json": {
       "model_id": "bf524368514c4e70b69dec6454146b72",
       "version_major": 2,
       "version_minor": 0
      },
      "text/plain": [
       "  0%|          | 0/11357062 [00:00<?, ?it/s]"
      ]
     },
     "metadata": {},
     "output_type": "display_data"
    },
    {
     "data": {
      "application/vnd.jupyter.widget-view+json": {
       "model_id": "45ac6c286f374f62a66354f026b2930a",
       "version_major": 2,
       "version_minor": 0
      },
      "text/plain": [
       "  0%|          | 0/11357062 [00:00<?, ?it/s]"
      ]
     },
     "metadata": {},
     "output_type": "display_data"
    }
   ],
   "source": [
    "r_sq = np.random.uniform(0.0, R_0**2., cylinder_halo_number)\n",
    "r_com = np.sqrt(r_sq)\n",
    "\n",
    "theta = np.random.uniform(0.0, 2.0*np.pi, cylinder_halo_number)\n",
    "\n",
    "x_com = r_com*np.cos(theta)\n",
    "y_com = r_com*np.sin(theta)\n",
    "\n",
    "haloes_dataframe['r'] = r_com\n",
    "\n",
    "haloes_dataframe['x_com'] = x_com\n",
    "haloes_dataframe['y_com'] = y_com\n",
    "\n",
    "haloes_dataframe['center_x'] = tqdm(angle_conversion(haloes_dataframe['x_com']/haloes_dataframe['d'], 'to arcsecs'))\n",
    "haloes_dataframe['center_y'] = tqdm(angle_conversion(haloes_dataframe['y_com']/haloes_dataframe['d'], 'to arcsecs'))"
   ]
  },
  {
   "cell_type": "markdown",
   "metadata": {},
   "source": [
    "### Get the lenstronomy `NFW` parameters <a name=\"lenstronomy\"></a>"
   ]
  },
  {
   "cell_type": "markdown",
   "metadata": {},
   "source": [
    "#### Mass"
   ]
  },
  {
   "cell_type": "code",
   "execution_count": 16,
   "metadata": {},
   "outputs": [],
   "source": [
    "# draw halo masses from the original mass range, weighted by the HMF\n",
    "halo_mass_inverse_h = r.choices(mass_range, dNdlogM, k = cylinder_halo_number) # [MSun/h]\n",
    "\n",
    "# convert to units of MSun\n",
    "halo_mass = list(np.array(halo_mass_inverse_h) * cosmo.h) # [MSun]\n",
    "\n",
    "# save to df\n",
    "haloes_dataframe['mass'] = halo_mass # [MSun]"
   ]
  },
  {
   "cell_type": "markdown",
   "metadata": {},
   "source": [
    "#### Concentration"
   ]
  },
  {
   "cell_type": "code",
   "execution_count": 17,
   "metadata": {},
   "outputs": [],
   "source": [
    "# use colossus to get the halo concentration\n",
    "# concentration parameter is the ratio of the virial radius to the scale radius\n",
    "# we use the same redshift as for the HMF so that the masses and concentrations are consistent\n",
    "\n",
    "concentration_model = 'diemer15'\n",
    "\n",
    "halo_concentration_inverse_h = concentration.concentration(M = np.array(halo_mass_inverse_h), \n",
    "                                                            mdef = mdef, \n",
    "                                                            z = z_hmf,  \n",
    "                                                            model = concentration_model)\n",
    "\n",
    "# convert to units of MSun\n",
    "halo_concentration = list(np.array(halo_concentration_inverse_h) * cosmo.h) # [MSun]\n",
    "\n",
    "# add to dataframe\n",
    "haloes_dataframe['concentration'] = halo_concentration # [MSun]"
   ]
  },
  {
   "cell_type": "markdown",
   "metadata": {},
   "source": [
    "#### Remove all haloes whose shear is below a certain threshold\n",
    "For the sake of speed, we use the point lens approximation to compute the shear for this step, as it is faster than calling the `lenstronomy` function on each individual halo in a population this size."
   ]
  },
  {
   "cell_type": "code",
   "execution_count": 18,
   "metadata": {},
   "outputs": [],
   "source": [
    "def comoving_rE2(M, z, chi, chi_s):\n",
    "    \"\"\"\n",
    "    Computes the comoving squared Einstein radius of a point lens in Mpc^2,\n",
    "    M: mass of the lens in solar masses\n",
    "    z: redshift of the lens\n",
    "    chi: comoving distance to the observer in Mpc\n",
    "    chis: comoving distance to the source in Mpc\n",
    "    \"\"\"\n",
    "    \n",
    "    mass_array = np.array(M)\n",
    "    chi_array = np.array(chi)\n",
    "    \n",
    "    # convert in SI\n",
    "    mass_array *= solar_mass # [kg]\n",
    "    chi_array *= 1e6 * parsec\n",
    "    chi_s *= 1e6 * parsec\n",
    "    \n",
    "    # compute the squared Einstein radius\n",
    "    rE2 = 4*G_Newton*mass_array/clight**2.*(1 + np.array(z))*chi_array*(chi_s - chi_array)/chi_s # [m^2]\n",
    "    rE2 /= (1e6 * parsec)**2 # [Mpc^2]\n",
    "    \n",
    "    return rE2\n",
    "\n",
    "rE2 = comoving_rE2(halo_mass, halo_redshift_list, halo_distance_list, dc_source) #[Mpc^2]\n",
    "\n",
    "point_lens_gamma_list = rE2/r_sq\n",
    "\n",
    "haloes_dataframe['plg'] = point_lens_gamma_list"
   ]
  },
  {
   "cell_type": "code",
   "execution_count": 19,
   "metadata": {},
   "outputs": [
    {
     "name": "stdout",
     "output_type": "stream",
     "text": [
      "There are 11338224 haloes out of 11357062 with a shear less than 1e-05 (99.834%).\n",
      "You're left with 18838 haloes!\n"
     ]
    }
   ],
   "source": [
    "minimum_shear = 1e-5\n",
    "\n",
    "small_gammas = [i for i in point_lens_gamma_list if i < minimum_shear]\n",
    "\n",
    "gamma_percent = (len(small_gammas)/cylinder_halo_number)*100\n",
    "\n",
    "print('There are {} haloes out of {} with a shear less than {} ({:.3f}%).'.format(len(small_gammas), cylinder_halo_number, minimum_shear, gamma_percent))\n",
    "print('You\\'re left with {} haloes!'.format(cylinder_halo_number-len(small_gammas)))"
   ]
  },
  {
   "cell_type": "code",
   "execution_count": 20,
   "metadata": {},
   "outputs": [],
   "source": [
    "shaped_haloes_dataframe = haloes_dataframe.loc[(haloes_dataframe['plg'] > minimum_shear)]\n",
    "\n",
    "shaped_halo_number = len(shaped_haloes_dataframe)"
   ]
  },
  {
   "cell_type": "code",
   "execution_count": 21,
   "metadata": {},
   "outputs": [],
   "source": [
    "# new quantities for iterating over\n",
    "shaped_halo_redshift_list = shaped_haloes_dataframe['z'].to_list()\n",
    "shaped_halo_mass          = shaped_haloes_dataframe['mass'].to_list()\n",
    "shaped_halo_concentration = shaped_haloes_dataframe['concentration'].to_list()"
   ]
  },
  {
   "cell_type": "markdown",
   "metadata": {},
   "source": [
    "# OS"
   ]
  },
  {
   "cell_type": "markdown",
   "metadata": {},
   "source": [
    "#### Scale radius and deflection angle at scale radius\n",
    "These should be in units without little h."
   ]
  },
  {
   "cell_type": "code",
   "execution_count": 22,
   "metadata": {},
   "outputs": [
    {
     "data": {
      "application/vnd.jupyter.widget-view+json": {
       "model_id": "0344044ddaf14368b4e0eb2cafe92861",
       "version_major": 2,
       "version_minor": 0
      },
      "text/plain": [
       "  0%|          | 0/18838 [00:00<?, ?it/s]"
      ]
     },
     "metadata": {},
     "output_type": "display_data"
    }
   ],
   "source": [
    "Rs_angle = []\n",
    "alpha_Rs_os = []\n",
    "\n",
    "for i in tqdm(range(shaped_halo_number)):\n",
    "    # get the quantities for each halo's redshift\n",
    "    lens_cosmo = LensCosmo(z_lens = shaped_halo_redshift_list[i], z_source = z_source, cosmo = cosmo)\n",
    "    \n",
    "    angles = lens_cosmo.nfw_physical2angle(M = shaped_halo_mass[i],\n",
    "                                           c = shaped_halo_concentration[i])\n",
    "    Rs_angle.append(float(angles[0]))\n",
    "    alpha_Rs_os.append(float(angles[1]))\n",
    "\n",
    "# add to the dataframe\n",
    "shaped_haloes_dataframe['Rs'] = Rs_angle # [arcsec]\n",
    "shaped_haloes_dataframe['alpha_Rs'] = alpha_Rs_os # [arcsec]"
   ]
  },
  {
   "cell_type": "markdown",
   "metadata": {},
   "source": [
    "# Old method"
   ]
  },
  {
   "cell_type": "code",
   "execution_count": 23,
   "metadata": {},
   "outputs": [
    {
     "name": "stdout",
     "output_type": "stream",
     "text": [
      "\n",
      "Getting convergence and shear\n"
     ]
    },
    {
     "data": {
      "application/vnd.jupyter.widget-view+json": {
       "model_id": "b4036050dd7144f1a3de6f695a2f2640",
       "version_major": 2,
       "version_minor": 0
      },
      "text/plain": [
       "  0%|          | 0/18838 [00:00<?, ?it/s]"
      ]
     },
     "metadata": {},
     "output_type": "display_data"
    },
    {
     "name": "stdout",
     "output_type": "stream",
     "text": [
      "5.422203187680834\n",
      "0.41062760919773444\n"
     ]
    }
   ],
   "source": [
    "# get the parameters needed for the lenstronomy kwargs and convert to a list of dictionaries\n",
    "kwargs_nfw = shaped_haloes_dataframe[['Rs', 'alpha_Rs', 'center_x', 'center_y']].to_dict('records')\n",
    "\n",
    "single_halo_lens_model = LensModel(lens_model_list = ['NFW'], z_source = z_source)\n",
    "\n",
    "gamma1 = []\n",
    "gamma2 = []\n",
    "kappa  = []\n",
    "alpha1 = []\n",
    "alpha2 = []\n",
    "\n",
    "# doing loops in this Fortran-esque style rather than via list comprehension avoids the need\n",
    "# for some clunky remapping and cleaning of the lists produced via the latter method\n",
    "# and it's also slightly faster (0.1 secs for 10k haloes) bc the remapping adds time\n",
    "\n",
    "print('\\nGetting convergence and shear')\n",
    "for i in tqdm(range(shaped_halo_number)):\n",
    "    single_gamma = single_halo_lens_model.gamma(x = 0.0, y = 0.0, kwargs = [kwargs_nfw[i]])\n",
    "    gamma1.append(float(single_gamma[0]))\n",
    "    gamma2.append(float(single_gamma[1]))\n",
    "    \n",
    "    single_kappa = single_halo_lens_model.kappa(x = 0.0, y = 0.0, kwargs = [kwargs_nfw[i]])\n",
    "    kappa.append(float(single_kappa))\n",
    "    \n",
    "    single_alpha = single_halo_lens_model.alpha(x = 0.0, y = 0.0, kwargs = [kwargs_nfw[i]])\n",
    "    alpha1.append(float(single_alpha[0]))\n",
    "    alpha2.append(float(single_alpha[1]))\n",
    "\n",
    "# shaped_haloes_dataframe['gamma1']  = gamma1 \n",
    "# shaped_haloes_dataframe['gamma2']  = gamma2 \n",
    "# shaped_haloes_dataframe['kappa']   = kappa\n",
    "# shaped_haloes_dataframe['alpha1']  = alpha1\n",
    "# shaped_haloes_dataframe['alpha2']  = alpha2\n",
    "\n",
    "print(sum(alpha1))\n",
    "print(sum(alpha2))"
   ]
  },
  {
   "cell_type": "markdown",
   "metadata": {},
   "source": [
    "## Checks<a name=\"checks\"></a>\n",
    "\n",
    "[Back to contents](#contents)"
   ]
  },
  {
   "cell_type": "markdown",
   "metadata": {},
   "source": [
    "### Compute the convergence and shear of individual haloes at $x = y = 0$"
   ]
  },
  {
   "cell_type": "code",
   "execution_count": 24,
   "metadata": {},
   "outputs": [
    {
     "data": {
      "application/vnd.jupyter.widget-view+json": {
       "model_id": "183c547fef0e4e409101b276c569c485",
       "version_major": 2,
       "version_minor": 0
      },
      "text/plain": [
       "  0%|          | 0/18838 [00:00<?, ?it/s]"
      ]
     },
     "metadata": {},
     "output_type": "display_data"
    }
   ],
   "source": [
    "# get the parameters needed for the lenstronomy kwargs and convert to a list of dictionaries\n",
    "kwargs_nfw = shaped_haloes_dataframe[['Rs', 'alpha_Rs', 'center_x', 'center_y']].to_dict('records')\n",
    "\n",
    "single_halo_lens_model = LensModel(lens_model_list = ['NFW'], z_source = z_source)\n",
    "\n",
    "gamma1 = []\n",
    "gamma2 = []\n",
    "kappa  = []\n",
    "\n",
    "for i in tqdm(range(shaped_halo_number)):\n",
    "    single_gamma = single_halo_lens_model.gamma(x = 0.0, y = 0.0, kwargs = [kwargs_nfw[i]])\n",
    "    gamma1.append(float(single_gamma[0]))\n",
    "    gamma2.append(float(single_gamma[1]))\n",
    "    \n",
    "    single_kappa = single_halo_lens_model.kappa(x = 0.0, y = 0.0, kwargs = [kwargs_nfw[i]])\n",
    "    kappa.append(float(single_kappa))\n",
    "    \n",
    "shaped_haloes_dataframe['gamma1']  = gamma1 \n",
    "shaped_haloes_dataframe['gamma2']  = gamma2 \n",
    "shaped_haloes_dataframe['kappa']   = kappa"
   ]
  },
  {
   "cell_type": "markdown",
   "metadata": {},
   "source": [
    "### Compute the alpha term using MultiPlane for greater accuracy"
   ]
  },
  {
   "cell_type": "code",
   "execution_count": 25,
   "metadata": {},
   "outputs": [],
   "source": [
    "multiplane_os_lens_model = LensModel(lens_model_list = ['NFW']*shaped_halo_number, \n",
    "                                     z_source = z_source,\n",
    "                                     lens_redshift_list = shaped_haloes_dataframe['z'].to_list(),\n",
    "                                     multi_plane=True)\n",
    "\n",
    "mp_alpha_os = multiplane_os_lens_model.alpha(x = [0.0]*shaped_halo_number, \n",
    "                                             y = [0.0]*shaped_halo_number, \n",
    "                                             kwargs = kwargs_nfw)\n",
    "\n",
    "expected_alpha1_os = mp_alpha_os[0][0]\n",
    "expected_alpha2_os = mp_alpha_os[1][0]"
   ]
  },
  {
   "cell_type": "code",
   "execution_count": 26,
   "metadata": {},
   "outputs": [
    {
     "name": "stdout",
     "output_type": "stream",
     "text": [
      "6.250257215020619\n",
      "3.9224828038700603\n"
     ]
    }
   ],
   "source": [
    "print(expected_alpha1_os)\n",
    "print(expected_alpha2_os)"
   ]
  },
  {
   "cell_type": "code",
   "execution_count": 27,
   "metadata": {},
   "outputs": [
    {
     "ename": "AssertionError",
     "evalue": "",
     "output_type": "error",
     "traceback": [
      "\u001b[0;31m---------------------------------------------------------------------------\u001b[0m",
      "\u001b[0;31mAssertionError\u001b[0m                            Traceback (most recent call last)",
      "\u001b[0;32m<ipython-input-27-a871fdc9ebee>\u001b[0m in \u001b[0;36m<module>\u001b[0;34m\u001b[0m\n\u001b[0;32m----> 1\u001b[0;31m \u001b[0;32massert\u001b[0m \u001b[0;32mFalse\u001b[0m\u001b[0;34m\u001b[0m\u001b[0;34m\u001b[0m\u001b[0m\n\u001b[0m",
      "\u001b[0;31mAssertionError\u001b[0m: "
     ]
    }
   ],
   "source": [
    "assert False"
   ]
  },
  {
   "cell_type": "markdown",
   "metadata": {},
   "source": [
    "### Compute the shear of haloes at the Einstein radius of the main lens"
   ]
  },
  {
   "cell_type": "code",
   "execution_count": null,
   "metadata": {},
   "outputs": [],
   "source": [
    "gamma1_thetaE_x = []\n",
    "gamma2_thetaE_x = []\n",
    "\n",
    "gamma1_thetaE_y = []\n",
    "gamma2_thetaE_y = []\n",
    "\n",
    "for i in tqdm(range(shaped_halo_number)):\n",
    "    gamma_thetaE_x = single_halo_lens_model.gamma(x = theta_E, y = 0.0, kwargs = [kwargs_nfw[i]])\n",
    "    gamma1_thetaE_x.append(float(gamma_thetaE_x[0]))\n",
    "    gamma2_thetaE_x.append(float(gamma_thetaE_x[1]))\n",
    "    gamma_thetaE_y = single_halo_lens_model.gamma(x = 0.0, y = theta_E, kwargs = [kwargs_nfw[i]])\n",
    "    gamma1_thetaE_y.append(float(gamma_thetaE_y[0]))\n",
    "    gamma2_thetaE_y.append(float(gamma_thetaE_y[1]))"
   ]
  },
  {
   "cell_type": "markdown",
   "metadata": {},
   "source": [
    "### Histogram of the shear components"
   ]
  },
  {
   "cell_type": "code",
   "execution_count": null,
   "metadata": {},
   "outputs": [],
   "source": [
    "fig, ax = plt.subplots(1, 2, figsize=(12, 6), sharex=False, sharey=False)\n",
    "fig.tight_layout()\n",
    "\n",
    "for a, g, c in zip(ax, [gamma1, gamma2], [green[0], purple[0]]):\n",
    "    a.hist(g, bins = 20, color = c)\n",
    "    a.set_yscale('log')\n",
    "    a.set_xlabel('$\\gamma_{}$'.format([gamma1, gamma2].index(g)+1), fontsize=20)\n",
    "    a.set_ylabel('Count', fontsize=20)\n",
    "plt.savefig(outpath + job_name + '_gamma_os_histogram.pdf', dpi=300, bbox_inches='tight', transparent=True)\n",
    "plt.show()"
   ]
  },
  {
   "cell_type": "markdown",
   "metadata": {},
   "source": [
    "### Histogram of the convergence"
   ]
  },
  {
   "cell_type": "code",
   "execution_count": null,
   "metadata": {},
   "outputs": [],
   "source": [
    "bins = [1e-9, 1e-8, 1e-7, 1e-6, 1e-5, 1e-4, 1e-3, 1e-2, 1e-1, 1e0, 1e1]\n",
    "\n",
    "fig, ax = plt.subplots(1, 1, figsize=(8, 6))\n",
    "\n",
    "plt.hist(kappa, bins = bins, color = analogous[0])\n",
    "plt.xscale('log')\n",
    "plt.yscale('log')\n",
    "plt.xticks(fontsize = 20)\n",
    "plt.yticks(fontsize = 20)\n",
    "plt.xlabel('$\\kappa$', fontsize = 20)\n",
    "plt.ylabel('Count', fontsize = 20)\n",
    "plt.savefig(outpath + job_name + '_kappa_os_histogram.pdf', dpi=300, bbox_inches='tight', transparent=True)\n",
    "plt.show()"
   ]
  },
  {
   "cell_type": "markdown",
   "metadata": {},
   "source": [
    "### Safety net: remove haloes based on convergence\n",
    "We check the convergence of each halo; if $\\kappa > 1$, the halo is acting as a strong lens rather than a perturber and should be removed from the population. To be doubly sure we are getting rid of all the problematic haloes, we remove all with $\\kappa > 0.5$."
   ]
  },
  {
   "cell_type": "code",
   "execution_count": null,
   "metadata": {},
   "outputs": [],
   "source": [
    "maximum_convergence = 0.5\n",
    "\n",
    "bad_kappas = [i for i in kappa if i > maximum_convergence]\n",
    "\n",
    "kappa_percent = (len(bad_kappas)/shaped_halo_number)*100\n",
    "\n",
    "print('There are {} haloes out of {} with a convergence greater than {} ({:.1f}%).'.format(len(bad_kappas), shaped_halo_number, maximum_convergence, kappa_percent))"
   ]
  },
  {
   "cell_type": "markdown",
   "metadata": {},
   "source": [
    "### Safety net II: remove haloes based on shear gradient"
   ]
  },
  {
   "cell_type": "code",
   "execution_count": null,
   "metadata": {},
   "outputs": [],
   "source": [
    "def shear_gradient(g1_Ex, g2_Ex, g1_Ey, g2_Ey, g1, g2):\n",
    "    Del_x_1  = g1_Ex - g1\n",
    "    Del_x_2  = g2_Ex - g2\n",
    "    Del_x_sq = (Del_x_1)**2. + (Del_x_2)**2.\n",
    "    Del_y_1  = g1_Ey - g1\n",
    "    Del_y_2  = g2_Ey - g2\n",
    "    Del_y_sq = (Del_y_1)**2. + (Del_y_2)**2.\n",
    "    Del      = np.sqrt((Del_x_sq + Del_y_sq)/(g1**2. + g2**2.))\n",
    "    return Del"
   ]
  },
  {
   "cell_type": "code",
   "execution_count": null,
   "metadata": {},
   "outputs": [],
   "source": [
    "Del = []\n",
    "\n",
    "for i in tqdm(range(shaped_halo_number)):\n",
    "    Del.append(shear_gradient(gamma1_thetaE_x[i],\n",
    "                              gamma2_thetaE_x[i],\n",
    "                              gamma1_thetaE_y[i],\n",
    "                              gamma2_thetaE_y[i],\n",
    "                              gamma1[i],\n",
    "                              gamma2[i]))\n",
    "    \n",
    "shaped_haloes_dataframe['Del'] = Del"
   ]
  },
  {
   "cell_type": "code",
   "execution_count": null,
   "metadata": {},
   "outputs": [],
   "source": [
    "%matplotlib inline\n",
    "bins = [1e-3, 1e-2, 1e-1, 0.1e0, 0.2e0, 0.3e0, 0.4e0, 0.5e0, 0.6e0, 0.7e0, 0.8e0, 0.9e0, 1e0, 1e1]\n",
    "\n",
    "fig, ax = plt.subplots(1, 1, figsize=(8, 6))\n",
    "\n",
    "plt.hist(Del, bins = bins, color = analogous[1])\n",
    "plt.xscale('log')\n",
    "plt.yscale('log')\n",
    "plt.xticks(fontsize = 20)\n",
    "plt.yticks(fontsize = 20)\n",
    "plt.xlabel('$\\Delta$', fontsize = 20)\n",
    "plt.ylabel('Count', fontsize = 20)\n",
    "plt.savefig(outpath + job_name + '_Del_histogram.pdf', dpi=300, bbox_inches='tight', transparent=True)\n",
    "plt.show()"
   ]
  },
  {
   "cell_type": "code",
   "execution_count": null,
   "metadata": {},
   "outputs": [],
   "source": [
    "maximum_Del = 0.1\n",
    "\n",
    "bad_Dels = [i for i in Del if i > maximum_Del]\n",
    "\n",
    "Del_percent = (len(bad_Dels)/shaped_halo_number)*100\n",
    "\n",
    "print('There are {} haloes out of {} with a Del greater than {} ({:.2f}%).'.format(len(bad_Dels), shaped_halo_number, maximum_Del, Del_percent))"
   ]
  },
  {
   "cell_type": "markdown",
   "metadata": {},
   "source": [
    "### Update the halo population"
   ]
  },
  {
   "cell_type": "code",
   "execution_count": null,
   "metadata": {},
   "outputs": [],
   "source": [
    "# split the halo dataframe into good and bad\n",
    "discarded_haloes_dataframe = shaped_haloes_dataframe.loc[(shaped_haloes_dataframe['kappa'] > maximum_convergence) | (shaped_haloes_dataframe['Del'] > maximum_Del)]\n",
    "surviving_haloes_dataframe = shaped_haloes_dataframe.loc[(shaped_haloes_dataframe['kappa'] <= maximum_convergence) & (shaped_haloes_dataframe['Del'] <= maximum_Del)]\n",
    "\n",
    "discarded_halo_number = len(discarded_haloes_dataframe)\n",
    "surviving_halo_number = len(surviving_haloes_dataframe)\n",
    "\n",
    "# check the split is correct\n",
    "assert discarded_halo_number + surviving_halo_number == shaped_halo_number"
   ]
  },
  {
   "cell_type": "markdown",
   "metadata": {},
   "source": [
    "## Plot the populated plectrum region<a name=\"plot\"></a>\n",
    "We can plot it in projection or in 3D.\n",
    "\n",
    "[Back to contents](#contents)"
   ]
  },
  {
   "cell_type": "code",
   "execution_count": null,
   "metadata": {},
   "outputs": [],
   "source": [
    "# for large numbers of haloes the plot below fills up\n",
    "# so we can choose a percentage of the haloes to plot as an example\n",
    "# and change the marker style depending on the number of points that will be plotted\n",
    "\n",
    "plot_percent = 10\n",
    "cut_percent = 100\n",
    "    \n",
    "cut = int((surviving_halo_number/100)*plot_percent)\n",
    "cut_discarded = int((discarded_halo_number/100)*cut_percent)\n",
    "\n",
    "if cut > 2000:\n",
    "    marker = '.'\n",
    "    alpha = 0.2\n",
    "    size = (5,5)\n",
    "else:\n",
    "    marker = 'o'\n",
    "    alpha = 1.0\n",
    "    size=(10,10)"
   ]
  },
  {
   "cell_type": "code",
   "execution_count": null,
   "metadata": {},
   "outputs": [],
   "source": [
    "%matplotlib inline\n",
    "\n",
    "plt.figure(figsize = (10, 8))\n",
    "\n",
    "plt.plot(surviving_haloes_dataframe['d'][:cut], surviving_haloes_dataframe['y_com'][:cut], \n",
    "         color = cool[2], ls = ' ', marker = marker, alpha = 0.2,\n",
    "         label = 'Surviving haloes', rasterized=True)\n",
    "\n",
    "plt.plot(discarded_haloes_dataframe['d'][:cut_discarded], discarded_haloes_dataframe['y_com'][:cut_discarded], \n",
    "         color = warm[2], ls = ' ', marker = marker, alpha = 0.2, \n",
    "         label = 'Discarded haloes', rasterized=True)\n",
    "\n",
    "# plt.xlim(z_observer, z_source)\n",
    "# plt.ylim(-0.5, 0.5)\n",
    "plt.xticks(fontsize=20)\n",
    "plt.yticks(fontsize=20)\n",
    "plt.xlabel('Comoving distance from the observer $\\chi$ [Mpc]', fontsize=20)\n",
    "plt.ylabel('Comoving transverse position $y$ [Mpc]', fontsize=20)\n",
    "plt.legend(loc = 'upper right', fontsize=20)\n",
    "\n",
    "plt.savefig(outpath + job_name + '_region_rasterised_comoving.pdf', dpi=300, bbox_inches='tight', transparent=True)\n",
    "\n",
    "plt.show()"
   ]
  },
  {
   "cell_type": "code",
   "execution_count": null,
   "metadata": {},
   "outputs": [],
   "source": [
    "# %matplotlib notebook\n",
    "# fig = plt.figure(figsize=(12,12))\n",
    "# ax = plt.axes(projection='3d')\n",
    "# # plt.title('Plot shows {}\\% of each population'.format(plot_percent))\n",
    "# # ax.plot3D(d, np.zeros(len(d)), np.zeros(len(d)), ls = '--', color = 'k', alpha = 0.3)\n",
    "# ax.scatter3D(surviving_haloes_dataframe['d'][:cut], \n",
    "#              surviving_haloes_dataframe['x_com'][:cut], \n",
    "#              surviving_haloes_dataframe['y_com'][:cut], color = cool[2],  marker = marker, alpha = 0.2);\n",
    "# ax.scatter3D(discarded_haloes_dataframe['d'][:cut_discarded], \n",
    "#              discarded_haloes_dataframe['x_com'][:cut_discarded], \n",
    "#              discarded_haloes_dataframe['y_com'][:cut_discarded], color = warm[2],  marker = marker, alpha = 0.2);\n",
    "# ax.set_xlabel('Comoving distance from the observer $\\chi$ [Mpc]')\n",
    "# ax.set_ylabel('Physical $x$ [Mpc]')\n",
    "# ax.set_zlabel('Physical $y$ [Mpc]')\n",
    "\n",
    "# plt.savefig(outpath + job_name + '_volume.pdf', dpi=300, bbox_inches='tight', transparent=True)\n",
    "\n",
    "# plt.show()"
   ]
  },
  {
   "cell_type": "code",
   "execution_count": null,
   "metadata": {},
   "outputs": [],
   "source": [
    "%matplotlib inline\n",
    "fig, ax = plt.subplots(2, 2, figsize=(10,8), sharey=False)\n",
    "\n",
    "ax[0,0].hist(surviving_haloes_dataframe['r'], color = cool[2])\n",
    "ax[0,0].set_xlabel('Distance of haloes from LOS [Mpc]')\n",
    "\n",
    "ax[0,1].hist(surviving_haloes_dataframe['d'], color = cool[2])\n",
    "ax[0,1].set_xlabel('Distance of haloes along LOS [Mpc]')\n",
    "\n",
    "ax[1,0].hist(surviving_haloes_dataframe['x_com'], color = cool[2])\n",
    "ax[1,0].set_xlabel('Physical $x$-coordinate of haloes')\n",
    "\n",
    "ax[1,1].hist(surviving_haloes_dataframe['y_com'], color = cool[2])\n",
    "ax[1,1].set_xlabel('Physical $y$-coordinate of haloes')\n",
    "\n",
    "for a in ax.flat:\n",
    "    a.set_ylabel('Count')\n",
    "    \n",
    "fig.tight_layout()\n",
    "\n",
    "plt.show()"
   ]
  },
  {
   "cell_type": "code",
   "execution_count": null,
   "metadata": {},
   "outputs": [],
   "source": [
    "# fig, ax = plt.subplots(1, 1, figsize=(8, 6))\n",
    "# plt.hist(discarded_haloes_dataframe['d'], color = warm[2])\n",
    "# plt.axvline(dC(z_lens), color = 'k', ls = '--', alpha = 0.3, label = 'Position of main lens')\n",
    "# plt.xlim(0, dC(z_source))\n",
    "# plt.xlabel('$\\chi$ [Mpc]')\n",
    "# plt.ylabel('Count')\n",
    "# plt.legend()\n",
    "# plt.show()"
   ]
  },
  {
   "cell_type": "code",
   "execution_count": null,
   "metadata": {},
   "outputs": [],
   "source": [
    "# print('The masses and concentrations of the problematic haloes are, in descending mass order:\\n')\n",
    "# print(discarded_haloes_dataframe.sort_values('mass', ascending = False)[['mass', 'concentration']])\n",
    "# print('\\nThe shear parameters of the problematic haloes are:\\n'.format(len(discarded_haloes_dataframe)))\n",
    "# print(discarded_haloes_dataframe.sort_values('Del', ascending = False)[['gamma1', 'gamma2', 'Del']])\n",
    "# print('\\nThe shear parameters of the first {} surviving haloes are:\\n'.format(len(discarded_haloes_dataframe)))\n",
    "# print(surviving_haloes_dataframe.sort_values('Del', ascending = False)[['gamma1', 'gamma2', 'Del']][:len(discarded_haloes_dataframe)])"
   ]
  },
  {
   "cell_type": "markdown",
   "metadata": {},
   "source": [
    "### Sanity check I: compare the Einstein radius of the halo with largest shear with its distance from the LOS "
   ]
  },
  {
   "cell_type": "code",
   "execution_count": null,
   "metadata": {},
   "outputs": [],
   "source": [
    "# get the index of the halo with largest gamma1\n",
    "max_shear_halo_index = shaped_haloes_dataframe['gamma1'].idxmax()\n",
    "max_shear_halo = shaped_haloes_dataframe.loc[[max_shear_halo_index]]\n",
    "\n",
    "# compute the Einstein radius for this halo assuming it's a point mass\n",
    "max_shear_halo_redshift = float(max_shear_halo['z'])\n",
    "max_shear_halo_mass = float(max_shear_halo['mass'])\n",
    "max_shear_halo_mass_kg = max_shear_halo_mass*solar_mass\n",
    "\n",
    "prefactor = (4*G_Newton*max_shear_halo_mass_kg)/(clight**2.)\n",
    "\n",
    "d_ds_m = distance_conversion(dA(max_shear_halo_redshift, z_source), 'to m')\n",
    "d_os_m = distance_conversion(dA(z_observer, z_source), 'to m')\n",
    "d_od_m = distance_conversion(dA(z_observer, max_shear_halo_redshift), 'to m')\n",
    "\n",
    "distance_combination = d_ds_m/(d_os_m*d_od_m)\n",
    "\n",
    "einstein_radius = np.sqrt(prefactor*distance_combination)\n",
    "\n",
    "print('The Einstein radius of the halo with the largest gamma1 is {:.2f} arcsec.'.format(angle_conversion(einstein_radius, 'to arcsecs')))\n",
    "\n",
    "max_shear_halo_x = float(max_shear_halo['center_x'])\n",
    "max_shear_halo_y = float(max_shear_halo['center_y'])\n",
    "\n",
    "euclid = np.sqrt(max_shear_halo_x**2. + max_shear_halo_y**2.)\n",
    "\n",
    "print('The distance between the LOS and this halo is {:.2f} arcsec.'.format(euclid))\n",
    "\n",
    "print('If these two numbers are roughly the same order of magnitude we are good to go.')"
   ]
  },
  {
   "cell_type": "markdown",
   "metadata": {},
   "source": [
    "### Sanity check II: matter density in the plectrum volume"
   ]
  },
  {
   "cell_type": "code",
   "execution_count": null,
   "metadata": {},
   "outputs": [],
   "source": [
    "total_mass = shaped_haloes_dataframe['mass'].sum()\n",
    "\n",
    "volume = ((4*np.pi)/3)*(dC(z_source)/2)*(R_0**2.)\n",
    "\n",
    "density = total_mass/volume\n",
    "\n",
    "cgs_conversion = 6.7696e-41\n",
    "\n",
    "density_cgs = density*cgs_conversion\n",
    "\n",
    "obs_crit = cosmo.critical_density(z_observer).value\n",
    "\n",
    "print('The matter density in the approximate comoving plectrum volume is {:.3e} g/cm^3.'.format(density_cgs))\n",
    "print('The critical density of the Universe at z = {:.2} is {:.3e} g/cm^3.'.format(z_observer, obs_crit))\n",
    "print('If these two quantities are roughly the same order of magnitude we are good to go.')"
   ]
  },
  {
   "cell_type": "markdown",
   "metadata": {},
   "source": [
    "## Predict the LOS terms: all the haloes <a name=\"predict_shears\"></a>\n",
    "\n",
    "This is done for the complete haloes dataframe, problematic haloes included. The problematic haloes are removed and the shear terms recomputed in the `distributed_haloes_cutter` notebook.\n",
    "\n",
    "[Back to contents](#contents)"
   ]
  },
  {
   "cell_type": "code",
   "execution_count": null,
   "metadata": {},
   "outputs": [],
   "source": [
    "# make a dataframe to save them\n",
    "shears_dataframe = pd.DataFrame(columns = ['gamma1_os', 'gamma2_os', 'kappa_os', 'alpha1_os', 'alpha2_os',\n",
    "                                           'gamma1_od', 'gamma2_od', 'kappa_od', 'alpha1_od', 'alpha2_od',\n",
    "                                           'gamma1_ds', 'gamma2_ds', 'kappa_ds',\n",
    "                                           'gamma1_los', 'gamma2_los', 'kappa_los'])\n",
    "\n",
    "# dummy row so we can write scalars directly to the df\n",
    "shears_dataframe = shears_dataframe.append(pd.Series('dummy'), ignore_index=True)"
   ]
  },
  {
   "cell_type": "code",
   "execution_count": null,
   "metadata": {},
   "outputs": [],
   "source": [
    "# we already computed the individual os terms, sum them to get the total os terms\n",
    "\n",
    "expected_gamma1_os = sum(gamma1)\n",
    "expected_gamma2_os = sum(gamma2)\n",
    "expected_kappa_os  = sum(kappa)\n",
    "\n",
    "shears_dataframe['gamma1_os'] = expected_gamma1_os\n",
    "shears_dataframe['gamma2_os'] = expected_gamma2_os\n",
    "shears_dataframe['kappa_os']  = expected_kappa_os\n",
    "shears_dataframe['alpha1_os'] = expected_alpha1_os\n",
    "shears_dataframe['alpha2_os'] = expected_alpha2_os"
   ]
  },
  {
   "cell_type": "markdown",
   "metadata": {},
   "source": [
    "# OD"
   ]
  },
  {
   "cell_type": "code",
   "execution_count": null,
   "metadata": {},
   "outputs": [],
   "source": [
    "foreground_haloes_dataframe = shaped_haloes_dataframe[shaped_haloes_dataframe['z'].between(z_observer, z_lens)]\n",
    "\n",
    "foreground_halo_number = len(foreground_haloes_dataframe)\n",
    "foreground_halo_redshift_list = foreground_haloes_dataframe['z'].to_list()\n",
    "foreground_halo_mass          = foreground_haloes_dataframe['mass'].to_list()\n",
    "foreground_halo_concentration = foreground_haloes_dataframe['concentration'].to_list()"
   ]
  },
  {
   "cell_type": "code",
   "execution_count": null,
   "metadata": {},
   "outputs": [],
   "source": [
    "Rs_angle = []\n",
    "alpha_Rs_od = []\n",
    "\n",
    "for i in tqdm(range(foreground_halo_number)):\n",
    "    # get the quantities for each halo's redshift\n",
    "    lens_cosmo = LensCosmo(z_lens = foreground_halo_redshift_list[i], z_source = z_source, cosmo = cosmo)\n",
    "    \n",
    "    angles = lens_cosmo.nfw_physical2angle(M = foreground_halo_mass[i],\n",
    "                                           c = foreground_halo_concentration[i])\n",
    "    Rs_angle.append(float(angles[0]))\n",
    "    alpha_Rs_od.append(float(angles[1]))\n",
    "\n",
    "# add to the dataframe\n",
    "foreground_haloes_dataframe['Rs'] = Rs_angle # [arcsec]\n",
    "foreground_haloes_dataframe['alpha_Rs'] = alpha_Rs_od # [arcsec]"
   ]
  },
  {
   "cell_type": "code",
   "execution_count": null,
   "metadata": {},
   "outputs": [],
   "source": [
    "kwargs_foreground_nfw = foreground_haloes_dataframe[['Rs','alpha_Rs','center_x','center_y']].to_dict('records')\n",
    "\n",
    "od_lens_model = LensModel(lens_model_list = ['NFW'], z_source = z_source)\n",
    "\n",
    "gamma1_od = []\n",
    "gamma2_od = []\n",
    "kappa_od  = []\n",
    "\n",
    "for i in tqdm(range(foreground_halo_number)):\n",
    "    gamma_od = od_lens_model.gamma(x = 0.0, y = 0.0, kwargs = [kwargs_foreground_nfw[i]])\n",
    "    kappa_od_calc = od_lens_model.kappa(x = 0.0, y = 0.0, kwargs = [kwargs_foreground_nfw[i]])\n",
    "    gamma1_od.append(float(gamma_od[0]))\n",
    "    gamma2_od.append(float(gamma_od[1]))\n",
    "    kappa_od.append(float(kappa_od_calc))\n",
    "        \n",
    "expected_gamma1_od = sum(gamma1_od)\n",
    "expected_gamma2_od = sum(gamma2_od)\n",
    "expected_kappa_od  = sum(kappa_od)\n",
    "\n",
    "shears_dataframe['gamma1_od'] = expected_gamma1_od\n",
    "shears_dataframe['gamma2_od'] = expected_gamma2_od\n",
    "shears_dataframe['kappa_od']  = expected_kappa_od"
   ]
  },
  {
   "cell_type": "code",
   "execution_count": null,
   "metadata": {},
   "outputs": [],
   "source": [
    "multiplane_od_lens_model = LensModel(lens_model_list = ['NFW']*len(foreground_haloes_dataframe), \n",
    "                                  z_source = z_lens, # notice we use the main lens redshift as the 'source'\n",
    "                                  lens_redshift_list = foreground_halo_redshift_list,\n",
    "                                  multi_plane=True)\n",
    "\n",
    "\n",
    "mp_alpha_od = multiplane_od_lens_model.alpha(x = [0.0]*len(foreground_haloes_dataframe), \n",
    "                                             y = [0.0]*len(foreground_haloes_dataframe), \n",
    "                                             kwargs = kwargs_foreground_nfw)\n",
    "\n",
    "expected_alpha1_od = mp_alpha_od[0][0]\n",
    "expected_alpha2_od = mp_alpha_od[1][0]\n",
    "\n",
    "shears_dataframe['alpha1_od'] = expected_alpha1_od\n",
    "shears_dataframe['alpha2_od'] = expected_alpha2_od"
   ]
  },
  {
   "cell_type": "code",
   "execution_count": null,
   "metadata": {},
   "outputs": [],
   "source": [
    "print(expected_alpha1_od, expected_alpha2_od)"
   ]
  },
  {
   "cell_type": "markdown",
   "metadata": {},
   "source": [
    "# DS\n",
    "Only the od and os components play a role in the source position correction, so we don't need to compute `alpha_ds`."
   ]
  },
  {
   "cell_type": "code",
   "execution_count": null,
   "metadata": {},
   "outputs": [],
   "source": [
    "background_haloes_dataframe = shaped_haloes_dataframe[shaped_haloes_dataframe['z'].between(z_lens, z_source)]\n",
    "\n",
    "background_halo_number = len(background_haloes_dataframe)\n",
    "background_halo_redshift_list = background_haloes_dataframe['z'].to_list()\n",
    "background_halo_mass          = background_haloes_dataframe['mass'].to_list()\n",
    "background_halo_concentration = background_haloes_dataframe['concentration'].to_list()\n",
    "\n",
    "Rs_angle = []\n",
    "alpha_Rs_ds = []"
   ]
  },
  {
   "cell_type": "code",
   "execution_count": null,
   "metadata": {},
   "outputs": [],
   "source": [
    "for i in tqdm(range(background_halo_number)):\n",
    "    # get the quantities for each halo's redshift\n",
    "    lens_cosmo = LensCosmo(z_lens = background_halo_redshift_list[i], z_source = z_source, cosmo = cosmo)\n",
    "    \n",
    "    angles = lens_cosmo.nfw_physical2angle(M = background_halo_mass[i],\n",
    "                                           c = background_halo_concentration[i])\n",
    "    Rs_angle.append(float(angles[0]))\n",
    "    alpha_Rs_ds.append(float(angles[1]))\n",
    "\n",
    "# add to the dataframe\n",
    "background_haloes_dataframe['Rs'] = Rs_angle # [arcsec]\n",
    "background_haloes_dataframe['alpha_Rs'] = alpha_Rs_ds # [arcsec]"
   ]
  },
  {
   "cell_type": "code",
   "execution_count": null,
   "metadata": {},
   "outputs": [],
   "source": [
    "kwargs_background_nfw = background_haloes_dataframe[['Rs','alpha_Rs','center_x','center_y']].to_dict('records')\n",
    "\n",
    "ds_lens_model = LensModel(lens_model_list = ['NFW'], z_source = z_source)\n",
    "\n",
    "gamma1_ds = []\n",
    "gamma2_ds = []\n",
    "kappa_ds  = []\n",
    "\n",
    "for i in tqdm(range(background_halo_number)):\n",
    "    gamma_ds = ds_lens_model.gamma(x = 0.0, y = 0.0, kwargs = [kwargs_background_nfw[i]])\n",
    "    kappa_ds_calc = ds_lens_model.kappa(x = 0.0, y = 0.0, kwargs = [kwargs_background_nfw[i]])\n",
    "    gamma1_ds.append(float(gamma_ds[0]))\n",
    "    gamma2_ds.append(float(gamma_ds[1]))\n",
    "    kappa_ds.append(float(kappa_ds_calc))\n",
    "        \n",
    "expected_gamma1_ds = sum(gamma1_ds)\n",
    "expected_gamma2_ds = sum(gamma2_ds)\n",
    "expected_kappa_ds  = sum(kappa_ds)\n",
    "\n",
    "shears_dataframe['gamma1_ds'] = expected_gamma1_ds\n",
    "shears_dataframe['gamma2_ds'] = expected_gamma2_ds\n",
    "shears_dataframe['kappa_ds']  = expected_kappa_ds"
   ]
  },
  {
   "cell_type": "code",
   "execution_count": null,
   "metadata": {},
   "outputs": [],
   "source": [
    "multiplane_ds_lens_model = LensModel(lens_model_list = ['NFW']*len(background_haloes_dataframe), \n",
    "                                  z_source = z_source,\n",
    "                                  lens_redshift_list = background_halo_redshift_list,\n",
    "                                  multi_plane=True)\n",
    "\n",
    "\n",
    "mp_alpha_ds = multiplane_ds_lens_model.alpha(x = [0.0]*len(background_haloes_dataframe), \n",
    "                                             y = [0.0]*len(background_haloes_dataframe), \n",
    "                                             kwargs = kwargs_background_nfw)\n",
    "\n",
    "expected_alpha1_ds = mp_alpha_ds[0][0]\n",
    "expected_alpha2_ds = mp_alpha_ds[1][0]\n",
    "\n",
    "shears_dataframe['alpha1_ds'] = expected_alpha1_ds\n",
    "shears_dataframe['alpha2_ds'] = expected_alpha2_ds"
   ]
  },
  {
   "cell_type": "markdown",
   "metadata": {},
   "source": [
    "### Get the LOS component"
   ]
  },
  {
   "cell_type": "code",
   "execution_count": null,
   "metadata": {},
   "outputs": [],
   "source": [
    "expected_gamma1_LOS = expected_gamma1_os + expected_gamma1_od - expected_gamma1_ds\n",
    "expected_gamma2_LOS = expected_gamma2_os + expected_gamma2_od - expected_gamma2_ds\n",
    "expected_kappa_LOS  = expected_kappa_os  + expected_kappa_od  - expected_kappa_ds\n",
    "\n",
    "shears_dataframe['gamma1_los'] = expected_gamma1_LOS\n",
    "shears_dataframe['gamma2_los'] = expected_gamma2_LOS\n",
    "shears_dataframe['kappa_los']  = expected_kappa_LOS"
   ]
  },
  {
   "cell_type": "code",
   "execution_count": null,
   "metadata": {},
   "outputs": [],
   "source": [
    "print('\\nThe predicted shear components for all haloes are:')\n",
    "print('gamma_os  = ({:.3e}, {:.3e})'.format(expected_gamma1_os, expected_gamma2_os))\n",
    "print('gamma_od  = ({:.3e}, {:.3e})'.format(expected_gamma1_od, expected_gamma2_od))\n",
    "print('gamma_ds  = ({:.3e}, {:.3e})'.format(expected_gamma1_ds, expected_gamma2_ds))\n",
    "print('gamma_LOS = ({:.3e}, {:.3e})'.format(expected_gamma1_LOS, expected_gamma2_LOS))"
   ]
  },
  {
   "cell_type": "code",
   "execution_count": null,
   "metadata": {},
   "outputs": [],
   "source": [
    "print('\\nThe predicted convergence components are:')\n",
    "print('kappa_os  = {:.3e}.'.format(expected_kappa_os))\n",
    "print('kappa_od  = {:.3e}.'.format(expected_kappa_od))\n",
    "print('kappa_ds  = {:.3e}.'.format(expected_kappa_ds))\n",
    "print('kappa_LOS = {:.3e}.'.format(expected_kappa_LOS))"
   ]
  },
  {
   "cell_type": "markdown",
   "metadata": {},
   "source": [
    "## Save the final dataframes to file"
   ]
  },
  {
   "cell_type": "code",
   "execution_count": null,
   "metadata": {},
   "outputs": [],
   "source": [
    "# write haloes to fits\n",
    "haloes_fits = Table.from_pandas(shaped_haloes_dataframe)\n",
    "haloes_fits.write(outpath + 'total_haloes_dataframe_' + job_name + '.fits', overwrite = True)\n",
    "\n",
    "# write haloes to csv for quick looking at\n",
    "# haloes_dataframe.to_csv(outpath + 'total_haloes_dataframe_' + job_name + '.csv', index = False)\n",
    "\n",
    "# write shears to csv\n",
    "shears_dataframe.to_csv(outpath + 'total_shears_dataframe_' + job_name + '.csv', index = False)"
   ]
  },
  {
   "cell_type": "markdown",
   "metadata": {},
   "source": [
    "[Back to contents](#contents)"
   ]
  }
 ],
 "metadata": {
  "kernelspec": {
   "display_name": "Python 3",
   "language": "python",
   "name": "python3"
  },
  "language_info": {
   "codemirror_mode": {
    "name": "ipython",
    "version": 3
   },
   "file_extension": ".py",
   "mimetype": "text/x-python",
   "name": "python",
   "nbconvert_exporter": "python",
   "pygments_lexer": "ipython3",
   "version": "3.8.5"
  }
 },
 "nbformat": 4,
 "nbformat_minor": 5
}
