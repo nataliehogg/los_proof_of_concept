{
 "cells": [
  {
   "cell_type": "markdown",
   "metadata": {
    "tags": []
   },
   "source": [
    "# Distributed haloes analysis\n",
    "<b>Author</b>: Natalie B. Hogg"
   ]
  },
  {
   "cell_type": "markdown",
   "metadata": {},
   "source": [
    "We use `lenstronomy` to create an image produced by the so-called \"distributed haloes\" model, where we have a main lens modelled by an EPL profile, with a large number of NFW haloes along the line-of-sight, both in front of and behind the main lens. We draw the positions of the haloes from a plectrum-shaped volume whose radius is dependent on the number density of haloes and the comoving distances from observer to halo and observer to source. We obtain the number density of the haloes and their masses from a halo mass function computed using `colossus`. We use the multi-plane lensing functionality of `lenstronomy` to place the haloes along the line-of-sight.\n",
    "\n",
    "We create a mock image that would be observed in this situation, and attempt to fit it with a model which includes an EPL main lens plus line-of-sight shear. We aim to show that the MCMC can correctly recover the predicted LOS shears. We find that a number of haloes break the tidal approximation and induce a flexion-like residual in the reconstructed image. With these beyond-tidal haloes removed from the population, the LOS shears are recovered perfectly.\n",
    "\n",
    "**This notebook loads the saved haloes and analyses the image produced**."
   ]
  },
  {
   "cell_type": "markdown",
   "metadata": {},
   "source": [
    "## Contents <a name=\"contents\"></a>\n",
    "1. [Set up](#setup)\n",
    "2. [Main lens](#main)\n",
    "3. [Total haloes](#t)\n",
    " 1. [Source](#ts)\n",
    " 2. [Image](#ti)\n",
    " 3. [MCMC](#tm)\n",
    " 4. [Contour plot](#tc)\n",
    "4. [Surviving haloes](#s)\n",
    " 1. [Source](#ss)\n",
    " 2. [Image](#si)\n",
    " 3. [MCMC](#sm)\n",
    " 4. [Contour plot](#sc)"
   ]
  },
  {
   "cell_type": "markdown",
   "metadata": {},
   "source": [
    "## Set up <a name=\"setup\"></a>"
   ]
  },
  {
   "cell_type": "markdown",
   "metadata": {},
   "source": [
    "### Import packages"
   ]
  },
  {
   "cell_type": "code",
   "execution_count": 1,
   "metadata": {},
   "outputs": [],
   "source": [
    "# computation\n",
    "import numpy as np\n",
    "import pandas as pd\n",
    "from multiprocessing import cpu_count\n",
    "ncpu = cpu_count()\n",
    "\n",
    "# plotting\n",
    "import seaborn as sns\n",
    "import cmasher as cmr\n",
    "import matplotlib\n",
    "from matplotlib import pyplot as plt\n",
    "from matplotlib import rc, rcParams, rcParamsDefault\n",
    "\n",
    "# cosmology\n",
    "from colossus.cosmology import cosmology as colcos\n",
    "from colossus.lss import mass_function\n",
    "from chainconsumer import ChainConsumer\n",
    "from astropy.table import Table\n",
    "\n",
    "# monitoring\n",
    "from tqdm.notebook import tqdm\n",
    "import warnings\n",
    "warnings.filterwarnings('ignore')\n",
    "\n",
    "# show figures inline\n",
    "%matplotlib inline\n",
    "\n",
    "outpath  = r'/home/natalie/Documents/Projects/los_effects/figures/distributed_haloes/simple/' \n",
    "\n",
    "job_name = 'million'\n",
    "\n",
    "# maintain same settings as the population was generated with\n",
    "theta_E  = 1.0\n",
    "z_lens   = 0.5 \n",
    "z_source = 1.5 "
   ]
  },
  {
   "cell_type": "markdown",
   "metadata": {},
   "source": [
    "### Import `lenstronomy` packages"
   ]
  },
  {
   "cell_type": "code",
   "execution_count": 2,
   "metadata": {},
   "outputs": [],
   "source": [
    "from lenstronomy.SimulationAPI.sim_api import SimAPI\n",
    "from lenstronomy.SimulationAPI.ObservationConfig.HST import HST\n",
    "from lenstronomy.Workflow.fitting_sequence import FittingSequence\n",
    "from lenstronomy.Plots import chain_plot\n",
    "from lenstronomy.Plots.model_plot import ModelPlot"
   ]
  },
  {
   "cell_type": "markdown",
   "metadata": {},
   "source": [
    "### Useful functions"
   ]
  },
  {
   "cell_type": "code",
   "execution_count": 3,
   "metadata": {},
   "outputs": [],
   "source": [
    "def show_palette(colour):\n",
    "    # function for displaying colour palettes\n",
    "    sns.set_style('whitegrid')\n",
    "    hex2rgb = []\n",
    "    for k in colour:\n",
    "        h = k.lstrip('#')\n",
    "        hex2rgb.append(tuple(int(h[i:i + 2], 16) / 255.0 for i in (0, 2, 4)))\n",
    "    return sns.palplot(hex2rgb)\n",
    "\n",
    "def ellipticity(phi, q):\n",
    "    # transforms orientation angle phi and aspect ratio q into complex ellipticity modulii e1, e2\n",
    "    e1 = (1 - q)/(1 + q)*np.cos(2*phi)\n",
    "    e2 = (1 - q)/(1 + q)*np.sin(2*phi)\n",
    "    return e1, e2\n",
    "\n",
    "def distance_conversion(distance, conversion_type):\n",
    "    # converts a distance in Mpc to Gpc, kpc, pc or m\n",
    "    # careful! it doesn't sanity check your input\n",
    "    if conversion_type == 'to Gpc':\n",
    "        new_distance = distance/(10**3)\n",
    "    elif conversion_type == 'to kpc':\n",
    "        new_distance = distance*(10**3)\n",
    "    elif conversion_type == 'to pc':\n",
    "        new_distance = distance*(10**6)\n",
    "    elif conversion_type == 'to m':\n",
    "        new_distance = distance*(3.086*10**22)\n",
    "    else:\n",
    "        print('Unknown conversion type')\n",
    "    return new_distance\n",
    "\n",
    "def angle_conversion(angle, conversion_type):\n",
    "    # converts an angle in arcsec to rad or rad to arcsec\n",
    "    # careful! it doesn't sanity check your input\n",
    "    conversion_factor = np.pi/(180*3600)\n",
    "    if conversion_type == 'to arcsecs':\n",
    "        new_angle = angle/conversion_factor\n",
    "    elif conversion_type == 'to radians':\n",
    "        new_angle = angle*conversion_factor\n",
    "    else:\n",
    "        print('Unknown conversion type')\n",
    "    return new_angle"
   ]
  },
  {
   "cell_type": "markdown",
   "metadata": {},
   "source": [
    "### Global plotting and display settings"
   ]
  },
  {
   "cell_type": "code",
   "execution_count": 4,
   "metadata": {},
   "outputs": [
    {
     "data": {
      "image/png": "[encoded data removed]",
      "text/plain": [
       "<Figure size 216x72 with 1 Axes>"
      ]
     },
     "metadata": {},
     "output_type": "display_data"
    }
   ],
   "source": [
    "# contour plot colours\n",
    "# thanks to colorbrewer for these palettes! https://colorbrewer2.org\n",
    "green        = ['#a6dba0','#5aae61','#1b7837']\n",
    "purple       = ['#c2a5cf', '#9970ab', '#762a83']\n",
    "analogous    = ['#a0c3db', '#dbb7a0']\n",
    "warm         = ['#fdcc8a', '#fc8d59', '#d7301f']\n",
    "cool         = ['#41b6c4', '#2c7fb8', '#253494']\n",
    "\n",
    "# have a look at a palette for example\n",
    "show_palette(warm)\n",
    "\n",
    "# set the seaborn style\n",
    "sns.set_style('ticks')\n",
    "\n",
    "# use TeX for plot labels\n",
    "rc('text', usetex=True)\n",
    "rc('font', family='serif')\n",
    "matplotlib.rcParams.update({'font.size': 18})"
   ]
  },
  {
   "cell_type": "markdown",
   "metadata": {},
   "source": [
    "### Global MCMC settings"
   ]
  },
  {
   "cell_type": "code",
   "execution_count": 5,
   "metadata": {},
   "outputs": [],
   "source": [
    "walker_ratio = 10     # number of walkers per parameter\n",
    "n_burn       = 400   # number of burn-in steps\n",
    "n_run        = 400   # number of sampling steps\n",
    "sigma_scale  = 1.0   # multiplies the initial spread of each parameter\n",
    "param_sigma  = 0.001 # expected standard deviation of sampled shears\n",
    "param_min    = -0.1  # lower bound of prior on sampled shears\n",
    "param_max    = 0.1   # upper bound of prior on sampled shears"
   ]
  },
  {
   "cell_type": "markdown",
   "metadata": {},
   "source": [
    "## Create main lens: `EPL` <a name=\"main\"></a>\n",
    "\n",
    "[Back to contents](#contents)"
   ]
  },
  {
   "cell_type": "code",
   "execution_count": 6,
   "metadata": {},
   "outputs": [],
   "source": [
    "# note the lens position is added later as it needs to be corrected using the alpha_od from the shear data\n",
    "\n",
    "gamma_epl = 2.6 # slope of power law\n",
    "\n",
    "# set the ellipticity\n",
    "lens_orientation_angle = np.random.uniform(0.0, 2*np.pi) # direction of ellipticity relative to the line of sight\n",
    "lens_aspect_ratio      = np.random.uniform(0.8, 1.0) # ratio of semi-major axis to semi-minor axis of the ellipse (1 -> circle)\n",
    "e1_epl, e2_epl    = ellipticity(lens_orientation_angle, lens_aspect_ratio)"
   ]
  },
  {
   "cell_type": "markdown",
   "metadata": {},
   "source": [
    "## Load halo and shear data"
   ]
  },
  {
   "cell_type": "code",
   "execution_count": 7,
   "metadata": {},
   "outputs": [],
   "source": [
    "total_haloes_fits = Table.read(outpath + 'total_haloes_dataframe_' + job_name + '.fits')\n",
    "\n",
    "total_haloes_dataframe = total_haloes_fits.to_pandas()\n",
    "\n",
    "total_halo_number = len(total_haloes_dataframe)\n",
    "\n",
    "total_halo_redshift_list = total_haloes_dataframe['z'].to_list()\n",
    "\n",
    "kwargs_total_nfw = total_haloes_dataframe[['Rs', 'alpha_Rs', 'center_x', 'center_y']].to_dict('records')"
   ]
  },
  {
   "cell_type": "code",
   "execution_count": 8,
   "metadata": {},
   "outputs": [],
   "source": [
    "surviving_haloes_fits = Table.read(outpath + 'surviving_haloes_dataframe_' + job_name + '.fits')\n",
    "\n",
    "surviving_haloes_dataframe = surviving_haloes_fits.to_pandas()\n",
    "\n",
    "surviving_halo_number = len(surviving_haloes_dataframe)\n",
    "\n",
    "surviving_halo_redshift_list = surviving_haloes_dataframe['z'].to_list()\n",
    "\n",
    "kwargs_surviving_nfw = surviving_haloes_dataframe[['Rs', 'alpha_Rs', 'center_x', 'center_y']].to_dict('records')"
   ]
  },
  {
   "cell_type": "code",
   "execution_count": 9,
   "metadata": {},
   "outputs": [],
   "source": [
    "total_shears_dataframe = pd.read_csv(outpath + 'total_shears_dataframe_' + job_name + '.csv')\n",
    "surviving_shears_dataframe = pd.read_csv(outpath + 'surviving_shears_dataframe_' + job_name + '.csv')"
   ]
  },
  {
   "cell_type": "markdown",
   "metadata": {},
   "source": [
    " ## Total haloes case<a name=\"t\"></a>\n",
    "\n",
    "\n",
    " ### Source <a name=\"ts\"></a>\n",
    " The source offset correction is different for the two cases, so we have to instantiate two different sources. They have some common parameters though.\n",
    " \n",
    " [Back to contents](#contents)"
   ]
  },
  {
   "cell_type": "code",
   "execution_count": 10,
   "metadata": {},
   "outputs": [],
   "source": [
    "source_magnitude = 24.0\n",
    "source_R_sersic = 0.03\n",
    "source_n_sersic = 1.0\n",
    "\n",
    "source_orientation_angle = np.random.uniform(0.0, 2*np.pi) \n",
    "source_aspect_ratio      = np.random.uniform(0.8, 1.0) \n",
    "source_e1, source_e2 = ellipticity(source_orientation_angle, source_aspect_ratio)"
   ]
  },
  {
   "cell_type": "code",
   "execution_count": 11,
   "metadata": {},
   "outputs": [],
   "source": [
    "# Sersic, Sersic, burning bright, in the redshifts of the night\n",
    "# what immortal hand or eye could frame thy fearful symmetry?\n",
    "\n",
    "total_source_model_list = ['SERSIC_ELLIPSE']\n",
    "\n",
    "total_kwargs_sersic = {'magnitude': source_magnitude, \n",
    "                       'R_sersic': source_R_sersic, \n",
    "                       'n_sersic': source_n_sersic,\n",
    "                       'e1': source_e1, \n",
    "                       'e2': source_e2,\n",
    "                       'center_x': -total_shears_dataframe['alpha1_os'].values[0], \n",
    "                       'center_y': -total_shears_dataframe['alpha2_os'].values[0]}\n",
    "\n",
    "total_kwargs_source = [total_kwargs_sersic]"
   ]
  },
  {
   "cell_type": "markdown",
   "metadata": {},
   "source": [
    "### Image <a name=\"ti\"></a>\n",
    "\n",
    "[Back to contents](#contents)"
   ]
  },
  {
   "cell_type": "code",
   "execution_count": 12,
   "metadata": {},
   "outputs": [
    {
     "name": "stdout",
     "output_type": "stream",
     "text": [
      "\n",
      " Appending the haloes kwargs to the kwargs_lens\n"
     ]
    },
    {
     "data": {
      "application/vnd.jupyter.widget-view+json": {
       "model_id": "0bec08bf544741f8b962852e2766bc2f",
       "version_major": 2,
       "version_minor": 0
      },
      "text/plain": [
       "  0%|          | 0/15778 [00:00<?, ?it/s]"
      ]
     },
     "metadata": {},
     "output_type": "display_data"
    }
   ],
   "source": [
    "total_lens_mock_list = ['EPL'] + ['NFW']*total_halo_number\n",
    "\n",
    "total_redshift_list = [z_lens] + total_halo_redshift_list \n",
    "\n",
    "total_kwargs_epl = {'theta_E': theta_E,\n",
    "                    'gamma': gamma_epl,\n",
    "                    'center_x': -total_shears_dataframe['alpha1_od'].values[0],\n",
    "                    'center_y': -total_shears_dataframe['alpha2_od'].values[0],\n",
    "                    'e1': e1_epl,\n",
    "                    'e2': e2_epl}\n",
    "\n",
    "total_kwargs_lens = [total_kwargs_epl]\n",
    "\n",
    "print('\\n Appending the haloes kwargs to the kwargs_lens')\n",
    "for i in tqdm(range(len(total_halo_redshift_list))):\n",
    "    total_kwargs_lens.append(kwargs_total_nfw[i])\n",
    "    \n",
    "kwargs_model = {'lens_model_list': total_lens_mock_list,\n",
    "                'lens_redshift_list': total_redshift_list, # the presence of the list tells SimAPI to use multiplane\n",
    "                'z_source': z_source,\n",
    "                'source_light_model_list': total_source_model_list}"
   ]
  },
  {
   "cell_type": "code",
   "execution_count": 13,
   "metadata": {},
   "outputs": [],
   "source": [
    "# get the telescope settings for HST\n",
    "psf = 'GAUSSIAN'\n",
    "band = HST(band='WFC3_F160W', psf_type=psf) # this chooses the specific camera and filter of HST\n",
    "kwargs_band = band.kwargs_single_band() # we are only considering a single band (i.e. a single wavelength/filter)\n",
    "pixel_size = band.camera['pixel_scale'] # in arcsec\n",
    "kwargs_psf = {'psf_type': psf,\n",
    "              'fwhm': kwargs_band['seeing'],\n",
    "              'pixel_size': pixel_size,\n",
    "              'truncation': 3}\n",
    "\n",
    "# define the numerics\n",
    "kwargs_numerics = {'supersampling_factor': 1,\n",
    "                   'supersampling_convolution': False}\n",
    "\n",
    "# call the simulation API class\n",
    "sim = SimAPI(numpix = 49, # number of pixels we want in our image\n",
    "             kwargs_single_band = kwargs_band, # give the SimAPI class the keyword arguments for HST that we got above\n",
    "             kwargs_model = kwargs_model)\n",
    "\n",
    "kwargs_data = sim.kwargs_data"
   ]
  },
  {
   "cell_type": "code",
   "execution_count": 14,
   "metadata": {},
   "outputs": [],
   "source": [
    "# convert magnitudes into amplitudes\n",
    "# we don't care about lens light or the point source\n",
    "ll, total_kwargs_source, ps = sim.magnitude2amplitude(kwargs_source_mag = total_kwargs_source)\n",
    "\n",
    "# now use the SimAPI class to generate a noisy image in one step\n",
    "imSim = sim.image_model_class(kwargs_numerics)\n",
    "\n",
    "total_image = imSim.image(kwargs_lens = total_kwargs_lens,\n",
    "                          kwargs_source = total_kwargs_source)\n",
    "\n",
    "total_image_noisy = total_image + sim.noise_for_model(model = total_image)\n",
    "\n",
    "kwargs_data['image_data'] = total_image_noisy"
   ]
  },
  {
   "cell_type": "code",
   "execution_count": 15,
   "metadata": {},
   "outputs": [
    {
     "data": {
      "image/png": "[encoded data removed]",
      "text/plain": [
       "<Figure size 432x432 with 1 Axes>"
      ]
     },
     "metadata": {},
     "output_type": "display_data"
    }
   ],
   "source": [
    "# plot the image\n",
    "cmap_string = 'bone'\n",
    "cmap = plt.get_cmap(cmap_string)\n",
    "cmap.set_bad(color='k', alpha=1.)\n",
    "cmap.set_under('k')\n",
    "\n",
    "v_min = -4\n",
    "v_max = 1\n",
    "\n",
    "fig, ax = plt.subplots(1, 1, figsize=(6, 6))\n",
    "\n",
    "total_im = ax.matshow(np.log10(total_image_noisy), origin='lower', vmin=v_min, vmax=v_max, cmap=cmap, extent=[-1, 1, -1, 1])\n",
    "ax.get_xaxis().set_visible(False)\n",
    "ax.get_yaxis().set_visible(False)\n",
    "ax.autoscale(False)\n",
    "ax.axis('off')\n",
    "\n",
    "# fig.suptitle('Image from {} haloes'.format(total_halo_number))\n",
    "\n",
    "plt.savefig(outpath + job_name + '_total_image.pdf', dpi=300, bbox_inches='tight')\n",
    "\n",
    "plt.show()"
   ]
  },
  {
   "cell_type": "markdown",
   "metadata": {},
   "source": [
    "### MCMC <a name=\"tm\"></a>\n",
    "\n",
    "If you get an error about the MCMC not being able to find the chains file, you need to manually create a `chains` directory inside the directory you specified for `outpath`.\n",
    "\n",
    "[Back to contents](#contents)"
   ]
  },
  {
   "cell_type": "code",
   "execution_count": 16,
   "metadata": {},
   "outputs": [],
   "source": [
    "# total haloes lens model\n",
    "\n",
    "lens_model_list = ['LOS_MINIMAL', 'EPL']\n",
    "\n",
    "# initialise the lists of parameters\n",
    "fixed_lens = []\n",
    "kwargs_lens_init = []\n",
    "kwargs_lens_sigma = []\n",
    "kwargs_lower_lens = []\n",
    "kwargs_upper_lens = []\n",
    "\n",
    "# Line-of-sight parameters\n",
    "fixed_lens.append({'kappa_od': total_shears_dataframe['kappa_od'].values[0], 'omega_od': 0.0,\n",
    "                  'kappa_los': total_shears_dataframe['kappa_los'].values[0]})\n",
    "\n",
    "# notice the below params need to be defined in this order\n",
    "# or you will get a key error when trying to run the MCMC\n",
    "\n",
    "params = ['gamma1_od', 'gamma2_od', \n",
    "          'gamma1_los', 'gamma2_los',\n",
    "          'omega_los']\n",
    "\n",
    "kwargs_lens_init.append({'gamma1_od': total_shears_dataframe['gamma1_od'].values[0],\n",
    "                         'gamma2_od': total_shears_dataframe['gamma2_od'].values[0],\n",
    "                         'gamma1_los': total_shears_dataframe['gamma1_los'].values[0],\n",
    "                         'gamma2_los': total_shears_dataframe['gamma2_los'].values[0],\n",
    "                         'omega_los': 0.0})\n",
    "\n",
    "kwargs_lens_sigma.append({param: param_sigma for param in params})\n",
    "kwargs_lower_lens.append({param: param_min for param in params})\n",
    "kwargs_upper_lens.append({param: param_max for param in params})\n",
    "\n",
    "# EPL\n",
    "# we are fitting with LOS so we expect the image to be centred on ZERO!!!\n",
    "# i.e. source corrections are naturally present in an LOS model!\n",
    "fixed_lens.append({})\n",
    "\n",
    "kwargs_lens_init.append({'theta_E': total_kwargs_epl['theta_E'], \n",
    "                         'gamma': total_kwargs_epl['gamma'], \n",
    "                         'center_x': 0.0, \n",
    "                         'center_y': 0.0,\n",
    "                         'e1': total_kwargs_epl['e1'], \n",
    "                         'e2': total_kwargs_epl['e2']})\n",
    "\n",
    "kwargs_lens_sigma.append({'theta_E': 0.001, 'gamma': 0.01, \n",
    "                          'center_x': 0.01, 'center_y': 0.01,\n",
    "                          'e1': 0.01, 'e2': 0.01})\n",
    "\n",
    "kwargs_lower_lens.append({'theta_E': 0.01, 'gamma': 0.0, \n",
    "                          'center_x': -0.5, 'center_y': -0.5,\n",
    "                          'e1': -0.5, 'e2': -0.5})\n",
    "\n",
    "kwargs_upper_lens.append({'theta_E': 10, 'gamma': 4.0, \n",
    "                          'center_x': 0.5, 'center_y': 0.5,\n",
    "                          'e1': 0.5, 'e2': 0.5})\n",
    "\n",
    "\n",
    "lens_params = [kwargs_lens_init,\n",
    "               kwargs_lens_sigma,\n",
    "               fixed_lens,\n",
    "               kwargs_lower_lens,\n",
    "               kwargs_upper_lens]\n",
    "\n",
    "# source\n",
    "\n",
    "source_model_list = ['SERSIC_ELLIPSE']\n",
    "\n",
    "fixed_source = []\n",
    "kwargs_source_init = []\n",
    "kwargs_source_sigma = []\n",
    "kwargs_lower_source = []\n",
    "kwargs_upper_source = []\n",
    "\n",
    "fixed_source.append({})\n",
    "\n",
    "kwargs_source_init.append({'R_sersic': total_kwargs_sersic['R_sersic'], \n",
    "                           'n_sersic': total_kwargs_sersic['n_sersic'], \n",
    "                           'center_x': 0.0, \n",
    "                           'center_y': 0.0,\n",
    "                           'e1': total_kwargs_sersic['e1'], \n",
    "                           'e2': total_kwargs_sersic['e2']})\n",
    "\n",
    "kwargs_source_sigma.append({'R_sersic': 0.001, 'n_sersic': 0.001, \n",
    "                            'center_x': 0.01, 'center_y': 0.01,\n",
    "                            'e1': 0.01, 'e2': 0.01})\n",
    "\n",
    "kwargs_lower_source.append({'R_sersic': 0.001, 'n_sersic': 0.5,\n",
    "                            'center_x': -0.5, 'center_y': -0.5,\n",
    "                            'e1': -0.5, 'e2': -0.5})\n",
    "\n",
    "kwargs_upper_source.append({'R_sersic': 10, 'n_sersic': 10.0,\n",
    "                            'center_x': 0.5, 'center_y': 0.5,\n",
    "                            'e1': 0.5, 'e2': 0.5})\n",
    "\n",
    "source_params = [kwargs_source_init, kwargs_source_sigma,\n",
    "                 fixed_source, kwargs_lower_source, kwargs_upper_source]\n",
    "\n",
    "kwargs_params = {'lens_model': lens_params,\n",
    "                 'source_model': source_params}"
   ]
  },
  {
   "cell_type": "code",
   "execution_count": 17,
   "metadata": {
    "scrolled": false
   },
   "outputs": [
    {
     "name": "stdout",
     "output_type": "stream",
     "text": [
      "Warning: All samples (including burn-in) will be saved in backup file '/home/natalie/Documents/Projects/los_effects/figures/distributed_haloes/simple/chains/million_total.h5'.\n",
      "Warning: backup file '/home/natalie/Documents/Projects/los_effects/figures/distributed_haloes/simple/chains/million_total.h5' has been reset!\n"
     ]
    },
    {
     "name": "stderr",
     "output_type": "stream",
     "text": [
      "  3%|▎         | 25/800 [00:15<08:05,  1.60it/s]\n"
     ]
    },
    {
     "ename": "KeyboardInterrupt",
     "evalue": "",
     "output_type": "error",
     "traceback": [
      "\u001b[0;31m---------------------------------------------------------------------------\u001b[0m",
      "\u001b[0;31mKeyboardInterrupt\u001b[0m                         Traceback (most recent call last)",
      "\u001b[0;32m<ipython-input-17-6860fba20e30>\u001b[0m in \u001b[0;36m<module>\u001b[0;34m\u001b[0m\n\u001b[1;32m     24\u001b[0m                          + job_name + '_total.h5'}]]\n\u001b[1;32m     25\u001b[0m \u001b[0;34m\u001b[0m\u001b[0m\n\u001b[0;32m---> 26\u001b[0;31m \u001b[0mchain_list\u001b[0m \u001b[0;34m=\u001b[0m \u001b[0mfitting_seq\u001b[0m\u001b[0;34m.\u001b[0m\u001b[0mfit_sequence\u001b[0m\u001b[0;34m(\u001b[0m\u001b[0mfitting_kwargs_list\u001b[0m\u001b[0;34m)\u001b[0m\u001b[0;34m\u001b[0m\u001b[0;34m\u001b[0m\u001b[0m\n\u001b[0m\u001b[1;32m     27\u001b[0m \u001b[0mkwargs_result\u001b[0m \u001b[0;34m=\u001b[0m \u001b[0mfitting_seq\u001b[0m\u001b[0;34m.\u001b[0m\u001b[0mbest_fit\u001b[0m\u001b[0;34m(\u001b[0m\u001b[0;34m)\u001b[0m\u001b[0;34m\u001b[0m\u001b[0;34m\u001b[0m\u001b[0m\n\u001b[1;32m     28\u001b[0m \u001b[0;34m\u001b[0m\u001b[0m\n",
      "\u001b[0;32m~/anaconda3/lib/python3.8/site-packages/lenstronomy/Workflow/fitting_sequence.py\u001b[0m in \u001b[0;36mfit_sequence\u001b[0;34m(self, fitting_list)\u001b[0m\n\u001b[1;32m    106\u001b[0m                 \u001b[0;32melif\u001b[0m \u001b[0mkwargs\u001b[0m\u001b[0;34m[\u001b[0m\u001b[0;34m'init_samples'\u001b[0m\u001b[0;34m]\u001b[0m \u001b[0;32mis\u001b[0m \u001b[0;32mNone\u001b[0m\u001b[0;34m:\u001b[0m\u001b[0;34m\u001b[0m\u001b[0;34m\u001b[0m\u001b[0m\n\u001b[1;32m    107\u001b[0m                     \u001b[0mkwargs\u001b[0m\u001b[0;34m[\u001b[0m\u001b[0;34m'init_samples'\u001b[0m\u001b[0;34m]\u001b[0m \u001b[0;34m=\u001b[0m \u001b[0mself\u001b[0m\u001b[0;34m.\u001b[0m\u001b[0m_mcmc_init_samples\u001b[0m\u001b[0;34m\u001b[0m\u001b[0;34m\u001b[0m\u001b[0m\n\u001b[0;32m--> 108\u001b[0;31m                 \u001b[0mmcmc_output\u001b[0m \u001b[0;34m=\u001b[0m \u001b[0mself\u001b[0m\u001b[0;34m.\u001b[0m\u001b[0mmcmc\u001b[0m\u001b[0;34m(\u001b[0m\u001b[0;34m**\u001b[0m\u001b[0mkwargs\u001b[0m\u001b[0;34m)\u001b[0m\u001b[0;34m\u001b[0m\u001b[0;34m\u001b[0m\u001b[0m\n\u001b[0m\u001b[1;32m    109\u001b[0m                 \u001b[0mkwargs_result\u001b[0m \u001b[0;34m=\u001b[0m \u001b[0mself\u001b[0m\u001b[0;34m.\u001b[0m\u001b[0m_result_from_mcmc\u001b[0m\u001b[0;34m(\u001b[0m\u001b[0mmcmc_output\u001b[0m\u001b[0;34m)\u001b[0m\u001b[0;34m\u001b[0m\u001b[0;34m\u001b[0m\u001b[0m\n\u001b[1;32m    110\u001b[0m                 \u001b[0mself\u001b[0m\u001b[0;34m.\u001b[0m\u001b[0m_updateManager\u001b[0m\u001b[0;34m.\u001b[0m\u001b[0mupdate_param_state\u001b[0m\u001b[0;34m(\u001b[0m\u001b[0;34m**\u001b[0m\u001b[0mkwargs_result\u001b[0m\u001b[0;34m)\u001b[0m\u001b[0;34m\u001b[0m\u001b[0;34m\u001b[0m\u001b[0m\n",
      "\u001b[0;32m~/anaconda3/lib/python3.8/site-packages/lenstronomy/Workflow/fitting_sequence.py\u001b[0m in \u001b[0;36mmcmc\u001b[0;34m(self, n_burn, n_run, walkerRatio, n_walkers, sigma_scale, threadCount, init_samples, re_use_samples, sampler_type, progress, backend_filename, start_from_backend, moves, tune, tolerance, patience, maxsteps, mu, maxiter, pool, vectorize, blobs_dtype, verbose, check_walkers, shuffle_ensemble, light_mode)\u001b[0m\n\u001b[1;32m    268\u001b[0m \u001b[0;34m\u001b[0m\u001b[0m\n\u001b[1;32m    269\u001b[0m         \u001b[0;32mif\u001b[0m \u001b[0msampler_type\u001b[0m \u001b[0;34m==\u001b[0m \u001b[0;34m'EMCEE'\u001b[0m\u001b[0;34m:\u001b[0m\u001b[0;34m\u001b[0m\u001b[0;34m\u001b[0m\u001b[0m\n\u001b[0;32m--> 270\u001b[0;31m             samples, dist = mcmc_class.mcmc_emcee(n_walkers, n_run, n_burn, mean_start, sigma_start, mpi=self._mpi,\n\u001b[0m\u001b[1;32m    271\u001b[0m                                                   \u001b[0mthreadCount\u001b[0m\u001b[0;34m=\u001b[0m\u001b[0mthreadCount\u001b[0m\u001b[0;34m,\u001b[0m \u001b[0mprogress\u001b[0m\u001b[0;34m=\u001b[0m\u001b[0mprogress\u001b[0m\u001b[0;34m,\u001b[0m \u001b[0minitpos\u001b[0m\u001b[0;34m=\u001b[0m\u001b[0minitpos\u001b[0m\u001b[0;34m,\u001b[0m\u001b[0;34m\u001b[0m\u001b[0;34m\u001b[0m\u001b[0m\n\u001b[1;32m    272\u001b[0m                                                   \u001b[0mbackend_filename\u001b[0m\u001b[0;34m=\u001b[0m\u001b[0mbackend_filename\u001b[0m\u001b[0;34m,\u001b[0m\u001b[0;34m\u001b[0m\u001b[0;34m\u001b[0m\u001b[0m\n",
      "\u001b[0;32m~/anaconda3/lib/python3.8/site-packages/lenstronomy/Sampling/sampler.py\u001b[0m in \u001b[0;36mmcmc_emcee\u001b[0;34m(self, n_walkers, n_run, n_burn, mean_start, sigma_start, mpi, progress, threadCount, initpos, backend_filename, start_from_backend)\u001b[0m\n\u001b[1;32m    181\u001b[0m         \u001b[0msampler\u001b[0m \u001b[0;34m=\u001b[0m \u001b[0memcee\u001b[0m\u001b[0;34m.\u001b[0m\u001b[0mEnsembleSampler\u001b[0m\u001b[0;34m(\u001b[0m\u001b[0mn_walkers\u001b[0m\u001b[0;34m,\u001b[0m \u001b[0mnum_param\u001b[0m\u001b[0;34m,\u001b[0m \u001b[0mself\u001b[0m\u001b[0;34m.\u001b[0m\u001b[0mchain\u001b[0m\u001b[0;34m.\u001b[0m\u001b[0mlogL\u001b[0m\u001b[0;34m,\u001b[0m \u001b[0mpool\u001b[0m\u001b[0;34m=\u001b[0m\u001b[0mpool\u001b[0m\u001b[0;34m,\u001b[0m \u001b[0mbackend\u001b[0m\u001b[0;34m=\u001b[0m\u001b[0mbackend\u001b[0m\u001b[0;34m)\u001b[0m\u001b[0;34m\u001b[0m\u001b[0;34m\u001b[0m\u001b[0m\n\u001b[1;32m    182\u001b[0m \u001b[0;34m\u001b[0m\u001b[0m\n\u001b[0;32m--> 183\u001b[0;31m         \u001b[0msampler\u001b[0m\u001b[0;34m.\u001b[0m\u001b[0mrun_mcmc\u001b[0m\u001b[0;34m(\u001b[0m\u001b[0minitpos\u001b[0m\u001b[0;34m,\u001b[0m \u001b[0mn_run_eff\u001b[0m\u001b[0;34m,\u001b[0m \u001b[0mprogress\u001b[0m\u001b[0;34m=\u001b[0m\u001b[0mprogress\u001b[0m\u001b[0;34m)\u001b[0m\u001b[0;34m\u001b[0m\u001b[0;34m\u001b[0m\u001b[0m\n\u001b[0m\u001b[1;32m    184\u001b[0m         \u001b[0mflat_samples\u001b[0m \u001b[0;34m=\u001b[0m \u001b[0msampler\u001b[0m\u001b[0;34m.\u001b[0m\u001b[0mget_chain\u001b[0m\u001b[0;34m(\u001b[0m\u001b[0mdiscard\u001b[0m\u001b[0;34m=\u001b[0m\u001b[0mn_burn\u001b[0m\u001b[0;34m,\u001b[0m \u001b[0mthin\u001b[0m\u001b[0;34m=\u001b[0m\u001b[0;36m1\u001b[0m\u001b[0;34m,\u001b[0m \u001b[0mflat\u001b[0m\u001b[0;34m=\u001b[0m\u001b[0;32mTrue\u001b[0m\u001b[0;34m)\u001b[0m\u001b[0;34m\u001b[0m\u001b[0;34m\u001b[0m\u001b[0m\n\u001b[1;32m    185\u001b[0m         \u001b[0mdist\u001b[0m \u001b[0;34m=\u001b[0m \u001b[0msampler\u001b[0m\u001b[0;34m.\u001b[0m\u001b[0mget_log_prob\u001b[0m\u001b[0;34m(\u001b[0m\u001b[0mflat\u001b[0m\u001b[0;34m=\u001b[0m\u001b[0;32mTrue\u001b[0m\u001b[0;34m,\u001b[0m \u001b[0mdiscard\u001b[0m\u001b[0;34m=\u001b[0m\u001b[0mn_burn\u001b[0m\u001b[0;34m,\u001b[0m \u001b[0mthin\u001b[0m\u001b[0;34m=\u001b[0m\u001b[0;36m1\u001b[0m\u001b[0;34m)\u001b[0m\u001b[0;34m\u001b[0m\u001b[0;34m\u001b[0m\u001b[0m\n",
      "\u001b[0;32m~/anaconda3/lib/python3.8/site-packages/emcee/ensemble.py\u001b[0m in \u001b[0;36mrun_mcmc\u001b[0;34m(self, initial_state, nsteps, **kwargs)\u001b[0m\n\u001b[1;32m    441\u001b[0m \u001b[0;34m\u001b[0m\u001b[0m\n\u001b[1;32m    442\u001b[0m         \u001b[0mresults\u001b[0m \u001b[0;34m=\u001b[0m \u001b[0;32mNone\u001b[0m\u001b[0;34m\u001b[0m\u001b[0;34m\u001b[0m\u001b[0m\n\u001b[0;32m--> 443\u001b[0;31m         \u001b[0;32mfor\u001b[0m \u001b[0mresults\u001b[0m \u001b[0;32min\u001b[0m \u001b[0mself\u001b[0m\u001b[0;34m.\u001b[0m\u001b[0msample\u001b[0m\u001b[0;34m(\u001b[0m\u001b[0minitial_state\u001b[0m\u001b[0;34m,\u001b[0m \u001b[0miterations\u001b[0m\u001b[0;34m=\u001b[0m\u001b[0mnsteps\u001b[0m\u001b[0;34m,\u001b[0m \u001b[0;34m**\u001b[0m\u001b[0mkwargs\u001b[0m\u001b[0;34m)\u001b[0m\u001b[0;34m:\u001b[0m\u001b[0;34m\u001b[0m\u001b[0;34m\u001b[0m\u001b[0m\n\u001b[0m\u001b[1;32m    444\u001b[0m             \u001b[0;32mpass\u001b[0m\u001b[0;34m\u001b[0m\u001b[0;34m\u001b[0m\u001b[0m\n\u001b[1;32m    445\u001b[0m \u001b[0;34m\u001b[0m\u001b[0m\n",
      "\u001b[0;32m~/anaconda3/lib/python3.8/site-packages/emcee/ensemble.py\u001b[0m in \u001b[0;36msample\u001b[0;34m(self, initial_state, log_prob0, rstate0, blobs0, iterations, tune, skip_initial_state_check, thin_by, thin, store, progress, progress_kwargs)\u001b[0m\n\u001b[1;32m    400\u001b[0m \u001b[0;34m\u001b[0m\u001b[0m\n\u001b[1;32m    401\u001b[0m                     \u001b[0;31m# Propose\u001b[0m\u001b[0;34m\u001b[0m\u001b[0;34m\u001b[0m\u001b[0;34m\u001b[0m\u001b[0m\n\u001b[0;32m--> 402\u001b[0;31m                     \u001b[0mstate\u001b[0m\u001b[0;34m,\u001b[0m \u001b[0maccepted\u001b[0m \u001b[0;34m=\u001b[0m \u001b[0mmove\u001b[0m\u001b[0;34m.\u001b[0m\u001b[0mpropose\u001b[0m\u001b[0;34m(\u001b[0m\u001b[0mmodel\u001b[0m\u001b[0;34m,\u001b[0m \u001b[0mstate\u001b[0m\u001b[0;34m)\u001b[0m\u001b[0;34m\u001b[0m\u001b[0;34m\u001b[0m\u001b[0m\n\u001b[0m\u001b[1;32m    403\u001b[0m                     \u001b[0mstate\u001b[0m\u001b[0;34m.\u001b[0m\u001b[0mrandom_state\u001b[0m \u001b[0;34m=\u001b[0m \u001b[0mself\u001b[0m\u001b[0;34m.\u001b[0m\u001b[0mrandom_state\u001b[0m\u001b[0;34m\u001b[0m\u001b[0;34m\u001b[0m\u001b[0m\n\u001b[1;32m    404\u001b[0m \u001b[0;34m\u001b[0m\u001b[0m\n",
      "\u001b[0;32m~/anaconda3/lib/python3.8/site-packages/emcee/moves/red_blue.py\u001b[0m in \u001b[0;36mpropose\u001b[0;34m(self, model, state)\u001b[0m\n\u001b[1;32m     91\u001b[0m \u001b[0;34m\u001b[0m\u001b[0m\n\u001b[1;32m     92\u001b[0m             \u001b[0;31m# Compute the lnprobs of the proposed position.\u001b[0m\u001b[0;34m\u001b[0m\u001b[0;34m\u001b[0m\u001b[0;34m\u001b[0m\u001b[0m\n\u001b[0;32m---> 93\u001b[0;31m             \u001b[0mnew_log_probs\u001b[0m\u001b[0;34m,\u001b[0m \u001b[0mnew_blobs\u001b[0m \u001b[0;34m=\u001b[0m \u001b[0mmodel\u001b[0m\u001b[0;34m.\u001b[0m\u001b[0mcompute_log_prob_fn\u001b[0m\u001b[0;34m(\u001b[0m\u001b[0mq\u001b[0m\u001b[0;34m)\u001b[0m\u001b[0;34m\u001b[0m\u001b[0;34m\u001b[0m\u001b[0m\n\u001b[0m\u001b[1;32m     94\u001b[0m \u001b[0;34m\u001b[0m\u001b[0m\n\u001b[1;32m     95\u001b[0m             \u001b[0;31m# Loop over the walkers and update them accordingly.\u001b[0m\u001b[0;34m\u001b[0m\u001b[0;34m\u001b[0m\u001b[0;34m\u001b[0m\u001b[0m\n",
      "\u001b[0;32m~/anaconda3/lib/python3.8/site-packages/emcee/ensemble.py\u001b[0m in \u001b[0;36mcompute_log_prob\u001b[0;34m(self, coords)\u001b[0m\n\u001b[1;32m    487\u001b[0m             \u001b[0;32melse\u001b[0m\u001b[0;34m:\u001b[0m\u001b[0;34m\u001b[0m\u001b[0;34m\u001b[0m\u001b[0m\n\u001b[1;32m    488\u001b[0m                 \u001b[0mmap_func\u001b[0m \u001b[0;34m=\u001b[0m \u001b[0mmap\u001b[0m\u001b[0;34m\u001b[0m\u001b[0;34m\u001b[0m\u001b[0m\n\u001b[0;32m--> 489\u001b[0;31m             \u001b[0mresults\u001b[0m \u001b[0;34m=\u001b[0m \u001b[0mlist\u001b[0m\u001b[0;34m(\u001b[0m\u001b[0mmap_func\u001b[0m\u001b[0;34m(\u001b[0m\u001b[0mself\u001b[0m\u001b[0;34m.\u001b[0m\u001b[0mlog_prob_fn\u001b[0m\u001b[0;34m,\u001b[0m \u001b[0mp\u001b[0m\u001b[0;34m)\u001b[0m\u001b[0;34m)\u001b[0m\u001b[0;34m\u001b[0m\u001b[0;34m\u001b[0m\u001b[0m\n\u001b[0m\u001b[1;32m    490\u001b[0m \u001b[0;34m\u001b[0m\u001b[0m\n\u001b[1;32m    491\u001b[0m         \u001b[0;32mtry\u001b[0m\u001b[0;34m:\u001b[0m\u001b[0;34m\u001b[0m\u001b[0;34m\u001b[0m\u001b[0m\n",
      "\u001b[0;32m~/anaconda3/lib/python3.8/site-packages/lenstronomy/Sampling/Pool/multiprocessing.py\u001b[0m in \u001b[0;36mmap\u001b[0;34m(self, func, iterable, chunksize, callback)\u001b[0m\n\u001b[1;32m    109\u001b[0m         \u001b[0;32mwhile\u001b[0m \u001b[0;32mTrue\u001b[0m\u001b[0;34m:\u001b[0m\u001b[0;34m\u001b[0m\u001b[0;34m\u001b[0m\u001b[0m\n\u001b[1;32m    110\u001b[0m             \u001b[0;32mtry\u001b[0m\u001b[0;34m:\u001b[0m\u001b[0;34m\u001b[0m\u001b[0;34m\u001b[0m\u001b[0m\n\u001b[0;32m--> 111\u001b[0;31m                 \u001b[0;32mreturn\u001b[0m \u001b[0mr\u001b[0m\u001b[0;34m.\u001b[0m\u001b[0mget\u001b[0m\u001b[0;34m(\u001b[0m\u001b[0mself\u001b[0m\u001b[0;34m.\u001b[0m\u001b[0mwait_timeout\u001b[0m\u001b[0;34m)\u001b[0m\u001b[0;34m\u001b[0m\u001b[0;34m\u001b[0m\u001b[0m\n\u001b[0m\u001b[1;32m    112\u001b[0m \u001b[0;34m\u001b[0m\u001b[0m\n\u001b[1;32m    113\u001b[0m             \u001b[0;32mexcept\u001b[0m \u001b[0mmultiprocess\u001b[0m\u001b[0;34m.\u001b[0m\u001b[0mTimeoutError\u001b[0m\u001b[0;34m:\u001b[0m\u001b[0;34m\u001b[0m\u001b[0;34m\u001b[0m\u001b[0m\n",
      "\u001b[0;32m~/anaconda3/lib/python3.8/site-packages/multiprocess/pool.py\u001b[0m in \u001b[0;36mget\u001b[0;34m(self, timeout)\u001b[0m\n\u001b[1;32m    763\u001b[0m \u001b[0;34m\u001b[0m\u001b[0m\n\u001b[1;32m    764\u001b[0m     \u001b[0;32mdef\u001b[0m \u001b[0mget\u001b[0m\u001b[0;34m(\u001b[0m\u001b[0mself\u001b[0m\u001b[0;34m,\u001b[0m \u001b[0mtimeout\u001b[0m\u001b[0;34m=\u001b[0m\u001b[0;32mNone\u001b[0m\u001b[0;34m)\u001b[0m\u001b[0;34m:\u001b[0m\u001b[0;34m\u001b[0m\u001b[0;34m\u001b[0m\u001b[0m\n\u001b[0;32m--> 765\u001b[0;31m         \u001b[0mself\u001b[0m\u001b[0;34m.\u001b[0m\u001b[0mwait\u001b[0m\u001b[0;34m(\u001b[0m\u001b[0mtimeout\u001b[0m\u001b[0;34m)\u001b[0m\u001b[0;34m\u001b[0m\u001b[0;34m\u001b[0m\u001b[0m\n\u001b[0m\u001b[1;32m    766\u001b[0m         \u001b[0;32mif\u001b[0m \u001b[0;32mnot\u001b[0m \u001b[0mself\u001b[0m\u001b[0;34m.\u001b[0m\u001b[0mready\u001b[0m\u001b[0;34m(\u001b[0m\u001b[0;34m)\u001b[0m\u001b[0;34m:\u001b[0m\u001b[0;34m\u001b[0m\u001b[0;34m\u001b[0m\u001b[0m\n\u001b[1;32m    767\u001b[0m             \u001b[0;32mraise\u001b[0m \u001b[0mTimeoutError\u001b[0m\u001b[0;34m\u001b[0m\u001b[0;34m\u001b[0m\u001b[0m\n",
      "\u001b[0;32m~/anaconda3/lib/python3.8/site-packages/multiprocess/pool.py\u001b[0m in \u001b[0;36mwait\u001b[0;34m(self, timeout)\u001b[0m\n\u001b[1;32m    760\u001b[0m \u001b[0;34m\u001b[0m\u001b[0m\n\u001b[1;32m    761\u001b[0m     \u001b[0;32mdef\u001b[0m \u001b[0mwait\u001b[0m\u001b[0;34m(\u001b[0m\u001b[0mself\u001b[0m\u001b[0;34m,\u001b[0m \u001b[0mtimeout\u001b[0m\u001b[0;34m=\u001b[0m\u001b[0;32mNone\u001b[0m\u001b[0;34m)\u001b[0m\u001b[0;34m:\u001b[0m\u001b[0;34m\u001b[0m\u001b[0;34m\u001b[0m\u001b[0m\n\u001b[0;32m--> 762\u001b[0;31m         \u001b[0mself\u001b[0m\u001b[0;34m.\u001b[0m\u001b[0m_event\u001b[0m\u001b[0;34m.\u001b[0m\u001b[0mwait\u001b[0m\u001b[0;34m(\u001b[0m\u001b[0mtimeout\u001b[0m\u001b[0;34m)\u001b[0m\u001b[0;34m\u001b[0m\u001b[0;34m\u001b[0m\u001b[0m\n\u001b[0m\u001b[1;32m    763\u001b[0m \u001b[0;34m\u001b[0m\u001b[0m\n\u001b[1;32m    764\u001b[0m     \u001b[0;32mdef\u001b[0m \u001b[0mget\u001b[0m\u001b[0;34m(\u001b[0m\u001b[0mself\u001b[0m\u001b[0;34m,\u001b[0m \u001b[0mtimeout\u001b[0m\u001b[0;34m=\u001b[0m\u001b[0;32mNone\u001b[0m\u001b[0;34m)\u001b[0m\u001b[0;34m:\u001b[0m\u001b[0;34m\u001b[0m\u001b[0;34m\u001b[0m\u001b[0m\n",
      "\u001b[0;32m~/anaconda3/lib/python3.8/threading.py\u001b[0m in \u001b[0;36mwait\u001b[0;34m(self, timeout)\u001b[0m\n\u001b[1;32m    556\u001b[0m             \u001b[0msignaled\u001b[0m \u001b[0;34m=\u001b[0m \u001b[0mself\u001b[0m\u001b[0;34m.\u001b[0m\u001b[0m_flag\u001b[0m\u001b[0;34m\u001b[0m\u001b[0;34m\u001b[0m\u001b[0m\n\u001b[1;32m    557\u001b[0m             \u001b[0;32mif\u001b[0m \u001b[0;32mnot\u001b[0m \u001b[0msignaled\u001b[0m\u001b[0;34m:\u001b[0m\u001b[0;34m\u001b[0m\u001b[0;34m\u001b[0m\u001b[0m\n\u001b[0;32m--> 558\u001b[0;31m                 \u001b[0msignaled\u001b[0m \u001b[0;34m=\u001b[0m \u001b[0mself\u001b[0m\u001b[0;34m.\u001b[0m\u001b[0m_cond\u001b[0m\u001b[0;34m.\u001b[0m\u001b[0mwait\u001b[0m\u001b[0;34m(\u001b[0m\u001b[0mtimeout\u001b[0m\u001b[0;34m)\u001b[0m\u001b[0;34m\u001b[0m\u001b[0;34m\u001b[0m\u001b[0m\n\u001b[0m\u001b[1;32m    559\u001b[0m             \u001b[0;32mreturn\u001b[0m \u001b[0msignaled\u001b[0m\u001b[0;34m\u001b[0m\u001b[0;34m\u001b[0m\u001b[0m\n\u001b[1;32m    560\u001b[0m \u001b[0;34m\u001b[0m\u001b[0m\n",
      "\u001b[0;32m~/anaconda3/lib/python3.8/threading.py\u001b[0m in \u001b[0;36mwait\u001b[0;34m(self, timeout)\u001b[0m\n\u001b[1;32m    304\u001b[0m             \u001b[0;32melse\u001b[0m\u001b[0;34m:\u001b[0m\u001b[0;34m\u001b[0m\u001b[0;34m\u001b[0m\u001b[0m\n\u001b[1;32m    305\u001b[0m                 \u001b[0;32mif\u001b[0m \u001b[0mtimeout\u001b[0m \u001b[0;34m>\u001b[0m \u001b[0;36m0\u001b[0m\u001b[0;34m:\u001b[0m\u001b[0;34m\u001b[0m\u001b[0;34m\u001b[0m\u001b[0m\n\u001b[0;32m--> 306\u001b[0;31m                     \u001b[0mgotit\u001b[0m \u001b[0;34m=\u001b[0m \u001b[0mwaiter\u001b[0m\u001b[0;34m.\u001b[0m\u001b[0macquire\u001b[0m\u001b[0;34m(\u001b[0m\u001b[0;32mTrue\u001b[0m\u001b[0;34m,\u001b[0m \u001b[0mtimeout\u001b[0m\u001b[0;34m)\u001b[0m\u001b[0;34m\u001b[0m\u001b[0;34m\u001b[0m\u001b[0m\n\u001b[0m\u001b[1;32m    307\u001b[0m                 \u001b[0;32melse\u001b[0m\u001b[0;34m:\u001b[0m\u001b[0;34m\u001b[0m\u001b[0;34m\u001b[0m\u001b[0m\n\u001b[1;32m    308\u001b[0m                     \u001b[0mgotit\u001b[0m \u001b[0;34m=\u001b[0m \u001b[0mwaiter\u001b[0m\u001b[0;34m.\u001b[0m\u001b[0macquire\u001b[0m\u001b[0;34m(\u001b[0m\u001b[0;32mFalse\u001b[0m\u001b[0;34m)\u001b[0m\u001b[0;34m\u001b[0m\u001b[0;34m\u001b[0m\u001b[0m\n",
      "\u001b[0;31mKeyboardInterrupt\u001b[0m: "
     ]
    }
   ],
   "source": [
    "# run the MCMC\n",
    "kwargs_likelihood = {'source_marg': True}\n",
    "\n",
    "kwargs_model = {'lens_model_list': lens_model_list,\n",
    "                'source_light_model_list': source_model_list}\n",
    "\n",
    "multi_band_list = [[kwargs_data, kwargs_psf, kwargs_numerics]]\n",
    "\n",
    "kwargs_data_joint = {'multi_band_list': multi_band_list,\n",
    "                     'multi_band_type': 'multi-linear'}\n",
    "\n",
    "kwargs_constraints = {}\n",
    "\n",
    "fitting_seq = FittingSequence(kwargs_data_joint, kwargs_model, kwargs_constraints, \n",
    "                              kwargs_likelihood, kwargs_params)\n",
    "\n",
    "fitting_kwargs_list = [['MCMC',\n",
    "                        {'n_burn': n_burn, \n",
    "                         'n_run': n_run,\n",
    "                         'walkerRatio': walker_ratio, \n",
    "                         'threadCount': ncpu,\n",
    "                         'sigma_scale': sigma_scale,\n",
    "                         'backend_filename': outpath + 'chains/' \n",
    "                         + job_name + '_total.h5'}]]\n",
    "\n",
    "chain_list = fitting_seq.fit_sequence(fitting_kwargs_list)\n",
    "kwargs_result = fitting_seq.best_fit()\n",
    "\n",
    "print('Best-fit parameters: {}'.format(kwargs_result))"
   ]
  },
  {
   "cell_type": "code",
   "execution_count": null,
   "metadata": {},
   "outputs": [],
   "source": [
    "print('\\nThe predicted LOS terms were:')\n",
    "print('gamma1_od  = {:.4}'.format(total_shears_dataframe['gamma1_od'].values[0]))\n",
    "print('gamma2_od  = {:.4}'.format(total_shears_dataframe['gamma2_od'].values[0]))\n",
    "print('gamma1_los = {:.4}'.format(total_shears_dataframe['gamma1_los'].values[0]))\n",
    "print('gamma2_los = {:.4}'.format(total_shears_dataframe['gamma2_los'].values[0]))\n",
    "print('omega_los  = {:.4}'.format(0.0))\n",
    "\n",
    "\n",
    "print('\\nThe fit LOS terms are:')\n",
    "for i in params:\n",
    "    print(str(i)+' = {:.4}'.format(kwargs_result['kwargs_lens'][0][i]))"
   ]
  },
  {
   "cell_type": "code",
   "execution_count": null,
   "metadata": {},
   "outputs": [],
   "source": [
    "# look at the reconstructed image\n",
    "modelPlot = ModelPlot(multi_band_list, kwargs_model, kwargs_result, arrow_size=0.02, cmap_string='gist_heat')\n",
    "    \n",
    "f, axes = plt.subplots(2, 3, figsize=(16, 8), sharex=False, sharey=False)\n",
    "\n",
    "modelPlot.data_plot(ax=axes[0,0])\n",
    "modelPlot.model_plot(ax=axes[0,1])\n",
    "modelPlot.normalized_residual_plot(ax=axes[0,2], text=\"Normalised residuals\")#, v_min=-10, v_max=10, cmap='cmr.prinsenvlag')\n",
    "modelPlot.source_plot(ax=axes[1, 0], deltaPix_source=0.01, numPix=100)\n",
    "modelPlot.convergence_plot(ax=axes[1, 1], v_max=1)\n",
    "modelPlot.magnification_plot(ax=axes[1, 2])\n",
    "f.tight_layout()\n",
    "f.subplots_adjust(left=None, bottom=None, right=None, top=None, wspace=0., hspace=0.05)\n",
    "\n",
    "plt.savefig(outpath + job_name + '_total_reconstruction.pdf', dpi=300, bbox_inches='tight')\n",
    "\n",
    "plt.show()"
   ]
  },
  {
   "cell_type": "code",
   "execution_count": null,
   "metadata": {},
   "outputs": [],
   "source": [
    "modelPlot = ModelPlot(multi_band_list, kwargs_model, kwargs_result, arrow_size=0.02, cmap_string='gist_heat')\n",
    "    \n",
    "f, axes = plt.subplots(1, 3, figsize=(16, 8), sharex=False, sharey=False)\n",
    "\n",
    "modelPlot.data_plot(ax=axes[0])\n",
    "modelPlot.model_plot(ax=axes[1])\n",
    "modelPlot.normalized_residual_plot(ax=axes[2], text=\"Normalised residuals\")#, v_min=-10, v_max=10, cmap='cmr.prinsenvlag')\n",
    "f.tight_layout()\n",
    "# f.subplots_adjust(left=None, bottom=None, right=None, top=None, wspace=0., hspace=0.05)\n",
    "\n",
    "plt.savefig(outpath + job_name + '_total_reconstruction_top.pdf', dpi=300, bbox_inches='tight')\n",
    "\n",
    "plt.show()"
   ]
  },
  {
   "cell_type": "code",
   "execution_count": null,
   "metadata": {
    "scrolled": false
   },
   "outputs": [],
   "source": [
    "# convergence check\n",
    "rcParams.update(rcParamsDefault) # reset default font because this plot looks weird otherwise\n",
    "\n",
    "for i in range(len(chain_list)):\n",
    "    chain_plot.plot_chain_list(chain_list, i)\n",
    "    \n",
    "sampler_type, samples_mcmc_total, param_mcmc, dist_mcmc  = chain_list[0]\n",
    "\n",
    "print('Number of non-linear parameters in the MCMC process: {}'.format(len(param_mcmc)))\n",
    "print('Parameters in order: {}'.format(param_mcmc))\n",
    "print('Number of evaluations in the MCMC process: {}'.format(np.shape(samples_mcmc_total)[0]))"
   ]
  },
  {
   "cell_type": "code",
   "execution_count": null,
   "metadata": {},
   "outputs": [],
   "source": [
    "# \"if you have a procedure with ten parameters, you probably missed some\"\n",
    "\n",
    "labels = [# LOS\n",
    "          r'$\\gamma^{\\rm od}_1$',\n",
    "          r'$\\gamma^{\\rm od}_2$',\n",
    "          r'$\\gamma^{\\rm LOS}_1$',\n",
    "          r'$\\gamma^{\\rm LOS}_2$',\n",
    "          r'$\\omega^{\\rm LOS}$',\n",
    "          # EPL\n",
    "          r'$\\theta_{\\rm E}$',\n",
    "          r'$\\gamma_{\\rm EPL}$',\n",
    "          r'$x$',\n",
    "          r'$y$',\n",
    "          r'$e_{1, \\rm EPL}$',\n",
    "          r'$e_{2, \\rm EPL}$',\n",
    "          # source\n",
    "          r'$R_{\\rm Sérsic}$',\n",
    "          r'$n_{\\rm Sérsic}$',\n",
    "          r'$x$',\n",
    "          r'$y$',\n",
    "          r'$e_1^{\\rm source}$',\n",
    "          r'$e_2^{\\rm source}$']\n",
    "\n",
    "expected_values = [# LOS\n",
    "                   total_shears_dataframe['gamma1_od'].values[0],\n",
    "                   total_shears_dataframe['gamma2_od'].values[0],\n",
    "                   total_shears_dataframe['gamma1_los'].values[0],\n",
    "                   total_shears_dataframe['gamma2_los'].values[0],\n",
    "                   0.0,\n",
    "                   # EPL\n",
    "                   total_kwargs_epl['theta_E'],\n",
    "                   total_kwargs_epl['gamma'],\n",
    "                   0.0,\n",
    "                   0.0,\n",
    "                   total_kwargs_epl['e1'],\n",
    "                   total_kwargs_epl['e2'],\n",
    "                   # source\n",
    "                   total_kwargs_sersic['R_sersic'],\n",
    "                   total_kwargs_sersic['n_sersic'],\n",
    "                   0.0,\n",
    "                   0.0,\n",
    "                   total_kwargs_sersic['e1'],\n",
    "                   total_kwargs_sersic['e2']]\n",
    "\n",
    "n, num_param = np.shape(samples_mcmc_total)"
   ]
  },
  {
   "cell_type": "markdown",
   "metadata": {},
   "source": [
    "### Contour plot <a name=\"tc\"> </a>\n",
    " \n",
    " [Back to contents](#contents)"
   ]
  },
  {
   "cell_type": "code",
   "execution_count": null,
   "metadata": {},
   "outputs": [],
   "source": [
    "n_walkers = len(param_mcmc)*walker_ratio\n",
    "\n",
    "c = ChainConsumer()\n",
    "\n",
    "fontsize = 16\n",
    "\n",
    "c.add_chain(samples_mcmc_total[:,0:4], walkers = n_walkers, parameters = labels[0:4])\n",
    "\n",
    "c.configure(flip = False, summary = False, \n",
    "            spacing = 3.0, max_ticks = 4,\n",
    "            colors = warm[2], shade = True, shade_gradient = 0.4, \n",
    "            bar_shade = True, linewidths= [3.0],\n",
    "            tick_font_size=fontsize, label_font_size=fontsize, \n",
    "            usetex = True, serif = True,\n",
    "            contour_labels = 'sigma', contour_label_font_size = fontsize)\n",
    "\n",
    "fig = c.plotter.plot(truth=expected_values[0:4], figsize = (8,8))\n",
    "\n",
    "fig.patch.set_facecolor('white')\n",
    "\n",
    "plt.savefig(outpath + job_name + '_total_contours.pdf', dpi=300, bbox_inches='tight')\n",
    "\n",
    "gelman_rubin_converged = c.diagnostic.gelman_rubin() # not clear if this is robust for emcee chains\n",
    "\n",
    "print(gelman_rubin_converged)"
   ]
  },
  {
   "cell_type": "markdown",
   "metadata": {},
   "source": [
    "## Surviving haloes<a name=\"s\"> </a>\n",
    "\n",
    "### Source <a name = \"ss\"> </a>\n",
    "\n",
    " [Back to contents](#contents)"
   ]
  },
  {
   "cell_type": "code",
   "execution_count": null,
   "metadata": {},
   "outputs": [],
   "source": [
    "surviving_source_model_list = ['SERSIC_ELLIPSE']\n",
    "\n",
    "surviving_kwargs_sersic = {'magnitude': source_magnitude, \n",
    "                           'R_sersic': source_R_sersic, \n",
    "                           'n_sersic': source_n_sersic,\n",
    "                           'e1': source_e1, \n",
    "                           'e2': source_e2,\n",
    "                           'center_x': -surviving_shears_dataframe['alpha1_os'].values[0], \n",
    "                           'center_y': -surviving_shears_dataframe['alpha2_os'].values[0]}\n",
    "\n",
    "surviving_kwargs_source = [surviving_kwargs_sersic]"
   ]
  },
  {
   "cell_type": "code",
   "execution_count": null,
   "metadata": {},
   "outputs": [],
   "source": [
    "surviving_lens_mock_list = ['EPL'] + ['NFW']*surviving_halo_number\n",
    "\n",
    "surviving_redshift_list = [z_lens] + surviving_halo_redshift_list \n",
    "\n",
    "surviving_kwargs_epl = {'theta_E': theta_E,\n",
    "                        'gamma': gamma_epl,\n",
    "                        'center_x': -surviving_shears_dataframe['alpha1_od'].values[0],\n",
    "                        'center_y': -surviving_shears_dataframe['alpha2_od'].values[0],\n",
    "                        'e1': e1_epl,\n",
    "                        'e2': e2_epl}\n",
    "\n",
    "surviving_kwargs_lens = [surviving_kwargs_epl]\n",
    "\n",
    "print('\\n Appending the haloes kwargs to the kwargs_lens')\n",
    "for i in tqdm(range(len(surviving_halo_redshift_list))):\n",
    "    surviving_kwargs_lens.append(kwargs_surviving_nfw[i])\n",
    "    \n",
    "        \n",
    "kwargs_surviving_model = {'lens_model_list': surviving_lens_mock_list,\n",
    "                          'lens_redshift_list': surviving_redshift_list,\n",
    "                          'z_source': z_source,\n",
    "                          'source_light_model_list': surviving_source_model_list}"
   ]
  },
  {
   "cell_type": "markdown",
   "metadata": {},
   "source": [
    "### Image<a name = \"si\"> </a>\n",
    "\n",
    " [Back to contents](#contents)"
   ]
  },
  {
   "cell_type": "code",
   "execution_count": null,
   "metadata": {},
   "outputs": [],
   "source": [
    "# call the simulation API class\n",
    "sim_sur = SimAPI(numpix = 49, # number of pixels we want in our image\n",
    "             kwargs_single_band = kwargs_band, # give the SimAPI class the keyword arguments for HST that we got above\n",
    "             kwargs_model = kwargs_surviving_model)\n",
    "\n",
    "kwargs_data_sur = sim_sur.kwargs_data\n",
    "\n",
    "ll, surviving_kwargs_source, ps = sim_sur.magnitude2amplitude(kwargs_source_mag=surviving_kwargs_source)\n",
    "\n",
    "imSim_sur = sim_sur.image_model_class(kwargs_numerics)\n",
    "\n",
    "surviving_image = imSim_sur.image(kwargs_lens = surviving_kwargs_lens,\n",
    "                              kwargs_source = surviving_kwargs_source)\n",
    "\n",
    "surviving_image_noisy = surviving_image + sim_sur.noise_for_model(model=surviving_image)\n",
    "\n",
    "kwargs_data_sur['image_data'] = surviving_image_noisy"
   ]
  },
  {
   "cell_type": "code",
   "execution_count": null,
   "metadata": {},
   "outputs": [],
   "source": [
    "cmap_string = 'bone'\n",
    "cmap = plt.get_cmap(cmap_string)\n",
    "cmap.set_bad(color='k', alpha=1.)\n",
    "cmap.set_under('k')\n",
    "\n",
    "v_min = -4\n",
    "v_max = 1\n",
    "\n",
    "fig, ax = plt.subplots(1, 1, figsize=(6,6))\n",
    "\n",
    "total_im = ax.matshow(np.log10(surviving_image_noisy), origin='lower', \n",
    "                      vmin=v_min, vmax=v_max, cmap=cmap, extent=[-1, 1, -1, 1])\n",
    "\n",
    "ax.get_xaxis().set_visible(False)\n",
    "ax.get_yaxis().set_visible(False)\n",
    "ax.autoscale(False)\n",
    "ax.axis('off')\n",
    "\n",
    "# fig.suptitle('Image from {} haloes'.format(surviving_halo_number))\n",
    "\n",
    "plt.savefig(outpath + job_name + '_surviving_image.pdf', dpi=300, bbox_inches='tight')\n",
    "\n",
    "plt.show()"
   ]
  },
  {
   "cell_type": "markdown",
   "metadata": {},
   "source": [
    "### MCMC<a name = \"sm\"> </a>\n",
    "\n",
    " [Back to contents](#contents)"
   ]
  },
  {
   "cell_type": "code",
   "execution_count": null,
   "metadata": {},
   "outputs": [],
   "source": [
    "# surviving haloes lens model\n",
    "\n",
    "lens_model_list = ['LOS_MINIMAL', 'EPL']\n",
    "\n",
    "fixed_lens = []\n",
    "kwargs_lens_init = []\n",
    "kwargs_lens_sigma = []\n",
    "kwargs_lower_lens = []\n",
    "kwargs_upper_lens = []\n",
    "\n",
    "# LOS\n",
    "fixed_lens.append({'kappa_od': surviving_shears_dataframe['kappa_od'].values[0],'omega_od': 0.0,\n",
    "                  'kappa_los': surviving_shears_dataframe['kappa_los'].values[0]})\n",
    "\n",
    "params = ['gamma1_od', 'gamma2_od', \n",
    "          'gamma1_los', 'gamma2_los',\n",
    "          'omega_los']\n",
    "\n",
    "kwargs_lens_init.append({'gamma1_od': surviving_shears_dataframe['gamma1_od'].values[0],\n",
    "                         'gamma2_od': surviving_shears_dataframe['gamma2_od'].values[0],\n",
    "                         'gamma1_los': surviving_shears_dataframe['gamma1_los'].values[0],\n",
    "                         'gamma2_los': surviving_shears_dataframe['gamma2_los'].values[0],\n",
    "                         'omega_los': 0.0})\n",
    "\n",
    "kwargs_lens_sigma.append({param: param_sigma for param in params})\n",
    "kwargs_lower_lens.append({param: param_min for param in params})\n",
    "kwargs_upper_lens.append({param: param_max for param in params})\n",
    "\n",
    "# EPL\n",
    "fixed_lens.append({})\n",
    "\n",
    "kwargs_lens_init.append({'theta_E': surviving_kwargs_epl['theta_E'], \n",
    "                         'gamma': surviving_kwargs_epl['gamma'], \n",
    "                         'center_x': 0.0, \n",
    "                         'center_y': 0.0,\n",
    "                         'e1': surviving_kwargs_epl['e1'], \n",
    "                         'e2': surviving_kwargs_epl['e2']})\n",
    "\n",
    "kwargs_lens_sigma.append({'theta_E': 0.001, 'gamma': 0.01, \n",
    "                          'center_x': 0.01, 'center_y': 0.01,\n",
    "                          'e1': 0.01, 'e2': 0.01})\n",
    "\n",
    "kwargs_lower_lens.append({'theta_E': 0.01, 'gamma': 0.0, \n",
    "                          'center_x': -0.5, 'center_y': -0.5,\n",
    "                          'e1': -0.5, 'e2': -0.5})\n",
    "\n",
    "kwargs_upper_lens.append({'theta_E': 10, 'gamma': 4.0, \n",
    "                          'center_x': 0.5, 'center_y': 0.5,\n",
    "                          'e1': 0.5, 'e2': 0.5})\n",
    "\n",
    "\n",
    "lens_params = [kwargs_lens_init,\n",
    "               kwargs_lens_sigma,\n",
    "               fixed_lens,\n",
    "               kwargs_lower_lens,\n",
    "               kwargs_upper_lens]\n",
    "\n",
    "# source\n",
    "\n",
    "source_model_list = ['SERSIC_ELLIPSE']\n",
    "\n",
    "fixed_source = []\n",
    "kwargs_source_init = []\n",
    "kwargs_source_sigma = []\n",
    "kwargs_lower_source = []\n",
    "kwargs_upper_source = []\n",
    "\n",
    "fixed_source.append({})\n",
    "\n",
    "kwargs_source_init.append({'R_sersic': surviving_kwargs_sersic['R_sersic'], \n",
    "                           'n_sersic': surviving_kwargs_sersic['n_sersic'], \n",
    "                           'center_x': 0.0, \n",
    "                           'center_y': 0.0,\n",
    "                           'e1': surviving_kwargs_sersic['e1'], \n",
    "                           'e2': surviving_kwargs_sersic['e2']})\n",
    "\n",
    "kwargs_source_sigma.append({'R_sersic': 0.001, 'n_sersic': 0.001, \n",
    "                            'center_x': 0.01, 'center_y': 0.01,\n",
    "                            'e1': 0.01, 'e2': 0.01})\n",
    "\n",
    "kwargs_lower_source.append({'R_sersic': 0.001, 'n_sersic': 0.5,\n",
    "                            'center_x': -0.5, 'center_y': -0.5,\n",
    "                            'e1': -0.5, 'e2': -0.5})\n",
    "\n",
    "kwargs_upper_source.append({'R_sersic': 10, 'n_sersic': 10.0,\n",
    "                            'center_x': 0.5, 'center_y': 0.5,\n",
    "                            'e1': 0.5, 'e2': 0.5})\n",
    "\n",
    "source_params = [kwargs_source_init, kwargs_source_sigma,\n",
    "                 fixed_source, kwargs_lower_source, kwargs_upper_source]\n",
    "\n",
    "kwargs_params_sur = {'lens_model': lens_params,\n",
    "                 'source_model': source_params}"
   ]
  },
  {
   "cell_type": "code",
   "execution_count": null,
   "metadata": {},
   "outputs": [],
   "source": [
    "# run the MCMC\n",
    "kwargs_likelihood = {'source_marg': True}\n",
    "\n",
    "kwargs_model_sur = {'lens_model_list': lens_model_list,\n",
    "                    'source_light_model_list': source_model_list}\n",
    "\n",
    "multi_band_list_sur = [[kwargs_data_sur, kwargs_psf, kwargs_numerics]]\n",
    "\n",
    "kwargs_data_joint_sur = {'multi_band_list': multi_band_list_sur,\n",
    "                     'multi_band_type': 'multi-linear'}\n",
    "\n",
    "kwargs_constraints = {}\n",
    "\n",
    "fitting_seq_sur = FittingSequence(kwargs_data_joint_sur, kwargs_model_sur, kwargs_constraints, \n",
    "                              kwargs_likelihood, kwargs_params_sur)\n",
    "\n",
    "fitting_kwargs_list = [['MCMC',\n",
    "                        {'n_burn': n_burn, \n",
    "                         'n_run': n_run,\n",
    "                         'walkerRatio': walker_ratio,\n",
    "                         'threadCount': ncpu,\n",
    "                         'sigma_scale': sigma_scale,\n",
    "                         'backend_filename': outpath + 'chains/' \n",
    "                         + job_name + '_surviving.h5'}]]\n",
    "\n",
    "chain_list_sur = fitting_seq_sur.fit_sequence(fitting_kwargs_list)\n",
    "kwargs_result_sur = fitting_seq_sur.best_fit()\n",
    "\n",
    "print('Best fit parameters: {}'.format(kwargs_result_sur))"
   ]
  },
  {
   "cell_type": "code",
   "execution_count": null,
   "metadata": {},
   "outputs": [],
   "source": [
    "print('\\nThe predicted LOS terms were:')\n",
    "print('gamma1_od  = {:.4}'.format(surviving_shears_dataframe['gamma1_od'].values[0]))\n",
    "print('gamma2_od  = {:.4}'.format(surviving_shears_dataframe['gamma2_od'].values[0]))\n",
    "print('gamma1_los = {:.4}'.format(surviving_shears_dataframe['gamma1_los'].values[0]))\n",
    "print('gamma2_los = {:.4}'.format(surviving_shears_dataframe['gamma2_los'].values[0]))\n",
    "print('omega_los  = {:.4}'.format(0.0))\n",
    "\n",
    "\n",
    "print('\\nThe fit LOS terms are:')\n",
    "for i in params:\n",
    "    print(str(i)+' = {:.4}'.format(kwargs_result_sur['kwargs_lens'][0][i]))"
   ]
  },
  {
   "cell_type": "code",
   "execution_count": null,
   "metadata": {},
   "outputs": [],
   "source": [
    "rc('text', usetex=True)\n",
    "rc('font', family='serif')\n",
    "matplotlib.rcParams.update({'font.size': 18})\n",
    "\n",
    "modelPlot_sur = ModelPlot(multi_band_list_sur, kwargs_model_sur, kwargs_result_sur, arrow_size=0.02, cmap_string='gist_heat')\n",
    "    \n",
    "f, axes = plt.subplots(2, 3, figsize=(16, 8), sharex=False, sharey=False)\n",
    "\n",
    "modelPlot_sur.data_plot(ax=axes[0,0])\n",
    "modelPlot_sur.model_plot(ax=axes[0,1])\n",
    "modelPlot_sur.normalized_residual_plot(ax=axes[0,2], text='Normalised residuals',v_min=-6, v_max=6)\n",
    "modelPlot_sur.source_plot(ax=axes[1, 0], deltaPix_source=0.01, numPix=100)\n",
    "modelPlot_sur.convergence_plot(ax=axes[1, 1], v_max=1)\n",
    "modelPlot_sur.magnification_plot(ax=axes[1, 2])\n",
    "f.tight_layout()\n",
    "f.subplots_adjust(left=None, bottom=None, right=None, top=None, wspace=0., hspace=0.05)\n",
    "\n",
    "plt.savefig(outpath+ job_name + '_surviving_reconstruction.pdf', dpi=300, bbox_inches='tight')\n",
    "\n",
    "plt.show()"
   ]
  },
  {
   "cell_type": "code",
   "execution_count": null,
   "metadata": {},
   "outputs": [],
   "source": [
    "f, axes = plt.subplots(1, 3, figsize=(16, 8), sharex=False, sharey=False)\n",
    "\n",
    "modelPlot_sur.data_plot(ax=axes[0])\n",
    "modelPlot_sur.model_plot(ax=axes[1])\n",
    "modelPlot_sur.normalized_residual_plot(ax=axes[2], text=\"Normalised residuals\")#, v_min=-10, v_max=10, cmap='cmr.prinsenvlag')\n",
    "f.tight_layout()\n",
    "# f.subplots_adjust(left=None, bottom=None, right=None, top=None, wspace=0., hspace=0.05)\n",
    "\n",
    "plt.savefig(outpath + job_name + '_surviving_reconstruction_top.pdf', dpi=300, bbox_inches='tight')\n",
    "\n",
    "plt.show()"
   ]
  },
  {
   "cell_type": "code",
   "execution_count": null,
   "metadata": {},
   "outputs": [],
   "source": [
    "rcParams.update(rcParamsDefault) \n",
    "\n",
    "for i in range(len(chain_list)):\n",
    "    chain_plot.plot_chain_list(chain_list_sur, i)\n",
    "    \n",
    "sampler_type, samples_mcmc_sur, param_mcmc_sur, dist_mcmc  = chain_list_sur[0]\n",
    "\n",
    "print('Number of non-linear parameters in the MCMC process: {}'.format(len(param_mcmc_sur)))\n",
    "print('Parameters in order: {}'.format(param_mcmc_sur))\n",
    "print('Number of evaluations in the MCMC process: {}'.format(np.shape(samples_mcmc_sur)[0]))"
   ]
  },
  {
   "cell_type": "code",
   "execution_count": null,
   "metadata": {},
   "outputs": [],
   "source": [
    "labels_sur = [# LOS\n",
    "          r'$\\gamma^{\\rm od}_1$',\n",
    "          r'$\\gamma^{\\rm od}_2$',\n",
    "          r'$\\gamma^{\\rm LOS}_1$',\n",
    "          r'$\\gamma^{\\rm LOS}_2$',\n",
    "          r'$\\omega^{\\rm LOS}$',\n",
    "          # EPL\n",
    "          r'$\\theta_{\\rm E}$',\n",
    "          r'$\\gamma_{\\rm EPL}$',\n",
    "          r'$x$',\n",
    "          r'$y$',\n",
    "          r'$e_{1, \\rm EPL}$',\n",
    "          r'$e_{2, \\rm EPL}$',\n",
    "          # source\n",
    "          r'$R_{\\rm Sersic}$',\n",
    "          r'$n_{\\rm Sersic}$',\n",
    "          r'$x$',\n",
    "          r'$y$',\n",
    "          r'$e_1^{\\rm source}$',\n",
    "          r'$e_2^{\\rm source}$']\n",
    "\n",
    "expected_values_sur = [# LOS\n",
    "                   surviving_shears_dataframe['gamma1_od'].values[0],\n",
    "                   surviving_shears_dataframe['gamma2_od'].values[0],\n",
    "                   surviving_shears_dataframe['gamma1_los'].values[0],\n",
    "                   surviving_shears_dataframe['gamma2_los'].values[0],\n",
    "                   0.0,\n",
    "                   # EPL\n",
    "                   surviving_kwargs_epl['theta_E'],\n",
    "                   surviving_kwargs_epl['gamma'],\n",
    "                   0.0,\n",
    "                   0.0,\n",
    "                   surviving_kwargs_epl['e1'],\n",
    "                   surviving_kwargs_epl['e2'],\n",
    "                   # source\n",
    "                   surviving_kwargs_sersic['R_sersic'],\n",
    "                   surviving_kwargs_sersic['n_sersic'],\n",
    "                   0.0,\n",
    "                   0.0,\n",
    "                   surviving_kwargs_sersic['e1'],\n",
    "                   surviving_kwargs_sersic['e2']]\n",
    "\n",
    "n, num_param = np.shape(samples_mcmc_sur)"
   ]
  },
  {
   "cell_type": "markdown",
   "metadata": {},
   "source": [
    "### Contour plot <a name = \"sc\"> </a>\n",
    "\n",
    " [Back to contents](#contents)"
   ]
  },
  {
   "cell_type": "code",
   "execution_count": null,
   "metadata": {},
   "outputs": [],
   "source": [
    "n_walkers = len(param_mcmc_sur)*walker_ratio\n",
    "\n",
    "c = ChainConsumer()\n",
    "\n",
    "fontsize=16\n",
    "\n",
    "c.add_chain(samples_mcmc_sur[:,0:4], walkers = n_walkers, parameters = labels_sur[0:4])\n",
    "\n",
    "c.configure(flip = False, summary = False, \n",
    "            spacing = 3.0, max_ticks = 4,\n",
    "            colors = cool[2], shade = True, shade_gradient = 0.4, \n",
    "            bar_shade = True, linewidths= [3.0],\n",
    "            tick_font_size=fontsize, label_font_size=fontsize, \n",
    "            usetex = True, serif = True,\n",
    "            contour_labels = 'sigma', contour_label_font_size = fontsize)\n",
    "\n",
    "fig = c.plotter.plot(truth=expected_values_sur[0:4], figsize = (8,8))\n",
    "\n",
    "fig.patch.set_facecolor('white')\n",
    "\n",
    "plt.savefig(outpath + job_name + '_surviving_contours.pdf', dpi=300, bbox_inches='tight')\n",
    "\n",
    "gelman_rubin_converged = c.diagnostic.gelman_rubin()\n",
    "\n",
    "print(gelman_rubin_converged)"
   ]
  },
  {
   "cell_type": "markdown",
   "metadata": {},
   "source": [
    "[Back to contents](#contents)"
   ]
  }
 ],
 "metadata": {
  "kernelspec": {
   "display_name": "Python 3",
   "language": "python",
   "name": "python3"
  },
  "language_info": {
   "codemirror_mode": {
    "name": "ipython",
    "version": 3
   },
   "file_extension": ".py",
   "mimetype": "text/x-python",
   "name": "python",
   "nbconvert_exporter": "python",
   "pygments_lexer": "ipython3",
   "version": "3.8.5"
  }
 },
 "nbformat": 4,
 "nbformat_minor": 5
}
