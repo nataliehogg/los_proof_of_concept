{
 "cells": [
  {
   "cell_type": "markdown",
   "metadata": {
    "tags": []
   },
   "source": [
    "# Distributed haloes cutter\n",
    "<b>Author</b>: Natalie B. Hogg"
   ]
  },
  {
   "cell_type": "markdown",
   "metadata": {},
   "source": [
    "**This notebook loads the saved haloes and removes problematic ones, recomputes the shears and saves the surviving sample to a new file**."
   ]
  },
  {
   "cell_type": "markdown",
   "metadata": {},
   "source": [
    "## Contents <a name=\"contents\"></a>\n",
    "1. [Set up](#setup)\n",
    "2. [Load data](#load)\n",
    "3. [Compute the shears](#predict_shears)"
   ]
  },
  {
   "cell_type": "markdown",
   "metadata": {},
   "source": [
    "## Set up <a name=\"setup\"></a>"
   ]
  },
  {
   "cell_type": "markdown",
   "metadata": {},
   "source": [
    "### Import packages"
   ]
  },
  {
   "cell_type": "code",
   "execution_count": 1,
   "metadata": {},
   "outputs": [],
   "source": [
    "# computation\n",
    "import numpy as np\n",
    "import pandas as pd\n",
    "\n",
    "# cosmology\n",
    "from colossus.cosmology import cosmology as colcos\n",
    "from astropy.table import Table\n",
    "from astropy.cosmology import FlatLambdaCDM, z_at_value\n",
    "\n",
    "# monitoring\n",
    "from tqdm.notebook import tqdm\n",
    "import warnings\n",
    "warnings.filterwarnings('ignore')\n",
    "\n",
    "# outpath  = r'/home/natalie/Documents/Projects/los_effects/figures/distributed_haloes/' \n",
    "outpath  = '/Users/pierrefleury/Documents/data/haloes/'\n",
    "\n",
    "job_name = 'test'"
   ]
  },
  {
   "cell_type": "markdown",
   "metadata": {},
   "source": [
    "### Import `lenstronomy` packages"
   ]
  },
  {
   "cell_type": "code",
   "execution_count": 2,
   "metadata": {},
   "outputs": [],
   "source": [
    "from lenstronomy.LensModel.lens_model import LensModel\n",
    "from lenstronomy.Cosmo.lens_cosmo import LensCosmo"
   ]
  },
  {
   "cell_type": "markdown",
   "metadata": {},
   "source": [
    "### Start the Universe"
   ]
  },
  {
   "cell_type": "code",
   "execution_count": 3,
   "metadata": {},
   "outputs": [],
   "source": [
    "cosmology = {'id': 'planck18', 'H0': 67.4, 'Om': 0.315}\n",
    "\n",
    "colcos.setCosmology(cosmology['id'])\n",
    "\n",
    "cosmo = FlatLambdaCDM(H0 = cosmology['H0'], Om0 = cosmology['Om']) \n",
    "\n",
    "def dA(z1, z2):\n",
    "    \"\"\"\n",
    "    Returns angular diameter distance between two redshifts in Mpc.\n",
    "    \"\"\"\n",
    "    distance = cosmo.angular_diameter_distance_z1z2(z1, z2).value\n",
    "    return distance\n",
    "\n",
    "z_observer = 0.0\n",
    "z_lens     = 0.5 \n",
    "z_source   = 1.5\n",
    "\n",
    "d_observer = 0.0\n",
    "d_od       = dA(z_observer, z_lens)\n",
    "d_os       = dA(z_observer, z_source)\n",
    "d_ds       = dA(z_lens, z_source)"
   ]
  },
  {
   "cell_type": "markdown",
   "metadata": {},
   "source": [
    "## Load the halo data <a name=\"load\"> </a>"
   ]
  },
  {
   "cell_type": "code",
   "execution_count": 4,
   "metadata": {},
   "outputs": [],
   "source": [
    "haloes_fits = Table.read(outpath + 'total_haloes_dataframe_' + job_name + '.fits')\n",
    "\n",
    "haloes_dataframe = haloes_fits.to_pandas()"
   ]
  },
  {
   "cell_type": "code",
   "execution_count": 5,
   "metadata": {},
   "outputs": [],
   "source": [
    "maximum_convergence = 0.5\n",
    "maximum_Del = 0.1\n",
    "\n",
    "# split the halo dataframe\n",
    "surviving_haloes_dataframe = haloes_dataframe.loc[(haloes_dataframe['kappa_ohs'] <= maximum_convergence) & (haloes_dataframe['Del'] <= maximum_Del)]\n",
    "\n",
    "surviving_halo_number = len(surviving_haloes_dataframe)\n",
    "\n",
    "# get rid of the kappa ohs and Del\n",
    "surviving_haloes_dataframe.drop(['kappa_ohs', 'Del'], axis = 1, inplace = True)"
   ]
  },
  {
   "cell_type": "markdown",
   "metadata": {},
   "source": [
    "## Predict the LOS terms: surviving haloes <a name=\"predict_shears\"></a>\n",
    "\n",
    "[Back to contents](#contents)"
   ]
  },
  {
   "cell_type": "code",
   "execution_count": 6,
   "metadata": {},
   "outputs": [],
   "source": [
    "# make a dataframe to save them\n",
    "surviving_shears_dataframe = pd.DataFrame(columns = ['gamma1_os', 'gamma2_os', 'kappa_os',\n",
    "                                                     'gamma1_od', 'gamma2_od', 'kappa_od',\n",
    "                                                     'gamma1_ds', 'gamma2_ds', 'kappa_ds',\n",
    "                                                     'gamma1_los', 'gamma2_los', 'kappa_los'])\n",
    "\n",
    "# dummy row so we can write scalars directly to the df\n",
    "surviving_shears_dataframe = surviving_shears_dataframe.append(pd.Series('dummy'), ignore_index=True)"
   ]
  },
  {
   "cell_type": "code",
   "execution_count": 7,
   "metadata": {},
   "outputs": [],
   "source": [
    "surviving_halo_number = len(surviving_haloes_dataframe)\n",
    "surviving_halo_redshift_list = surviving_haloes_dataframe['z'].to_list()\n",
    "surviving_halo_mass          = surviving_haloes_dataframe['mass'].to_list()\n",
    "surviving_halo_concentration = surviving_haloes_dataframe['concentration'].to_list()"
   ]
  },
  {
   "cell_type": "markdown",
   "metadata": {},
   "source": [
    "# OS"
   ]
  },
  {
   "cell_type": "code",
   "execution_count": 8,
   "metadata": {},
   "outputs": [
    {
     "data": {
      "application/vnd.jupyter.widget-view+json": {
       "model_id": "49d4966ccfef4240a5dea28363e61fe5",
       "version_major": 2,
       "version_minor": 0
      },
      "text/plain": [
       "  0%|          | 0/2231 [00:00<?, ?it/s]"
      ]
     },
     "metadata": {},
     "output_type": "display_data"
    }
   ],
   "source": [
    "Rs_angle = []\n",
    "alpha_Rs_os = []\n",
    "\n",
    "for i in tqdm(range(surviving_halo_number)):\n",
    "    # get the quantities for each halo's redshift\n",
    "    lens_cosmo = LensCosmo(z_lens=surviving_halo_redshift_list[i],\n",
    "                           z_source=z_source,\n",
    "                           cosmo=cosmo)\n",
    "    \n",
    "    angles = lens_cosmo.nfw_physical2angle(M=surviving_halo_mass[i],\n",
    "                                           c=surviving_halo_concentration[i])\n",
    "    Rs_angle.append(float(angles[0]))\n",
    "    alpha_Rs_os.append(float(angles[1]))\n",
    "\n",
    "# add to the dataframe\n",
    "surviving_haloes_dataframe['Rs'] = Rs_angle # [arcsec]\n",
    "surviving_haloes_dataframe['alpha_Rs'] = alpha_Rs_os # [arcsec]"
   ]
  },
  {
   "cell_type": "code",
   "execution_count": 9,
   "metadata": {},
   "outputs": [
    {
     "data": {
      "application/vnd.jupyter.widget-view+json": {
       "model_id": "477151c94537473bb18b9d1a7c990acd",
       "version_major": 2,
       "version_minor": 0
      },
      "text/plain": [
       "  0%|          | 0/2231 [00:00<?, ?it/s]"
      ]
     },
     "metadata": {},
     "output_type": "display_data"
    }
   ],
   "source": [
    "# get the parameters needed for the lenstronomy kwargs and convert to a list of dictionaries\n",
    "kwargs_nfw = surviving_haloes_dataframe[['Rs', 'alpha_Rs', 'center_x', 'center_y']].to_dict('records')\n",
    "\n",
    "single_halo_lens_model = LensModel(lens_model_list=['NFW'], z_source=z_source)\n",
    "\n",
    "gamma1_ohs = []\n",
    "gamma2_ohs = []\n",
    "kappa_ohs  = []\n",
    "\n",
    "for i in tqdm(range(surviving_halo_number)):\n",
    "    single_gamma = single_halo_lens_model.gamma(x=0.0, y=0.0, kwargs=[kwargs_nfw[i]])\n",
    "    gamma1_ohs.append(float(single_gamma[0]))\n",
    "    gamma2_ohs.append(float(single_gamma[1]))\n",
    "    \n",
    "    single_kappa = single_halo_lens_model.kappa(x=0.0, y=0.0, kwargs=[kwargs_nfw[i]])\n",
    "    kappa_ohs.append(float(single_kappa))\n",
    "\n",
    "surviving_haloes_dataframe['gamma1_ohs'] = gamma1_ohs\n",
    "surviving_haloes_dataframe['gamma2_ohs'] = gamma2_ohs \n",
    "surviving_haloes_dataframe['kappa_ohs']  = kappa_ohs\n",
    "\n",
    "kappa_neg = [-k for k in kappa_ohs]\n",
    "\n",
    "surviving_haloes_dataframe['kappa_neg'] = kappa_neg"
   ]
  },
  {
   "cell_type": "code",
   "execution_count": 10,
   "metadata": {},
   "outputs": [],
   "source": [
    "# Define the (os) setup without the main lens\n",
    "\n",
    "lens_model_list = ['NFW'] * surviving_halo_number + ['CONVERGENCE'] * surviving_halo_number\n",
    "\n",
    "lens_redshift_list = 2 * surviving_haloes_dataframe['z'].to_list()\n",
    "\n",
    "kwargs_neg = [{'kappa': k} for k in surviving_haloes_dataframe['kappa_neg']]\n",
    "\n",
    "kwargs_lens = kwargs_nfw + kwargs_neg\n",
    "\n",
    "mp_os_lens_model = LensModel(lens_model_list = lens_model_list, \n",
    "                             z_source=z_source,\n",
    "                             lens_redshift_list=lens_redshift_list,\n",
    "                             multi_plane=True)"
   ]
  },
  {
   "cell_type": "code",
   "execution_count": 11,
   "metadata": {},
   "outputs": [],
   "source": [
    "alpha1_os, alpha2_os = mp_os_lens_model.alpha(x=0.0, y=0.0, kwargs=kwargs_lens)\n",
    "\n",
    "kappa_os = mp_os_lens_model.kappa(x=0.0, y=0.0, kwargs=kwargs_lens)\n",
    "\n",
    "gamma1_os, gamma2_os = mp_os_lens_model.gamma(x=0.0, y=0.0, kwargs=kwargs_lens)"
   ]
  },
  {
   "cell_type": "code",
   "execution_count": 12,
   "metadata": {},
   "outputs": [],
   "source": [
    "surviving_shears_dataframe['gamma1_os'] = gamma1_os\n",
    "surviving_shears_dataframe['gamma2_os'] = gamma2_os\n",
    "surviving_shears_dataframe['kappa_os']  = kappa_os\n",
    "surviving_shears_dataframe['alpha1_os'] = alpha1_os\n",
    "surviving_shears_dataframe['alpha2_os'] = alpha2_os"
   ]
  },
  {
   "cell_type": "markdown",
   "metadata": {},
   "source": [
    "# OD"
   ]
  },
  {
   "cell_type": "code",
   "execution_count": 13,
   "metadata": {},
   "outputs": [],
   "source": [
    "# Extract the foreground haloes\n",
    "foreground_haloes_dataframe = surviving_haloes_dataframe[surviving_haloes_dataframe['z'].between(z_observer, z_lens)]\n",
    "\n",
    "foreground_halo_number = len(foreground_haloes_dataframe)\n",
    "foreground_halo_redshift_list = foreground_haloes_dataframe['z'].to_list()\n",
    "foreground_halo_mass          = foreground_haloes_dataframe['mass'].to_list()\n",
    "foreground_halo_concentration = foreground_haloes_dataframe['concentration'].to_list()"
   ]
  },
  {
   "cell_type": "code",
   "execution_count": 14,
   "metadata": {},
   "outputs": [
    {
     "data": {
      "application/vnd.jupyter.widget-view+json": {
       "model_id": "d27f4bf9fad14ee8a3c63c6d84b79cf5",
       "version_major": 2,
       "version_minor": 0
      },
      "text/plain": [
       "  0%|          | 0/882 [00:00<?, ?it/s]"
      ]
     },
     "metadata": {},
     "output_type": "display_data"
    }
   ],
   "source": [
    "# Define the new NFW parameters\n",
    "\n",
    "Rs_angle = []\n",
    "alpha_Rs_od = []\n",
    "\n",
    "for i in tqdm(range(foreground_halo_number)):\n",
    "    # get the quantities for each halo's redshift\n",
    "    lens_cosmo = LensCosmo(z_lens=foreground_halo_redshift_list[i],\n",
    "                           z_source=z_lens,\n",
    "                           cosmo=cosmo)\n",
    "    \n",
    "    angles = lens_cosmo.nfw_physical2angle(M=foreground_halo_mass[i],\n",
    "                                           c=foreground_halo_concentration[i])\n",
    "    Rs_angle.append(float(angles[0]))\n",
    "    alpha_Rs_od.append(float(angles[1]))\n",
    "\n",
    "# add to the dataframe\n",
    "foreground_haloes_dataframe['Rs'] = Rs_angle # [arcsec]\n",
    "foreground_haloes_dataframe['alpha_Rs'] = alpha_Rs_od # [arcsec]"
   ]
  },
  {
   "cell_type": "code",
   "execution_count": 15,
   "metadata": {},
   "outputs": [
    {
     "data": {
      "application/vnd.jupyter.widget-view+json": {
       "model_id": "256d96b9f3024d1d8c7e5143d2075e2a",
       "version_major": 2,
       "version_minor": 0
      },
      "text/plain": [
       "  0%|          | 0/882 [00:00<?, ?it/s]"
      ]
     },
     "metadata": {},
     "output_type": "display_data"
    }
   ],
   "source": [
    "# Compute the individual convergences and shears\n",
    "\n",
    "kwargs_nfw = foreground_haloes_dataframe[['Rs','alpha_Rs','center_x','center_y']].to_dict('records')\n",
    "single_halo_lens_model = LensModel(lens_model_list=['NFW'], z_source=z_lens)\n",
    "\n",
    "gamma1_ohd = []\n",
    "gamma2_ohd = []\n",
    "kappa_ohd  = []\n",
    "\n",
    "for i in tqdm(range(foreground_halo_number)):\n",
    "    single_gamma = single_halo_lens_model.gamma(x=0.0, y=0.0, kwargs=[kwargs_nfw[i]])\n",
    "    gamma1_ohd.append(float(single_gamma[0]))\n",
    "    gamma2_ohd.append(float(single_gamma[1]))\n",
    "    \n",
    "    single_kappa = single_halo_lens_model.kappa(x=0.0, y=0.0, kwargs=[kwargs_nfw[i]])\n",
    "    kappa_ohd.append(float(single_kappa))"
   ]
  },
  {
   "cell_type": "code",
   "execution_count": 16,
   "metadata": {},
   "outputs": [],
   "source": [
    "# Define the (od) negative kappas from the (os) ones\n",
    "\n",
    "kappa_neg_os_foreground = foreground_haloes_dataframe['kappa_neg']\n",
    "kappa_neg_od_foreground = []\n",
    "\n",
    "for h, kappa in enumerate(kappa_neg_os_foreground):\n",
    "    z_h = foreground_halo_redshift_list[h]\n",
    "    d_hd = dA(z_h, z_lens)\n",
    "    d_hs = dA(z_h, z_source)\n",
    "    kappa_ohd = d_hd * d_os / d_od / d_os * kappa \n",
    "    kappa_neg_od_foreground.append(kappa_ohd)\n",
    "    \n",
    "foreground_haloes_dataframe['kappa_neg_od'] = kappa_neg_od_foreground"
   ]
  },
  {
   "cell_type": "code",
   "execution_count": 17,
   "metadata": {},
   "outputs": [],
   "source": [
    "# Define the (od) setup without the main lens\n",
    "\n",
    "lens_model_list = ['NFW'] * foreground_halo_number + ['CONVERGENCE'] * foreground_halo_number\n",
    "lens_redshift_list = 2 * foreground_haloes_dataframe['z'].to_list()\n",
    "kwargs_neg = [{'kappa': k} for k in foreground_haloes_dataframe['kappa_neg']]\n",
    "kwargs_lens = kwargs_nfw + kwargs_neg\n",
    "\n",
    "mp_od_lens_model = LensModel(lens_model_list = lens_model_list, \n",
    "                             z_source=z_lens,  # notice we use the main lens redshift as the 'source'\n",
    "                             lens_redshift_list=lens_redshift_list,\n",
    "                             multi_plane=True)"
   ]
  },
  {
   "cell_type": "code",
   "execution_count": 18,
   "metadata": {},
   "outputs": [],
   "source": [
    "alpha1_od, alpha2_od = mp_od_lens_model.alpha(x=0.0, y=0.0, kwargs=kwargs_lens)\n",
    "\n",
    "kappa_od = mp_od_lens_model.kappa(x=0.0, y=0.0, kwargs=kwargs_lens)\n",
    "\n",
    "gamma1_od, gamma2_od = mp_od_lens_model.gamma(x=0.0, y=0.0, kwargs=kwargs_lens)"
   ]
  },
  {
   "cell_type": "code",
   "execution_count": 19,
   "metadata": {},
   "outputs": [],
   "source": [
    "# save in dataframe\n",
    "surviving_shears_dataframe['alpha1_od'] = alpha1_od\n",
    "surviving_shears_dataframe['alpha2_od'] = alpha2_od\n",
    "surviving_shears_dataframe['gamma1_od'] = gamma1_od\n",
    "surviving_shears_dataframe['gamma2_od'] = gamma2_od\n",
    "surviving_shears_dataframe['kappa_od']  = kappa_od"
   ]
  },
  {
   "cell_type": "markdown",
   "metadata": {},
   "source": [
    "# DS"
   ]
  },
  {
   "cell_type": "code",
   "execution_count": 20,
   "metadata": {},
   "outputs": [],
   "source": [
    "# Extract the background haloes\n",
    "background_haloes_dataframe = surviving_haloes_dataframe[surviving_haloes_dataframe['z'].between(z_lens, z_source)]\n",
    "\n",
    "background_halo_number = len(background_haloes_dataframe)\n",
    "background_halo_redshift_list = background_haloes_dataframe['z'].to_list()\n",
    "background_halo_mass          = background_haloes_dataframe['mass'].to_list()\n",
    "background_halo_concentration = background_haloes_dataframe['concentration'].to_list()"
   ]
  },
  {
   "cell_type": "code",
   "execution_count": 21,
   "metadata": {},
   "outputs": [
    {
     "data": {
      "application/vnd.jupyter.widget-view+json": {
       "model_id": "513582c398c34b32b8c34f9713937f3d",
       "version_major": 2,
       "version_minor": 0
      },
      "text/plain": [
       "  0%|          | 0/1349 [00:00<?, ?it/s]"
      ]
     },
     "metadata": {},
     "output_type": "display_data"
    }
   ],
   "source": [
    "kappa_dhs  = []\n",
    "gamma1_dhs = []\n",
    "gamma2_dhs = []\n",
    "\n",
    "for h in tqdm(range(background_halo_number)):\n",
    "    \n",
    "    z_h  = background_halo_redshift_list[h]\n",
    "    d_dh = dA(z_lens, z_h)\n",
    "    d_oh = dA(z_observer, z_h)\n",
    "    \n",
    "    kap_ohs  = kappa_ohs[h]\n",
    "    gam1_ohs = gamma1_ohs[h]\n",
    "    gam2_ohs = gamma2_ohs[h]\n",
    "    \n",
    "    kappa_dhs.append(d_dh * d_os / d_ds / d_oh * kap_ohs)\n",
    "    gamma1_dhs.append(d_dh * d_os / d_ds / d_oh * gam1_ohs)\n",
    "    gamma2_dhs.append(d_dh * d_os / d_ds / d_oh * gam2_ohs)\n",
    "    \n",
    "background_haloes_dataframe['kappa_dhs'] = kappa_dhs\n",
    "background_haloes_dataframe['gamma1_dhs'] = gamma1_dhs\n",
    "background_haloes_dataframe['gamma2_dhs'] = gamma2_dhs"
   ]
  },
  {
   "cell_type": "code",
   "execution_count": 22,
   "metadata": {},
   "outputs": [],
   "source": [
    "kappa_ds  = 0 \n",
    "gamma1_ds = sum(gamma1_dhs)\n",
    "gamma2_ds = sum(gamma2_dhs)\n",
    "\n",
    "surviving_shears_dataframe['gamma1_ds'] = gamma1_ds\n",
    "surviving_shears_dataframe['gamma2_ds'] = gamma2_ds\n",
    "surviving_shears_dataframe['kappa_ds']  = kappa_ds"
   ]
  },
  {
   "cell_type": "markdown",
   "metadata": {},
   "source": [
    "### Get the LOS component"
   ]
  },
  {
   "cell_type": "code",
   "execution_count": 23,
   "metadata": {},
   "outputs": [],
   "source": [
    "gamma1_LOS = gamma1_os + gamma1_od - gamma1_ds\n",
    "gamma2_LOS = gamma2_os + gamma2_od - gamma2_ds\n",
    "kappa_LOS  = kappa_os  + kappa_od  - kappa_ds\n",
    "\n",
    "surviving_shears_dataframe['gamma1_los'] = gamma1_LOS\n",
    "surviving_shears_dataframe['gamma2_los'] = gamma2_LOS\n",
    "surviving_shears_dataframe['kappa_los']  = kappa_LOS"
   ]
  },
  {
   "cell_type": "code",
   "execution_count": 24,
   "metadata": {},
   "outputs": [
    {
     "name": "stdout",
     "output_type": "stream",
     "text": [
      "\n",
      "The predicted shear components with problematic haloes are:\n",
      "gamma_os  = (-1.920e-02, 4.212e-02)\n",
      "gamma_od  = (-1.037e-03, 2.523e-04)\n",
      "gamma_ds  = (-8.159e-03, 4.030e-03)\n",
      "gamma_LOS = (-1.208e-02, 3.834e-02)\n"
     ]
    }
   ],
   "source": [
    "print('\\nThe predicted shear components with problematic haloes are:')\n",
    "print('gamma_os  = ({:.3e}, {:.3e})'.format(gamma1_os, gamma2_os))\n",
    "print('gamma_od  = ({:.3e}, {:.3e})'.format(gamma1_od, gamma2_od))\n",
    "print('gamma_ds  = ({:.3e}, {:.3e})'.format(gamma1_ds, gamma2_ds))\n",
    "print('gamma_LOS = ({:.3e}, {:.3e})'.format(gamma1_LOS, gamma2_LOS))"
   ]
  },
  {
   "cell_type": "code",
   "execution_count": 25,
   "metadata": {},
   "outputs": [
    {
     "name": "stdout",
     "output_type": "stream",
     "text": [
      "\n",
      "The predicted convergence components are:\n",
      "kappa_os  = 7.219e-04.\n",
      "kappa_od  = -3.052e-02.\n",
      "kappa_ds  = 0.000e+00.\n",
      "kappa_LOS = -2.980e-02.\n"
     ]
    }
   ],
   "source": [
    "print('\\nThe predicted convergence components are:')\n",
    "print('kappa_os  = {:.3e}.'.format(kappa_os))\n",
    "print('kappa_od  = {:.3e}.'.format(kappa_od))\n",
    "print('kappa_ds  = {:.3e}.'.format(kappa_ds))\n",
    "print('kappa_LOS = {:.3e}.'.format(kappa_LOS))"
   ]
  },
  {
   "cell_type": "markdown",
   "metadata": {},
   "source": [
    "# Save the final dataframes to file"
   ]
  },
  {
   "cell_type": "code",
   "execution_count": 26,
   "metadata": {},
   "outputs": [],
   "source": [
    "# write haloes to fits\n",
    "surviving_haloes_fits = Table.from_pandas(surviving_haloes_dataframe)\n",
    "surviving_haloes_fits.write(outpath + 'surviving_haloes_dataframe_' + job_name + '.fits', overwrite = True)\n",
    "\n",
    "# write shears to csv\n",
    "surviving_shears_dataframe.to_csv(outpath + 'surviving_shears_dataframe_' + job_name + '.csv', index = False)"
   ]
  },
  {
   "cell_type": "markdown",
   "metadata": {},
   "source": [
    "[Back to contents](#contents)"
   ]
  }
 ],
 "metadata": {
  "kernelspec": {
   "display_name": "Python 3",
   "language": "python",
   "name": "python3"
  },
  "language_info": {
   "codemirror_mode": {
    "name": "ipython",
    "version": 3
   },
   "file_extension": ".py",
   "mimetype": "text/x-python",
   "name": "python",
   "nbconvert_exporter": "python",
   "pygments_lexer": "ipython3",
   "version": "3.8.5"
  }
 },
 "nbformat": 4,
 "nbformat_minor": 5
}
