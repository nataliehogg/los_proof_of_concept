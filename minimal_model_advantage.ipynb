{
 "cells": [
  {
   "cell_type": "markdown",
   "id": "level-pepper",
   "metadata": {
    "tags": []
   },
   "source": [
    "# The advantage of using the minimal line-of-sight model\n",
    "<b>Author</b>: Natalie B. Hogg"
   ]
  },
  {
   "cell_type": "markdown",
   "id": "popular-natural",
   "metadata": {},
   "source": [
    "We use the LOS effects that we implemented in `lenstronomy` to show that degeneracies appear when analysing an image using the full LOS model, but these degeneracies are eliminated in the minimal model."
   ]
  },
  {
   "cell_type": "markdown",
   "id": "loved-entity",
   "metadata": {},
   "source": [
    "<a name=\"contents\"></a>\n",
    "1. [Set up: import packages, set up plots, cosmology and telescope settings](#setup)\n",
    "2. [Create the source](#create_source)\n",
    "3. [Create the lens](#create_lens)\n",
    "4. [Create the image](#create_image)\n",
    "5. [Fit the image with different models](#analyse_image)\n",
    " 1. [Fit with perfect LOS model](#fit_two) ([result](#contour_two))\n",
    " 2. [Fit with perfect minimal model](#fit_three) ([result](#contour_three))"
   ]
  },
  {
   "cell_type": "markdown",
   "id": "fossil-structure",
   "metadata": {},
   "source": [
    "## Set up <a name=\"setup\"></a>"
   ]
  },
  {
   "cell_type": "markdown",
   "id": "solid-basics",
   "metadata": {},
   "source": [
    "### Import packages"
   ]
  },
  {
   "cell_type": "code",
   "execution_count": 1,
   "id": "metric-ethernet",
   "metadata": {},
   "outputs": [],
   "source": [
    "import numpy as np\n",
    "import seaborn as sns\n",
    "from matplotlib import pyplot as plt\n",
    "from matplotlib import rc, rcParams, rcParamsDefault\n",
    "from mpl_toolkits import mplot3d, axes_grid1\n",
    "from chainconsumer import ChainConsumer\n",
    "\n",
    "from multiprocessing import cpu_count\n",
    "ncpu = cpu_count()\n",
    "\n",
    "import warnings\n",
    "warnings.filterwarnings('ignore')\n",
    "\n",
    "%matplotlib inline\n",
    "\n",
    "# this is where the figures will be saved\n",
    "#outpath  = r'/home/natalie/Documents/Projects/los_effects/figures/advantage/'\n",
    "outpath = r'/Users/pierrefleury/data/LOS_proof_of_concept/'"
   ]
  },
  {
   "cell_type": "markdown",
   "id": "complex-vacuum",
   "metadata": {},
   "source": [
    "### Import `lenstronomy` packages"
   ]
  },
  {
   "cell_type": "code",
   "execution_count": 2,
   "id": "single-sculpture",
   "metadata": {},
   "outputs": [],
   "source": [
    "from lenstronomy.SimulationAPI.sim_api import SimAPI\n",
    "from lenstronomy.SimulationAPI.ObservationConfig.HST import HST\n",
    "from lenstronomy.Workflow.fitting_sequence import FittingSequence\n",
    "from lenstronomy.Plots import chain_plot\n",
    "from lenstronomy.Plots.model_plot import ModelPlot"
   ]
  },
  {
   "cell_type": "markdown",
   "id": "excessive-sense",
   "metadata": {},
   "source": [
    "### Useful functions"
   ]
  },
  {
   "cell_type": "code",
   "execution_count": 3,
   "id": "small-video",
   "metadata": {},
   "outputs": [],
   "source": [
    "def show_palette(colour):\n",
    "    # function for displaying colour palettes\n",
    "    sns.set_style('whitegrid')\n",
    "    hex2rgb = []\n",
    "    for k in colour:\n",
    "        h = k.lstrip('#')\n",
    "        hex2rgb.append(tuple(int(h[i:i + 2], 16) / 255.0 for i in (0, 2, 4)))\n",
    "    return sns.palplot(hex2rgb)\n",
    "\n",
    "def ellipticity(phi, q):\n",
    "    # transforms orientation angle phi and aspect ratio q into complex ellipticity modulii e1, e2\n",
    "    e1 = (1 - q)/(1 + q)*np.cos(2*phi)\n",
    "    e2 = (1 - q)/(1 + q)*np.sin(2*phi)\n",
    "    return e1, e2"
   ]
  },
  {
   "cell_type": "markdown",
   "id": "modern-wonder",
   "metadata": {},
   "source": [
    "### Global plotting and display settings"
   ]
  },
  {
   "cell_type": "code",
   "execution_count": 4,
   "id": "religious-ethiopia",
   "metadata": {},
   "outputs": [
    {
     "data": {
      "image/png": "[encoded data removed]",
      "text/plain": [
       "<Figure size 216x72 with 1 Axes>"
      ]
     },
     "metadata": {},
     "output_type": "display_data"
    }
   ],
   "source": [
    "# contour plot colours\n",
    "# thanks to colorbrewer for these palettes! https://colorbrewer2.org\n",
    "green        = ['#a6dba0','#5aae61','#1b7837']\n",
    "purple       = ['#c2a5cf', '#9970ab', '#762a83']\n",
    "analogous    = ['#a0c3db', '#dbb7a0']\n",
    "warm         = ['#fdcc8a', '#fc8d59', '#d7301f']\n",
    "cool         = ['#41b6c4', '#2c7fb8', '#253494']\n",
    "\n",
    "# have a look at a palette for example\n",
    "show_palette(purple)\n",
    "\n",
    "# set the seaborn style\n",
    "sns.set_style('ticks')\n",
    "\n",
    "# use TeX for plot labels\n",
    "rc('text', usetex=True)\n",
    "rc('font', family='serif')\n",
    "rcParams.update({'font.size': 18})"
   ]
  },
  {
   "cell_type": "markdown",
   "id": "capital-iraqi",
   "metadata": {},
   "source": [
    "### Global MCMC settings"
   ]
  },
  {
   "cell_type": "code",
   "execution_count": 5,
   "id": "surprised-arcade",
   "metadata": {},
   "outputs": [],
   "source": [
    "walker_ratio = 10 # number of walkers per parameter\n",
    "n_burn = 1000 # number of burn-in steps\n",
    "n_run = 2000 # number of sampling steps"
   ]
  },
  {
   "cell_type": "markdown",
   "id": "committed-monster",
   "metadata": {},
   "source": [
    "## Create the source <a name=\"create_source\"></a>\n",
    "\n",
    "[Back to contents](#contents)"
   ]
  },
  {
   "cell_type": "code",
   "execution_count": 7,
   "id": "crude-logging",
   "metadata": {},
   "outputs": [
    {
     "name": "stdout",
     "output_type": "stream",
     "text": [
      "\n",
      "The source parameters are {'magnitude': 24.0, 'R_sersic': 0.03, 'n_sersic': 1.0, 'e1': 0.1035668046411672, 'e2': -0.03853234550643717, 'center_x': -0.0029565081421967093, 'center_y': 0.048037680878407304}\n"
     ]
    }
   ],
   "source": [
    "# source model\n",
    "source_model_list = ['SERSIC_ELLIPSE']\n",
    "\n",
    "magnitude_source = 24.0\n",
    "\n",
    "R_sersic_source = 0.03\n",
    "n_sersic_source = 1.0\n",
    "\n",
    "# give the source a little ellipticity\n",
    "source_orientation = np.random.uniform(0.0, 2.0*np.pi)\n",
    "source_aspect_ratio = np.random.uniform(0.8, 1.0)\n",
    "e1_source, e2_source = ellipticity(source_orientation, source_aspect_ratio)\n",
    "x_source = np.random.uniform(-0.05, 0.05)\n",
    "y_source = np.random.uniform(-0.05, 0.05)\n",
    "\n",
    "kwargs_sersic = {'magnitude': magnitude_source,\n",
    "                 'R_sersic': R_sersic_source, \n",
    "                 'n_sersic': n_sersic_source, \n",
    "                 'e1': e1_source, \n",
    "                 'e2': e2_source, \n",
    "                 'center_x': x_source, \n",
    "                 'center_y': y_source}\n",
    "\n",
    "print('\\nThe source parameters are', kwargs_sersic)\n",
    "\n",
    "kwargs_source = [kwargs_sersic]"
   ]
  },
  {
   "cell_type": "markdown",
   "id": "based-shelf",
   "metadata": {},
   "source": [
    "## Create the lens <a name=\"create_lens\"></a>\n",
    "\n",
    "[Back to contents](#contents)"
   ]
  },
  {
   "cell_type": "code",
   "execution_count": 8,
   "id": "engaged-shepherd",
   "metadata": {},
   "outputs": [],
   "source": [
    "lens_model_list = ['LOS', 'EPL']"
   ]
  },
  {
   "cell_type": "markdown",
   "id": "surface-canadian",
   "metadata": {},
   "source": [
    "### Line-of-sight shear"
   ]
  },
  {
   "cell_type": "code",
   "execution_count": 9,
   "id": "quality-desire",
   "metadata": {},
   "outputs": [],
   "source": [
    "kappa = 0.0\n",
    "omega = 0.0\n",
    "gamma = np.random.uniform(-0.03, 0.03, 6) # get six random shears"
   ]
  },
  {
   "cell_type": "code",
   "execution_count": 10,
   "id": "friendly-switch",
   "metadata": {},
   "outputs": [
    {
     "name": "stdout",
     "output_type": "stream",
     "text": [
      "\n",
      "The LOS parameters are {'gamma1_od': -0.0027105556771630894, 'gamma2_od': -0.006014494604416134, 'kappa_od': 0.0, 'omega_od': 0.0, 'gamma1_os': -0.00914639228059258, 'gamma2_os': -0.028090674808000628, 'kappa_os': 0.0, 'omega_os': 0.0, 'gamma1_ds': 0.019014947157970793, 'gamma2_ds': 0.01770838982830792, 'kappa_ds': 0.0, 'omega_ds': 0.0}\n",
      "\n",
      "The LOS shears are (-0.030871895115726463, -0.05181355924072468)\n"
     ]
    }
   ],
   "source": [
    "kwargs_los = {'gamma1_od': gamma[0], 'gamma2_od': gamma[1], 'kappa_od': kappa, 'omega_od': omega,\n",
    "              'gamma1_os': gamma[2], 'gamma2_os': gamma[3], 'kappa_os': kappa, 'omega_os': omega,\n",
    "              'gamma1_ds': gamma[4], 'gamma2_ds': gamma[5], 'kappa_ds': kappa, 'omega_ds': omega}\n",
    "\n",
    "# compute the expected LOS shear for when we run the minimal model\n",
    "gamma1_los = kwargs_los['gamma1_od'] + kwargs_los['gamma1_os'] - kwargs_los['gamma1_ds']\n",
    "gamma2_los = kwargs_los['gamma2_od'] + kwargs_los['gamma2_os'] - kwargs_los['gamma2_ds']\n",
    "\n",
    "print('\\nThe LOS parameters are', kwargs_los)\n",
    "print('\\nThe LOS shears are', (gamma1_los, gamma2_los))"
   ]
  },
  {
   "cell_type": "markdown",
   "id": "russian-washer",
   "metadata": {},
   "source": [
    "### Elliptical power law"
   ]
  },
  {
   "cell_type": "code",
   "execution_count": 11,
   "id": "gorgeous-correction",
   "metadata": {},
   "outputs": [
    {
     "name": "stdout",
     "output_type": "stream",
     "text": [
      "\n",
      "The EPL parameters are {'theta_E': 1.0, 'gamma': 2.6, 'center_x': 0.01375733042132142, 'center_y': -0.04843290832903803, 'e1': -0.05326771893418661, 'e2': -0.07678639472464893}\n"
     ]
    }
   ],
   "source": [
    "theta_E = 1.0 # arcsec\n",
    "\n",
    "# set the slope of the power law t = gamma - 1\n",
    "# t should be between 0 and 2 (1507.01819) i.e. 1 < gamma < 3\n",
    "# when t = 1, EPL -> SIS; when t = 2, EPL -> point mass\n",
    "gamma_epl = 2.6\n",
    "\n",
    "# set the location of the centre of the profile\n",
    "x_epl = np.random.uniform(-0.05, 0.05)\n",
    "y_epl = np.random.uniform(-0.05, 0.05)\n",
    "\n",
    "# set the ellipticity\n",
    "orientation_angle_epl = np.random.uniform(0.0, 2*np.pi)\n",
    "aspect_ratio_epl = np.random.uniform(0.8, 1.0)\n",
    "e1_epl, e2_epl = ellipticity(orientation_angle_epl, aspect_ratio_epl)\n",
    "\n",
    "# set the kwargs for the lenstronomy Profile\n",
    "kwargs_epl = {'theta_E': theta_E,\n",
    "              'gamma': gamma_epl,\n",
    "              'center_x': x_epl,\n",
    "              'center_y': y_epl,\n",
    "              'e1': e1_epl,\n",
    "              'e2': e2_epl}\n",
    "\n",
    "print('\\nThe EPL parameters are', kwargs_epl)"
   ]
  },
  {
   "cell_type": "markdown",
   "id": "cordless-commissioner",
   "metadata": {},
   "source": [
    "### Add lens light"
   ]
  },
  {
   "cell_type": "code",
   "execution_count": 12,
   "id": "offshore-letter",
   "metadata": {},
   "outputs": [
    {
     "name": "stdout",
     "output_type": "stream",
     "text": [
      "\n",
      "The lens light parameters are {'magnitude': 20.0, 'R_sersic': 0.05, 'n_sersic': 4.0, 'e1': -0.05326771893418661, 'e2': -0.07678639472464893, 'center_x': 0.01375733042132142, 'center_y': -0.04843290832903803}\n"
     ]
    }
   ],
   "source": [
    "lens_light_model_list = ['SERSIC_ELLIPSE']\n",
    "\n",
    "magnitude_lens_light = 20.0\n",
    "\n",
    "R_sersic_lens_light = 0.05\n",
    "n_sersic_lens_light = 4.0\n",
    "\n",
    "# give the light the same centre and ellipticity as the lens\n",
    "kwargs_sersic_lens = {'magnitude': magnitude_lens_light,\n",
    "                     'R_sersic': R_sersic_lens_light, \n",
    "                     'n_sersic': n_sersic_lens_light, \n",
    "                     'e1': e1_epl, \n",
    "                     'e2': e2_epl, \n",
    "                     'center_x': x_epl, \n",
    "                     'center_y': y_epl}\n",
    "\n",
    "kwargs_lens_light = [kwargs_sersic_lens]\n",
    "\n",
    "print('\\nThe lens light parameters are', kwargs_sersic_lens)"
   ]
  },
  {
   "cell_type": "markdown",
   "id": "willing-excitement",
   "metadata": {},
   "source": [
    "### Gather the lens model"
   ]
  },
  {
   "cell_type": "code",
   "execution_count": 13,
   "id": "complicated-petite",
   "metadata": {},
   "outputs": [],
   "source": [
    "kwargs_lens = [kwargs_los, kwargs_epl]\n",
    "\n",
    "kwargs_model = {'lens_model_list': lens_model_list,\n",
    "                'lens_light_model_list': lens_light_model_list,\n",
    "                'source_light_model_list': source_model_list}"
   ]
  },
  {
   "cell_type": "markdown",
   "id": "agricultural-carnival",
   "metadata": {},
   "source": [
    "## Create the image <a name=\"create_image\"></a>\n",
    "\n",
    "[Back to contents](#contents)"
   ]
  },
  {
   "cell_type": "code",
   "execution_count": 14,
   "id": "thorough-judgment",
   "metadata": {},
   "outputs": [],
   "source": [
    "# get the telescope settings for HST\n",
    "psf = 'GAUSSIAN'\n",
    "band = HST(band='WFC3_F160W', psf_type=psf) # this chooses the specific camera and filter of HST\n",
    "kwargs_band = band.kwargs_single_band() # we are only considering a single band (i.e. a single wavelength/filter)\n",
    "pixel_size = band.camera['pixel_scale'] # in arcsec\n",
    "\n",
    "kwargs_psf = {'psf_type': psf,\n",
    "              'fwhm': kwargs_band['seeing'],\n",
    "              'pixel_size': pixel_size,\n",
    "              'truncation': 3}\n",
    "\n",
    "# define the numerics\n",
    "kwargs_numerics = {'supersampling_factor': 1,\n",
    "                   'supersampling_convolution': False}\n",
    "\n",
    "# call the simulation API class\n",
    "sim = SimAPI(numpix = 49, # number of pixels we want in our image\n",
    "             kwargs_single_band = kwargs_band, # give the SimAPI class the keyword arguments for HST that we got above\n",
    "             kwargs_model = kwargs_model)\n",
    "\n",
    "kwargs_data = sim.kwargs_data"
   ]
  },
  {
   "cell_type": "code",
   "execution_count": 15,
   "id": "fitting-martin",
   "metadata": {},
   "outputs": [],
   "source": [
    "# convert magnitudes into amplitudes\n",
    "# we don't care about point source\n",
    "kwargs_lens_light, kwargs_source, ps = sim.magnitude2amplitude(kwargs_lens_light_mag=kwargs_lens_light,\n",
    "                                                               kwargs_source_mag=kwargs_source)"
   ]
  },
  {
   "cell_type": "code",
   "execution_count": 16,
   "id": "premier-eating",
   "metadata": {},
   "outputs": [],
   "source": [
    "# now use the SimAPI class to generate a noisy image in one step\n",
    "imSim = sim.image_model_class(kwargs_numerics)\n",
    "\n",
    "image = imSim.image(kwargs_lens = kwargs_lens,\n",
    "                    kwargs_source = kwargs_source,\n",
    "                    kwargs_lens_light=kwargs_lens_light)\n",
    "\n",
    "image_noisy = image + sim.noise_for_model(model = image)\n",
    "\n",
    "kwargs_data['image_data'] = image_noisy"
   ]
  },
  {
   "cell_type": "code",
   "execution_count": 17,
   "id": "negative-chart",
   "metadata": {},
   "outputs": [
    {
     "data": {
      "image/png": "[encoded data removed]",
      "text/plain": [
       "<Figure size 432x432 with 1 Axes>"
      ]
     },
     "metadata": {},
     "output_type": "display_data"
    }
   ],
   "source": [
    "# plot the image\n",
    "cmap_string = 'bone'\n",
    "cmap = plt.get_cmap(cmap_string)\n",
    "cmap.set_bad(color='k', alpha=1.)\n",
    "cmap.set_under('k')\n",
    "\n",
    "v_min = -4\n",
    "v_max = 1\n",
    "\n",
    "f, ax = plt.subplots(1, 1, figsize=(6, 6), sharex=False, sharey=False)\n",
    "im = ax.matshow(np.log10(image_noisy), origin='lower', vmin=v_min, vmax=v_max, cmap=cmap, extent=[0, 1, 0, 1])\n",
    "ax.get_xaxis().set_visible(False)\n",
    "ax.get_yaxis().set_visible(False)\n",
    "ax.autoscale(False)\n",
    "\n",
    "plt.savefig(outpath+'advantage_image.pdf', dpi=300, bbox_inches='tight')\n",
    "\n",
    "plt.show()"
   ]
  },
  {
   "cell_type": "markdown",
   "id": "accompanied-toilet",
   "metadata": {},
   "source": [
    "## Fit the image  <a name=\"analyse_image\"></a>\n",
    "\n",
    "[Back to contents](#contents)"
   ]
  },
  {
   "cell_type": "markdown",
   "id": "polish-segment",
   "metadata": {},
   "source": [
    "### Full LOS model"
   ]
  },
  {
   "cell_type": "code",
   "execution_count": 22,
   "id": "respective-occasions",
   "metadata": {},
   "outputs": [],
   "source": [
    "# LENS MODEL\n",
    "\n",
    "lens_model_list = ['LOS', 'EPL']\n",
    "\n",
    "# Initialise the lists of parameters\n",
    "fixed_lens = []\n",
    "kwargs_lens_init = []\n",
    "kwargs_lens_sigma = []\n",
    "kwargs_lower_lens = []\n",
    "kwargs_upper_lens = []\n",
    "\n",
    "# Parameters for the lens \n",
    "# Specify which parameters are fixed and, for the parameters that will be\n",
    "# explored, choose their initial value, step size, lower and higher limits\n",
    "\n",
    "# Line-of-sight parameters\n",
    "fixed_lens.append({'kappa_od': 0.0, 'kappa_os': 0.0, 'kappa_ds': 0.0, \n",
    "                   'omega_od': 0.0, 'omega_os':0.0, 'omega_ds': 0.0})\n",
    "\n",
    "params = ['gamma1_od', 'gamma2_od',\n",
    "          'gamma1_os', 'gamma2_os',\n",
    "          'gamma1_ds', 'gamma2_ds'] \n",
    "\n",
    "kwargs_lens_init.append({'gamma1_od': kwargs_los['gamma1_od'],\n",
    "                         'gamma2_od': kwargs_los['gamma2_od'],\n",
    "                         'gamma1_os': kwargs_los['gamma1_os'],\n",
    "                         'gamma2_os': kwargs_los['gamma2_os'],\n",
    "                         'gamma1_ds': kwargs_los['gamma1_ds'],\n",
    "                         'gamma2_ds': kwargs_los['gamma2_ds']})\n",
    "\n",
    "kwargs_lens_sigma.append({param: 0.01 for param in params})\n",
    "kwargs_lower_lens.append({param: -0.5 for param in params})\n",
    "kwargs_upper_lens.append({param: 0.5 for param in params})\n",
    "\n",
    "# EPL\n",
    "fixed_lens.append({'center_x': x_epl, 'center_y': y_epl})\n",
    "kwargs_lens_init.append({'theta_E': theta_E, 'gamma': gamma_epl, 'e1': e1_epl, 'e2': e2_epl})\n",
    "kwargs_lens_sigma.append({'theta_E': 0.001, 'gamma': 0.01, 'e1': 0.001, 'e2': 0.001})\n",
    "kwargs_lower_lens.append({'theta_E': 0.01, 'gamma': 0.0, 'e1': -0.5, 'e2': -0.5})\n",
    "kwargs_upper_lens.append({'theta_E': 10, 'gamma': 4.0, 'e1': 0.5, 'e2': 0.5})\n",
    "\n",
    "lens_params = [kwargs_lens_init,\n",
    "               kwargs_lens_sigma,\n",
    "               fixed_lens,\n",
    "               kwargs_lower_lens,\n",
    "               kwargs_upper_lens]\n",
    "\n",
    "# SOURCE MODEL\n",
    "\n",
    "source_model_list = ['SERSIC_ELLIPSE']\n",
    "\n",
    "# Initialise the lists of parameters\n",
    "fixed_source = []\n",
    "kwargs_source_init = []\n",
    "kwargs_source_sigma = []\n",
    "kwargs_lower_source = []\n",
    "kwargs_upper_source = []\n",
    "\n",
    "\n",
    "# Define parameters\n",
    "fixed_source.append({})\n",
    "kwargs_source_init.append({'center_x': x_source,\n",
    "                           'center_y': y_source,\n",
    "                           'R_sersic': R_sersic_source, \n",
    "                           'n_sersic': n_sersic_source, \n",
    "                           'e1': e1_source, \n",
    "                           'e2': e2_source})\n",
    "kwargs_source_sigma.append({'center_x': 0.0001, 'center_y': 0.0001,\n",
    "                            'R_sersic': 0.001, 'n_sersic': 0.001,\n",
    "                            'e1': 0.001, 'e2': 0.001})\n",
    "kwargs_lower_source.append({'center_x': -0.1, 'center_y': -0.1,\n",
    "                            'R_sersic': 0., 'n_sersic': 0.5,\n",
    "                            'e1': -0.5, 'e2': -0.5})\n",
    "kwargs_upper_source.append({'center_x': 0.1, 'center_y': 0.1,\n",
    "                            'R_sersic': 10, 'n_sersic': 5.0,\n",
    "                            'e1': 0.5, 'e2': 0.5})\n",
    "\n",
    "source_params = [kwargs_source_init, kwargs_source_sigma,\n",
    "                 fixed_source, kwargs_lower_source, kwargs_upper_source]\n",
    "\n",
    "\n",
    "# lens light model\n",
    "fixed_lens_light = []\n",
    "kwargs_lens_light_init = []\n",
    "kwargs_lens_light_sigma = []\n",
    "kwargs_lower_lens_light = []\n",
    "kwargs_upper_lens_light = []\n",
    "\n",
    "# Define parameters\n",
    "fixed_lens_light.append({'center_x': x_epl, 'center_y': y_epl})\n",
    "kwargs_lens_light_init.append({'R_sersic': R_sersic_lens_light, \n",
    "                               'n_sersic': n_sersic_lens_light, \n",
    "                               'e1': e1_epl, \n",
    "                               'e2': e2_epl}) \n",
    "kwargs_lens_light_sigma.append({'R_sersic': 0.001, 'n_sersic': 0.001, 'e1': 0.001, 'e2': 0.001})\n",
    "kwargs_lower_lens_light.append({'R_sersic': 0., 'n_sersic': 0.5,   'e1': -0.5, 'e2': -0.5,})\n",
    "kwargs_upper_lens_light.append({'R_sersic': 10.0,  'n_sersic': 5.0,   'e1': 0.5,  'e2': 0.5})\n",
    "\n",
    "lens_light_params = [kwargs_lens_light_init, kwargs_lens_light_sigma,\n",
    "                    fixed_lens_light, kwargs_lower_lens_light, kwargs_upper_lens_light]\n",
    "\n",
    "\n",
    "kwargs_params = {'lens_model': lens_params,\n",
    "                 'source_model': source_params,\n",
    "                 'lens_light_model': lens_light_params}"
   ]
  },
  {
   "cell_type": "code",
   "execution_count": null,
   "id": "removable-census",
   "metadata": {},
   "outputs": [
    {
     "name": "stdout",
     "output_type": "stream",
     "text": [
      "Warning: All samples (including burn-in) will be saved in backup file '/Users/pierrefleury/data/LOS_proof_of_concept/chains/full.h5'.\n",
      "Warning: backup file '/Users/pierrefleury/data/LOS_proof_of_concept/chains/full.h5' has been reset!\n"
     ]
    },
    {
     "name": "stderr",
     "output_type": "stream",
     "text": [
      " 11%|█▏        | 339/3000 [05:14<40:56,  1.08it/s]"
     ]
    }
   ],
   "source": [
    "# run the MCMC\n",
    "kwargs_likelihood = {'source_marg': True}\n",
    "\n",
    "kwargs_model = {'lens_model_list': lens_model_list,\n",
    "                'source_light_model_list': source_model_list,\n",
    "                'lens_light_model_list': lens_light_model_list}\n",
    "\n",
    "multi_band_list = [[kwargs_data, kwargs_psf, kwargs_numerics]]\n",
    "kwargs_data_joint = {'multi_band_list': multi_band_list,\n",
    "                     'multi_band_type': 'multi-linear'}\n",
    "kwargs_constraints = {}\n",
    "\n",
    "fitting_seq = FittingSequence(kwargs_data_joint, kwargs_model, kwargs_constraints, \n",
    "                              kwargs_likelihood, kwargs_params)\n",
    "\n",
    "fitting_kwargs_list = [['MCMC',\n",
    "                        {'n_burn': n_burn, \n",
    "                         'n_run': n_run,\n",
    "                         'walkerRatio': walker_ratio, \n",
    "                         'sigma_scale': 1.,\n",
    "                         'threadCount': ncpu,\n",
    "                         'backend_filename': outpath + 'chains/full.h5'}]]\n",
    "\n",
    "chain_list = fitting_seq.fit_sequence(fitting_kwargs_list)\n",
    "kwargs_result = fitting_seq.best_fit()\n",
    "\n",
    "print(\"\"\"Best-fit parameters:\n",
    "{}\n",
    "\"\"\".format(kwargs_result))"
   ]
  },
  {
   "cell_type": "code",
   "execution_count": null,
   "id": "armed-pencil",
   "metadata": {},
   "outputs": [],
   "source": [
    "modelPlot = ModelPlot(multi_band_list, kwargs_model, kwargs_result,\n",
    "                      arrow_size=0.02, cmap_string=\"gist_heat\")\n",
    "    \n",
    "f, axes = plt.subplots(2, 3, figsize=(16, 8), sharex=False, sharey=False)\n",
    "\n",
    "modelPlot.data_plot(ax=axes[0,0])\n",
    "modelPlot.model_plot(ax=axes[0,1])\n",
    "modelPlot.normalized_residual_plot(ax=axes[0,2], v_min=-6, v_max=6)\n",
    "modelPlot.source_plot(ax=axes[1, 0], deltaPix_source=0.01, numPix=100)\n",
    "modelPlot.convergence_plot(ax=axes[1, 1], v_max=1)\n",
    "modelPlot.magnification_plot(ax=axes[1, 2])\n",
    "f.tight_layout()\n",
    "f.subplots_adjust(left=None, bottom=None, right=None, top=None, wspace=0., hspace=0.05)\n",
    "\n",
    "plt.savefig(outpath+'reconstruction_full.pdf', dpi=300, bbox_inches='tight')\n",
    "\n",
    "plt.show()"
   ]
  },
  {
   "cell_type": "code",
   "execution_count": null,
   "id": "sticky-pointer",
   "metadata": {},
   "outputs": [],
   "source": [
    "# Convergence of the MCMC\n",
    "rcParams.update(rcParamsDefault)\n",
    "\n",
    "for i in range(len(chain_list)):\n",
    "    chain_plot.plot_chain_list(chain_list, i)\n",
    "    \n",
    "sampler_type, samples_mcmc, param_mcmc, dist_mcmc  = chain_list[0]\n",
    "\n",
    "print(\"number of non-linear parameters in the MCMC process: \", len(param_mcmc))\n",
    "print(\"parameters in order: \", param_mcmc)\n",
    "print(\"number of evaluations in the MCMC process: \", np.shape(samples_mcmc)[0])"
   ]
  },
  {
   "cell_type": "code",
   "execution_count": null,
   "id": "metallic-moses",
   "metadata": {},
   "outputs": [],
   "source": [
    "# Constraints on the parameters: define the labels and expected values\n",
    "\n",
    "labels = [# LOS\n",
    "          r'$\\gamma^{\\rm od}_1$',\n",
    "          r'$\\gamma^{\\rm od}_2$',\n",
    "          r'$\\gamma^{\\rm os}_1$',\n",
    "          r'$\\gamma^{\\rm os}_2$',\n",
    "          r'$\\gamma^{\\rm ds}_1$',\n",
    "          r'$\\gamma^{\\rm ds}_2$',\n",
    "          # EPL\n",
    "          r'$\\theta_{\\rm E}$',\n",
    "          r'$\\gamma_{\\rm EPL}$',\n",
    "          r'$e_{1, \\rm EPL}$',\n",
    "          r'$e_{2, \\rm EPL}$',\n",
    "          # source\n",
    "          r'$R_{\\rm Sérsic}$',\n",
    "          r'$n_{\\rm Sérsic}$',\n",
    "          r'$e_1^{\\rm source}$',\n",
    "          r'$e_2^{\\rm source}$',\n",
    "          # lens light\n",
    "          r'$R_{\\rm Sérsic, l}$',\n",
    "          r'$n_{\\rm Sérsic, l}$',\n",
    "          r'$e_1^{\\rm lens}$',\n",
    "          r'$e_2^{\\rm lens}$']\n",
    "\n",
    "expected_values = [# LOS\n",
    "                   kwargs_los['gamma1_od'],\n",
    "                   kwargs_los['gamma2_od'],\n",
    "                   kwargs_los['gamma1_os'],\n",
    "                   kwargs_los['gamma2_os'],\n",
    "                   kwargs_los['gamma1_ds'],\n",
    "                   kwargs_los['gamma2_ds'],\n",
    "                   # EPL\n",
    "                   kwargs_epl['theta_E'],\n",
    "                   kwargs_epl['gamma'],\n",
    "                   kwargs_epl['e1'],\n",
    "                   kwargs_epl['e2'],\n",
    "                   # source\n",
    "                   kwargs_sersic['R_sersic'],\n",
    "                   kwargs_sersic['n_sersic'],\n",
    "                   kwargs_sersic['e1'],\n",
    "                   kwargs_sersic['e2'],\n",
    "                   # lens light\n",
    "                   kwargs_sersic_lens['R_sersic'],\n",
    "                   kwargs_sersic_lens['n_sersic'],\n",
    "                   kwargs_sersic_lens['e1'],\n",
    "                   kwargs_sersic_lens['e2']]\n",
    "\n",
    "n, num_param = np.shape(samples_mcmc)"
   ]
  },
  {
   "cell_type": "markdown",
   "id": "trained-vienna",
   "metadata": {},
   "source": [
    "### Contour plot"
   ]
  },
  {
   "cell_type": "code",
   "execution_count": null,
   "id": "strong-slovakia",
   "metadata": {},
   "outputs": [],
   "source": [
    "c = ChainConsumer()\n",
    "\n",
    "n_walkers = len(param_mcmc)*walker_ratio\n",
    "\n",
    "c.add_chain(samples_mcmc[:,0:6], walkers = n_walkers, parameters = labels[0:6])\n",
    "\n",
    "fontsize = 16\n",
    "\n",
    "c.configure(smooth = True, flip = False, summary = False, \n",
    "            spacing = 3.0, max_ticks = 4,\n",
    "            colors = purple[2], shade = True, shade_gradient = 0.4, \n",
    "            bar_shade = True, linewidths= [3.0],\n",
    "            tick_font_size=fontsize, label_font_size=fontsize, \n",
    "            usetex = True, serif = True,\n",
    "            contour_labels = 'sigma', contour_label_font_size = fontsize)\n",
    "\n",
    "fig = c.plotter.plot(truth=expected_values[0:6], figsize = (14,14))\n",
    "\n",
    "fig.patch.set_facecolor('white')\n",
    "\n",
    "plt.savefig(outpath+'contours_full.pdf', dpi=300, bbox_inches='tight')\n",
    "\n",
    "plt.show()\n",
    "\n",
    "gelman_rubin_converged = c.diagnostic.gelman_rubin() # does this make sense for emcee chains??\n",
    "print(gelman_rubin_converged)"
   ]
  },
  {
   "cell_type": "code",
   "execution_count": null,
   "id": "competitive-senior",
   "metadata": {},
   "outputs": [],
   "source": [
    "c = ChainConsumer()\n",
    "\n",
    "n_walkers = len(param_mcmc)*walker_ratio\n",
    "\n",
    "c.add_chain(samples_mcmc[:,2:6], walkers = n_walkers, parameters = labels[2:6])\n",
    "\n",
    "fontsize = 16\n",
    "\n",
    "c.configure(smooth = True, flip = False, summary = False, \n",
    "            spacing = 3.0, max_ticks = 4,\n",
    "            colors = purple[2], shade = True, shade_gradient = 0.4, \n",
    "            bar_shade = True, linewidths= [3.0],\n",
    "            tick_font_size=fontsize, label_font_size=fontsize, \n",
    "            usetex = True, serif = True,\n",
    "            contour_labels = 'sigma', contour_label_font_size = fontsize)\n",
    "\n",
    "fig = c.plotter.plot(truth=expected_values[2:6], figsize = (8,8))\n",
    "\n",
    "fig.patch.set_facecolor('white')\n",
    "\n",
    "plt.savefig(outpath+'contours_full_shears.pdf', dpi=300, bbox_inches='tight')\n",
    "\n",
    "plt.show()\n",
    "\n",
    "gelman_rubin_converged = c.diagnostic.gelman_rubin() # does this make sense for emcee chains??\n",
    "print(gelman_rubin_converged)"
   ]
  },
  {
   "cell_type": "code",
   "execution_count": null,
   "id": "later-pennsylvania",
   "metadata": {},
   "outputs": [],
   "source": [
    "c = ChainConsumer()\n",
    "\n",
    "n_walkers = len(param_mcmc)*walker_ratio\n",
    "\n",
    "my_inds = [0,1,8,9]\n",
    "\n",
    "fontsize = 16\n",
    "\n",
    "c.add_chain([samples_mcmc[:,ind] for ind in my_inds], \n",
    "            walkers = n_walkers, \n",
    "            parameters = [labels[ind] for ind in my_inds])\n",
    "\n",
    "c.configure(smooth = True, flip = False, summary = False, \n",
    "            spacing = 3.0, max_ticks = 4,\n",
    "            colors = purple[2], shade = True, shade_gradient = 0.4, \n",
    "            bar_shade = True, linewidths= [3.0],\n",
    "            tick_font_size=fontsize, label_font_size=fontsize, \n",
    "            usetex = True, serif = True,\n",
    "            contour_labels = 'sigma', contour_label_font_size = fontsize)\n",
    "\n",
    "fig = c.plotter.plot(truth=[expected_values[ind] for ind in my_inds], figsize = (8,8))\n",
    "\n",
    "fig.patch.set_facecolor('white')\n",
    "\n",
    "plt.savefig(outpath+'contours_full_ellipticity.pdf', dpi=300, bbox_inches='tight')\n",
    "\n",
    "plt.show()\n",
    "\n",
    "gelman_rubin_converged = c.diagnostic.gelman_rubin() # does this make sense for emcee chains??\n",
    "print(gelman_rubin_converged)"
   ]
  },
  {
   "cell_type": "code",
   "execution_count": null,
   "id": "attended-rugby",
   "metadata": {},
   "outputs": [],
   "source": [
    "c = ChainConsumer()\n",
    "\n",
    "n_walkers = len(param_mcmc)*walker_ratio\n",
    "\n",
    "my_inds = [0,1,2,3,4,5,8,9]\n",
    "\n",
    "fontsize = 16\n",
    "\n",
    "c.add_chain([samples_mcmc[:,ind] for ind in my_inds], \n",
    "            walkers = n_walkers, \n",
    "            parameters = [labels[ind] for ind in my_inds])\n",
    "\n",
    "c.configure(smooth = True, flip = False, summary = False, \n",
    "            spacing = 3.0, max_ticks = 4,\n",
    "            colors = purple[2], shade = True, shade_gradient = 0.4, \n",
    "            bar_shade = True, linewidths= [3.0],\n",
    "            tick_font_size=fontsize, label_font_size=fontsize, \n",
    "            usetex = True, serif = True,\n",
    "            contour_labels = 'sigma', contour_label_font_size = fontsize)\n",
    "\n",
    "fig = c.plotter.plot(truth=[expected_values[ind] for ind in my_inds], figsize = (10,10))\n",
    "\n",
    "fig.patch.set_facecolor('white')\n",
    "\n",
    "plt.savefig(outpath+'contours_full_all.pdf', dpi=300, bbox_inches='tight')\n",
    "\n",
    "plt.show()\n",
    "\n",
    "gelman_rubin_converged = c.diagnostic.gelman_rubin() # does this make sense for emcee chains??\n",
    "print(gelman_rubin_converged)"
   ]
  },
  {
   "cell_type": "markdown",
   "id": "suitable-essay",
   "metadata": {},
   "source": [
    "### Minimal LOS model <a name=\"fit_zero\"></a>"
   ]
  },
  {
   "cell_type": "code",
   "execution_count": null,
   "id": "durable-mason",
   "metadata": {},
   "outputs": [],
   "source": [
    "# LENS MODEL\n",
    "\n",
    "lens_model_list = ['LOS_MINIMAL', 'EPL']\n",
    "\n",
    "# Initialise the lists of parameters\n",
    "fixed_lens = []\n",
    "kwargs_lens_init = []\n",
    "kwargs_lens_sigma = []\n",
    "kwargs_lower_lens = []\n",
    "kwargs_upper_lens = []\n",
    "\n",
    "# Parameters for the lens \n",
    "# Specify which parameters are fixed and, for the parameters that will be\n",
    "# explored, choose their initial value, step size, lower and higher limits\n",
    "\n",
    "# Line-of-sight parameters\n",
    "fixed_lens.append({'kappa_od': 0.0, 'kappa_los': 0.0, 'omega_od': 0.0})\n",
    "\n",
    "params = ['gamma1_od', 'gamma2_od',\n",
    "          'gamma1_los', 'gamma2_los',\n",
    "          'omega_los'] \n",
    "\n",
    "kwargs_lens_init.append({'gamma1_od': kwargs_los['gamma1_od'],\n",
    "                         'gamma2_od': kwargs_los['gamma2_od'],\n",
    "                         'gamma1_los': gamma1_los,\n",
    "                         'gamma2_los': gamma2_los,\n",
    "                         'omega_los': omega})\n",
    "\n",
    "kwargs_lens_sigma.append({param: 0.01 for param in params})\n",
    "kwargs_lower_lens.append({param: -0.5 for param in params})\n",
    "kwargs_upper_lens.append({param: 0.5 for param in params})\n",
    "\n",
    "# EPL\n",
    "fixed_lens.append({'center_x': x_epl, 'center_y': y_epl})\n",
    "kwargs_lens_init.append({'theta_E': theta_E, 'gamma': gamma_epl, 'e1': e1_epl, 'e2': e2_epl})\n",
    "kwargs_lens_sigma.append({'theta_E': 0.001, 'gamma': 0.01, 'e1': 0.01, 'e2': 0.01})\n",
    "kwargs_lower_lens.append({'theta_E': 0.01, 'gamma': 0.0, 'e1': -0.5, 'e2': -0.5})\n",
    "kwargs_upper_lens.append({'theta_E': 10, 'gamma': 4.0, 'e1': 0.5, 'e2': 0.5})\n",
    "\n",
    "lens_params = [kwargs_lens_init,\n",
    "               kwargs_lens_sigma,\n",
    "               fixed_lens,\n",
    "               kwargs_lower_lens,\n",
    "               kwargs_upper_lens]\n",
    "\n",
    "# SOURCE MODEL\n",
    "\n",
    "source_model_list = ['SERSIC_ELLIPSE']\n",
    "\n",
    "# Initialise the lists of parameters\n",
    "fixed_source = []\n",
    "kwargs_source_init = []\n",
    "kwargs_source_sigma = []\n",
    "kwargs_lower_source = []\n",
    "kwargs_upper_source = []\n",
    "\n",
    "\n",
    "# Define parameters\n",
    "fixed_source.append({})\n",
    "kwargs_source_init.append({'center_x': x_source,\n",
    "                           'center_y': y_source,\n",
    "                           'R_sersic': R_sersic_source, \n",
    "                           'n_sersic': n_sersic_source, \n",
    "                           'e1': e1_source, \n",
    "                           'e2': e2_source})\n",
    "kwargs_source_sigma.append({'center_x': 0.0001, 'center_y': 0.0001,\n",
    "                            'R_sersic': 0.001, 'n_sersic': 0.001,\n",
    "                            'e1': 0.001, 'e2': 0.001})\n",
    "kwargs_lower_source.append({'center_x': -0.1, 'center_y': -0.1,\n",
    "                            'R_sersic': 0., 'n_sersic': 0.5,\n",
    "                            'e1': -0.5, 'e2': -0.5})\n",
    "kwargs_upper_source.append({'center_x': 0.1, 'center_y': 0.1,\n",
    "                            'R_sersic': 10, 'n_sersic': 5.0,\n",
    "                            'e1': 0.5, 'e2': 0.5})\n",
    "\n",
    "source_params = [kwargs_source_init, kwargs_source_sigma,\n",
    "                 fixed_source, kwargs_lower_source, kwargs_upper_source]\n",
    "\n",
    "\n",
    "# lens light model\n",
    "fixed_lens_light = []\n",
    "kwargs_lens_light_init = []\n",
    "kwargs_lens_light_sigma = []\n",
    "kwargs_lower_lens_light = []\n",
    "kwargs_upper_lens_light = []\n",
    "\n",
    "# Define parameters\n",
    "fixed_lens_light.append({'center_x': x_epl, 'center_y': y_epl})\n",
    "kwargs_lens_light_init.append({'R_sersic': R_sersic_lens_light, \n",
    "                               'n_sersic': n_sersic_lens_light, \n",
    "                               'e1': e1_epl, \n",
    "                               'e2': e2_epl}) \n",
    "kwargs_lens_light_sigma.append({'R_sersic': 0.001, 'n_sersic': 0.001, 'e1': 0.01, 'e2': 0.01})\n",
    "kwargs_lower_lens_light.append({'R_sersic': -10.0, 'n_sersic': 0.5,   'e1': -0.5, 'e2': -0.5,})\n",
    "kwargs_upper_lens_light.append({'R_sersic': 10.0,  'n_sersic': 5.0,   'e1': 0.5,  'e2': 0.5})\n",
    "\n",
    "lens_light_params = [kwargs_lens_light_init, kwargs_lens_light_sigma,\n",
    "                    fixed_lens_light, kwargs_lower_lens_light, kwargs_upper_lens_light]\n",
    "\n",
    "kwargs_params = {'lens_model': lens_params,\n",
    "                 'source_model': source_params,\n",
    "                 'lens_light_model': lens_light_params}"
   ]
  },
  {
   "cell_type": "code",
   "execution_count": null,
   "id": "central-ozone",
   "metadata": {},
   "outputs": [],
   "source": [
    "kwargs_likelihood = {'source_marg': True}\n",
    "kwargs_model = {'lens_model_list': lens_model_list,\n",
    "                'source_light_model_list': source_model_list,\n",
    "                'lens_light_model_list': lens_light_model_list}\n",
    "\n",
    "multi_band_list = [[kwargs_data, kwargs_psf, kwargs_numerics]]\n",
    "kwargs_data_joint = {'multi_band_list': multi_band_list,\n",
    "                     'multi_band_type': 'multi-linear'}\n",
    "kwargs_constraints = {}\n",
    "\n",
    "fitting_seq = FittingSequence(kwargs_data_joint, kwargs_model, kwargs_constraints, \n",
    "                              kwargs_likelihood, kwargs_params)\n",
    "\n",
    "fitting_kwargs_list = [['MCMC',\n",
    "                        {'n_burn': n_burn, \n",
    "                         'n_run': n_run,\n",
    "                         'walkerRatio': walker_ratio, \n",
    "                         'sigma_scale': 1.,\n",
    "                         'threadCount': ncpu,\n",
    "                         'backend_filename': outpath + 'chains/minimal.h5'}]]\n",
    "\n",
    "chain_list_min = fitting_seq.fit_sequence(fitting_kwargs_list)\n",
    "kwargs_result_min = fitting_seq.best_fit()\n",
    "\n",
    "print(\"\"\"Best-fit parameters:\n",
    "{}\n",
    "\"\"\".format(kwargs_result))"
   ]
  },
  {
   "cell_type": "code",
   "execution_count": null,
   "id": "stylish-display",
   "metadata": {},
   "outputs": [],
   "source": [
    "modelPlot = ModelPlot(multi_band_list, kwargs_model, kwargs_result_min,\n",
    "                      arrow_size=0.02, cmap_string=\"gist_heat\")\n",
    "    \n",
    "f, axes = plt.subplots(2, 3, figsize=(16, 8), sharex=False, sharey=False)\n",
    "\n",
    "modelPlot.data_plot(ax=axes[0,0])\n",
    "modelPlot.model_plot(ax=axes[0,1])\n",
    "modelPlot.normalized_residual_plot(ax=axes[0,2], v_min=-6, v_max=6)\n",
    "modelPlot.source_plot(ax=axes[1, 0], deltaPix_source=0.01, numPix=100)\n",
    "modelPlot.convergence_plot(ax=axes[1, 1], v_max=1)\n",
    "modelPlot.magnification_plot(ax=axes[1, 2])\n",
    "f.tight_layout()\n",
    "f.subplots_adjust(left=None, bottom=None, right=None, top=None, wspace=0., hspace=0.05)\n",
    "\n",
    "plt.savefig(outpath+'reconstruction_minimal.pdf', dpi=300, bbox_inches='tight')\n",
    "\n",
    "plt.show()"
   ]
  },
  {
   "cell_type": "code",
   "execution_count": null,
   "id": "joined-logic",
   "metadata": {},
   "outputs": [],
   "source": [
    "rcParams.update(rcParamsDefault)\n",
    "\n",
    "for i in range(len(chain_list_min)):\n",
    "    chain_plot.plot_chain_list(chain_list_min, i)\n",
    "    \n",
    "sampler_type, samples_mcmc_min, param_mcmc_min, dist_mcmc  = chain_list_min[0]\n",
    "\n",
    "print(\"number of non-linear parameters in the MCMC process: \", len(param_mcmc_min))\n",
    "print(\"parameters in order: \", param_mcmc_min)\n",
    "print(\"number of evaluations in the MCMC process: \", np.shape(samples_mcmc_min)[0])"
   ]
  },
  {
   "cell_type": "code",
   "execution_count": null,
   "id": "affiliated-rubber",
   "metadata": {},
   "outputs": [],
   "source": [
    "# Constraints on the parameters: define the labels and expected values\n",
    "\n",
    "labels_min = [# LOS\n",
    "          r'$\\gamma^{\\rm od}_1$',\n",
    "          r'$\\gamma^{\\rm od}_2$',\n",
    "          r'$\\gamma^{\\rm LOS}_1$',\n",
    "          r'$\\gamma^{\\rm LOS}_2$',\n",
    "          r'$\\omega^{\\rm LOS}$',\n",
    "          # EPL\n",
    "          r'$\\theta_{\\rm E}$',\n",
    "          r'$\\gamma_{\\rm EPL}$',\n",
    "          r'$e_{1, \\rm EPL}$',\n",
    "          r'$e_{2, \\rm EPL}$',\n",
    "          # source\n",
    "          r'$R_{\\rm Sersic}$',\n",
    "          r'$n_{\\rm Sersic}$',\n",
    "          r'$e_1^{\\rm source}$',\n",
    "          r'$e_2^{\\rm source}$',\n",
    "          # lens light\n",
    "          r'$R_{\\rm Sersic, l}$',\n",
    "          r'$n_{\\rm Sersic, l}$',\n",
    "          r'$e_1^{\\rm lens}$',\n",
    "          r'$e_2^{\\rm lens}$']\n",
    "\n",
    "expected_values_min = [# LOS\n",
    "                   kwargs_los['gamma1_od'],\n",
    "                   kwargs_los['gamma1_od'],\n",
    "                   gamma1_los,\n",
    "                   gamma2_los,\n",
    "                   omega,\n",
    "                   # EPL\n",
    "                   kwargs_epl['theta_E'],\n",
    "                   kwargs_epl['gamma'],\n",
    "                   kwargs_epl['e1'],\n",
    "                   kwargs_epl['e2'],\n",
    "                   # source\n",
    "                   kwargs_sersic['R_sersic'],\n",
    "                   kwargs_sersic['n_sersic'],\n",
    "                   kwargs_sersic['e1'],\n",
    "                   kwargs_sersic['e2'],\n",
    "                   # lens light\n",
    "                   kwargs_sersic_lens['R_sersic'],\n",
    "                   kwargs_sersic_lens['n_sersic'],\n",
    "                   kwargs_sersic_lens['e1'],\n",
    "                   kwargs_sersic_lens['e2']]\n",
    "\n",
    "n_min, num_param_min = np.shape(samples_mcmc_min)"
   ]
  },
  {
   "cell_type": "markdown",
   "id": "excited-portsmouth",
   "metadata": {},
   "source": [
    "### Contour plot <a name=\"contour_zero\"></a>"
   ]
  },
  {
   "cell_type": "code",
   "execution_count": null,
   "id": "numerical-classic",
   "metadata": {},
   "outputs": [],
   "source": [
    "c = ChainConsumer()\n",
    "\n",
    "n_walkers_min = len(param_mcmc_min)*walker_ratio\n",
    "\n",
    "fontsize = 16\n",
    "\n",
    "c.add_chain(samples_mcmc_min[:,0:4], walkers = n_walkers_min, parameters = labels_min[0:4])\n",
    "\n",
    "c.configure(smooth = True, flip = False, summary = False, \n",
    "            spacing = 3.0, max_ticks = 4,\n",
    "            colors = green[2], shade = True, shade_gradient = 0.4, \n",
    "            bar_shade = True, linewidths= [3.0],\n",
    "            tick_font_size=fontsize, label_font_size=fontsize, \n",
    "            usetex = True, serif = True,\n",
    "            contour_labels = 'sigma', contour_label_font_size = fontsize)\n",
    "\n",
    "fig = c.plotter.plot(truth=expected_values_min[0:4], figsize = (8,8))\n",
    "\n",
    "fig.patch.set_facecolor('white')\n",
    "\n",
    "# plt.savefig(outpath+'contours_minimal.pdf', dpi=300, bbox_inches='tight')\n",
    "\n",
    "plt.show()\n",
    "\n",
    "gelman_rubin_converged = c.diagnostic.gelman_rubin() # does this make sense for emcee chains??\n",
    "print(gelman_rubin_converged)"
   ]
  },
  {
   "cell_type": "code",
   "execution_count": null,
   "id": "organic-adaptation",
   "metadata": {},
   "outputs": [],
   "source": [
    "c = ChainConsumer()\n",
    "\n",
    "n_walkers_min = len(param_mcmc_min)*walker_ratio\n",
    "\n",
    "my_inds = [0,1,7,8]\n",
    "\n",
    "fontsize = 16\n",
    "\n",
    "c.add_chain([samples_mcmc_min[:,ind] for ind in my_inds], \n",
    "            walkers = n_walkers_min, \n",
    "            parameters = [labels_min[ind] for ind in my_inds])\n",
    "\n",
    "c.configure(smooth = True, flip = False, summary = False, \n",
    "            spacing = 3.0, max_ticks = 4,\n",
    "            colors = green[2], shade = True, shade_gradient = 0.4, \n",
    "            bar_shade = True, linewidths= [3.0],\n",
    "            tick_font_size=fontsize, label_font_size=fontsize, \n",
    "            usetex = True, serif = True,\n",
    "            contour_labels = 'sigma', contour_label_font_size = fontsize)\n",
    "\n",
    "fig = c.plotter.plot(truth=[expected_values_min[ind] for ind in my_inds], figsize = (8,8))\n",
    "\n",
    "fig.patch.set_facecolor('white')\n",
    "\n",
    "plt.savefig(outpath+'contours_minimal_od_ellipticity.pdf', dpi=300, bbox_inches='tight')\n",
    "\n",
    "plt.show()\n",
    "\n",
    "gelman_rubin_converged = c.diagnostic.gelman_rubin() # does this make sense for emcee chains??\n",
    "print(gelman_rubin_converged)"
   ]
  },
  {
   "cell_type": "code",
   "execution_count": null,
   "id": "sudden-treasurer",
   "metadata": {},
   "outputs": [],
   "source": [
    "c = ChainConsumer()\n",
    "\n",
    "n_walkers_min = len(param_mcmc_min)*walker_ratio\n",
    "\n",
    "my_inds = [2,3,7,8]\n",
    "\n",
    "fontsize = 16\n",
    "\n",
    "c.add_chain([samples_mcmc_min[:,ind] for ind in my_inds], \n",
    "            walkers = n_walkers_min, \n",
    "            parameters = [labels_min[ind] for ind in my_inds])\n",
    "\n",
    "c.configure(smooth = True, flip = False, summary = False, \n",
    "            spacing = 3.0, max_ticks = 4,\n",
    "            colors = green[2], shade = True, shade_gradient = 0.4, \n",
    "            bar_shade = True, linewidths= [3.0],\n",
    "            tick_font_size=fontsize, label_font_size=fontsize, \n",
    "            usetex = True, serif = True,\n",
    "            contour_labels = 'sigma', contour_label_font_size = fontsize)\n",
    "\n",
    "fig = c.plotter.plot(truth=[expected_values_min[ind] for ind in my_inds], figsize = (8,8))\n",
    "\n",
    "fig.patch.set_facecolor('white')\n",
    "\n",
    "plt.savefig(outpath+'contours_minimal_ellipticity.pdf', dpi=300, bbox_inches='tight')\n",
    "\n",
    "plt.show()\n",
    "\n",
    "gelman_rubin_converged = c.diagnostic.gelman_rubin() # does this make sense for emcee chains??\n",
    "print(gelman_rubin_converged)"
   ]
  },
  {
   "cell_type": "code",
   "execution_count": null,
   "id": "stupid-damage",
   "metadata": {},
   "outputs": [],
   "source": [
    "c = ChainConsumer()\n",
    "\n",
    "n_walkers_min = len(param_mcmc_min)*walker_ratio\n",
    "\n",
    "my_inds = [0,1,2,3,7,8]\n",
    "\n",
    "fontsize = 16\n",
    "\n",
    "c.add_chain([samples_mcmc_min[:,ind] for ind in my_inds], \n",
    "            walkers = n_walkers_min, \n",
    "            parameters = [labels_min[ind] for ind in my_inds])\n",
    "\n",
    "c.configure(smooth = True, flip = False, summary = False, \n",
    "            spacing = 3.0, max_ticks = 4,\n",
    "            colors = green[2], shade = True, shade_gradient = 0.4, \n",
    "            bar_shade = True, linewidths= [3.0],\n",
    "            tick_font_size=fontsize, label_font_size=fontsize, \n",
    "            usetex = True, serif = True,\n",
    "            contour_labels = 'sigma', contour_label_font_size = fontsize)\n",
    "\n",
    "fig = c.plotter.plot(truth=[expected_values_min[ind] for ind in my_inds], figsize = (10,10))\n",
    "\n",
    "fig.patch.set_facecolor('white')\n",
    "\n",
    "plt.savefig(outpath+'contours_minimal_all.pdf', dpi=300, bbox_inches='tight')\n",
    "\n",
    "plt.show()\n",
    "\n",
    "gelman_rubin_converged = c.diagnostic.gelman_rubin() # does this make sense for emcee chains??\n",
    "print(gelman_rubin_converged)"
   ]
  },
  {
   "cell_type": "markdown",
   "id": "informative-progress",
   "metadata": {},
   "source": [
    "[Back to contents](#contents)"
   ]
  }
 ],
 "metadata": {
  "kernelspec": {
   "display_name": "Python 3",
   "language": "python",
   "name": "python3"
  },
  "language_info": {
   "codemirror_mode": {
    "name": "ipython",
    "version": 3
   },
   "file_extension": ".py",
   "mimetype": "text/x-python",
   "name": "python",
   "nbconvert_exporter": "python",
   "pygments_lexer": "ipython3",
   "version": "3.9.2"
  }
 },
 "nbformat": 4,
 "nbformat_minor": 5
}
